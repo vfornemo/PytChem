{
 "cells": [
  {
   "cell_type": "code",
   "execution_count": 1,
   "id": "269396e1-4699-46d7-b7bc-8ef342174c94",
   "metadata": {},
   "outputs": [
    {
     "name": "stdout",
     "output_type": "stream",
     "text": [
      "/home/romuald/ENSEIGNEMENT/0-JupyterNotebooks/pyPhysChem\n"
     ]
    },
    {
     "data": {
      "text/html": [
       "<style>\n",
       "h1, h2, h3, h4, h5, h6 {\n",
       "  font-family: Verdana, \"DejaVu Sans\", \"Bitstream Vera Sans\", Geneva, sans-serif;\n",
       "  font-weight: bold;\n",
       "}\n",
       "body, intro, introE, rq, rqE, ex, exE, app, appE, sol  {\n",
       "  font-family: Verdana, \"DejaVu Sans\", \"Bitstream Vera Sans\", Geneva, sans-serif;\n",
       "  font-weight: 400;\n",
       "  font-size: 12px;\n",
       "}\n",
       "h1 {\n",
       "  border: 0 solid #333;\n",
       "  padding: 30px ;\n",
       "  color: white;\n",
       "  background: #b11d01;\n",
       "  text-align: center;\n",
       "}\n",
       "h2 {\n",
       "  border: 3px solid #333;\n",
       "  padding: 18px ;\n",
       "  color: #b11d01;\n",
       "  background: #ffffff;\n",
       "  text-align: center;\n",
       "}\n",
       "h3 {\n",
       "  border: 0 solid #333;\n",
       "  padding: 12px ;\n",
       "  color: #000000;\n",
       "  background: #c1c1c1;\n",
       "  text-align: left;\n",
       "}\n",
       "h4 {\n",
       "  border: 0 solid #333;\n",
       "  padding: 2px ;\n",
       "  color: #000000;\n",
       "  background: #d9fffc;\n",
       "  text-align: left;\n",
       "}\n",
       "h5 {\n",
       "  border: 1px solid #333;\n",
       "  padding: 2px ;\n",
       "  color: #000000;\n",
       "  background: #ffffff;\n",
       "  text-align: left;\n",
       "}\n",
       ".introT::before {    \n",
       "    content: attr(title);\n",
       "    background-color: #cecece;\n",
       "    margin-left:-0.5em;\n",
       "    margin-right:-0.5em;\n",
       "    padding-left:0.5em;\n",
       "    padding-right:0.5em;\n",
       "    font-weight: 600;\n",
       "    display: block;\n",
       "}\n",
       ".introT {    \n",
       "    background-color: #cecece80;\n",
       "    border-color: #969696;\n",
       "    border-left: 5px solid #969696;\n",
       "    padding: 0.5em;\n",
       "}\n",
       ".intro {    \n",
       "    background-color: #cecece80;\n",
       "    border-color: #969696;\n",
       "    border-left: 5px solid #969696;\n",
       "    padding: 0.5em;\n",
       "}\n",
       ".introE {    \n",
       "    background-color: #cecece80;\n",
       "    border-color: #969696;\n",
       "    border-left: 5px solid #969696;\n",
       "    padding: 0.5em;\n",
       "    color : #117996;\n",
       "}\n",
       ".rq {    \n",
       "    background-color: #fcf2f2;\n",
       "    border-color: #dFb5b4;\n",
       "    border-left: 5px solid #dfb5b4;\n",
       "    padding: 0.5em;\n",
       "}\n",
       ".rqE::before {    \n",
       "    background-color: #fcd3d3;\n",
       "    color: #ff0000;\n",
       "    content:\"Warning\";\n",
       "    margin-left:-0.5em;\n",
       "    margin-right:-0.5em;\n",
       "    padding-left:0.5em;\n",
       "    padding-right:0.5em;\n",
       "    font-weight: 600;\n",
       "    display: block;\n",
       "}\n",
       ".rqE {    \n",
       "    background-color: #fcd3d380;\n",
       "    border-color: #dFb5b4;\n",
       "    border-left: 5px solid #dfb5b4;\n",
       "    padding: 0.5em;\n",
       "}\n",
       ".rqT::before {    \n",
       "    background-color: #fcd3d3;\n",
       "    color: #ff0000;\n",
       "    content: attr(title);\n",
       "    margin-left:-0.5em;\n",
       "    margin-right:-0.5em;\n",
       "    padding-left:0.5em;\n",
       "    padding-right:0.5em;\n",
       "    font-weight: 600;\n",
       "    display: block;\n",
       "}\n",
       ".rqT {    \n",
       "    background-color: #fcd3d380;\n",
       "    border-color: #dFb5b4;\n",
       "    border-left: 5px solid #dfb5b4;\n",
       "    padding: 0.5em;\n",
       "}\n",
       ".exold {    \n",
       "    background-color: #b2dbea80;\n",
       "    border-color: #0055ff;\n",
       "    border-left: 10px solid #0055ff;\n",
       "    padding: 0.5em;\n",
       "}\n",
       ".ex {    \n",
       "    background-color: #b2dbea80;\n",
       "    padding: 0.5em;\n",
       "    padding-top: 0em;\n",
       "    position:relative;\n",
       "}\n",
       ".ex::before {\n",
       "    background-color: #b2dbea;\n",
       "    content:\"Exercice\";\n",
       "    margin-left:-0.5em;\n",
       "    margin-right:-0.5em;\n",
       "    padding-left:0.5em;\n",
       "    padding-right:0.5em;\n",
       "    font-weight: 600;\n",
       "    display: block;\n",
       "}\n",
       ".exE {    \n",
       "    background-color: #b2dbea80;\n",
       "    padding: 0.5em;\n",
       "    padding-top: 0em;\n",
       "    position:relative;\n",
       "    color : #117996;\n",
       "}\n",
       ".exE::before {\n",
       "    background-color: #b2dbea;\n",
       "    content:\"Exercise\";\n",
       "    margin-left:-0.5em;\n",
       "    margin-right:-0.5em;\n",
       "    padding-left:0.5em;\n",
       "    padding-right:0.5em;\n",
       "    font-weight: 600;\n",
       "    display: block;\n",
       "    color : #117996;\n",
       "}\n",
       ".app {    \n",
       "    background-color: #b2dbea80;\n",
       "    padding: 0.5em;\n",
       "    padding-top: 0em;\n",
       "    position:relative;\n",
       "}\n",
       ".app::before {\n",
       "    background-color: #b2dbea;\n",
       "    content:\"Application\";\n",
       "    margin-left:-0.5em;\n",
       "    margin-right:-0.5em;\n",
       "    padding-left:0.5em;\n",
       "    padding-right:0.5em;\n",
       "    font-weight: 600;\n",
       "    display: block;\n",
       "}\n",
       ".appE {    \n",
       "    background-color: #b2dbea80;\n",
       "    padding: 0.5em;\n",
       "    padding-top: 0em;\n",
       "    color : #117996;\n",
       "    position:relative;\n",
       "}\n",
       ".appE::before {\n",
       "    background-color: #b2dbea;\n",
       "    content:\"Application\";\n",
       "    margin-left:-0.5em;\n",
       "    margin-right:-0.5em;\n",
       "    padding-left:0.5em;\n",
       "    padding-right:0.5em;\n",
       "    font-weight: 600;\n",
       "    color : #117996;\n",
       "    display: block;\n",
       "}\n",
       ".sol {    \n",
       "    background-color: #bbeab880;\n",
       "    padding: 0.5em;\n",
       "    padding-top: 0em;\n",
       "    position:relative;\n",
       "}\n",
       ".sol::before {\n",
       "    background-color: #bbeab8;\n",
       "    content:\"Answer\";\n",
       "    margin-left:-0.5em;\n",
       "    margin-right:-0.5em;\n",
       "    padding-left:0.5em;\n",
       "    padding-right:0.5em;\n",
       "    font-weight: 600;\n",
       "    display: block;\n",
       "}\n",
       "</style>\n"
      ],
      "text/plain": [
       "<IPython.core.display.HTML object>"
      ]
     },
     "metadata": {},
     "output_type": "display_data"
    },
    {
     "data": {
      "text/markdown": [
       "**Start at:** Saturday 09 September 2023, 11:09:17  \n",
       "**Hostname:** ip-sw-install-nico.insa-toulouse.fr (Linux)"
      ],
      "text/plain": [
       "<IPython.core.display.Markdown object>"
      ]
     },
     "metadata": {},
     "output_type": "display_data"
    },
    {
     "data": {
      "text/markdown": [
       "<p style=\"text-align: center\"><img width=\"800px\" src=\"./config/svg/pyPhysChemBanner.svg\" style=\"margin-left:auto; margin-right:auto\"/></p>"
      ],
      "text/plain": [
       "<IPython.core.display.Markdown object>"
      ]
     },
     "metadata": {},
     "output_type": "display_data"
    }
   ],
   "source": [
    "import os\n",
    "import sys\n",
    "\n",
    "print(os.getcwd())\n",
    "cwd0 = './config/'\n",
    "sys.path.append(cwd0)\n",
    "\n",
    "import visualID_Eng as vID\n",
    "from visualID_Eng import fg,bg,hl,color\n",
    "vID.init(cwd0)\n",
    "import tools4pyPhysChem as t4pPC"
   ]
  },
  {
   "cell_type": "markdown",
   "id": "a1b3496a-7f24-4bef-ae7c-617f267ab7ad",
   "metadata": {
    "tags": []
   },
   "source": [
    "# Hydrogen Atom\n",
    "\n",
    "## Introduction\n",
    "\n",
    "<div class=\"intro\">\n",
    "\n",
    "The Schrödinger equation allows one to calculate the stationary states and also the time evolution of quantum systems. Exact analytical answers are available for the nonrelativistic hydrogen atom. In short, the time-independent Schrödinger Equation for the hydrogen atom is conveniently written and solved in spherical coordinates:\n",
    "\n",
    "$$\\hat{H}(r,\\theta,\\varphi)\\psi(r,\\theta,\\varphi)=E\\psi(r,\\theta,\\varphi)$$\n",
    "\n",
    "with $\\hat{H}=\\hat{T}+\\hat{V}$, where\n",
    "\n",
    "$$\\hat{V} = -\\frac{e^{2}}{4\\pi\\varepsilon_{0}}\\frac{1}{r}$$\n",
    "\n",
    "is the position-dependent potential of the electron \"cruising\" under the influence of the proton, and\n",
    "\n",
    "$$ \\hat{T}=-\\frac{\\hbar^{2}}{2\\mu_\\mathrm{H}}\\nabla^{2} $$\n",
    "\n",
    "with\n",
    "\n",
    "$$\\nabla^{2}=\\frac{1}{r^{2}}\\left[\\frac{\\partial}{\\partial r}\\left(r^{2}\\frac{\\partial}{\\partial r}\\right)+\\Lambda^{2}\\right]$$\n",
    "\n",
    "$\\mu_\\mathrm{H}$ is the reduced mass for the electron: $\\mu_\\mathrm{H} = m_e m_p / (m_e+m_p)$\n",
    "\n",
    "and $\\Lambda^2$ is the Legendre operator:\n",
    "\n",
    "$$\\Lambda^{2}=\\frac{1}{\\sin\\theta}\\frac{\\partial}{\\partial\\theta}\\left(\\sin\\theta\\frac{\\partial}{\\partial\\theta}\\right)+\\frac{1}{\\sin^{2}\\theta}\\frac{\\partial^{2}}{\\partial\\varphi^{2}}$$\n",
    "\n",
    "It can be demonstrated that $\\psi(r,\\theta,\\varphi)$ is a product wavefunction, made of a radial part $R_{n\\ell}(r)$ and an angular part, the spherical harmonic $Y_\\ell^m(\\theta,\\varphi)$ functions.\n",
    "\n",
    "$Y_\\ell^m(\\theta,\\varphi)$ are the normalized eigenvectors of the $\\Lambda^2$ operator:\n",
    "\n",
    "$$\\Lambda^{2}Y_\\ell^m(\\theta,\\varphi)=-l(l+1)Y_\\ell^m(\\theta,\\varphi)$$\n",
    "\n",
    "and $R_{n\\ell}(r)$ are solution of a radial equation, which eigenvalue is the energy for the hydrogen atom:\n",
    "\n",
    "$$\\left(-\\frac{\\hbar^{2}}{2\\mu}\\left[\\frac{1}{r^{2}}\\frac{\\partial}{\\partial r}\\left(r^{2}\\frac{\\partial}{\\partial r}\\right)-\\frac{l(l+1)}{r^{2}}\\right]-\\frac{e^{2}}{4\\pi\\varepsilon_{0}}\\frac{1}{r}\\right)R_{n\\ell}(r)=E_{n}R_{n\\ell}(r)$$\n",
    "\n",
    "</div>\n",
    "<br>\n",
    "\n",
    "<div class=\"rqT\" title=\"In summary\">\n",
    "\n",
    "Any $\\psi_{n\\ell m}(r,\\theta,\\varphi)=R_{n\\ell}(r)Y_\\ell^m(\\theta,\\varphi)$ wavefunction is an eigensolution of $\\hat{H}(r,\\theta,\\varphi)\\psi_{n\\ell m}(r,\\theta,\\varphi)=E_n\\psi_{n\\ell m}(r,\\theta,\\varphi)$, with\n",
    "\n",
    "$$\\hat{H}=-\\frac{\\hbar^{2}}{2\\mu_\\mathrm{H}}\\nabla^{2}-\\frac{e^{2}}{4\\pi\\varepsilon_{0}}\\frac{1}{r}$$\n",
    "\n",
    "$$\\hat{H}=-\\frac{\\hbar^{2}}{2\\mu_\\mathrm{H}}\\frac{1}{r^{2}}\\left[\\frac{\\partial}{\\partial r}\\left(r^{2}\\frac{\\partial}{\\partial r}\\right)+\\frac{1}{\\sin\\theta}\\frac{\\partial}{\\partial\\theta}\\left(\\sin\\theta\\frac{\\partial}{\\partial\\theta}\\right)+\\frac{1}{\\sin^{2}\\theta}\\frac{\\partial^{2}}{\\partial\\varphi^{2}}\\right]-\\frac{e^{2}}{4\\pi\\varepsilon_{0}}\\frac{1}{r}$$\n",
    "\n",
    "</div>"
   ]
  },
  {
   "cell_type": "markdown",
   "id": "13d364e6-db39-45b8-8568-2a3b8d854e82",
   "metadata": {},
   "source": [
    "## Prerequisite : physical constants and conversion factors\n",
    "\n",
    "### Physical constants and unit conversion factors\n",
    "\n",
    "<div class=\"rqT\" title=\"Directives\">\n",
    "    \n",
    "- It is recommended to use the [physical constants of the SciPy library](https://docs.scipy.org/doc/scipy/reference/constants.html) instead of a copy/paste of values found on internet.\n",
    "- You are allowed to directly perform numerical calculations, unless the use of SymPy is explicitly required\n",
    "</div>"
   ]
  },
  {
   "cell_type": "code",
   "execution_count": null,
   "id": "1dd1dcc0-f539-4d52-8367-36f8a5f0e0f9",
   "metadata": {},
   "outputs": [],
   "source": [
    "import scipy.constants as sc\n",
    "import numpy as np\n",
    "\n",
    "print(sc.find(\"Planck\"))\n",
    "print(f'{hl.BOLD}Planck constant: {sc.physical_constants[\"Planck constant\"]}{hl.OFF}')\n",
    "print(f'{hl.BOLD}Reduced Planck constant: {sc.physical_constants[\"reduced Planck constant\"]}{hl.OFF}')\n",
    "print(sc.find(\"charge\"))\n",
    "print(f'{hl.BOLD}Elementary charge: {sc.physical_constants[\"elementary charge\"]}{hl.OFF}')\n",
    "print(sc.find(\"light\"))\n",
    "print(f'{hl.BOLD}speed of light in vacuum: {sc.physical_constants[\"speed of light in vacuum\"]}{hl.OFF}')\n",
    "print(sc.find(\"electron mass\"))\n",
    "print(f'{hl.BOLD}Electron mass: {sc.physical_constants[\"electron mass\"]}{hl.OFF}')\n",
    "print(sc.find(\"proton mass\"))\n",
    "print(f'{hl.BOLD}Proton mass: {sc.physical_constants[\"proton mass\"]}{hl.OFF}')\n",
    "print(sc.find(\"vacuum\"))\n",
    "print(f'{hl.BOLD}Vacuum electric permittivity: {sc.physical_constants[\"vacuum electric permittivity\"]}{hl.OFF}')\n",
    "\n",
    "h = sc.value(\"Planck constant\")\n",
    "hbar = sc.value(\"reduced Planck constant\")\n",
    "e = sc.value(\"elementary charge\")\n",
    "c = sc.value(\"speed of light in vacuum\")\n",
    "me = sc.value(\"electron mass\")\n",
    "mp = sc.value(\"proton mass\")\n",
    "eps0 = sc.value(\"vacuum electric permittivity\")"
   ]
  },
  {
   "cell_type": "markdown",
   "id": "8dd09509-3130-4259-8dce-37129391ddb5",
   "metadata": {},
   "source": [
    "<div class=\"exE\">\n",
    "\n",
    "- find in the `scipy.constants` module the value of the Rydberg constant $R_\\infty$, as well as its standard uncertainty and its unit\n",
    "- save $R_\\infty$ in an `Rinf` python variable and the absolute uncertainty in an `Rinf_err` python variable\n",
    "- use a formatted print in order to write `Rinf = 10973731.568160 ± 0.000021`\n",
    "</div>"
   ]
  },
  {
   "cell_type": "code",
   "execution_count": null,
   "id": "52dbf8dd-8673-4309-b27d-8930b55af1fc",
   "metadata": {},
   "outputs": [],
   "source": [
    "# insert your code here\n",
    "\n"
   ]
  },
  {
   "cell_type": "markdown",
   "id": "5afb3666-cf79-4d16-96b8-3bbd933a666f",
   "metadata": {},
   "source": [
    "### Conversion factors\n",
    "\n",
    "<div class=\"intro\">\n",
    "\n",
    "It is convenient to work in the Hartree atomic units system. It is a system of natural units of measurement which is especially convenient for calculations in atomic physics and related scientific fields, such as computational chemistry and atomic and molecular spectroscopy. The hartree (symbol: E<sub>h</sub> or Ha), also known as the Hartree energy, is the unit of energy in the Hartree atomic units system. The hartree energy is approximately the electric potential energy of the hydrogen atom in its ground state and, by the virial theorem, approximately twice its ionization energy; the relationships are not exact because of the finite mass of the nucleus of the hydrogen atom and relativistic corrections. \n",
    "\n",
    "$E_h$ can be calculated in different ways:\n",
    "\n",
    "$$E_h = \\frac{e^2}{4\\pi\\varepsilon_0 a_0} = m_e\\left(\\frac{e^2}{4\\pi\\varepsilon_0 a_0 \\hbar}\\right)^2=2R_\\infty hc$$\n",
    "\n",
    "In 2023, its [CODATA](https://en.wikipedia.org/wiki/Committee_on_Data_of_the_International_Science_Council) recommended value is: 1 *E<sub>h</sub>* = 4.359 744 722 2071(85) x 10<sup>-18</sup> J = 27.211 386 245 988(53) eV    \n",
    "\n",
    "</div>"
   ]
  },
  {
   "cell_type": "markdown",
   "id": "48b726d9-ae2e-4842-844f-51898f1c73f2",
   "metadata": {},
   "source": [
    "<div class=\"exE\">\n",
    "\n",
    "- calculate $E_h$ in J and in eV\n",
    "    - using the formula $E_h = 2R_\\infty hc$\n",
    "    - and then with the formula $E_h = \\frac{e^2}{4\\pi\\varepsilon_0 a_0}$\n",
    "- store the eV value in an `h2eV` python variable, that will be used in the \"Energy and transitions\" exercises\n",
    "</div>"
   ]
  },
  {
   "cell_type": "code",
   "execution_count": null,
   "id": "987d5146-dcff-4c9b-a26b-a7153dec569f",
   "metadata": {},
   "outputs": [],
   "source": [
    "# insert your code here\n",
    "\n"
   ]
  },
  {
   "cell_type": "markdown",
   "id": "110f6642-639c-4ded-9860-39b8cc047321",
   "metadata": {},
   "source": [
    "### Propagation of uncertainties\n",
    "\n",
    "<div class=\"intro\">\n",
    "\n",
    "**[In statistics, propagation of uncertainty (or propagation of error) is the effect of variables' uncertainties or errors on the uncertainty of a function based on them](https://en.wikipedia.org/wiki/Propagation_of_uncertainty).**\n",
    "\n",
    "**Suppose two measured quantities $x$ and $y$ have uncertainties, $u_x$ and $u_y$: we would report ($x \\pm u_x$), and ($y \\pm u_y$). Suppose also that a new quantity, $z$, is calculated from $x$ and $y$. What is the uncertainty, $u_z$, in $z$?**\n",
    "\n",
    "More generally, Let's $f(x_1,x_2,..., x_n)$ be a function of $n$ variables $x_1,x_2,..., x_n$. Most commonly, the uncertainty $u_i$ on each variable $x_i$ is quantified in terms of the standard deviation, $\\sigma_i$. The general method of getting formulas for propagating errors involves the **total differential of a function**. It is a calculus derived statistical calculation designed to combine uncertainties from multiple variables to provide an accurate measurement of uncertainty. The next formula provides the maximal uncertainty on $f$, $u_f$. It is the most pessimistic situation, that gives us the **safe limit** of our estimate\n",
    "\n",
    "$$u_{f}=\\sum_{i=1}^{n}\\left|\\frac{\\partial f}{\\partial x_{i}}\\right|u_{i}$$\n",
    "\n",
    "In the proper statistical treatment of error propagation the standard deviations $\\sigma_i$ are used to calculate the resulting uncertainty. Neglecting correlations or assuming independent variables yields a common formula among engineers and experimental scientists to calculate error propagation, named the **variance formula**, and considered to be more realistic . \n",
    "\n",
    "$$\\sigma_{f}=\\sqrt{\\sum_{i=1}^{n}\\left(\\frac{\\partial f}{\\partial x_{i}}\\right)^{2}\\sigma_{i}^{2}}$$\n",
    "</div>"
   ]
  },
  {
   "cell_type": "markdown",
   "id": "5e847e56-91dd-490e-9dd5-49284835ff4a",
   "metadata": {},
   "source": [
    "<div class=\"exE\">\n",
    "\n",
    "We will now calculate the uncertainty on $E_h$. Given the 2023 CODATA value, it is said to be 0.000 000 000 0085 $\\times$ 10<sup>-18</sup> J, *i.e.* 8.5 $\\times$ 10<sup>-30</sup> J. Calculate $u_{E_h}$ and $\\sigma_{E_h}$ from the formula $E_h = \\frac{e^2}{4\\pi\\varepsilon_0 a_0}$\n",
    "\n",
    "</div>\n",
    "<br>\n",
    "<div class=\"rqT\" title=\"Directives\">\n",
    "    \n",
    "The partial derivatives will be calculated with SymPy, whereas physical constants and their standard uncertainties will be taken from SciPy.\n",
    "</div>"
   ]
  },
  {
   "cell_type": "code",
   "execution_count": null,
   "id": "b8940288-840e-46ce-8f8c-f101c97712b0",
   "metadata": {},
   "outputs": [],
   "source": [
    "# insert your code here\n",
    "\n"
   ]
  },
  {
   "cell_type": "markdown",
   "id": "f89e0f12-4a07-4e9c-a02a-a7f46f63eeb7",
   "metadata": {},
   "source": [
    "<div class=\"exE\">\n",
    "\n",
    "Do the same with the formula $E_h = 2R_\\infty hc$\n",
    "\n",
    "</div>"
   ]
  },
  {
   "cell_type": "code",
   "execution_count": null,
   "id": "ee78eaf1-f4d0-4779-84df-43f75e8bc5a2",
   "metadata": {},
   "outputs": [],
   "source": [
    "# insert your code here\n",
    "\n"
   ]
  },
  {
   "cell_type": "markdown",
   "id": "420727e3-0e7a-4c1a-abc2-d49561c0e4df",
   "metadata": {},
   "source": [
    "<div class=\"exE\">\n",
    "\n",
    "Comments?\n",
    "\n",
    "</div>"
   ]
  },
  {
   "cell_type": "markdown",
   "id": "fc8853bc-1417-4ebb-a401-0e862599d0aa",
   "metadata": {},
   "source": [
    "##  Energies and transitions\n",
    "\n",
    "<div class=\"intro\">\n",
    "\n",
    "The solutions to the Schrödinger equation for hydrogen are analytical, giving a simple expression for the hydrogen energy levels:\n",
    "\n",
    "$$E_n = - \\frac{E_{i_1}}{n^2}$$\n",
    "\n",
    "where\n",
    "\n",
    "\n",
    "$$E_{i_{1}}=\\frac{1}{2}\\frac{\\mu_{\\mathrm{H}}e^{4}}{\\left(\\hbar\\times4\\pi\\varepsilon_{0}\\right)^{2}}$$\n",
    "\n",
    "is the ionization energy for the hydrogen atom\n",
    "\n",
    "</div>"
   ]
  },
  {
   "cell_type": "markdown",
   "id": "b3bbb523-0795-4129-bdaa-0363fbc4806b",
   "metadata": {},
   "source": [
    "### Ionisation energy\n",
    "\n",
    "<div class=\"exE\">\n",
    "\n",
    "- Calculate the hydrogen atom reduced mass, $\\mu_\\mathrm{H}$, in kg.\n",
    "- Calculate the ionization energy of the hydrogen atom, in Joule and in eV.\n",
    "- Print the eV value with 5 significant digits.\n",
    "</div>"
   ]
  },
  {
   "cell_type": "code",
   "execution_count": null,
   "id": "10ac8e79-4b96-474b-b75c-bfd6ea943736",
   "metadata": {},
   "outputs": [],
   "source": [
    "# insert your code here\n",
    "\n"
   ]
  },
  {
   "cell_type": "markdown",
   "id": "9f728352-8c8b-47d9-bf2f-059d99f44e48",
   "metadata": {},
   "source": [
    "### Energy levels\n",
    "\n",
    "<div class=\"exE\">\n",
    "\n",
    "Use a loop to calculate and print energies in eV and in Eh of states $n=1 \\rightarrow n=10$\n",
    "</div>\n",
    "\n",
    "<br>\n",
    "<div class=\"rqT\" title=\"Directive\">\n",
    "    \n",
    "Print the hartree and eV energies with 3 significant figures.\n",
    "Also display them with 5 significant figures. **Comment?**\n",
    "</div>"
   ]
  },
  {
   "cell_type": "code",
   "execution_count": null,
   "id": "fd3aed75-744f-4f78-b67e-b60aaec4d97a",
   "metadata": {},
   "outputs": [],
   "source": [
    "# insert your code here\n",
    "\n"
   ]
  },
  {
   "cell_type": "markdown",
   "id": "62d4bd51-59b0-4142-9dd1-5b67abeabc42",
   "metadata": {},
   "source": [
    "### Transition energies\n",
    "\n",
    "<div class=\"exE\">\n",
    "\n",
    "- Calculate all transition energies (in eV) and transition wavelengths (in nm) of the [Lyman, Balmer, Paschen, Brackett, Pfund and Humphreys series](https://en.wikipedia.org/wiki/Hydrogen_spectral_series) in the range $n=1 \\rightarrow n=10$\n",
    "- Calculate as well the limit value for each series, in nm\n",
    "</div>"
   ]
  },
  {
   "cell_type": "code",
   "execution_count": null,
   "id": "dd49fa99-b5e2-417b-8624-cc1e33a15617",
   "metadata": {},
   "outputs": [],
   "source": [
    "# insert your code here\n",
    "\n"
   ]
  },
  {
   "cell_type": "markdown",
   "id": "2a3f93ba-76aa-4ff3-933a-d89b48590d41",
   "metadata": {},
   "source": [
    "## Wavefunctions\n",
    "\n",
    "<div class=\"rqT\" title=\"Directives\">\n",
    "    \n",
    "From now on, you have to do symbolic algebra with the SymPy library. Use fundamental constants from SciPy, if needed.\n",
    "</div>\n",
    "<br>\n",
    "<div class=\"intro\">\n",
    "\n",
    "The Schrödinger equation allows one to calculate the stationary states and also the time evolution of quantum systems. Its time-independent expression for the hydrogen atom is  $\\hat{H}(r,\\theta,\\varphi)\\psi_{n\\ell m}(r,\\theta,\\varphi)=E_n\\psi_{n\\ell m}(r,\\theta,\\varphi)$, where\n",
    "\n",
    "$$\\hat{H}=-\\frac{\\hbar^{2}}{2\\mu_\\mathrm{H}}\\frac{1}{r^{2}}\\left[\\frac{\\partial}{\\partial r}\\left(r^{2}\\frac{\\partial}{\\partial r}\\right)+\\frac{1}{\\sin\\theta}\\frac{\\partial}{\\partial\\theta}\\left(\\sin\\theta\\frac{\\partial}{\\partial\\theta}\\right)+\\frac{1}{\\sin^{2}\\theta}\\frac{\\partial^{2}}{\\partial\\varphi^{2}}\\right]-\\frac{e^{2}}{4\\pi\\varepsilon_{0}}\\frac{1}{r}$$\n",
    "\n",
    "Since the angular momentum operator in the hamiltonian does not involve the radial variable, *r*, variables can be separated by using a product wavefunction: \n",
    "\n",
    " $$\\psi_{n\\ell m}(r,\\theta,\\varphi)=R_{n\\ell}(r) Y_\\ell^m(\\theta,\\varphi)$$\n",
    "\n",
    "The hydrogen atom wavefunctions,  $\\psi_{n\\ell m}(r,\\theta,\\varphi)$ are called atomic orbitals. An atomic orbital is a function that describes one electron in an atom. An important result is that Schrödinger’s approach requires three quantum numbers (*n*, *ℓ*, and *m*) to specify a wavefunction for the electron. \n",
    "\n",
    "Exact analytical answers are available for the nonrelativistic hydrogen atom. They are given in the `Physics` module of the SymPy library. The documentation on `Psi_nlm` and `R_nl` is given [here](https://docs.sympy.org/latest/modules/physics/hydrogen.html), whereas spherical harmonics can be called with `Ynm` ([see documentation](https://docs.sympy.org/latest/modules/functions/special.html#sympy.functions.special.spherical_harmonics.Ynm))\n",
    "\n",
    "</div>\n",
    "<br>\n",
    "<div class=\"introT\" title=\"Spherical coordinates system\">\n",
    "\n",
    "In mathematics, a [spherical coordinate system](https://en.wikipedia.org/wiki/Spherical_coordinate_system) is a coordinate system for three-dimensional space where the position of a point is specified by three numbers: $\\rho$, $\\theta$, $\\varphi$\n",
    "\n",
    "$x = \\rho\\sin\\varphi\\cos\\theta$\n",
    "\n",
    "$y = \\rho\\sin\\varphi\\sin\\theta$\n",
    "\n",
    "$z = \\rho\\cos\\varphi$\n",
    "\n",
    "where $\\rho = \\sqrt{x^2+y^2+z^2}$\n",
    " \n",
    " A function $f(r, θ, φ)$ can be integrated over every point in $\\mathbf{R}^3$ by the triple integral:\n",
    "\n",
    " $$\\int_{0}^{\\pi}\\int_{0}^{2\\pi}\\int_{0}^{\\infty}f^{*}(r,\\theta,\\varphi)f(r,\\theta,\\varphi)dv$$\n",
    "\n",
    "with:\n",
    "$dv=r^{2}dr\\sin\\theta d\\theta d\\varphi$\n",
    "\n",
    "$r:0\\rightarrow\\infty$\n",
    "\n",
    "$\\theta:0\\rightarrow\\pi$\n",
    "\n",
    "$\\varphi:0\\rightarrow2\\pi$\n",
    "\n",
    "</div>\n",
    "<br>\n",
    "<div class=\"introT\" title=\"Useful relationships\">\n",
    "\n",
    "- Euler's formula\n",
    "\n",
    "$$\\cos(x)=\\frac{\\mathrm{e}^{ix}+\\mathrm{e}^{-ix}}{2}$$\n",
    "$$\\sin(x)=\\frac{\\mathrm{e}{}^{ix}-\\mathrm{e}^{-ix}}{2i}$$\n",
    "\n",
    "- In quantum mechanics, physical quantities, $A$, are represented by operators, $\\hat{A}$. Some corresponding operators to physical observables are\n",
    "\n",
    "|name|observable|operator|operation|\n",
    "|------|------------|----------|----------|\n",
    "|position|$r$|$\\hat{r}$|multiply by r|\n",
    "|momentum|$p$|$\\hat{p}$|$-i\\hbar\\nabla$\n",
    "|total energy|$E$|$\\hat{H}$|dependent of the system\n",
    "\n",
    "\n",
    "- In quantum theory, an experimental setup is described by the observable $A$ to be measured, and by the state $\\psi$ of the system. The expectation value of $A$ in the $\\psi$ state is related to its operator counterpart, $\\hat{A}$. It is denoted as $<A>_{\\psi}$ , and it is calculated as\n",
    "\n",
    " $$<A>_{\\psi}=\\frac{\\left\\langle \\psi|\\hat{A}|\\psi\\right\\rangle }{\\left\\langle \\psi|\\psi\\right\\rangle }$$\n",
    "\n",
    "which, if $\\psi$ is normalized, becomes\n",
    "\n",
    " $$<A>_{\\psi}=\\left\\langle \\psi|\\hat{A}|\\psi\\right\\rangle =\\iiint\\psi^{*}(\\hat{A}\\psi)d\\mathcal{v}$$\n",
    "\n",
    "- Normalization condition: In Born's statistical interpretation in non-relativistic quantum mechanics, the squared modulus of a one-electron wave function, $\\psi(\\mathbf{r})^2$, is a real number interpreted as the probability density of measuring a particle as being at a given place $\\mathbf{r}$. The integral of this quantity, over all the system's degrees of freedom, must be 1 in accordance with the probability interpretation. This general requirement that a wave function must satisfy is called the normalization condition:\n",
    "\n",
    "$$\\left\\langle \\psi|\\psi\\right\\rangle =\\iiint\\psi^{*}\\psi d\\mathcal{v}=1$$\n",
    "</div>"
   ]
  },
  {
   "cell_type": "markdown",
   "id": "71dcb77c-ddf1-430f-950e-d3502f831d8d",
   "metadata": {
    "tags": []
   },
   "source": [
    "### Are these wavefunctions actual eigenfunctions of the hamiltonian?\n",
    "\n",
    "#### The hamiltonian operator in atomic units"
   ]
  },
  {
   "cell_type": "markdown",
   "id": "dd5d6402-97d7-474d-b989-ae7da70161dc",
   "metadata": {},
   "source": [
    "<div class=\"intro\">\n",
    "\n",
    "Let's now write the Hamiltonian operator in atomic units. The Hartree atomic units are a system of natural units of measurement which is especially convenient for calculations in atomic physics and related scientific fields, such as computational chemistry and atomic spectroscopy. \n",
    "By definition, each of the following four fundamental physical constants is expressed as the numeric value 1:\n",
    "- reduced Planck constant, $\\hbar \\rightarrow 1$\n",
    "- electron rest mass, $m_e\\rightarrow1$\n",
    "- elementary charge, $e\\rightarrow1$\n",
    "- Coulomb constant, $k_e\\rightarrow1$\n",
    "\n",
    "The hamiltonian becomes:\n",
    "\n",
    "$$\\hat{H}=-\\frac{1}{2\\mu_{\\mathrm{H}/m_{e}}r^{2}}\\left[\\frac{\\partial}{\\partial r}\\left(r^{2}\\frac{\\partial}{\\partial r}\\right)+\\frac{1}{\\sin\\theta}\\frac{\\partial}{\\partial\\theta}\\left(\\sin\\theta\\frac{\\partial}{\\partial\\theta}\\right)+\\frac{1}{\\sin^{2}\\theta}\\frac{\\partial^{2}}{\\partial\\varphi^{2}}\\right]-\\frac{1}{r}$$\n",
    "\n",
    "where $\\mu_{\\mathrm{H}/m_{e}}$ is the reduced mass of the hydrogen atom in atomic units, $\\mu_{\\mathrm{H}/m_{e}}=\\mu_\\mathrm{H}/m_{e}\\approx0.99...$\n",
    "\n",
    "</div>\n",
    "<br>\n",
    "<div class=\"rqE\">\n",
    "\n",
    "The reduced mass in atomic units is not exactly 1. The following expression for the hamiltonian, often given in textbooks, turns out to be an approximation \n",
    "\n",
    "$$\\hat{H}=-\\frac{1}{2}\\nabla^{2}-\\frac{1}{r}$$\n",
    "</div>"
   ]
  },
  {
   "cell_type": "markdown",
   "id": "6af7da4a-4ef9-4670-ad44-76d300276897",
   "metadata": {},
   "source": [
    "<div class=\"exE\">\n",
    "    \n",
    "- Define a `nabla2(f)` function, that will take any function $f(r,\\theta,\\varphi)$ as an argument and that will return the laplacian of $f$, $\\nabla^{2}f(r,\\theta,\\varphi)$\n",
    "- Then define a `H(f)` function, that will return $\\hat{H}f(r,\\theta,\\varphi)$, in atomic units, as a function of symbols &mu;, r, &theta;, &phi;\n",
    "- Write a `norm(f)` function that will return the norm of $f(r,\\theta,\\varphi)$\n",
    "- You can then define a `En(f(n,l,m,r,theta,phi))` function, that will take any wavefunction of the hydrogen atom $\\psi_{nlm}(r,\\theta,\\varphi)$ as an argument and that will hopefully return a float number, *i.e*. the associated eigenvalue to $\\psi$\n",
    "- Check that `En(psi(1,0,0,r,theta,phi))` returns -0.49972769...\n",
    "</div>"
   ]
  },
  {
   "cell_type": "code",
   "execution_count": null,
   "id": "150142d3-2161-466f-9cc1-35e0c805a688",
   "metadata": {},
   "outputs": [],
   "source": [
    "# insert your code here\n",
    "\n"
   ]
  },
  {
   "cell_type": "markdown",
   "id": "45034f54-7d8d-4762-95fc-70b06d60160c",
   "metadata": {},
   "source": [
    "#### Lowest wavefunctions and their associated energy"
   ]
  },
  {
   "attachments": {},
   "cell_type": "markdown",
   "id": "f221ea4a-6875-463b-996c-035fb8c8a983",
   "metadata": {},
   "source": [
    "<div class=\"exE\">\n",
    "    \n",
    "Print all wavefunctions up to the 4th shell inclusive, as well as their energies. Use nested loops in order to print such output: \n",
    "\n",
    "<p style=\"text-align:center;\"><img width=\"200\" src = \"./MiscImages/ListAOs-HydrogenAtom.png\"/></p>\n",
    "</div>"
   ]
  },
  {
   "cell_type": "code",
   "execution_count": null,
   "id": "68e4e805-dde4-4f0f-a539-4d759e9ed2eb",
   "metadata": {},
   "outputs": [],
   "source": [
    "# insert your code here\n",
    "\n"
   ]
  },
  {
   "cell_type": "markdown",
   "id": "49d5fbf4-192e-4fcd-af88-9db8dc6437cd",
   "metadata": {},
   "source": [
    "<div class=\"exE\">\n",
    "\n",
    "Comments?\n",
    "\n",
    "</div>"
   ]
  },
  {
   "cell_type": "markdown",
   "id": "22455c45-a7cc-4718-9092-486d6ce4c08a",
   "metadata": {},
   "source": [
    "### Comparison of the lowest radial functions\n",
    "\n",
    "<div class=\"intro\">\n",
    "\n",
    "Hydrogen radial wavefunctions are of the general form:\n",
    "\n",
    "$$R(r) = N p(r) \\exp(-kr)$$\n",
    " \n",
    "Where\n",
    "- $N$ is a positive normalizing constant\n",
    "- $p(r)$ is a polynomial in $r$\n",
    "- $k$ is a positive constant\n",
    "\n",
    "Remind that $\\psi(\\mathbf{r})^2$ quantifies the probability of the electron being at a particular point **r**. Given the separability of $\\psi_{n\\ell m}(r,\\theta,\\phi)$ into a product of two normalized wavefunctions, $\\psi_{n\\ell m}(r,\\theta,\\phi) = R_{n\\ell}(r)Y_{\\ell}^m(\\theta,\\phi)$, the quantity $P_{n\\ell}(r) = [rR_{n\\ell}(r)]^2$ has the meaning of a probability distribution. $P_{n\\ell}(r)$ is the probability that the electron will be at any distance $r$ from the nucleus. And the normalization condition on $R_{n\\ell}(r)$ is\n",
    "\n",
    "$$\\int_0^\\infty P_{n\\ell}(r)dr = 1$$\n",
    "</div>"
   ]
  },
  {
   "cell_type": "markdown",
   "id": "c1b71e0a-fa93-4bdd-9d1c-1a81fa610917",
   "metadata": {},
   "source": [
    "#### Plots"
   ]
  },
  {
   "cell_type": "markdown",
   "id": "cbee26ce-b898-4786-9942-ed27d5c26b8a",
   "metadata": {},
   "source": [
    "<div class=\"exE\">\n",
    "\n",
    "Write the formula of the four lowest $R_{n0}$ hydrogen radial wavefunctions. Check that SymPy returns normalized wavefunctions\n",
    "\n",
    "</div>"
   ]
  },
  {
   "cell_type": "code",
   "execution_count": null,
   "id": "2a36acfc-f44a-4a3c-8835-e0cf044da240",
   "metadata": {},
   "outputs": [],
   "source": [
    "# insert your code here\n",
    "\n"
   ]
  },
  {
   "cell_type": "markdown",
   "id": "adc25a2d-6f8a-4b7b-9e6a-186b8ec81bfc",
   "metadata": {},
   "source": [
    "<div class=\"exE\">\n",
    "\n",
    "Plot the $R_{n0}(r)$ hydrogen radial wavefunctions of the four most stable $ns$ AOs between 0 and 40 bohr\n",
    "\n",
    "</div>"
   ]
  },
  {
   "cell_type": "code",
   "execution_count": null,
   "id": "fd1e0f98-6c2a-46ba-b43f-7948d5024a31",
   "metadata": {},
   "outputs": [],
   "source": [
    "# insert your code here\n",
    "\n"
   ]
  },
  {
   "cell_type": "markdown",
   "id": "fa9f7c23-557d-41fa-88fb-28899f5c28b0",
   "metadata": {},
   "source": [
    "<div class=\"exE\">\n",
    "\n",
    "Plot the probability distributions $P_{n0}(r)$  of the four most stable $ns$ AOs between 0 and 40 bohr\n",
    "\n",
    "</div>"
   ]
  },
  {
   "cell_type": "code",
   "execution_count": null,
   "id": "d81df803-7b39-4e39-a7c7-8e5476e0985b",
   "metadata": {},
   "outputs": [],
   "source": [
    "# insert your code here\n",
    "\n"
   ]
  },
  {
   "cell_type": "markdown",
   "id": "ac075506-1e5a-41eb-a3d1-ba34f23eae0e",
   "metadata": {},
   "source": [
    "<div class=\"exE\">\n",
    "\n",
    "Comments?\n",
    "\n",
    "</div>"
   ]
  },
  {
   "cell_type": "markdown",
   "id": "b07aa5c8-b008-431f-8e84-af86bb3768bd",
   "metadata": {},
   "source": [
    "#### Calculation of the average position of the electron... and more\n",
    "\n",
    "<div class=\"exE\">\n",
    "\n",
    "- calculate $\\left<r\\right>$ and $\\sigma_r$ for the 10 most stable subshells, where $\\sigma_r = \\sqrt{\\left<r^2\\right> - \\left<r\\right>^2}$, the standard deviation of $r$, is the square root of the variance of $r$\n",
    "- write down the result concisely, such as: `Subshell 1s. E = -13.598 eV. <r> = 3/2 ± sqrt(3)/2 = 1.5 ± 0.9`\n",
    "\n",
    "</div>"
   ]
  },
  {
   "cell_type": "code",
   "execution_count": null,
   "id": "f4c403d9-7f26-426c-9dba-1fc19f3fdcfe",
   "metadata": {},
   "outputs": [],
   "source": [
    "# insert your code here\n",
    "\n"
   ]
  },
  {
   "cell_type": "markdown",
   "id": "5236ba4a-7da7-479b-93f3-4aceb32d9395",
   "metadata": {},
   "source": [
    "<div class=\"exE\">\n",
    "\n",
    "Plot again the probability distributions $P_{n0}(r)$  of the four most stable $ns$ AOs between 0 and 40 bohr, and add $\\left<r\\right>$ and $\\sigma_r$ on the plot. The expected resulting figure is:\n",
    "\n",
    "<p style=\"text-align:center;\"><img width=\"700\" src = \"./FiguresCreatedInNotebooks/Pn0-HydrogenAtom-C.png\"/></p>\n",
    "</div>"
   ]
  },
  {
   "cell_type": "code",
   "execution_count": null,
   "id": "9f2298ff-5475-4fcc-86b2-eec6e33e8901",
   "metadata": {},
   "outputs": [],
   "source": [
    "# insert your code here\n",
    "\n"
   ]
  },
  {
   "cell_type": "markdown",
   "id": "7c5ac9ce-02df-4648-b3ee-41d9c8fe3e66",
   "metadata": {},
   "source": [
    "<div class=\"exE\">\n",
    "\n",
    "Comments?\n",
    "\n",
    "</div>"
   ]
  },
  {
   "cell_type": "markdown",
   "id": "dff15d32-8410-46a4-b579-469f6772bf72",
   "metadata": {},
   "source": [
    "#### Angular part of the H wavefunctions"
   ]
  },
  {
   "cell_type": "markdown",
   "id": "f26cdb1e-122a-4ae4-99dc-ee229b91e3c5",
   "metadata": {},
   "source": [
    "<div class=\"exE\">\n",
    "    \n",
    "Use the `plot3DSC` function of the [pCAS_demo_demo.ipynb notebook](pCAS.ipynb) to plot the angular part of the $3d_{x^2-y^2}$ AO of the hydrogen atom, defined by the quantum numbers $n=3$, $\\ell=2$, $m=\\pm 2$\n",
    "\n",
    "</div>"
   ]
  },
  {
   "cell_type": "code",
   "execution_count": null,
   "id": "c31f18e1-7c10-40cb-899f-a4fbf0f8f00b",
   "metadata": {},
   "outputs": [],
   "source": [
    "# insert your code here\n",
    "\n"
   ]
  },
  {
   "cell_type": "markdown",
   "id": "ae70f4a8-31d8-424f-a1a9-a53d74341511",
   "metadata": {},
   "source": [
    "# End"
   ]
  },
  {
   "cell_type": "code",
   "execution_count": 3,
   "id": "898a0af5-6513-4be2-8538-0d741a4c4478",
   "metadata": {},
   "outputs": [
    {
     "data": {
      "text/markdown": [
       "**End at:** Saturday 09 September 2023, 11:08:08  \n",
       "**Duration:** 00:00:31 233ms"
      ],
      "text/plain": [
       "<IPython.core.display.Markdown object>"
      ]
     },
     "metadata": {},
     "output_type": "display_data"
    },
    {
     "data": {
      "text/markdown": [
       "<p style=\"text-align: center\"><img width=\"800px\" src=\"./config/svg/logoEnd.svg\" style=\"margin-left:auto; margin-right:auto\"/></p>"
      ],
      "text/plain": [
       "<IPython.core.display.Markdown object>"
      ]
     },
     "metadata": {},
     "output_type": "display_data"
    }
   ],
   "source": [
    "vID.end(cwd0)"
   ]
  },
  {
   "cell_type": "code",
   "execution_count": null,
   "id": "65198501-d1ca-46e5-a6b6-9d2fa6114d0a",
   "metadata": {},
   "outputs": [],
   "source": []
  }
 ],
 "metadata": {
  "kernelspec": {
   "display_name": "Python 3 (ipykernel)",
   "language": "python",
   "name": "python3"
  },
  "language_info": {
   "codemirror_mode": {
    "name": "ipython",
    "version": 3
   },
   "file_extension": ".py",
   "mimetype": "text/x-python",
   "name": "python",
   "nbconvert_exporter": "python",
   "pygments_lexer": "ipython3",
   "version": "3.11.5"
  },
  "toc-autonumbering": false,
  "toc-showcode": false,
  "toc-showmarkdowntxt": false,
  "toc-showtags": false
 },
 "nbformat": 4,
 "nbformat_minor": 5
}
