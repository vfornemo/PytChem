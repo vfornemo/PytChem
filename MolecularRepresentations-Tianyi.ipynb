{
 "cells": [
  {
   "cell_type": "code",
   "execution_count": 43,
   "id": "269396e1-4699-46d7-b7bc-8ef342174c94",
   "metadata": {},
   "outputs": [
    {
     "name": "stdout",
     "output_type": "stream",
     "text": [
      "/home/vfornemo/PytChem/PytChem\n"
     ]
    },
    {
     "data": {
      "text/html": [
       "<style>\n",
       "h1, h2, h3, h4, h5, h6 {\n",
       "  font-family: Verdana, \"DejaVu Sans\", \"Bitstream Vera Sans\", Geneva, sans-serif;\n",
       "  font-weight: bold;\n",
       "}\n",
       "body, intro, introE, introT, rq, rqE, rqT, ex, exE, app, appE, sol  {\n",
       "  font-family: Verdana, \"DejaVu Sans\", \"Bitstream Vera Sans\", Geneva, sans-serif;\n",
       "  font-weight: 400;\n",
       "  font-size: 12px;\n",
       "}\n",
       "h1 {\n",
       "  border: 0 solid #333;\n",
       "  padding: 30px ;\n",
       "  color: white;\n",
       "  background: #b11d01;\n",
       "  text-align: center;\n",
       "}\n",
       "h2 {\n",
       "  border: 3px solid #333;\n",
       "  padding: 18px ;\n",
       "  color: #b11d01;\n",
       "  background: #ffffff;\n",
       "  text-align: center;\n",
       "}\n",
       "h3 {\n",
       "  border: 0 solid #333;\n",
       "  padding: 12px ;\n",
       "  color: #000000;\n",
       "  background: #c1c1c1;\n",
       "  text-align: left;\n",
       "}\n",
       "h4 {\n",
       "  border: 0 solid #333;\n",
       "  padding: 2px ;\n",
       "  color: #000000;\n",
       "  background: #d9fffc;\n",
       "  text-align: left;\n",
       "}\n",
       "h5 {\n",
       "  border: 1px solid #333;\n",
       "  padding: 2px ;\n",
       "  color: #000000;\n",
       "  background: #ffffff;\n",
       "  text-align: left;\n",
       "}\n",
       ".introT::before {    \n",
       "    content: attr(title);\n",
       "    background-color: #cecece;\n",
       "    margin-left:-0.5em;\n",
       "    margin-right:-0.5em;\n",
       "    padding-left:0.5em;\n",
       "    padding-right:0.5em;\n",
       "    font-weight: 600;\n",
       "    display: block;\n",
       "}\n",
       ".introT {    \n",
       "    background-color: #cecece80;\n",
       "    border-color: #969696;\n",
       "    border-left: 5px solid #969696;\n",
       "    padding: 0.5em;\n",
       "}\n",
       ".intro {    \n",
       "    background-color: #cecece80;\n",
       "    border-color: #969696;\n",
       "    border-left: 5px solid #969696;\n",
       "    padding: 0.5em;\n",
       "}\n",
       ".introE {    \n",
       "    background-color: #cecece80;\n",
       "    border-color: #969696;\n",
       "    border-left: 5px solid #969696;\n",
       "    padding: 0.5em;\n",
       "    color : #117996;\n",
       "}\n",
       ".rq {    \n",
       "    background-color: #fcf2f2;\n",
       "    border-color: #dFb5b4;\n",
       "    border-left: 5px solid #dfb5b4;\n",
       "    padding: 0.5em;\n",
       "}\n",
       ".rqE::before {    \n",
       "    background-color: #fcd3d3;\n",
       "    color: #ff0000;\n",
       "    content:\"Warning\";\n",
       "    margin-left:-0.5em;\n",
       "    margin-right:-0.5em;\n",
       "    padding-left:0.5em;\n",
       "    padding-right:0.5em;\n",
       "    font-weight: 600;\n",
       "    display: block;\n",
       "}\n",
       ".rqE {    \n",
       "    background-color: #fcd3d380;\n",
       "    border-color: #dFb5b4;\n",
       "    border-left: 5px solid #dfb5b4;\n",
       "    padding: 0.5em;\n",
       "}\n",
       ".rqT::before {    \n",
       "    background-color: #fcd3d3;\n",
       "    color: #ff0000;\n",
       "    content: attr(title);\n",
       "    margin-left:-0.5em;\n",
       "    margin-right:-0.5em;\n",
       "    padding-left:0.5em;\n",
       "    padding-right:0.5em;\n",
       "    font-weight: 600;\n",
       "    display: block;\n",
       "}\n",
       ".rqT {    \n",
       "    background-color: #fcd3d380;\n",
       "    border-color: #dFb5b4;\n",
       "    border-left: 5px solid #dfb5b4;\n",
       "    padding: 0.5em;\n",
       "}\n",
       ".exold {    \n",
       "    background-color: #b2dbea80;\n",
       "    border-color: #0055ff;\n",
       "    border-left: 10px solid #0055ff;\n",
       "    padding: 0.5em;\n",
       "}\n",
       ".ex {    \n",
       "    background-color: #b2dbea80;\n",
       "    padding: 0.5em;\n",
       "    padding-top: 0em;\n",
       "    position:relative;\n",
       "}\n",
       ".ex::before {\n",
       "    background-color: #b2dbea;\n",
       "    content:\"Exercice\";\n",
       "    margin-left:-0.5em;\n",
       "    margin-right:-0.5em;\n",
       "    padding-left:0.5em;\n",
       "    padding-right:0.5em;\n",
       "    font-weight: 600;\n",
       "    display: block;\n",
       "}\n",
       ".exE {    \n",
       "    background-color: #b2dbea80;\n",
       "    padding: 0.5em;\n",
       "    padding-top: 0em;\n",
       "    position:relative;\n",
       "    color : #117996;\n",
       "}\n",
       ".exE::before {\n",
       "    background-color: #b2dbea;\n",
       "    content:\"Exercise\";\n",
       "    margin-left:-0.5em;\n",
       "    margin-right:-0.5em;\n",
       "    padding-left:0.5em;\n",
       "    padding-right:0.5em;\n",
       "    font-weight: 600;\n",
       "    display: block;\n",
       "    color : #117996;\n",
       "}\n",
       ".app {    \n",
       "    background-color: #b2dbea80;\n",
       "    padding: 0.5em;\n",
       "    padding-top: 0em;\n",
       "    position:relative;\n",
       "}\n",
       ".app::before {\n",
       "    background-color: #b2dbea;\n",
       "    content:\"Application\";\n",
       "    margin-left:-0.5em;\n",
       "    margin-right:-0.5em;\n",
       "    padding-left:0.5em;\n",
       "    padding-right:0.5em;\n",
       "    font-weight: 600;\n",
       "    display: block;\n",
       "}\n",
       ".appE {    \n",
       "    background-color: #b2dbea80;\n",
       "    padding: 0.5em;\n",
       "    padding-top: 0em;\n",
       "    color : #117996;\n",
       "    position:relative;\n",
       "}\n",
       ".appE::before {\n",
       "    background-color: #b2dbea;\n",
       "    content:\"Application\";\n",
       "    margin-left:-0.5em;\n",
       "    margin-right:-0.5em;\n",
       "    padding-left:0.5em;\n",
       "    padding-right:0.5em;\n",
       "    font-weight: 600;\n",
       "    color : #117996;\n",
       "    display: block;\n",
       "}\n",
       ".sol {    \n",
       "    background-color: #bbeab880;\n",
       "    padding: 0.5em;\n",
       "    padding-top: 0em;\n",
       "    position:relative;\n",
       "}\n",
       ".sol::before {\n",
       "    background-color: #bbeab8;\n",
       "    content:\"Answer\";\n",
       "    margin-left:-0.5em;\n",
       "    margin-right:-0.5em;\n",
       "    padding-left:0.5em;\n",
       "    padding-right:0.5em;\n",
       "    font-weight: 600;\n",
       "    display: block;\n",
       "}\n",
       "</style>\n"
      ],
      "text/plain": [
       "<IPython.core.display.HTML object>"
      ]
     },
     "metadata": {},
     "output_type": "display_data"
    },
    {
     "data": {
      "text/markdown": [
       "**Start at:** Friday 03 November 2023, 00:41:49  \n",
       "**Hostname:** Winnie-virtual-machine (Linux)"
      ],
      "text/plain": [
       "<IPython.core.display.Markdown object>"
      ]
     },
     "metadata": {},
     "output_type": "display_data"
    },
    {
     "data": {
      "text/markdown": [
       "<p style=\"text-align: center\"><img width=\"800px\" src=\"./config/svg/pyPhysChemBanner.svg\" style=\"margin-left:auto; margin-right:auto\"/></p>"
      ],
      "text/plain": [
       "<IPython.core.display.Markdown object>"
      ]
     },
     "metadata": {},
     "output_type": "display_data"
    }
   ],
   "source": [
    "import os\n",
    "import sys\n",
    "\n",
    "print(os.getcwd())\n",
    "cwd0 = './config/'\n",
    "sys.path.append(cwd0)\n",
    "\n",
    "import visualID_Eng as vID\n",
    "from visualID_Eng import color,bg,fg,hl\n",
    "vID.init(cwd0)\n",
    "import tools4pyPhysChem as t4pPC"
   ]
  },
  {
   "cell_type": "markdown",
   "id": "856de24c-ddcb-46b2-a794-7ea0365df87c",
   "metadata": {
    "tags": []
   },
   "source": [
    "# Molecular representations\n",
    "\n",
    "<div class=\"introT\" title=\"What is a molecule?\">\n",
    "\n",
    "A molecule is a group of atoms that are connected through chemical bonds. The number of atoms can range from only a few (e.g., in low molecular weight drugs) to several thousand (e.g., in proteins) or even millions (e.g., in DNA molecules). \n",
    "\n",
    "The properties of a molecule emerge in a non-trivial way from the interplay of its constituent atoms. From the viewpoint of physics, molecules are complex three-dimensional objects that are dynamic rather than static and that exhibit quantum mechanical properties. Given the principles of quantum physics, the knowledge of the exact wavefunction $\\Psi(\\textbf{R},t)$ of a molecule gives access to all its properties.\n",
    "\n",
    "Depending on the task you want to solve, a simplified view of molecules might be helpful. \n",
    "\n",
    "</div>\n",
    "<br>\n",
    "<div class=\"introT\" title=\"Molecular representations for humans\">\n",
    "\n",
    "The easiest way to identify a molecule is its trivial name. For example, aspirin. This is only possible for well-known molecules.\n",
    "\n",
    "Alternatively, the IUPAC nomenclatures of organic and inorganic chemistry can be used. The goal is that each possible molecule is associated with a name that is easy to understand and that unambiguously identifies the molecule. \n",
    "\n",
    "*Example*: The aspirin molecule has the IUPAC name: 2-acetyloxybenzoic acid. It is then possible, from this name, to draw the 2D representation of aspirin. Chemists actually most frequently think about **chemical structure in 2D**, whereas **molecules actually exist in 3D physical space**. 2D representations are designed to mimic the experience of drawing structural formulas on paper. \n",
    "\n",
    "\n",
    "<p style=\"text-align:center;\"><img src=\"./Molecules-data/Aspirin.png\" alt=\"aspirin\" width=\"15%\"/></p>\n",
    "\n",
    "</div>\n",
    "<br>\n",
    "<div class=\"introT\" title=\"Molecular representations in the age of cheminformatics\">\n",
    "    \n",
    "In order for chemists to rely on insights from cheminformatics, it is important to understand the way in which standard chemical softwares or computer libraries store and analyze chemical structure. Therefore, cheminformatics depends upon the **coding and the use of representations of molecular structures and related data** that are understandable both to human scientists and to machine algorithms, including **machine learning algorithms**.\n",
    "    \n",
    "The 3D conformation of a molecule, and the relative position of functional groups is however often of key importance since it determines its properties. Atomic coordinates may be determined experimentally (typically via x-ray crystallography), or calculated (using force-fields, quantum chemistry, molecular dynamics or composite models such as docking)\n",
    "\n",
    "---\n",
    "\n",
    "**SMILES** (Simplified Molecular Input Line Entry Specification) is the most widely used text-based representation and can be handled by all common frameworks, so it is probably be a good starting point. SMILES uses a combination of letters, numbers, and symbols to represent the atoms and bonds in a molecule. The letters identify the elements, the symbols specify the connectivity/branching structure. The SMILES coding of aspirin is: `CC(=O)OC1=CC=CC=C1C(=O)O`, where the `C1=CC=CC=C1` is the aromatic ring, whereas `CC(=O)O` and `C(=O)O` stand for the acetyloxy and carboxylic acids functional groups. \n",
    "\n",
    "</div>\n",
    "<br>\n",
    "<div class=\"rq\">\n",
    "\n",
    "**<span style=\"color:red\">Prerequisite.</span> Basic knowledge on:**\n",
    "- chemical databases, such as [PubChem](https://pubchem.ncbi.nlm.nih.gov/) or [ChemSpider](https://www.chemspider.com/)\n",
    "- the simplified molecular-input line-entry system (SMILES), which is a specification in the form of a line notation for describing the structure of chemical species using short ASCII strings ([wikipedia](https://en.wikipedia.org/wiki/Simplified_molecular-input_line-entry_system))\n",
    "\n",
    "</div>"
   ]
  },
  {
   "cell_type": "markdown",
   "id": "8dbe235f-03ec-43ee-9646-0917318abc3e",
   "metadata": {},
   "source": [
    "## 3D representation"
   ]
  },
  {
   "cell_type": "markdown",
   "id": "e88ccf52-35b0-45b1-8f37-ee49e6cae0d2",
   "metadata": {},
   "source": [
    "<div class=\"intro\">\n",
    "    \n",
    "3D modeling software are powerful tools that help many professionals create complex 3D graphics and visualize their work. In the field of chemistry, there is various software for molecular modeling and visualization. We will use in the present notebook the JSmol viewer widget. [JSmol](https://jmol.sourceforge.net/) returns a 3D representation of a molecule that may be used as a teaching tool, or for research e.g., in chemistry and biochemistry. It is a very powerful tool, with a nice GUI, and advanced tools that can be used by using its [rich scripting language](https://chemapps.stolaf.edu/jmol/docs/).\n",
    "\n",
    "<p style=\"text-align:center;\"><img src=\"./MiscImages/JMol-JSMol-logos.png\" alt=\"JMol logos\" width=\"200px\"></p>\n",
    "\n",
    "The [vChem3D website](https://vchem3d.univ-tlse3.fr/), made to teach chemistry in 3D, is fully based on JSMol.\n",
    "\n",
    "</div>"
   ]
  },
  {
   "cell_type": "code",
   "execution_count": 44,
   "id": "1a01369a-5b6d-4975-9c01-84ebc5c6fa67",
   "metadata": {},
   "outputs": [],
   "source": [
    "#This is JSmol viewer widget which can be used in Jupyter Notebooks and JupyterLab\n",
    "from jupyter_jsmol import JsmolView\n",
    "from ipywidgets import Layout"
   ]
  },
  {
   "cell_type": "markdown",
   "id": "408a500e-49b5-4864-b76f-3815aebcb3b9",
   "metadata": {},
   "source": [
    "### The Molfile format\n",
    "\n",
    "<div class=\"intro\">\n",
    "MDL Molfile is a file format for holding information about the atoms, bonds, connectivity and coordinates of a molecule.\n",
    "    \n",
    "Let's first briefly see on an example how a Molfile looks like. It is the anisole molecule, downloaded from the [PubChem database](https://pubchem.ncbi.nlm.nih.gov/compound/Anisole).\n",
    "</div>"
   ]
  },
  {
   "cell_type": "code",
   "execution_count": 45,
   "id": "dffba526-2484-4e1c-a548-80371101da53",
   "metadata": {},
   "outputs": [
    {
     "name": "stdout",
     "output_type": "stream",
     "text": [
      "7519\n",
      "  -OEChem-05112309193D\n",
      "\n",
      " 16 16  0     0  0  0  0  0  0999 V2000\n",
      "    1.8925   -0.6211    0.0000 O   0  0  0  0  0  0  0  0  0  0  0  0\n",
      "    0.5699   -0.3011   -0.0003 C   0  0  0  0  0  0  0  0  0  0  0  0\n",
      "    0.1759    1.0370   -0.0002 C   0  0  0  0  0  0  0  0  0  0  0  0\n",
      "   -0.3918   -1.3114   -0.0001 C   0  0  0  0  0  0  0  0  0  0  0  0\n",
      "   -1.1799    1.3647    0.0000 C   0  0  0  0  0  0  0  0  0  0  0  0\n",
      "   -1.7476   -0.9836    0.0001 C   0  0  0  0  0  0  0  0  0  0  0  0\n",
      "   -2.1417    0.3545    0.0002 C   0  0  0  0  0  0  0  0  0  0  0  0\n",
      "    2.8227    0.4610    0.0003 C   0  0  0  0  0  0  0  0  0  0  0  0\n",
      "    0.8695    1.8709   -0.0003 H   0  0  0  0  0  0  0  0  0  0  0  0\n",
      "   -0.0910   -2.3555    0.0000 H   0  0  0  0  0  0  0  0  0  0  0  0\n",
      "   -1.4879    2.4064    0.0001 H   0  0  0  0  0  0  0  0  0  0  0  0\n",
      "   -2.4966   -1.7702    0.0003 H   0  0  0  0  0  0  0  0  0  0  0  0\n",
      "   -3.1974    0.6096    0.0003 H   0  0  0  0  0  0  0  0  0  0  0  0\n",
      "    2.7368    1.0652    0.9098 H   0  0  0  0  0  0  0  0  0  0  0  0\n",
      "    2.7373    1.0653   -0.9092 H   0  0  0  0  0  0  0  0  0  0  0  0\n",
      "    3.8267    0.0241    0.0005 H   0  0  0  0  0  0  0  0  0  0  0  0\n",
      "  1  2  1  0  0  0  0\n",
      "  1  8  1  0  0  0  0\n",
      "  2  3  2  0  0  0  0\n",
      "  2  4  1  0  0  0  0\n",
      "  3  5  1  0  0  0  0\n",
      "  3  9  1  0  0  0  0\n",
      "  4  6  2  0  0  0  0\n",
      "  4 10  1  0  0  0  0\n",
      "  5  7  2  0  0  0  0\n",
      "  5 11  1  0  0  0  0\n",
      "  6  7  1  0  0  0  0\n",
      "  6 12  1  0  0  0  0\n",
      "  7 13  1  0  0  0  0\n",
      "  8 14  1  0  0  0  0\n",
      "  8 15  1  0  0  0  0\n",
      "  8 16  1  0  0  0  0\n",
      "M  END\n",
      "\n"
     ]
    }
   ],
   "source": [
    "anisoleMolFile = open(\"./Molecules-data/anisole.mol\", \"r\")\n",
    "print(anisoleMolFile.read())\n",
    "anisoleMolFile.close()"
   ]
  },
  {
   "cell_type": "markdown",
   "id": "344347ef-e84c-413b-81fc-fd323e0dccd2",
   "metadata": {},
   "source": [
    "<div class=\"intro\">\n",
    "\n",
    "JSMol can nicely give an interactive representation of this MDL Molfile coding. \n",
    "</div>"
   ]
  },
  {
   "cell_type": "code",
   "execution_count": 46,
   "id": "3d3b663c-3c5e-4db8-90a3-2569e6c8511f",
   "metadata": {},
   "outputs": [
    {
     "data": {
      "application/vnd.jupyter.widget-view+json": {
       "model_id": "56e31a1905e34ff8a6842453cb15b2de",
       "version_major": 2,
       "version_minor": 0
      },
      "text/plain": [
       "JsmolView(layout=Layout(height='300px', width='300px'))"
      ]
     },
     "metadata": {},
     "output_type": "display_data"
    }
   ],
   "source": [
    "JSMol = JsmolView(\n",
    "    layout=Layout(height=\"300px\", width=\"300px\"), \n",
    "    info={'color':'#e2e2e2'}\n",
    ")\n",
    "\n",
    "display(JSMol)\n",
    "\n",
    "JSMol.load_file(\"./Molecules-data/anisole.mol\",inline=True)"
   ]
  },
  {
   "cell_type": "markdown",
   "id": "7577e987-257d-4337-ab38-d2b2858ad9da",
   "metadata": {},
   "source": [
    "### The xyz format\n",
    "\n",
    "<div class=\"intro\">\n",
    "The xyz file format is a simple format that usually gives the number of atoms in the first line, a comment on the second, followed by a number of lines with atomic symbols (or atomic numbers) and cartesian coordinates. There is no information about connectivity, so that graphical softwares that depict chemical structures in 3-dimensions only show the skeleton of a coumpound\n",
    "</div>"
   ]
  },
  {
   "cell_type": "code",
   "execution_count": 47,
   "id": "2b4845c9-4bd9-4c24-866c-64b80ed30be6",
   "metadata": {},
   "outputs": [
    {
     "name": "stdout",
     "output_type": "stream",
     "text": [
      "16\n",
      "Saved after anisole.mol downloaded from PubChem\n",
      "O       1.89250     -0.62110      0.00000\n",
      "C       0.56990     -0.30110     -0.00030\n",
      "C       0.17590      1.03700     -0.00020\n",
      "C      -0.39180     -1.31140     -0.00010\n",
      "C      -1.17990      1.36470      0.00000\n",
      "C      -1.74760     -0.98360      0.00010\n",
      "C      -2.14170      0.35450      0.00020\n",
      "C       2.82270      0.46100      0.00030\n",
      "H       0.86950      1.87090     -0.00030\n",
      "H      -0.09100     -2.35550      0.00000\n",
      "H      -1.48790      2.40640      0.00010\n",
      "H      -2.49660     -1.77020      0.00030\n",
      "H      -3.19740      0.60960      0.00030\n",
      "H       2.73680      1.06520      0.90980\n",
      "H       2.73730      1.06530     -0.90920\n",
      "H       3.82670      0.02410      0.00050\n",
      "\n"
     ]
    }
   ],
   "source": [
    "anisolexyzFile = open(\"./Molecules-data/anisole.xyz\", \"r\")\n",
    "print(anisolexyzFile.read())\n",
    "anisolexyzFile.close()"
   ]
  },
  {
   "cell_type": "code",
   "execution_count": 48,
   "id": "42193005-2254-4190-930c-c9ae2e2907f0",
   "metadata": {},
   "outputs": [
    {
     "data": {
      "application/vnd.jupyter.widget-view+json": {
       "model_id": "c107f27609384ec49d5b91cc99b92a53",
       "version_major": 2,
       "version_minor": 0
      },
      "text/plain": [
       "JsmolView(layout=Layout(height='300px', width='300px'))"
      ]
     },
     "metadata": {},
     "output_type": "display_data"
    }
   ],
   "source": [
    "JSMol = JsmolView(\n",
    "    layout=Layout(height=\"300px\", width=\"300px\"), \n",
    "    info={'color':'#e2e2e2'}\n",
    ")\n",
    "\n",
    "display(JSMol)\n",
    "\n",
    "JSMol.load_file(\"./Molecules-data/anisole.xyz\",inline=True)"
   ]
  },
  {
   "cell_type": "markdown",
   "id": "fded5034-dfeb-496f-aa95-82604fcfb69b",
   "metadata": {},
   "source": [
    "### The cif format\n",
    "\n",
    "<div class=\"intro\">\n",
    "\n",
    "Crystallographic Information File (CIF) is a standard text file format for representing crystallographic information, promulgated by the International Union of Crystallography (IUCr). Cristallographic data can be downloaded at CCDC, the free access being restricted to a [basic search interface](https://www.ccdc.cam.ac.uk/structures/?) - you primarily have to know the DOI of the article where the X-ray data were published. The totally free [Crystallography Open Database](http://www.crystallography.net/cod/search.html) also contains a lot of structures.\n",
    "</div>"
   ]
  },
  {
   "cell_type": "code",
   "execution_count": 49,
   "id": "6b82d111-9d52-4cc8-9e4d-6dba7feb5e42",
   "metadata": {},
   "outputs": [
    {
     "name": "stdout",
     "output_type": "stream",
     "text": [
      "####################################################################### \n",
      "# \n",
      "# This file contains crystal structure data downloaded from the \n",
      "# Cambridge Structural Database (CSD) hosted by the Cambridge \n",
      "# Crystallographic Data Centre (CCDC).\n",
      "# \n",
      "# Full information about CCDC data access policies and citation \n",
      "# guidelines are available at http://www.ccdc.cam.ac.uk/access/V1 \n",
      "# \n",
      "# Audit and citation data items may have been added by the CCDC. \n",
      "# Please retain this information to preserve the provenance of \n",
      "# this file and to allow appropriate attribution of the data. \n",
      "# \n",
      "#######################################################################\n",
      "\n",
      "data_FOJBOV03\n",
      "#This CIF has been generated from an entry in the Cambridge Structural Database\n",
      "_database_code_depnum_ccdc_archive 'CCDC 1158630'\n",
      "_database_code_CSD               FOJBOV03\n",
      "loop_\n",
      "_citation_id\n",
      "_citation_doi\n",
      "_citation_year\n",
      "1 10.1021/om00028a082 1993\n",
      "_audit_creation_method           'Created from the CSD'\n",
      "_audit_update_record             \n",
      ";\n",
      "2020-05-24 downloaded from the CCDC.\n",
      ";\n",
      "_database_code_NBS               624209\n",
      "_chemical_formula_moiety         'C5 Fe1 O5'\n",
      "_chemical_name_systematic        Pentacarbonyl-iron\n",
      "_chemical_absolute_configuration unk\n",
      "_diffrn_ambient_temperature      198\n",
      "_exptl_crystal_density_diffrn    1.829\n",
      "#These two values have been output from a single CSD field.\n",
      "_refine_ls_R_factor_gt           0.019\n",
      "_refine_ls_wR_factor_gt          0.019\n",
      "_diffrn_radiation_probe          x-ray\n",
      "_symmetry_cell_setting           monoclinic\n",
      "_symmetry_space_group_name_H-M   'C 2/c'\n",
      "_symmetry_Int_Tables_number      15\n",
      "_space_group_name_Hall           '-C 2yn'\n",
      "loop_\n",
      "_symmetry_equiv_pos_site_id\n",
      "_symmetry_equiv_pos_as_xyz\n",
      "1 x,y,z\n",
      "2 1/2+x,1/2+y,z\n",
      "3 -x,y,1/2-z\n",
      "4 1/2-x,1/2+y,1/2-z\n",
      "5 -x,-y,-z\n",
      "6 1/2-x,1/2-y,-z\n",
      "7 x,-y,1/2+z\n",
      "8 1/2+x,1/2-y,1/2+z\n",
      "_cell_length_a                   11.740(2)\n",
      "_cell_length_b                   6.806(1)\n",
      "_cell_length_c                   9.341(3)\n",
      "_cell_angle_alpha                90\n",
      "_cell_angle_beta                 107.59(1)\n",
      "_cell_angle_gamma                90\n",
      "_cell_volume                     711.471\n",
      "_cell_formula_units_Z            4\n",
      "loop_\n",
      "_atom_site_label\n",
      "_atom_site_type_symbol\n",
      "_atom_site_fract_x\n",
      "_atom_site_fract_y\n",
      "_atom_site_fract_z\n",
      "Fe1 Fe 0.0000 0.16650(4) 0.2500\n",
      "C1 C 0.08312(13) 0.3035(2) 0.4136(2)\n",
      "C2 C 0.12939(15) 0.1640(2) 0.1828(2)\n",
      "C3 C 0.0000 -0.0981(4) 0.2500\n",
      "O1 O 0.13541(12) 0.3912(3) 0.5158(2)\n",
      "O2 O 0.20922(13) 0.1609(2) 0.1413(2)\n",
      "O3 O 0.0000 -0.2639(3) 0.2500\n",
      "C1B C -0.08312(13) 0.3035(2) 0.0864(2)\n",
      "C2B C -0.12939(15) 0.1640(2) 0.3172(2)\n",
      "O1B O -0.13541(12) 0.3912(3) -0.0158(2)\n",
      "O2B O -0.20922(13) 0.1609(2) 0.3587(2)\n",
      "\n",
      "#END\n",
      "\n"
     ]
    }
   ],
   "source": [
    "anisolexyzFile = open(\"./Molecules-data/1158630.cif\", \"r\")\n",
    "print(anisolexyzFile.read())\n",
    "anisolexyzFile.close()"
   ]
  },
  {
   "cell_type": "code",
   "execution_count": 50,
   "id": "005031cc-9867-4072-ac0d-82a03ac66ef0",
   "metadata": {},
   "outputs": [
    {
     "data": {
      "application/vnd.jupyter.widget-view+json": {
       "model_id": "d20adceeaabd4dc8a9ed0c782959546d",
       "version_major": 2,
       "version_minor": 0
      },
      "text/plain": [
       "JsmolView(layout=Layout(height='300px', width='600px'))"
      ]
     },
     "metadata": {},
     "output_type": "display_data"
    }
   ],
   "source": [
    "JSMol = JsmolView(\n",
    "    layout=Layout(height=\"300px\", width=\"600px\"), \n",
    "    info={'color':'#e2e2e2'}\n",
    ")\n",
    "\n",
    "display(JSMol)\n",
    "\n",
    "JSMol.load_file(\"./Molecules-data/1158630.cif\",inline=True)\n",
    "JSMol.script('moveto 1.0 { -992 -89 -87 80.42} 160.0 -3.83 -0.67 {4.135600159243033 2.504950284603811 4.381773503715626} 9.52466520069848 {0 0 0} 0 0 0 3.0 0.0 0.0;')"
   ]
  },
  {
   "cell_type": "markdown",
   "id": "a1b3496a-7f24-4bef-ae7c-617f267ab7ad",
   "metadata": {
    "tags": []
   },
   "source": [
    "## RDKit, a toolkit for cheminformatics\n",
    "\n",
    "<div class=\"intro\">\n",
    "    \n",
    "```RDKit``` is a collection of cheminformatics and machine-learning software written in C++ and Python. It is designed to assist in the analysis and design of small molecules and chemical compounds. It provides a set of libraries and tools for the manipulation or analysis of:\n",
    "- Molecular visualization\n",
    "- Molecular fingerprints & descriptors\n",
    "- Substructure searching\n",
    "- Chemical reactions\n",
    "- Enhanced stereochemistry\n",
    "- Molecular standardization\n",
    "- Conformation generation\n",
    "- UFF and MMFF94/MMFF94S force fields, very useful for cleaning up molecular structures\n",
    "- Shape-based similarity\n",
    "- Molecule-molecule alignment\n",
    "    \n",
    "It reads and writes a lot of formats, including MDL Molfiles and SMILES.\n",
    "\n",
    "`RDKit` is widely used in academia, as well as in the pharmaceutical, biotech, and chemical industries for a variety of tasks such as virtual screening, lead optimization, and chemical database management. Regular updates are released at 6 months intervals.\n",
    "\n",
    "It has a very good integration with Jupyter and pandas.The easiest way to install it is to run the command:\n",
    "```bash\n",
    "pip install rdkit\n",
    "```\n",
    "\n",
    "  \n",
    "There are nice online documentations:\n",
    "- you can first start with the [Getting Started with the RDKit in Python document](https://www.rdkit.org/docs/GettingStartedInPython.html)\n",
    "- an [RDKit cookbook](https://www.rdkit.org/docs/Cookbook.html) provides example recipes of how to carry out particular tasks using the RDKit functionality from Python\n",
    "\n",
    "The present Jupyter notebook is inspired from these two documents and from the [RDKit basics notebook of EPFL](https://github.com/schwallergroup/ai4chem_course/blob/main/notebooks/01%20-%20Basics/01d_rdkit_basics_demo.ipynb).\n",
    "\n",
    "</div>"
   ]
  },
  {
   "cell_type": "markdown",
   "id": "9029a767-47ae-4ac3-a087-a6878fe58ea0",
   "metadata": {},
   "source": [
    "<div class=\"intro\">\n",
    "    \n",
    "Let's first start importing relevant modules. The majority of the basic molecular functionality is found in module [rdkit.Chem](https://www.rdkit.org/docs/source/rdkit.Chem.html#module-rdkit.Chem)\n",
    "\n",
    "</div>"
   ]
  },
  {
   "cell_type": "code",
   "execution_count": 51,
   "id": "325555f8-6c4b-4873-adb3-01ed32bf463f",
   "metadata": {},
   "outputs": [],
   "source": [
    "import numpy as np\n",
    "from matplotlib import pyplot as plt\n",
    "import pandas as pd\n",
    "\n",
    "from rdkit import Chem\n",
    "from rdkit.Chem import Draw, AllChem\n",
    "\n",
    "#cancel the \"last operation show-up\" specific of Jupyter notebooks\n",
    "from IPython.core.interactiveshell import InteractiveShell\n",
    "InteractiveShell.ast_node_interactivity = \"all\""
   ]
  },
  {
   "cell_type": "markdown",
   "id": "a9fab9e8-4cb8-4596-98fa-83dbbfbcb0a6",
   "metadata": {},
   "source": [
    "### SMILES format\n",
    "\n",
    "<div class=\"intro\">\n",
    "    \n",
    "SMILES refers to a line notation for encoding molecular structures, using chemical symbols, and specifying bonds, rings, branching, aromaticity and even stereochemistry or isotopes. ```CC```, ```C=C```, ```C#C``` stand for ethane, ethene and ethyne, respectively. Typically, a number of equally valid SMILES strings can be written for a molecule. For example, ```CCO```, ```OCC``` and ```C(O)C``` all specify the structure of ethanol.\n",
    "\n",
    "</div>"
   ]
  },
  {
   "cell_type": "markdown",
   "id": "4b135055-dcf4-4f7b-8a31-d08f4bb9c61c",
   "metadata": {},
   "source": [
    "#### Creating molecules\n",
    "\n",
    "<div class=\"intro\">\n",
    "\n",
    "The methoxybenzene molecule, also known as anisole, a colorless liquid with a smell reminiscent of anise seed, will be used in the first part of this notebook. Ring structures are written by breaking each ring at an **arbitrary point**, and adding numerical ring closure labels to show connectivity between non-adjacent atoms. For example, cyclohexane may be written as ```C1CCCCC1```. \n",
    "\n",
    "One possible SMILES description for anisole is: ```C1=CC(OC)=CC=C1```. Let's check that and let's also see the difference with ```C1=CC(CO)=CC=C1```: \n",
    "    \n",
    "</div>"
   ]
  },
  {
   "cell_type": "code",
   "execution_count": 52,
   "id": "f2aca4e0-7c62-4538-b538-f3b7577bad0e",
   "metadata": {},
   "outputs": [
    {
     "data": {
      "image/png": "[encoded data removed]",
      "text/plain": [
       "<rdkit.Chem.rdchem.Mol at 0x15119e073dd0>"
      ]
     },
     "execution_count": 52,
     "metadata": {},
     "output_type": "execute_result"
    },
    {
     "data": {
      "image/png": "[encoded data removed]",
      "text/plain": [
       "<rdkit.Chem.rdchem.Mol at 0x1511e4c88970>"
      ]
     },
     "execution_count": 52,
     "metadata": {},
     "output_type": "execute_result"
    }
   ],
   "source": [
    "Chem.MolFromSmiles('C1=C(OC)C=CC=C1')\n",
    "Chem.MolFromSmiles('C1=C(CO)C=CC=C1')"
   ]
  },
  {
   "cell_type": "markdown",
   "id": "69fd9c63-6096-4c8c-9877-7c3d83e95a54",
   "metadata": {},
   "source": [
    "<div class=\"intro\">\n",
    "\n",
    "A ```Mol``` ```RDKit``` object has actually been created by calling ```Chem.MolFromSmiles```. It can be stored into a variable representing anisole. It seems quite convenient to call it ```anisole```. The value of this variable can be displayed in the notebook by typing its name and then running the cell. \n",
    "    \n",
    "</div>"
   ]
  },
  {
   "cell_type": "code",
   "execution_count": 53,
   "id": "e6878cda-11d9-4533-bebd-865f18cc2ec2",
   "metadata": {},
   "outputs": [
    {
     "data": {
      "text/plain": [
       "rdkit.Chem.rdchem.Mol"
      ]
     },
     "execution_count": 53,
     "metadata": {},
     "output_type": "execute_result"
    },
    {
     "data": {
      "image/png": "[encoded data removed]",
      "text/plain": [
       "<rdkit.Chem.rdchem.Mol at 0x1511a22350b0>"
      ]
     },
     "execution_count": 53,
     "metadata": {},
     "output_type": "execute_result"
    }
   ],
   "source": [
    "anisole = Chem.MolFromSmiles('C1=C(OC)C=CC=C1')\n",
    "type(anisole)\n",
    "anisole"
   ]
  },
  {
   "cell_type": "markdown",
   "id": "9ef67911-86a5-4a57-a0d4-1698a6d0be6e",
   "metadata": {},
   "source": [
    "<div class=\"rqE\">\n",
    "    \n",
    "The 3D mol format has nothing to do with the ```Mol``` type of RDKit objects\n",
    "    \n",
    "</div>"
   ]
  },
  {
   "cell_type": "markdown",
   "id": "94a3c610-16a1-45c1-b16f-208b08fd52cc",
   "metadata": {},
   "source": [
    "<div class=\"exE\">\n",
    "\n",
    "Define a `Mol RDKit` object that will contain the vitamin C molecule\n",
    "</div>"
   ]
  },
  {
   "cell_type": "code",
   "execution_count": 54,
   "id": "5ad893ec-4b13-4bbd-9d5f-1dcb40cac1ba",
   "metadata": {},
   "outputs": [
    {
     "data": {
      "text/plain": [
       "rdkit.Chem.rdchem.Mol"
      ]
     },
     "execution_count": 54,
     "metadata": {},
     "output_type": "execute_result"
    },
    {
     "data": {
      "image/png": "[encoded data removed]",
      "text/plain": [
       "<rdkit.Chem.rdchem.Mol at 0x1511a2235190>"
      ]
     },
     "execution_count": 54,
     "metadata": {},
     "output_type": "execute_result"
    }
   ],
   "source": [
    "VC = Chem.MolFromSmiles('OC[C@H](O)[C@@H]1C(O)=C(O)C(=O)O1')\n",
    "type(VC)\n",
    "VC\n"
   ]
  },
  {
   "cell_type": "markdown",
   "id": "ce3a9fba-403c-434c-b795-7db55e938ffe",
   "metadata": {},
   "source": [
    "<div class=\"sol\">\n",
    "\n",
    "Want to see a possible answer? Uncomment the `# %load ./SolutionsToExercises/...` command below\n",
    "\n",
    "</div>"
   ]
  },
  {
   "cell_type": "code",
   "execution_count": 55,
   "id": "3c57c688-98ca-4f7b-bf2a-d1ae08f4c8a0",
   "metadata": {},
   "outputs": [
    {
     "data": {
      "image/png": "[encoded data removed]",
      "text/plain": [
       "<rdkit.Chem.rdchem.Mol at 0x1511a2235430>"
      ]
     },
     "execution_count": 55,
     "metadata": {},
     "output_type": "execute_result"
    },
    {
     "data": {
      "image/png": "[encoded data removed]",
      "text/plain": [
       "<rdkit.Chem.rdchem.Mol at 0x15119de62a50>"
      ]
     },
     "execution_count": 55,
     "metadata": {},
     "output_type": "execute_result"
    }
   ],
   "source": [
    "# %load ./SolutionsToExercises/ML/ascorbic.py\n",
    "\n",
    "# the SMILES and isomeric SMILES code were copied from the PubChem website\n",
    "ascorbic = Chem.MolFromSmiles('C(C(C1C(=C(C(=O)O1)O)O)O)O')\n",
    "ascorbic\n",
    "ascorbicIso = Chem.MolFromSmiles('C([C@@H]([C@@H]1C(=C(C(=O)O1)O)O)O)O')\n",
    "ascorbicIso"
   ]
  },
  {
   "cell_type": "markdown",
   "id": "68c15edc-eba7-4371-b74a-53a47d86c82b",
   "metadata": {},
   "source": [
    "#### Canonicalization\n",
    "\n",
    "<div class=\"intro\">\n",
    "    \n",
    "Different SMILES can represent the same molecule. This is a big problem in the context of cheminformatics, where you want unambiguous and unique compound descriptors. To do this, we can apply a canonicalization process. This concept refers to the generation of a unique SMILES for each molecule. We can use the ```MolToSmiles``` function in ```RDKit``` to get the SMILES of a ```Mol``` object. By default, ```RDKit``` canonicalizes the SMILES when applying this function.\n",
    "    \n",
    "</div>\n",
    "<br>\n",
    "<div class=\"rqE\">\n",
    "    \n",
    "`MolToSmiles` returns a string \n",
    "    \n",
    "</div>"
   ]
  },
  {
   "cell_type": "code",
   "execution_count": 56,
   "id": "f9dd1891-2ecd-4471-ba62-3f8df7eb2d42",
   "metadata": {},
   "outputs": [
    {
     "data": {
      "text/plain": [
       "str"
      ]
     },
     "execution_count": 56,
     "metadata": {},
     "output_type": "execute_result"
    },
    {
     "data": {
      "text/plain": [
       "'COc1ccccc1'"
      ]
     },
     "execution_count": 56,
     "metadata": {},
     "output_type": "execute_result"
    },
    {
     "data": {
      "text/plain": [
       "rdkit.Chem.rdchem.Mol"
      ]
     },
     "execution_count": 56,
     "metadata": {},
     "output_type": "execute_result"
    },
    {
     "data": {
      "image/png": "[encoded data removed]",
      "text/plain": [
       "<rdkit.Chem.rdchem.Mol at 0x15119de62190>"
      ]
     },
     "execution_count": 56,
     "metadata": {},
     "output_type": "execute_result"
    }
   ],
   "source": [
    "anisoleCan=Chem.MolToSmiles(anisole)\n",
    "type(anisoleCan)\n",
    "anisoleCan #is a string at this step \n",
    "anisoleCan = Chem.MolFromSmiles(anisoleCan)\n",
    "type(anisoleCan) # it is now an RDKit Mol object\n",
    "anisoleCan #plot in 2D"
   ]
  },
  {
   "cell_type": "markdown",
   "id": "8915b607-8c9e-45f9-97ea-bda94571ccb0",
   "metadata": {},
   "source": [
    "<div class=\"rqE\">\n",
    "    \n",
    "**There is no standard canonicalization**. The resulting SMILES will depend on the cheminformatics toolkit and the version that is used. If you want to perform a comparison/similarity/machine learning study using SMILES, you must first apply the same canonicalization process to ALL the molecules of interest.\n",
    "    \n",
    "</div>"
   ]
  },
  {
   "cell_type": "markdown",
   "id": "545af762-4237-4277-b110-ad800ff3899e",
   "metadata": {},
   "source": [
    "#### Conversion from MDL Molfile to SMILES"
   ]
  },
  {
   "cell_type": "code",
   "execution_count": 57,
   "id": "6e6a7925-c195-4e1d-b5c1-8de0fe50bbe2",
   "metadata": {},
   "outputs": [
    {
     "data": {
      "image/png": "[encoded data removed]",
      "text/plain": [
       "<rdkit.Chem.rdchem.Mol at 0x1511a2235660>"
      ]
     },
     "execution_count": 57,
     "metadata": {},
     "output_type": "execute_result"
    },
    {
     "data": {
      "text/plain": [
       "rdkit.Chem.rdchem.Mol"
      ]
     },
     "execution_count": 57,
     "metadata": {},
     "output_type": "execute_result"
    }
   ],
   "source": [
    "# reading of a mol file \n",
    "anisole = Chem.MolFromMolFile('./Molecules-data/anisole.mol')\n",
    "anisole\n",
    "# again, the Mol type of anisole has nothing to do with the MDL molfile format\n",
    "type(anisole)"
   ]
  },
  {
   "cell_type": "markdown",
   "id": "1dcd5feb-daa7-4cc4-b3e1-78811d0b0b85",
   "metadata": {},
   "source": [
    "<div class=\"intro\">\n",
    "    \n",
    "Single molecules can be converted to text using several functions present in the ```rdkit.Chem``` module\n",
    "    \n",
    "</div>"
   ]
  },
  {
   "cell_type": "code",
   "execution_count": 58,
   "id": "965998e1-3991-4c3d-9ecd-e0d76567f36d",
   "metadata": {},
   "outputs": [
    {
     "data": {
      "text/plain": [
       "'COc1ccccc1'"
      ]
     },
     "execution_count": 58,
     "metadata": {},
     "output_type": "execute_result"
    }
   ],
   "source": [
    "Chem.MolToSmiles(anisole)"
   ]
  },
  {
   "cell_type": "markdown",
   "id": "c62e05d1-419a-4073-b225-2cb41d85a7e8",
   "metadata": {},
   "source": [
    "<div class=\"intro\">\n",
    "    \n",
    "If you’d like to have the Kekule form of the SMILES, first Kekulize the molecule, then use the “kekuleSmiles” option    \n",
    "</div>"
   ]
  },
  {
   "cell_type": "code",
   "execution_count": 59,
   "id": "ddbd8dc9-8ea2-4a8b-af97-6b70fafa5016",
   "metadata": {},
   "outputs": [
    {
     "data": {
      "text/plain": [
       "'COC1=CC=CC=C1'"
      ]
     },
     "execution_count": 59,
     "metadata": {},
     "output_type": "execute_result"
    },
    {
     "data": {
      "image/png": "[encoded data removed]",
      "text/plain": [
       "<rdkit.Chem.rdchem.Mol at 0x1511a2235660>"
      ]
     },
     "execution_count": 59,
     "metadata": {},
     "output_type": "execute_result"
    }
   ],
   "source": [
    "Chem.Kekulize(anisole)\n",
    "Chem.MolToSmiles(anisole,kekuleSmiles=True)\n",
    "# It changes nothing to the 2D drawing\n",
    "anisole"
   ]
  },
  {
   "cell_type": "markdown",
   "id": "b275dc7f-932b-4ee0-84e7-bf41e73b1278",
   "metadata": {},
   "source": [
    "#### Conversion from SMILES to MDL Mol format "
   ]
  },
  {
   "cell_type": "markdown",
   "id": "ceb40843-3aec-4a0b-bb63-110b656f4b1c",
   "metadata": {},
   "source": [
    "<div class=\"intro\">\n",
    "\n",
    "MDL Mol blocks are also available, but hydrogen atoms are not infered in the first place, it's only the skeleton that is expanded into a 3D space. Let's see that for cyclobutane:\n",
    "</div>"
   ]
  },
  {
   "cell_type": "code",
   "execution_count": 60,
   "id": "9068c7be-1709-4626-90b8-73279026a826",
   "metadata": {},
   "outputs": [
    {
     "name": "stdout",
     "output_type": "stream",
     "text": [
      "\n",
      "     RDKit          2D\n",
      "\n",
      "  4  4  0  0  0  0  0  0  0  0999 V2000\n",
      "    1.0607    0.0000    0.0000 C   0  0  0  0  0  0  0  0  0  0  0  0\n",
      "   -0.0000   -1.0607    0.0000 C   0  0  0  0  0  0  0  0  0  0  0  0\n",
      "   -1.0607    0.0000    0.0000 C   0  0  0  0  0  0  0  0  0  0  0  0\n",
      "    0.0000    1.0607    0.0000 C   0  0  0  0  0  0  0  0  0  0  0  0\n",
      "  1  2  1  0\n",
      "  2  3  1  0\n",
      "  3  4  1  0\n",
      "  4  1  1  0\n",
      "M  END\n",
      "\n"
     ]
    }
   ],
   "source": [
    "cyclobutane = Chem.MolFromSmiles('C1CCC1')\n",
    "print(Chem.MolToMolBlock(cyclobutane))"
   ]
  },
  {
   "cell_type": "markdown",
   "id": "d1843472-e90d-4f0e-b673-e1c5780f5d19",
   "metadata": {},
   "source": [
    "<div class=\"intro\">\n",
    "\n",
    "To visualize it with the JSMol viewer widget and its ```load_str``` tool, this MolFile format must be converted as a string\n",
    "</div>"
   ]
  },
  {
   "cell_type": "code",
   "execution_count": 61,
   "id": "be43b578-b3ed-4e3c-bb9e-ddd9a1b6bd7c",
   "metadata": {},
   "outputs": [
    {
     "data": {
      "application/vnd.jupyter.widget-view+json": {
       "model_id": "bf0cd6468ec946a49cb9da1d44bd962e",
       "version_major": 2,
       "version_minor": 0
      },
      "text/plain": [
       "JsmolView(layout=Layout(height='300px', width='300px'))"
      ]
     },
     "metadata": {},
     "output_type": "display_data"
    }
   ],
   "source": [
    "JSMol = JsmolView(\n",
    "    layout=Layout(height=\"300px\", width=\"300px\"), \n",
    "    info={'color':'#e2e2e2'}\n",
    ")\n",
    "display(JSMol)\n",
    "JSMol.load_str(str(Chem.MolToMolBlock(cyclobutane)))"
   ]
  },
  {
   "cell_type": "markdown",
   "id": "1d1b7d77-f490-40b5-bf81-6193bbced152",
   "metadata": {},
   "source": [
    "<div class=\"intro\">\n",
    "\n",
    "Now, add hydrogen atoms\n",
    "</div>"
   ]
  },
  {
   "cell_type": "code",
   "execution_count": 62,
   "id": "17acae89-af90-47c7-9e45-e96a6e7b3cb5",
   "metadata": {},
   "outputs": [
    {
     "name": "stdout",
     "output_type": "stream",
     "text": [
      "\n",
      "     RDKit          2D\n",
      "\n",
      " 12 12  0  0  0  0  0  0  0  0999 V2000\n",
      "    1.0607    0.0000    0.0000 C   0  0  0  0  0  0  0  0  0  0  0  0\n",
      "   -0.0000   -1.0607    0.0000 C   0  0  0  0  0  0  0  0  0  0  0  0\n",
      "   -1.0607    0.0000    0.0000 C   0  0  0  0  0  0  0  0  0  0  0  0\n",
      "    0.0000    1.0607    0.0000 C   0  0  0  0  0  0  0  0  0  0  0  0\n",
      "    2.1213    1.0607    0.0000 H   0  0  0  0  0  0  0  0  0  0  0  0\n",
      "    2.1213   -1.0607    0.0000 H   0  0  0  0  0  0  0  0  0  0  0  0\n",
      "    1.0607   -2.1213    0.0000 H   0  0  0  0  0  0  0  0  0  0  0  0\n",
      "   -1.0607   -2.1213    0.0000 H   0  0  0  0  0  0  0  0  0  0  0  0\n",
      "   -2.1213   -1.0607    0.0000 H   0  0  0  0  0  0  0  0  0  0  0  0\n",
      "   -2.1213    1.0607    0.0000 H   0  0  0  0  0  0  0  0  0  0  0  0\n",
      "   -1.0607    2.1213    0.0000 H   0  0  0  0  0  0  0  0  0  0  0  0\n",
      "    1.0607    2.1213    0.0000 H   0  0  0  0  0  0  0  0  0  0  0  0\n",
      "  1  2  1  0\n",
      "  2  3  1  0\n",
      "  3  4  1  0\n",
      "  4  1  1  0\n",
      "  1  5  1  0\n",
      "  1  6  1  0\n",
      "  2  7  1  0\n",
      "  2  8  1  0\n",
      "  3  9  1  0\n",
      "  3 10  1  0\n",
      "  4 11  1  0\n",
      "  4 12  1  0\n",
      "M  END\n",
      "\n"
     ]
    },
    {
     "data": {
      "image/png": "[encoded data removed]",
      "text/plain": [
       "<rdkit.Chem.rdchem.Mol at 0x15119de62580>"
      ]
     },
     "execution_count": 62,
     "metadata": {},
     "output_type": "execute_result"
    }
   ],
   "source": [
    "cyclobutaneH = Chem.AddHs(cyclobutane)\n",
    "print(Chem.MolToMolBlock(cyclobutaneH))\n",
    "cyclobutaneH"
   ]
  },
  {
   "cell_type": "code",
   "execution_count": 63,
   "id": "7f55d3d8-859c-44d8-8e3c-082ce24b6756",
   "metadata": {},
   "outputs": [
    {
     "data": {
      "application/vnd.jupyter.widget-view+json": {
       "model_id": "ae6ecafa21ac4b8ba38b739d35fffbf9",
       "version_major": 2,
       "version_minor": 0
      },
      "text/plain": [
       "JsmolView(layout=Layout(height='300px', width='300px'))"
      ]
     },
     "metadata": {},
     "output_type": "display_data"
    }
   ],
   "source": [
    "JSMol = JsmolView(\n",
    "    layout=Layout(height=\"300px\", width=\"300px\"), \n",
    "    info={'color':'#e2e2e2'}\n",
    ")\n",
    "display(JSMol)\n",
    "JSMol.load_str(str(Chem.MolToMolBlock(cyclobutaneH)))"
   ]
  },
  {
   "cell_type": "markdown",
   "id": "8aa2214d-4adb-437d-8a58-f5e234afa99d",
   "metadata": {},
   "source": [
    "<div class=\"rq\">\n",
    "    \n",
    "Cyclobutane is planar! It must be cleaned.\n",
    "    \n",
    "</div>"
   ]
  },
  {
   "cell_type": "markdown",
   "id": "aaeafd16-c79d-48ee-b5ab-a7dea8a0da2d",
   "metadata": {},
   "source": [
    "<div class=\"intro\">\n",
    "\n",
    "Cleaning of the structure, using the so-called ETKDG method. **This is not a geometry optimization based on the minimzation of the energy of the molecule!**\n",
    "</div>"
   ]
  },
  {
   "cell_type": "code",
   "execution_count": 64,
   "id": "9fe26591-7676-4ace-8f80-ca785d4444b1",
   "metadata": {},
   "outputs": [
    {
     "data": {
      "text/plain": [
       "0"
      ]
     },
     "execution_count": 64,
     "metadata": {},
     "output_type": "execute_result"
    },
    {
     "name": "stdout",
     "output_type": "stream",
     "text": [
      "\n",
      "     RDKit          3D\n",
      "\n",
      " 12 12  0  0  0  0  0  0  0  0999 V2000\n",
      "   -0.9114   -0.5250   -0.1239 C   0  0  0  0  0  0  0  0  0  0  0  0\n",
      "    0.2240   -0.5610    0.8810 C   0  0  0  0  0  0  0  0  0  0  0  0\n",
      "    1.0216    0.2730   -0.1291 C   0  0  0  0  0  0  0  0  0  0  0  0\n",
      "   -0.3416    0.8025   -0.5943 C   0  0  0  0  0  0  0  0  0  0  0  0\n",
      "   -0.7624   -1.2743   -0.9473 H   0  0  0  0  0  0  0  0  0  0  0  0\n",
      "   -1.9188   -0.5023    0.2807 H   0  0  0  0  0  0  0  0  0  0  0  0\n",
      "    0.6410   -1.5382    1.1087 H   0  0  0  0  0  0  0  0  0  0  0  0\n",
      "   -0.0634    0.0602    1.7653 H   0  0  0  0  0  0  0  0  0  0  0  0\n",
      "    1.4721   -0.3620   -0.9023 H   0  0  0  0  0  0  0  0  0  0  0  0\n",
      "    1.6713    1.0223    0.3311 H   0  0  0  0  0  0  0  0  0  0  0  0\n",
      "   -0.5985    1.6745    0.0102 H   0  0  0  0  0  0  0  0  0  0  0  0\n",
      "   -0.4339    0.9302   -1.6802 H   0  0  0  0  0  0  0  0  0  0  0  0\n",
      "  1  2  1  0\n",
      "  2  3  1  0\n",
      "  3  4  1  0\n",
      "  4  1  1  0\n",
      "  1  5  1  0\n",
      "  1  6  1  0\n",
      "  2  7  1  0\n",
      "  2  8  1  0\n",
      "  3  9  1  0\n",
      "  3 10  1  0\n",
      "  4 11  1  0\n",
      "  4 12  1  0\n",
      "M  END\n",
      "\n"
     ]
    },
    {
     "data": {
      "image/png": "[encoded data removed]",
      "text/plain": [
       "<rdkit.Chem.rdchem.Mol at 0x15119de62580>"
      ]
     },
     "execution_count": 64,
     "metadata": {},
     "output_type": "execute_result"
    }
   ],
   "source": [
    "AllChem.EmbedMolecule(cyclobutaneH)\n",
    "print(Chem.MolToMolBlock(cyclobutaneH))\n",
    "cyclobutaneH"
   ]
  },
  {
   "cell_type": "code",
   "execution_count": 65,
   "id": "e4977487-9f21-4b9b-b773-e60cec56aee7",
   "metadata": {},
   "outputs": [
    {
     "data": {
      "application/vnd.jupyter.widget-view+json": {
       "model_id": "cffb1ca860ce460dbe836ae191c66326",
       "version_major": 2,
       "version_minor": 0
      },
      "text/plain": [
       "JsmolView(layout=Layout(height='300px', width='300px'))"
      ]
     },
     "metadata": {},
     "output_type": "display_data"
    }
   ],
   "source": [
    "JSMol = JsmolView(\n",
    "    layout=Layout(height=\"300px\", width=\"300px\"), \n",
    "    info={'color':'#e2e2e2'}\n",
    ")\n",
    "display(JSMol)\n",
    "JSMol.load_str(str(Chem.MolToMolBlock(cyclobutaneH)))"
   ]
  },
  {
   "cell_type": "markdown",
   "id": "31bcf1a9-2d28-4f01-a7d3-6d648674300e",
   "metadata": {},
   "source": [
    "<div class=\"rq\">\n",
    "    \n",
    "That's much better. In summary, it is possible, starting from a 2D SMILES coding, to end-up with a plausible 3D structure candidate.\n",
    "    \n",
    "</div>"
   ]
  },
  {
   "cell_type": "markdown",
   "id": "0630cff1-c5a3-44a8-9660-201c82fc62df",
   "metadata": {},
   "source": [
    "<div class=\"exE\">\n",
    "\n",
    "Do the same to propose a possible 3D geometry for vitamin C. Print the mol3D coding and display it with JSMol\n",
    "</div>"
   ]
  },
  {
   "cell_type": "code",
   "execution_count": 88,
   "id": "29f392d3-f2b0-4429-80ba-7523c68b4c87",
   "metadata": {},
   "outputs": [
    {
     "data": {
      "image/png": "[encoded data removed]",
      "text/plain": [
       "<rdkit.Chem.rdchem.Mol at 0x15119dd7c660>"
      ]
     },
     "execution_count": 88,
     "metadata": {},
     "output_type": "execute_result"
    },
    {
     "data": {
      "text/plain": [
       "0"
      ]
     },
     "execution_count": 88,
     "metadata": {},
     "output_type": "execute_result"
    },
    {
     "data": {
      "image/png": "[encoded data removed]",
      "text/plain": [
       "<rdkit.Chem.rdchem.Mol at 0x15119dd7c660>"
      ]
     },
     "execution_count": 88,
     "metadata": {},
     "output_type": "execute_result"
    },
    {
     "name": "stdout",
     "output_type": "stream",
     "text": [
      "\n",
      "     RDKit          3D\n",
      "\n",
      " 20 20  0  0  0  0  0  0  0  0999 V2000\n",
      "    2.8322   -0.7040   -0.2852 O   0  0  0  0  0  0  0  0  0  0  0  0\n",
      "    2.3702    0.5776   -0.2135 C   0  0  0  0  0  0  0  0  0  0  0  0\n",
      "    0.9509    0.7114    0.2540 C   0  0  2  0  0  0  0  0  0  0  0  0\n",
      "    0.7160    0.2083    1.5077 O   0  0  0  0  0  0  0  0  0  0  0  0\n",
      "   -0.0443    0.1230   -0.7182 C   0  0  2  0  0  0  0  0  0  0  0  0\n",
      "   -1.3928    0.3881   -0.1662 C   0  0  0  0  0  0  0  0  0  0  0  0\n",
      "   -1.9672    1.6435    0.1098 O   0  0  0  0  0  0  0  0  0  0  0  0\n",
      "   -2.0273   -0.7450    0.0485 C   0  0  0  0  0  0  0  0  0  0  0  0\n",
      "   -3.3149   -0.8479    0.5629 O   0  0  0  0  0  0  0  0  0  0  0  0\n",
      "   -1.1495   -1.8169   -0.3430 C   0  0  0  0  0  0  0  0  0  0  0  0\n",
      "   -1.4537   -3.0574   -0.2650 O   0  0  0  0  0  0  0  0  0  0  0  0\n",
      "    0.0300   -1.2679   -0.7979 O   0  0  0  0  0  0  0  0  0  0  0  0\n",
      "    2.4242   -1.3464    0.3121 H   0  0  0  0  0  0  0  0  0  0  0  0\n",
      "    3.0057    1.1372    0.5044 H   0  0  0  0  0  0  0  0  0  0  0  0\n",
      "    2.4562    1.1161   -1.1819 H   0  0  0  0  0  0  0  0  0  0  0  0\n",
      "    0.7326    1.8159    0.2928 H   0  0  0  0  0  0  0  0  0  0  0  0\n",
      "    1.2656   -0.5387    1.7842 H   0  0  0  0  0  0  0  0  0  0  0  0\n",
      "    0.0024    0.6159   -1.7127 H   0  0  0  0  0  0  0  0  0  0  0  0\n",
      "   -1.3191    2.3953    0.2707 H   0  0  0  0  0  0  0  0  0  0  0  0\n",
      "   -4.1171   -0.4080    0.1520 H   0  0  0  0  0  0  0  0  0  0  0  0\n",
      "  1  2  1  0\n",
      "  2  3  1  0\n",
      "  3  4  1  0\n",
      "  3  5  1  0\n",
      "  5  6  1  0\n",
      "  6  7  1  0\n",
      "  6  8  2  0\n",
      "  8  9  1  0\n",
      "  8 10  1  0\n",
      " 10 11  2  0\n",
      " 10 12  1  0\n",
      " 12  5  1  0\n",
      "  1 13  1  0\n",
      "  2 14  1  0\n",
      "  2 15  1  0\n",
      "  3 16  1  1\n",
      "  4 17  1  0\n",
      "  5 18  1  6\n",
      "  7 19  1  0\n",
      "  9 20  1  0\n",
      "M  END\n",
      "\n"
     ]
    },
    {
     "data": {
      "application/vnd.jupyter.widget-view+json": {
       "model_id": "1f45f27f3d9d4f668942d3e23522a294",
       "version_major": 2,
       "version_minor": 0
      },
      "text/plain": [
       "JsmolView(layout=Layout(height='300px', width='300px'))"
      ]
     },
     "metadata": {},
     "output_type": "display_data"
    }
   ],
   "source": [
    "VC = Chem.AddHs(VC)\n",
    "VC\n",
    "\n",
    "AllChem.EmbedMolecule(VC)\n",
    "VC\n",
    "\n",
    "print(Chem.MolToMolBlock(VC))\n",
    "\n",
    "JSMol = JsmolView(\n",
    "    layout=Layout(height=\"300px\", width=\"300px\"), \n",
    "    info={'color':'#e2e2e2'}\n",
    ")\n",
    "display(JSMol)\n",
    "JSMol.load_str(str(Chem.MolToMolBlock(VC)))\n"
   ]
  },
  {
   "cell_type": "markdown",
   "id": "c7234348-aa02-4865-ba82-d435534795dd",
   "metadata": {},
   "source": [
    "<div class=\"sol\">\n",
    "\n",
    "Want to see a possible answer? Uncomment the `# %load ./SolutionsToExercises/...` command below\n",
    "\n",
    "</div>"
   ]
  },
  {
   "cell_type": "code",
   "execution_count": 86,
   "id": "42119120-912a-4675-a5c6-55e1cc8d7320",
   "metadata": {},
   "outputs": [
    {
     "data": {
      "image/png": "[encoded data removed]",
      "text/plain": [
       "<rdkit.Chem.rdchem.Mol at 0x15119dd7c350>"
      ]
     },
     "execution_count": 86,
     "metadata": {},
     "output_type": "execute_result"
    },
    {
     "data": {
      "text/plain": [
       "0"
      ]
     },
     "execution_count": 86,
     "metadata": {},
     "output_type": "execute_result"
    },
    {
     "data": {
      "image/png": "[encoded data removed]",
      "text/plain": [
       "<rdkit.Chem.rdchem.Mol at 0x15119dd7c350>"
      ]
     },
     "execution_count": 86,
     "metadata": {},
     "output_type": "execute_result"
    },
    {
     "name": "stdout",
     "output_type": "stream",
     "text": [
      "\n",
      "     RDKit          3D\n",
      "\n",
      " 20 20  0  0  0  0  0  0  0  0999 V2000\n",
      "   -2.3489    0.3718    0.2041 C   0  0  0  0  0  0  0  0  0  0  0  0\n",
      "   -0.9262    0.9101    0.0849 C   0  0  1  0  0  0  0  0  0  0  0  0\n",
      "    0.0035   -0.1960    0.5333 C   0  0  2  0  0  0  0  0  0  0  0  0\n",
      "    1.4133    0.2083    0.5203 C   0  0  0  0  0  0  0  0  0  0  0  0\n",
      "    2.0875   -0.6436   -0.2211 C   0  0  0  0  0  0  0  0  0  0  0  0\n",
      "    1.1692   -1.6465   -0.7329 C   0  0  0  0  0  0  0  0  0  0  0  0\n",
      "    1.5138   -2.6150   -1.4868 O   0  0  0  0  0  0  0  0  0  0  0  0\n",
      "   -0.0746   -1.3328   -0.2499 O   0  0  0  0  0  0  0  0  0  0  0  0\n",
      "    3.4784   -0.5678   -0.4611 O   0  0  0  0  0  0  0  0  0  0  0  0\n",
      "    2.0142    1.3012    1.1623 O   0  0  0  0  0  0  0  0  0  0  0  0\n",
      "   -0.6227    1.2802   -1.1992 O   0  0  0  0  0  0  0  0  0  0  0  0\n",
      "   -2.5155   -0.7507   -0.6115 O   0  0  0  0  0  0  0  0  0  0  0  0\n",
      "   -3.0718    1.1722   -0.0541 H   0  0  0  0  0  0  0  0  0  0  0  0\n",
      "   -2.5381    0.0417    1.2454 H   0  0  0  0  0  0  0  0  0  0  0  0\n",
      "   -0.8419    1.7791    0.7583 H   0  0  0  0  0  0  0  0  0  0  0  0\n",
      "   -0.2214   -0.5027    1.5886 H   0  0  0  0  0  0  0  0  0  0  0  0\n",
      "    4.1286   -1.1744    0.0130 H   0  0  0  0  0  0  0  0  0  0  0  0\n",
      "    1.7990    2.2327    0.7793 H   0  0  0  0  0  0  0  0  0  0  0  0\n",
      "   -1.4183    1.5736   -1.7189 H   0  0  0  0  0  0  0  0  0  0  0  0\n",
      "   -3.0283   -1.4418   -0.1541 H   0  0  0  0  0  0  0  0  0  0  0  0\n",
      "  1  2  1  0\n",
      "  2  3  1  0\n",
      "  3  4  1  0\n",
      "  4  5  2  0\n",
      "  5  6  1  0\n",
      "  6  7  2  0\n",
      "  6  8  1  0\n",
      "  5  9  1  0\n",
      "  4 10  1  0\n",
      "  2 11  1  0\n",
      "  1 12  1  0\n",
      "  8  3  1  0\n",
      "  1 13  1  0\n",
      "  1 14  1  0\n",
      "  2 15  1  1\n",
      "  3 16  1  1\n",
      "  9 17  1  0\n",
      " 10 18  1  0\n",
      " 11 19  1  0\n",
      " 12 20  1  0\n",
      "M  END\n",
      "\n"
     ]
    },
    {
     "data": {
      "application/vnd.jupyter.widget-view+json": {
       "model_id": "82ca4d30682e4835b5355b100b2db984",
       "version_major": 2,
       "version_minor": 0
      },
      "text/plain": [
       "JsmolView(layout=Layout(height='300px', width='300px'))"
      ]
     },
     "metadata": {},
     "output_type": "display_data"
    }
   ],
   "source": [
    "# %load ./SolutionsToExercises/ML/ascorbic3D.py\n",
    "\n",
    "# add explicit H atoms\n",
    "ascorbicIsoH = Chem.AddHs(ascorbicIso)\n",
    "ascorbicIsoH\n",
    "\n",
    "# ETKDG method applied to clean the molecule\n",
    "AllChem.EmbedMolecule(ascorbicIsoH)\n",
    "ascorbicIsoH\n",
    "\n",
    "# print the mol3D code\n",
    "print(Chem.MolToMolBlock(ascorbicIsoH))\n",
    "\n",
    "# visualize the 3D representation of vitamin C with JSMol\n",
    "JSMol = JsmolView(\n",
    "    layout=Layout(height=\"300px\", width=\"300px\"), \n",
    "    info={'color':'#e2e2e2'}\n",
    ")\n",
    "display(JSMol)\n",
    "JSMol.load_str(str(Chem.MolToMolBlock(ascorbicIsoH)))"
   ]
  },
  {
   "cell_type": "markdown",
   "id": "e4d471c1-ced4-44a7-8877-1a2f6580a71e",
   "metadata": {
    "tags": []
   },
   "source": [
    "### Playing with an RDKit Mol Object\n",
    "\n",
    "<div class=\"intro\">\n",
    "\n",
    "An  `RDKit Mol` object is actually a graph representing the molecule. In this graph, vertices represents the atoms and edges the bonds in the molecule. Therefore, atoms and bonds can be retrieved from this object\n",
    "\n",
    "</div>"
   ]
  },
  {
   "cell_type": "code",
   "execution_count": 68,
   "id": "5e084514-fa28-4bea-b21b-6161c9fbdeaf",
   "metadata": {},
   "outputs": [
    {
     "name": "stdout",
     "output_type": "stream",
     "text": [
      "Number of atoms: 8\n",
      "Number of bonds: 8\n",
      "\n",
      "Atom   0:   6  C SP3\n",
      "Atom   1:   8  O SP2\n",
      "Atom   2:   6  C SP2\n",
      "Atom   3:   6  C SP2\n",
      "Atom   4:   6  C SP2\n",
      "Atom   5:   6  C SP2\n",
      "Atom   6:   6  C SP2\n",
      "Atom   7:   6  C SP2\n"
     ]
    }
   ],
   "source": [
    "#Get total number of atoms\n",
    "n_atoms = anisoleCan.GetNumAtoms()\n",
    "print(f'Number of atoms: {n_atoms}')\n",
    "#Get total number of sigma bonds, i.e. the sigma skeleton of the molecule\n",
    "n_bonds = anisoleCan.GetNumBonds()\n",
    "print(f'Number of bonds: {n_bonds}')\n",
    "print()\n",
    "\n",
    "#create a list containing the atoms of the molecule\n",
    "atoms = list(anisoleCan.GetAtoms())\n",
    "#print the atomic number, atomicsymbol and hybridization for each atom in the molecule\n",
    "for i,atom in enumerate(atoms):\n",
    "    print(f\"Atom {i:3}: {atom.GetAtomicNum():3} {atom.GetSymbol():>2} {atom.GetHybridization()}\")"
   ]
  },
  {
   "cell_type": "code",
   "execution_count": 69,
   "id": "f4a7b4aa-9107-4fe2-9456-25802e296c0e",
   "metadata": {},
   "outputs": [
    {
     "name": "stdout",
     "output_type": "stream",
     "text": [
      "Bond   0:   0( C)-1( O), SINGLE \n",
      "Bond   1:   1( O)-2( C), SINGLE \n",
      "Bond   2:   2( C)-3( C), AROMATIC \n",
      "Bond   3:   3( C)-4( C), AROMATIC \n",
      "Bond   4:   4( C)-5( C), AROMATIC \n",
      "Bond   5:   5( C)-6( C), AROMATIC \n",
      "Bond   6:   6( C)-7( C), AROMATIC \n",
      "Bond   7:   7( C)-2( C), AROMATIC \n"
     ]
    }
   ],
   "source": [
    "#create a list containing the bonds in the molecule\n",
    "bonds = list(anisoleCan.GetBonds())\n",
    "for i,bond in enumerate(bonds):\n",
    "    print(f\"Bond {i:3}: {bond.GetBeginAtomIdx():3}({bond.GetBeginAtom().GetSymbol():>2})-{bond.GetEndAtomIdx()}({bond.GetEndAtom().GetSymbol():>2}), {bond.GetBondType()} \")"
   ]
  },
  {
   "cell_type": "markdown",
   "id": "5219a3c4-0c9f-4d06-b661-db1acadbb58b",
   "metadata": {},
   "source": [
    "### Substructure search and highlight\n",
    "\n",
    "<div class=\"intro\">\n",
    "\n",
    "Atoms in a molecule can be highlighted by drawing a coloured solid or open circle around them, and bonds likewise can have a coloured outline applied. An obvious use is to show atoms and bonds that have matched a substructure query. The process in RDKit is based on [SMILES arbitrary target specification (SMARTS)](https://en.wikipedia.org/wiki/SMILES_arbitrary_target_specification), a language for describing molecular pattern.\n",
    "    \n",
    "Substructure searching, the process of finding a particular pattern (subgraph) in a molecule (graph), is one of the most important tasks for computers in chemistry. It is used in virtually every application that employs a digital representation of a molecule, including depiction (to highlight a particular functional group), drug design (searching a database for similar structures and activity), analytical chemistry (looking for previously-characterized structures and comparing their data to that of an unknown), and a host of other problems.\n",
    "\n",
    "SMARTS is a language that allows you to specify substructures using rules that are straightforward extensions of SMILES. For example, to search a database for phenol-containing structures, one would use the SMARTS string [OH]c1ccccc1 ([introduction copied from daylight.com](https://www.daylight.com/dayhtml/doc/theory/theory.smarts.html))\n",
    "\n",
    "</div>"
   ]
  },
  {
   "cell_type": "code",
   "execution_count": 70,
   "id": "feb6158b-cb08-4042-b2fa-58f5fef36bef",
   "metadata": {},
   "outputs": [
    {
     "data": {
      "image/png": "[encoded data removed]",
      "text/plain": [
       "<rdkit.Chem.rdchem.Mol at 0x1511a1d5fc80>"
      ]
     },
     "execution_count": 70,
     "metadata": {},
     "output_type": "execute_result"
    },
    {
     "data": {
      "text/plain": [
       "True"
      ]
     },
     "execution_count": 70,
     "metadata": {},
     "output_type": "execute_result"
    },
    {
     "name": "stdout",
     "output_type": "stream",
     "text": [
      "((2,), (3,), (4,), (5,), (6,), (7,))\n"
     ]
    },
    {
     "data": {
      "image/png": "[encoded data removed]",
      "text/plain": [
       "<rdkit.Chem.rdchem.Mol at 0x15119de62190>"
      ]
     },
     "execution_count": 70,
     "metadata": {},
     "output_type": "execute_result"
    }
   ],
   "source": [
    "substructure = Chem.MolFromSmarts('c') #aromatic carbons\n",
    "substructure\n",
    "anisoleCan.HasSubstructMatch(substructure)\n",
    "m = anisoleCan.GetSubstructMatches(substructure)\n",
    "print(m)\n",
    "anisoleCan"
   ]
  },
  {
   "cell_type": "code",
   "execution_count": 89,
   "id": "9e8d28f1-1fa9-485d-a8d1-ca777561fcd3",
   "metadata": {},
   "outputs": [
    {
     "data": {
      "image/png": "[encoded data removed]",
      "text/plain": [
       "<rdkit.Chem.rdchem.Mol at 0x1511a1d5fba0>"
      ]
     },
     "execution_count": 89,
     "metadata": {},
     "output_type": "execute_result"
    },
    {
     "data": {
      "text/plain": [
       "True"
      ]
     },
     "execution_count": 89,
     "metadata": {},
     "output_type": "execute_result"
    },
    {
     "name": "stdout",
     "output_type": "stream",
     "text": [
      "((0, 1),)\n"
     ]
    },
    {
     "data": {
      "image/png": "[encoded data removed]",
      "text/plain": [
       "<rdkit.Chem.rdchem.Mol at 0x15119de62190>"
      ]
     },
     "execution_count": 89,
     "metadata": {},
     "output_type": "execute_result"
    }
   ],
   "source": [
    "substructure = Chem.MolFromSmarts('CO')  #CO, where is C is not aromatic\n",
    "substructure\n",
    "anisoleCan.HasSubstructMatch(substructure)\n",
    "m = anisoleCan.GetSubstructMatches(substructure)\n",
    "print(m)\n",
    "anisoleCan"
   ]
  },
  {
   "cell_type": "code",
   "execution_count": 72,
   "id": "e3220fc5-64e2-4e0a-8b21-9f27e468ffbc",
   "metadata": {},
   "outputs": [
    {
     "data": {
      "image/png": "[encoded data removed]",
      "text/plain": [
       "<rdkit.Chem.rdchem.Mol at 0x1511a1d5fdd0>"
      ]
     },
     "execution_count": 72,
     "metadata": {},
     "output_type": "execute_result"
    },
    {
     "data": {
      "text/plain": [
       "True"
      ]
     },
     "execution_count": 72,
     "metadata": {},
     "output_type": "execute_result"
    },
    {
     "name": "stdout",
     "output_type": "stream",
     "text": [
      "((2, 1),)\n"
     ]
    },
    {
     "data": {
      "image/png": "[encoded data removed]",
      "text/plain": [
       "<rdkit.Chem.rdchem.Mol at 0x15119de62190>"
      ]
     },
     "execution_count": 72,
     "metadata": {},
     "output_type": "execute_result"
    }
   ],
   "source": [
    "substructure = Chem.MolFromSmarts('cO')  #CO, where is C is aromatic\n",
    "substructure\n",
    "anisoleCan.HasSubstructMatch(substructure)\n",
    "m = anisoleCan.GetSubstructMatches(substructure)\n",
    "print(m)\n",
    "anisoleCan"
   ]
  },
  {
   "cell_type": "code",
   "execution_count": 73,
   "id": "41bd706c-f536-4d4e-9e3d-41f622791700",
   "metadata": {},
   "outputs": [
    {
     "data": {
      "image/png": "[encoded data removed]",
      "text/plain": [
       "<rdkit.Chem.rdchem.Mol at 0x1511a1d78040>"
      ]
     },
     "execution_count": 73,
     "metadata": {},
     "output_type": "execute_result"
    },
    {
     "data": {
      "text/plain": [
       "True"
      ]
     },
     "execution_count": 73,
     "metadata": {},
     "output_type": "execute_result"
    },
    {
     "name": "stdout",
     "output_type": "stream",
     "text": [
      "((0, 1), (2, 1))\n"
     ]
    },
    {
     "data": {
      "image/png": "[encoded data removed]",
      "text/plain": [
       "<rdkit.Chem.rdchem.Mol at 0x15119de62190>"
      ]
     },
     "execution_count": 73,
     "metadata": {},
     "output_type": "execute_result"
    }
   ],
   "source": [
    "substructure = Chem.MolFromSmarts('[C,c]O')  #CO, where is C is aromatic or not\n",
    "substructure\n",
    "anisoleCan.HasSubstructMatch(substructure)\n",
    "m = anisoleCan.GetSubstructMatches(substructure)\n",
    "print(m)\n",
    "anisoleCan"
   ]
  },
  {
   "cell_type": "markdown",
   "id": "07f6c7c0-7c99-4b0e-98e1-47ad88b490e2",
   "metadata": {},
   "source": [
    "### Fingerprints\n",
    "\n",
    "\n",
    "<div class=\"intro\">\n",
    "\n",
    "ML algorithms usually take vectors as inputs and operate with them. 3D or 2D descriptors must be put into a vector form, without loosing their meaning. It is the case with molecules. How can we transform them into numbers to feed our ML algorithms?\n",
    "\n",
    "One common option is using molecular fingerprints. We will use here the so-called Morgan Fingerprint, that describes molecules as bit arrays (arrays of 1s and 0s).\n",
    "    \n",
    "The bits correspond to the circular environments of each atom in a molecule. The number of neighboring bonds and atoms to consider is set by the radius\n",
    "    \n",
    "</div>"
   ]
  },
  {
   "cell_type": "code",
   "execution_count": 74,
   "id": "2a78d92e-db62-4c0f-8e85-cd678b762974",
   "metadata": {},
   "outputs": [
    {
     "name": "stdout",
     "output_type": "stream",
     "text": [
      "2048\n",
      "[0, 0, 0, 0, 0, 0, 0, 0, 0, 0, 0, 0, 0, 0, 0, 0, 0, 0, 0, 0, 0, 0, 0, 0, 0, 0, 0, 0, 0, 0, 0, 0, 0, 0, 0, 0, 0, 0, 0, 0, 0, 0, 0, 0, 0, 0, 0, 0, 0, 0, 0, 0, 0, 0, 0, 0, 0, 0, 0, 0, 0, 0, 0, 0, 0, 0, 0, 0, 0, 0, 0, 0, 0, 0, 0, 0, 0, 0, 0, 0, 0, 0, 0, 0, 0, 0, 0, 0, 0, 0, 0, 0, 0, 0, 0, 0, 0, 0, 0, 0, 0, 0, 0, 0, 0, 0, 0, 0, 0, 0, 0, 0, 0, 0, 0, 0, 0, 0, 0, 0, 0, 0, 0, 0, 0, 0, 0, 0, 0, 0, 0, 0, 0, 0, 0, 0, 0, 0, 0, 0, 0, 0, 0, 0, 0, 0, 0, 0, 0, 0, 0, 0, 0, 0, 0, 0, 0, 0, 0, 0, 0, 0, 0, 0, 0, 0, 0, 0, 0, 0, 0, 0, 0, 0, 0, 0, 0, 0, 0, 0, 0, 0, 0, 0, 0, 0, 0, 0, 0, 0, 0, 0, 0, 0, 0, 0, 0, 0, 0, 0, 0, 0, 0, 0, 0, 0, 0, 0, 0, 0, 0, 0, 0, 0, 0, 0, 0, 0, 0, 0, 0, 0, 0, 0, 0, 0, 0, 0, 0, 0, 0, 0, 0, 0, 0, 0, 0, 0, 0, 0, 0, 0, 0, 0, 0, 0, 0, 0, 0, 0, 0, 0, 0, 0, 0, 0, 0, 0, 0, 0, 0, 0, 0, 0, 0, 0, 0, 0, 0, 0, 0, 0, 0, 0, 0, 0, 0, 0, 0, 0, 0, 0, 0, 0, 0, 0, 0, 0, 0, 0, 0, 0, 0, 0, 0, 0, 0, 0, 0, 0, 0, 0, 0, 0, 0, 0, 0, 0, 0, 0, 0, 0, 0, 0, 0, 0, 0, 0, 0, 0, 0, 0, 1, 0, 0, 0, 0, 0, 0, 0, 0, 0, 0, 0, 0, 0, 0, 0, 0, 0, 0, 0, 0, 0, 0, 0, 0, 0, 0, 0, 0, 0, 0, 0, 0, 0, 0, 0, 0, 0, 0, 0, 0, 0, 0, 0, 0, 0, 0, 0, 0, 0, 0, 0, 0, 0, 0, 0, 0, 0, 0, 0, 0, 0, 0, 0, 0, 0, 0, 1, 0, 0, 0, 0, 0, 0, 0, 0, 0, 0, 0, 0, 0, 0, 0, 0, 0, 0, 0, 0, 0, 0, 0, 0, 0, 0, 0, 0, 0, 0, 0, 0, 0, 0, 0, 0, 0, 0, 0, 0, 0, 0, 0, 0, 0, 0, 0, 0, 0, 0, 0, 0, 0, 0, 0, 0, 0, 0, 0, 0, 0, 0, 0, 0, 0, 0, 0, 0, 0, 0, 0, 0, 0, 0, 0, 0, 0, 0, 0, 0, 0, 0, 0, 0, 0, 0, 0, 0, 0, 0, 0, 0, 0, 0, 0, 0, 0, 0, 0, 0, 0, 0, 0, 0, 0, 0, 0, 0, 0, 0, 0, 0, 0, 0, 0, 0, 0, 0, 0, 0, 0, 0, 0, 0, 0, 0, 0, 0, 0, 0, 0, 0, 0, 0, 0, 0, 0, 0, 0, 0, 0, 0, 0, 0, 0, 0, 0, 0, 0, 0, 0, 0, 0, 0, 0, 0, 0, 0, 0, 0, 0, 0, 0, 0, 0, 0, 0, 0, 0, 0, 0, 0, 1, 0, 0, 0, 0, 0, 0, 0, 0, 0, 0, 0, 0, 0, 0, 0, 0, 0, 0, 0, 0, 0, 0, 0, 0, 0, 0, 0, 0, 0, 0, 0, 0, 0, 0, 0, 0, 0, 0, 0, 0, 0, 0, 0, 0, 0, 0, 0, 0, 0, 0, 0, 0, 0, 0, 0, 0, 0, 0, 0, 0, 0, 0, 0, 0, 0, 0, 0, 0, 0, 0, 0, 0, 0, 0, 0, 0, 0, 0, 0, 0, 0, 0, 0, 0, 0, 0, 0, 0, 0, 0, 0, 0, 0, 0, 0, 0, 0, 0, 0, 0, 0, 0, 0, 0, 0, 0, 0, 0, 0, 0, 0, 0, 0, 0, 0, 0, 0, 0, 0, 0, 0, 0, 0, 0, 0, 0, 0, 0, 0, 0, 0, 0, 1, 0, 0, 0, 0, 0, 0, 0, 0, 0, 0, 0, 0, 0, 0, 0, 0, 0, 0, 0, 0, 0, 0, 0, 0, 0, 0, 0, 0, 0, 0, 0, 0, 0, 0, 0, 0, 0, 0, 0, 0, 0, 0, 0, 0, 0, 0, 0, 0, 0, 0, 0, 0, 0, 0, 0, 0, 0, 0, 0, 0, 0, 0, 0, 0, 0, 0, 0, 0, 0, 0, 0, 0, 0, 0, 0, 0, 0, 0, 0, 0, 0, 0, 0, 0, 0, 1, 0, 0, 0, 0, 0, 0, 0, 0, 0, 0, 0, 0, 0, 0, 0, 0, 0, 0, 0, 0, 0, 0, 0, 0, 0, 0, 0, 0, 0, 0, 0, 0, 0, 0, 0, 0, 0, 0, 0, 0, 0, 0, 0, 0, 0, 0, 0, 0, 0, 1, 0, 0, 0, 0, 0, 0, 0, 0, 0, 1, 0, 0, 0, 0, 0, 0, 0, 0, 0, 0, 0, 0, 0, 0, 0, 0, 0, 0, 0, 0, 0, 0, 0, 0, 0, 0, 0, 0, 0, 0, 0, 0, 0, 0, 0, 0, 0, 0, 0, 0, 0, 0, 0, 0, 0, 0, 0, 0, 0, 0, 0, 0, 0, 0, 0, 0, 0, 0, 0, 0, 0, 0, 0, 0, 0, 0, 0, 0, 0, 0, 0, 0, 0, 0, 0, 0, 0, 0, 0, 0, 0, 0, 0, 0, 0, 0, 0, 0, 0, 0, 0, 0, 0, 0, 0, 0, 0, 0, 0, 0, 0, 0, 0, 0, 0, 0, 0, 0, 0, 0, 0, 0, 0, 0, 0, 0, 0, 0, 0, 0, 0, 0, 0, 0, 0, 0, 0, 0, 0, 0, 0, 0, 0, 0, 0, 0, 0, 0, 0, 0, 0, 0, 0, 0, 0, 0, 0, 0, 0, 0, 0, 0, 0, 0, 0, 0, 0, 0, 0, 0, 0, 0, 0, 0, 0, 0, 0, 0, 0, 0, 0, 0, 0, 0, 0, 0, 0, 0, 0, 0, 0, 0, 0, 0, 0, 0, 0, 0, 0, 0, 0, 0, 0, 0, 0, 0, 0, 0, 0, 0, 0, 0, 0, 0, 0, 0, 0, 0, 0, 0, 0, 0, 0, 0, 0, 1, 0, 0, 0, 0, 0, 0, 0, 0, 0, 0, 0, 0, 0, 0, 0, 0, 0, 0, 0, 0, 0, 0, 0, 0, 0, 0, 0, 0, 0, 0, 1, 0, 0, 0, 0, 0, 0, 0, 0, 0, 0, 0, 0, 0, 0, 0, 0, 0, 0, 0, 0, 0, 0, 0, 0, 0, 0, 0, 0, 0, 0, 0, 0, 0, 0, 0, 0, 0, 0, 0, 0, 0, 0, 0, 0, 0, 0, 0, 0, 0, 0, 0, 0, 0, 0, 0, 0, 0, 0, 0, 0, 0, 0, 0, 0, 0, 0, 0, 0, 0, 0, 0, 0, 0, 0, 0, 0, 0, 0, 0, 0, 0, 0, 0, 0, 0, 0, 0, 0, 0, 0, 0, 0, 0, 0, 0, 0, 0, 0, 0, 0, 0, 0, 0, 0, 0, 0, 0, 0, 0, 0, 1, 0, 0, 0, 0, 0, 0, 0, 0, 0, 0, 0, 0, 0, 0, 0, 0, 0, 0, 0, 0, 0, 0, 0, 0, 0, 0, 0, 0, 0, 0, 0, 0, 0, 0, 0, 0, 0, 0, 0, 0, 0, 0, 0, 0, 0, 0, 0, 0, 0, 0, 0, 0, 0, 0, 0, 0, 0, 0, 0, 0, 0, 0, 0, 0, 0, 0, 0, 0, 0, 0, 0, 0, 0, 0, 0, 0, 0, 0, 0, 0, 0, 0, 0, 0, 0, 0, 0, 0, 0, 0, 0, 0, 0, 0, 0, 0, 0, 0, 0, 0, 0, 0, 0, 0, 0, 0, 0, 0, 0, 0, 0, 0, 0, 0, 0, 0, 0, 0, 0, 0, 0, 0, 0, 0, 0, 0, 0, 0, 0, 0, 0, 0, 0, 0, 0, 0, 0, 0, 0, 0, 0, 0, 0, 0, 0, 0, 0, 0, 0, 0, 0, 0, 0, 0, 0, 0, 0, 0, 0, 0, 0, 0, 0, 0, 0, 0, 0, 0, 0, 0, 0, 0, 0, 0, 0, 0, 0, 0, 0, 0, 1, 0, 0, 0, 0, 0, 0, 0, 0, 0, 0, 0, 0, 0, 0, 0, 0, 0, 0, 0, 0, 0, 0, 0, 0, 0, 0, 0, 0, 0, 0, 0, 0, 0, 0, 0, 0, 0, 0, 0, 0, 0, 0, 0, 0, 0, 0, 0, 0, 0, 0, 0, 0, 0, 0, 0, 0, 0, 0, 0, 0, 0, 0, 0, 0, 0, 0, 0, 0, 0, 0, 0, 0, 0, 0, 0, 0, 0, 0, 0, 0, 0, 0, 0, 0, 0, 0, 0, 0, 0, 0, 0, 0, 0, 0, 0, 0, 0, 0, 0, 0, 0, 0, 0, 0, 0, 0, 0, 0, 0, 0, 0, 0, 0, 0, 0, 0, 0, 0, 0, 0, 0, 0, 0, 0, 0, 0, 0, 0, 0, 0, 0, 0, 0, 0, 0, 0, 0, 0, 0, 0, 0, 0, 0, 0, 0, 0, 0, 0, 0, 0, 0, 0, 0, 0, 0, 1, 0, 0, 0, 0, 0, 0, 0, 0, 0, 0, 0, 0, 0, 0, 0, 0, 0, 0, 0, 0, 0, 0, 0, 0, 0, 0, 0, 0, 0, 0, 0, 0, 0, 0, 0, 0, 0, 0, 0, 0, 0, 0, 0, 0, 0, 0, 0, 0, 0, 0, 0, 0, 0, 0, 0, 0, 0, 0, 0, 0, 0, 0, 0, 0, 0, 0, 0, 0, 0, 0, 0, 0, 0, 0, 0, 0, 0, 0, 0, 0, 0, 0, 0, 0, 0, 0, 0, 0, 0, 0, 0, 0, 0, 0, 0, 0, 0, 0, 0, 0, 0, 0, 0, 0, 0, 0, 0, 0, 0, 0, 0, 0, 0, 0, 0, 0, 0, 0, 0, 0, 0, 0, 0, 0, 0, 0, 0, 0, 0, 0, 0, 0, 0, 0, 0, 0, 0, 0, 0, 0, 0, 0, 0, 0, 0, 0, 0, 0, 0, 0, 0, 0, 0, 0, 0, 0, 0, 0, 0, 0, 0, 0, 0, 0, 0, 0, 0, 0, 0, 0, 0, 0, 0, 0, 0, 0, 0, 0, 0, 0, 0, 0, 0, 0, 0, 0, 0, 0, 0, 0, 0, 0, 0, 0, 0, 0, 0, 0, 0, 0, 0, 0, 0, 0, 0, 0, 0, 0, 0, 0, 0, 0, 0, 1, 0, 0, 0, 0, 0, 0, 0, 0, 0, 0, 0, 0, 0, 0, 0, 0, 0, 0, 0, 0, 0, 0, 0, 0, 0, 0, 0, 0, 0, 0, 0, 0, 0, 0, 0, 0, 0, 0, 0, 0, 0, 0, 0, 0, 0, 0, 0, 0, 0, 0, 0, 0, 0, 0, 0, 0, 0, 0, 0, 0, 0, 0, 0, 0, 0, 0, 0, 0, 0, 0, 0, 0, 0, 0, 0, 0, 0, 0, 0, 0, 0, 0, 0, 0, 0, 0, 0, 0, 0, 0, 0, 0, 0, 0, 0, 0, 0, 0, 0, 0, 0, 0, 0, 0, 0, 0, 0, 0, 0, 0, 0, 0, 0, 0, 0, 0, 0, 0, 0, 0, 0, 0, 1, 0, 0, 0, 0, 0, 0, 0, 0, 0, 0, 0, 0, 0, 0, 0, 0, 0, 0, 0, 0, 0, 0, 0, 0, 0, 0, 0, 0, 0, 0, 0, 0, 0, 0, 0, 0, 0, 0, 0, 0, 0, 0, 0, 0, 0, 0, 0, 0, 0, 0, 0, 0, 0, 0, 0, 0, 0, 0, 0, 0, 0, 0, 0, 0, 0, 0, 0, 0, 0, 0, 0, 0, 0, 0, 0, 0, 0, 0, 0, 0, 0, 0, 0, 0, 0, 0, 0, 0, 0, 0, 0, 0, 0, 0, 0, 0, 0, 0, 0, 0, 0, 0, 0, 0, 0, 0, 0, 0, 0, 0, 0, 0, 0, 0, 0, 0, 0, 0, 0, 0, 0, 0, 0, 0, 0, 0, 0, 0, 0, 0, 0, 0, 0, 0, 0, 0, 0, 0, 0, 0, 0, 0, 0, 0, 0, 0, 0, 0, 0, 0, 0, 0, 0, 0, 0, 0, 0, 0, 0, 0, 0, 0, 0, 0, 0, 0, 0, 0, 0, 0, 0, 0, 0, 0]\n"
     ]
    }
   ],
   "source": [
    "anisoleFp = AllChem.GetMorganFingerprintAsBitVect(anisoleCan, radius=2, nBits=2048) #nBits is the number of bits (length) of the fingerprint\n",
    "\n",
    "print(anisoleFp.GetNumBits()) #print vector length\n",
    "\n",
    "anisoleFPL = anisoleFp.ToList() #visualize vector as list.\n",
    "print(anisoleFPL)"
   ]
  },
  {
   "cell_type": "markdown",
   "id": "12945f3a-a14f-4bde-83d8-809759c1ac20",
   "metadata": {},
   "source": [
    "<div class=\"rq\">\n",
    "    \n",
    "A Morgan fingerprint is sparse. Let's illustrate this visually.\n",
    "    \n",
    "</div>"
   ]
  },
  {
   "cell_type": "code",
   "execution_count": null,
   "id": "8c85ef43-3830-4fe0-b82c-e3c244ce50bb",
   "metadata": {},
   "outputs": [
    {
     "data": {
      "text/plain": [
       "<Figure size 1000x100 with 0 Axes>"
      ]
     },
     "execution_count": 75,
     "metadata": {},
     "output_type": "execute_result"
    },
    {
     "data": {
      "text/plain": [
       "<matplotlib.collections.LineCollection at 0x15119de67cd0>"
      ]
     },
     "execution_count": 75,
     "metadata": {},
     "output_type": "execute_result"
    },
    {
     "data": {
      "text/plain": [
       "Text(0.5, 0, 'bit index')"
      ]
     },
     "execution_count": 75,
     "metadata": {},
     "output_type": "execute_result"
    },
    {
     "data": {
      "image/png": "[encoded data removed]",
      "text/plain": [
       "<Figure size 1000x100 with 1 Axes>"
      ]
     },
     "metadata": {},
     "output_type": "display_data"
    }
   ],
   "source": [
    "plt.figure(figsize=(10,1))\n",
    "plt.vlines(\n",
    "    [i for i, fp in enumerate(anisoleFPL) if fp > 0.5], ymin=0, ymax=1\n",
    ")\n",
    "plt.xlabel(\"bit index\")\n",
    "plt.show()"
   ]
  },
  {
   "cell_type": "markdown",
   "id": "ad6daa5a-7783-408f-8efd-b890092a82d3",
   "metadata": {},
   "source": [
    "<div class=\"rq\">\n",
    "    \n",
    "The canonicalized SMILES of anisole is now available as a 1D vector fingerprint, that can be used as an input vector in an ML framework.\n",
    "    \n",
    "</div>"
   ]
  },
  {
   "cell_type": "markdown",
   "id": "f8c393fa-e2df-4435-8353-64461c778b8c",
   "metadata": {},
   "source": [
    "<div class=\"exE\">\n",
    "\n",
    "Visualize the 2048-bits Morgan fingerprint of the canonicalized vitamin C (radius = 2Å)\n",
    "</div>"
   ]
  },
  {
   "cell_type": "code",
   "execution_count": 93,
   "id": "86afbd83-fd8b-4c25-94fa-82db3ccd6549",
   "metadata": {},
   "outputs": [
    {
     "name": "stdout",
     "output_type": "stream",
     "text": [
      "2048\n"
     ]
    },
    {
     "data": {
      "text/plain": [
       "<Figure size 1000x100 with 0 Axes>"
      ]
     },
     "execution_count": 93,
     "metadata": {},
     "output_type": "execute_result"
    },
    {
     "data": {
      "text/plain": [
       "<matplotlib.collections.LineCollection at 0x15119dcd1d60>"
      ]
     },
     "execution_count": 93,
     "metadata": {},
     "output_type": "execute_result"
    },
    {
     "data": {
      "text/plain": [
       "Text(0.5, 0, 'bit index')"
      ]
     },
     "execution_count": 93,
     "metadata": {},
     "output_type": "execute_result"
    },
    {
     "data": {
      "image/png": "[encoded data removed]",
      "text/plain": [
       "<Figure size 1000x100 with 1 Axes>"
      ]
     },
     "metadata": {},
     "output_type": "display_data"
    }
   ],
   "source": [
    "VCCan=Chem.MolToSmiles(ascorbic)\n",
    "VCCan = Chem.MolFromSmiles(VCCan)\n",
    "\n",
    "VCFp = AllChem.GetMorganFingerprintAsBitVect(VCCan, radius=2, nBits=2048) #nBits is the number of bits (length) of the fingerprint\n",
    "print(VCFp.GetNumBits()) #print vector length\n",
    "\n",
    "VCFPL = VCFp.ToList() #visualize vector as list.\n",
    "\n",
    "plt.figure(figsize=(10,1))\n",
    "plt.vlines(\n",
    "    [i for i, fp in enumerate(VCFPL) if fp > 0.5], ymin=0, ymax=1\n",
    ")\n",
    "plt.xlabel(\"bit index\")\n",
    "plt.show()"
   ]
  },
  {
   "cell_type": "markdown",
   "id": "e57826a1-6f9d-41f4-a745-fbb87087bab5",
   "metadata": {},
   "source": [
    "<div class=\"sol\">\n",
    "\n",
    "Want to see a possible answer? Uncomment the `# %load ./SolutionsToExercises/...` command below\n",
    "\n",
    "</div>"
   ]
  },
  {
   "cell_type": "code",
   "execution_count": 92,
   "id": "22b98aef-2db8-4b59-bcbb-77a076792c46",
   "metadata": {},
   "outputs": [
    {
     "data": {
      "text/plain": [
       "<Figure size 1000x100 with 0 Axes>"
      ]
     },
     "execution_count": 92,
     "metadata": {},
     "output_type": "execute_result"
    },
    {
     "data": {
      "text/plain": [
       "<matplotlib.collections.LineCollection at 0x15119dcfdd60>"
      ]
     },
     "execution_count": 92,
     "metadata": {},
     "output_type": "execute_result"
    },
    {
     "data": {
      "text/plain": [
       "Text(0.5, 0, 'bit index')"
      ]
     },
     "execution_count": 92,
     "metadata": {},
     "output_type": "execute_result"
    },
    {
     "data": {
      "image/png": "[encoded data removed]",
      "text/plain": [
       "<Figure size 1000x100 with 1 Axes>"
      ]
     },
     "metadata": {},
     "output_type": "display_data"
    }
   ],
   "source": [
    "# %load ./SolutionsToExercises/ML/ascorbicMFP.py\n",
    "\n",
    "ascorbicCan = Chem.MolToSmiles(ascorbic) #it is a string at this step\n",
    "ascorbicCan = Chem.MolFromSmiles(ascorbicCan) #converts the string as an RDKit mol object\n",
    "ascorbicFP = AllChem.GetMorganFingerprintAsBitVect(ascorbicCan, radius=2, nBits=2048)\n",
    "ascorbicFPL = ascorbicFP.ToList()\n",
    "\n",
    "plt.figure(figsize=(10,1))\n",
    "plt.vlines(\n",
    "    [i for i, fp in enumerate(ascorbicFPL) if fp > 0.5], ymin=0, ymax=1\n",
    ")\n",
    "plt.xlabel(\"bit index\")\n",
    "plt.show()"
   ]
  },
  {
   "cell_type": "markdown",
   "id": "d6ba0238-cbd6-4b2a-bbb1-4084bd2f6ce0",
   "metadata": {
    "tags": []
   },
   "source": [
    "### Reading and using molecular databases with SMILES encoding, using pandas\n",
    "\n",
    "<div class=\"intro\">\n",
    "\n",
    "*En route* toward data science and machine learning, thanks to the coupling between ```RDKit``` and ```pandas```! We will use a csv file that contains organic molecules and several data, mainly obtained from quantum chemistry calculations (DFT/B3LYP/6-31G(2df,p)). It is a small selection of the [GDB-9 134k molecules database](https://datarepository.wolframcloud.com/resources/GDB9-Database/), aiming at benchmarking existing methods, developing new methods, such as hybrid quantum mechanics/machine learning, and systematic identifying structure-property relationships ([doi: 10.1038/sdata.2014.22](https://www.nature.com/articles/sdata201422)).\n",
    "    \n",
    "Importing ```pandasTools``` enables several features that allow for using RDKit molecules as columns of a Pandas dataframe\n",
    "</div>"
   ]
  },
  {
   "cell_type": "code",
   "execution_count": 95,
   "id": "80a5fc68-f784-4362-8817-2ba26e37ee94",
   "metadata": {},
   "outputs": [],
   "source": [
    "from rdkit.Chem import PandasTools"
   ]
  },
  {
   "cell_type": "markdown",
   "id": "2c841581-e896-4893-9272-56c32974f3b3",
   "metadata": {},
   "source": [
    "#### Read the database"
   ]
  },
  {
   "cell_type": "code",
   "execution_count": 103,
   "id": "6ed18c7a-4345-4f9a-bf43-8c126a8c2a9d",
   "metadata": {},
   "outputs": [
    {
     "data": {
      "text/html": [
       "<div>\n",
       "<style scoped>\n",
       "    .dataframe tbody tr th:only-of-type {\n",
       "        vertical-align: middle;\n",
       "    }\n",
       "\n",
       "    .dataframe tbody tr th {\n",
       "        vertical-align: top;\n",
       "    }\n",
       "\n",
       "    .dataframe thead th {\n",
       "        text-align: right;\n",
       "    }\n",
       "</style>\n",
       "<table border=\"1\" class=\"dataframe\">\n",
       "  <thead>\n",
       "    <tr style=\"text-align: right;\">\n",
       "      <th></th>\n",
       "      <th>version https://git-lfs.github.com/spec/v1</th>\n",
       "    </tr>\n",
       "  </thead>\n",
       "  <tbody>\n",
       "    <tr>\n",
       "      <th>0</th>\n",
       "      <td>oid sha256:1d8b5a05d52c285c5008f2ca65212f2db27...</td>\n",
       "    </tr>\n",
       "    <tr>\n",
       "      <th>1</th>\n",
       "      <td>size 101543</td>\n",
       "    </tr>\n",
       "  </tbody>\n",
       "</table>\n",
       "</div>"
      ],
      "text/plain": [
       "          version https://git-lfs.github.com/spec/v1\n",
       "0  oid sha256:1d8b5a05d52c285c5008f2ca65212f2db27...\n",
       "1                                        size 101543"
      ]
     },
     "metadata": {},
     "output_type": "display_data"
    },
    {
     "data": {
      "text/plain": [
       "version https://git-lfs.github.com/spec/v1    2\n",
       "dtype: int64"
      ]
     },
     "execution_count": 103,
     "metadata": {},
     "output_type": "execute_result"
    },
    {
     "ename": "ValueError",
     "evalue": "Unknown format code 'f' for object of type 'str'",
     "output_type": "error",
     "traceback": [
      "\u001b[0;31m---------------------------------------------------------------------------\u001b[0m",
      "\u001b[0;31mValueError\u001b[0m                                Traceback (most recent call last)",
      "File \u001b[0;32m~/anaconda3/lib/python3.9/site-packages/IPython/core/formatters.py:344\u001b[0m, in \u001b[0;36mBaseFormatter.__call__\u001b[0;34m(self, obj)\u001b[0m\n\u001b[1;32m    342\u001b[0m     method \u001b[38;5;241m=\u001b[39m get_real_method(obj, \u001b[38;5;28mself\u001b[39m\u001b[38;5;241m.\u001b[39mprint_method)\n\u001b[1;32m    343\u001b[0m     \u001b[38;5;28;01mif\u001b[39;00m method \u001b[38;5;129;01mis\u001b[39;00m \u001b[38;5;129;01mnot\u001b[39;00m \u001b[38;5;28;01mNone\u001b[39;00m:\n\u001b[0;32m--> 344\u001b[0m         \u001b[38;5;28;01mreturn\u001b[39;00m \u001b[43mmethod\u001b[49m\u001b[43m(\u001b[49m\u001b[43m)\u001b[49m\n\u001b[1;32m    345\u001b[0m     \u001b[38;5;28;01mreturn\u001b[39;00m \u001b[38;5;28;01mNone\u001b[39;00m\n\u001b[1;32m    346\u001b[0m \u001b[38;5;28;01melse\u001b[39;00m:\n",
      "File \u001b[0;32m~/anaconda3/lib/python3.9/site-packages/pandas/io/formats/style.py:216\u001b[0m, in \u001b[0;36mStyler._repr_html_\u001b[0;34m(self)\u001b[0m\n\u001b[1;32m    212\u001b[0m \u001b[38;5;28;01mdef\u001b[39;00m \u001b[38;5;21m_repr_html_\u001b[39m(\u001b[38;5;28mself\u001b[39m) \u001b[38;5;241m-\u001b[39m\u001b[38;5;241m>\u001b[39m \u001b[38;5;28mstr\u001b[39m:\n\u001b[1;32m    213\u001b[0m \u001b[38;5;250m    \u001b[39m\u001b[38;5;124;03m\"\"\"\u001b[39;00m\n\u001b[1;32m    214\u001b[0m \u001b[38;5;124;03m    Hooks into Jupyter notebook rich display system.\u001b[39;00m\n\u001b[1;32m    215\u001b[0m \u001b[38;5;124;03m    \"\"\"\u001b[39;00m\n\u001b[0;32m--> 216\u001b[0m     \u001b[38;5;28;01mreturn\u001b[39;00m \u001b[38;5;28;43mself\u001b[39;49m\u001b[38;5;241;43m.\u001b[39;49m\u001b[43mrender\u001b[49m\u001b[43m(\u001b[49m\u001b[43m)\u001b[49m\n",
      "File \u001b[0;32m~/anaconda3/lib/python3.9/site-packages/pandas/io/formats/style.py:272\u001b[0m, in \u001b[0;36mStyler.render\u001b[0;34m(self, sparse_index, sparse_columns, **kwargs)\u001b[0m\n\u001b[1;32m    270\u001b[0m \u001b[38;5;28;01mif\u001b[39;00m sparse_columns \u001b[38;5;129;01mis\u001b[39;00m \u001b[38;5;28;01mNone\u001b[39;00m:\n\u001b[1;32m    271\u001b[0m     sparse_columns \u001b[38;5;241m=\u001b[39m get_option(\u001b[38;5;124m\"\u001b[39m\u001b[38;5;124mstyler.sparse.columns\u001b[39m\u001b[38;5;124m\"\u001b[39m)\n\u001b[0;32m--> 272\u001b[0m \u001b[38;5;28;01mreturn\u001b[39;00m \u001b[38;5;28;43mself\u001b[39;49m\u001b[38;5;241;43m.\u001b[39;49m\u001b[43m_render_html\u001b[49m\u001b[43m(\u001b[49m\u001b[43msparse_index\u001b[49m\u001b[43m,\u001b[49m\u001b[43m \u001b[49m\u001b[43msparse_columns\u001b[49m\u001b[43m,\u001b[49m\u001b[43m \u001b[49m\u001b[38;5;241;43m*\u001b[39;49m\u001b[38;5;241;43m*\u001b[39;49m\u001b[43mkwargs\u001b[49m\u001b[43m)\u001b[49m\n",
      "File \u001b[0;32m~/anaconda3/lib/python3.9/site-packages/pandas/io/formats/style_render.py:123\u001b[0m, in \u001b[0;36mStylerRenderer._render_html\u001b[0;34m(self, sparse_index, sparse_columns, **kwargs)\u001b[0m\n\u001b[1;32m    121\u001b[0m \u001b[38;5;28mself\u001b[39m\u001b[38;5;241m.\u001b[39m_compute()\n\u001b[1;32m    122\u001b[0m \u001b[38;5;66;03m# TODO: namespace all the pandas keys\u001b[39;00m\n\u001b[0;32m--> 123\u001b[0m d \u001b[38;5;241m=\u001b[39m \u001b[38;5;28;43mself\u001b[39;49m\u001b[38;5;241;43m.\u001b[39;49m\u001b[43m_translate\u001b[49m\u001b[43m(\u001b[49m\u001b[43msparse_index\u001b[49m\u001b[43m,\u001b[49m\u001b[43m \u001b[49m\u001b[43msparse_columns\u001b[49m\u001b[43m)\u001b[49m\n\u001b[1;32m    124\u001b[0m d\u001b[38;5;241m.\u001b[39mupdate(kwargs)\n\u001b[1;32m    125\u001b[0m \u001b[38;5;28;01mreturn\u001b[39;00m \u001b[38;5;28mself\u001b[39m\u001b[38;5;241m.\u001b[39mtemplate_html\u001b[38;5;241m.\u001b[39mrender(\n\u001b[1;32m    126\u001b[0m     \u001b[38;5;241m*\u001b[39m\u001b[38;5;241m*\u001b[39md,\n\u001b[1;32m    127\u001b[0m     html_table_tpl\u001b[38;5;241m=\u001b[39m\u001b[38;5;28mself\u001b[39m\u001b[38;5;241m.\u001b[39mtemplate_html_table,\n\u001b[1;32m    128\u001b[0m     html_style_tpl\u001b[38;5;241m=\u001b[39m\u001b[38;5;28mself\u001b[39m\u001b[38;5;241m.\u001b[39mtemplate_html_style,\n\u001b[1;32m    129\u001b[0m )\n",
      "File \u001b[0;32m~/anaconda3/lib/python3.9/site-packages/pandas/io/formats/style_render.py:221\u001b[0m, in \u001b[0;36mStylerRenderer._translate\u001b[0;34m(self, sparse_index, sparse_cols, blank)\u001b[0m\n\u001b[1;32m    216\u001b[0m d\u001b[38;5;241m.\u001b[39mupdate({\u001b[38;5;124m\"\u001b[39m\u001b[38;5;124mhead\u001b[39m\u001b[38;5;124m\"\u001b[39m: head})\n\u001b[1;32m    218\u001b[0m \u001b[38;5;28mself\u001b[39m\u001b[38;5;241m.\u001b[39mcellstyle_map: DefaultDict[\u001b[38;5;28mtuple\u001b[39m[CSSPair, \u001b[38;5;241m.\u001b[39m\u001b[38;5;241m.\u001b[39m\u001b[38;5;241m.\u001b[39m], \u001b[38;5;28mlist\u001b[39m[\u001b[38;5;28mstr\u001b[39m]] \u001b[38;5;241m=\u001b[39m defaultdict(\n\u001b[1;32m    219\u001b[0m     \u001b[38;5;28mlist\u001b[39m\n\u001b[1;32m    220\u001b[0m )\n\u001b[0;32m--> 221\u001b[0m body \u001b[38;5;241m=\u001b[39m \u001b[38;5;28;43mself\u001b[39;49m\u001b[38;5;241;43m.\u001b[39;49m\u001b[43m_translate_body\u001b[49m\u001b[43m(\u001b[49m\n\u001b[1;32m    222\u001b[0m \u001b[43m    \u001b[49m\u001b[43mDATA_CLASS\u001b[49m\u001b[43m,\u001b[49m\n\u001b[1;32m    223\u001b[0m \u001b[43m    \u001b[49m\u001b[43mROW_HEADING_CLASS\u001b[49m\u001b[43m,\u001b[49m\n\u001b[1;32m    224\u001b[0m \u001b[43m    \u001b[49m\u001b[43msparse_index\u001b[49m\u001b[43m,\u001b[49m\n\u001b[1;32m    225\u001b[0m \u001b[43m    \u001b[49m\u001b[43mmax_rows\u001b[49m\u001b[43m,\u001b[49m\n\u001b[1;32m    226\u001b[0m \u001b[43m    \u001b[49m\u001b[43mmax_cols\u001b[49m\u001b[43m,\u001b[49m\n\u001b[1;32m    227\u001b[0m \u001b[43m    \u001b[49m\u001b[43mTRIMMED_ROW_CLASS\u001b[49m\u001b[43m,\u001b[49m\n\u001b[1;32m    228\u001b[0m \u001b[43m    \u001b[49m\u001b[43mTRIMMED_COL_CLASS\u001b[49m\u001b[43m,\u001b[49m\n\u001b[1;32m    229\u001b[0m \u001b[43m\u001b[49m\u001b[43m)\u001b[49m\n\u001b[1;32m    230\u001b[0m d\u001b[38;5;241m.\u001b[39mupdate({\u001b[38;5;124m\"\u001b[39m\u001b[38;5;124mbody\u001b[39m\u001b[38;5;124m\"\u001b[39m: body})\n\u001b[1;32m    232\u001b[0m cellstyle: \u001b[38;5;28mlist\u001b[39m[\u001b[38;5;28mdict\u001b[39m[\u001b[38;5;28mstr\u001b[39m, CSSList \u001b[38;5;241m|\u001b[39m \u001b[38;5;28mlist\u001b[39m[\u001b[38;5;28mstr\u001b[39m]]] \u001b[38;5;241m=\u001b[39m [\n\u001b[1;32m    233\u001b[0m     {\u001b[38;5;124m\"\u001b[39m\u001b[38;5;124mprops\u001b[39m\u001b[38;5;124m\"\u001b[39m: \u001b[38;5;28mlist\u001b[39m(props), \u001b[38;5;124m\"\u001b[39m\u001b[38;5;124mselectors\u001b[39m\u001b[38;5;124m\"\u001b[39m: selectors}\n\u001b[1;32m    234\u001b[0m     \u001b[38;5;28;01mfor\u001b[39;00m props, selectors \u001b[38;5;129;01min\u001b[39;00m \u001b[38;5;28mself\u001b[39m\u001b[38;5;241m.\u001b[39mcellstyle_map\u001b[38;5;241m.\u001b[39mitems()\n\u001b[1;32m    235\u001b[0m ]\n",
      "File \u001b[0;32m~/anaconda3/lib/python3.9/site-packages/pandas/io/formats/style_render.py:514\u001b[0m, in \u001b[0;36mStylerRenderer._translate_body\u001b[0;34m(self, data_class, row_heading_class, sparsify_index, max_rows, max_cols, trimmed_row_class, trimmed_col_class)\u001b[0m\n\u001b[1;32m    505\u001b[0m \u001b[38;5;28;01mif\u001b[39;00m (r, c) \u001b[38;5;129;01min\u001b[39;00m \u001b[38;5;28mself\u001b[39m\u001b[38;5;241m.\u001b[39mcell_context:\n\u001b[1;32m    506\u001b[0m     \u001b[38;5;28mcls\u001b[39m \u001b[38;5;241m=\u001b[39m \u001b[38;5;124m\"\u001b[39m\u001b[38;5;124m \u001b[39m\u001b[38;5;124m\"\u001b[39m \u001b[38;5;241m+\u001b[39m \u001b[38;5;28mself\u001b[39m\u001b[38;5;241m.\u001b[39mcell_context[r, c]\n\u001b[1;32m    508\u001b[0m data_element \u001b[38;5;241m=\u001b[39m _element(\n\u001b[1;32m    509\u001b[0m     \u001b[38;5;124m\"\u001b[39m\u001b[38;5;124mtd\u001b[39m\u001b[38;5;124m\"\u001b[39m,\n\u001b[1;32m    510\u001b[0m     \u001b[38;5;124mf\u001b[39m\u001b[38;5;124m\"\u001b[39m\u001b[38;5;132;01m{\u001b[39;00mdata_class\u001b[38;5;132;01m}\u001b[39;00m\u001b[38;5;124m row\u001b[39m\u001b[38;5;132;01m{\u001b[39;00mr\u001b[38;5;132;01m}\u001b[39;00m\u001b[38;5;124m col\u001b[39m\u001b[38;5;132;01m{\u001b[39;00mc\u001b[38;5;132;01m}\u001b[39;00m\u001b[38;5;132;01m{\u001b[39;00m\u001b[38;5;28mcls\u001b[39m\u001b[38;5;132;01m}\u001b[39;00m\u001b[38;5;124m\"\u001b[39m,\n\u001b[1;32m    511\u001b[0m     value,\n\u001b[1;32m    512\u001b[0m     (c \u001b[38;5;129;01mnot\u001b[39;00m \u001b[38;5;129;01min\u001b[39;00m \u001b[38;5;28mself\u001b[39m\u001b[38;5;241m.\u001b[39mhidden_columns \u001b[38;5;129;01mand\u001b[39;00m r \u001b[38;5;129;01mnot\u001b[39;00m \u001b[38;5;129;01min\u001b[39;00m \u001b[38;5;28mself\u001b[39m\u001b[38;5;241m.\u001b[39mhidden_rows),\n\u001b[1;32m    513\u001b[0m     attributes\u001b[38;5;241m=\u001b[39m\u001b[38;5;124m\"\u001b[39m\u001b[38;5;124m\"\u001b[39m,\n\u001b[0;32m--> 514\u001b[0m     display_value\u001b[38;5;241m=\u001b[39m\u001b[38;5;28;43mself\u001b[39;49m\u001b[38;5;241;43m.\u001b[39;49m\u001b[43m_display_funcs\u001b[49m\u001b[43m[\u001b[49m\u001b[43m(\u001b[49m\u001b[43mr\u001b[49m\u001b[43m,\u001b[49m\u001b[43m \u001b[49m\u001b[43mc\u001b[49m\u001b[43m)\u001b[49m\u001b[43m]\u001b[49m\u001b[43m(\u001b[49m\u001b[43mvalue\u001b[49m\u001b[43m)\u001b[49m,\n\u001b[1;32m    515\u001b[0m )\n\u001b[1;32m    517\u001b[0m \u001b[38;5;66;03m# only add an id if the cell has a style\u001b[39;00m\n\u001b[1;32m    518\u001b[0m \u001b[38;5;28;01mif\u001b[39;00m \u001b[38;5;28mself\u001b[39m\u001b[38;5;241m.\u001b[39mcell_ids \u001b[38;5;129;01mor\u001b[39;00m (r, c) \u001b[38;5;129;01min\u001b[39;00m \u001b[38;5;28mself\u001b[39m\u001b[38;5;241m.\u001b[39mctx:\n",
      "File \u001b[0;32m~/anaconda3/lib/python3.9/site-packages/pandas/io/formats/style_render.py:977\u001b[0m, in \u001b[0;36m_maybe_wrap_formatter.<locals>.<lambda>\u001b[0;34m(x)\u001b[0m\n\u001b[1;32m    975\u001b[0m \u001b[38;5;66;03m# Get initial func from input string, input callable, or from default factory\u001b[39;00m\n\u001b[1;32m    976\u001b[0m \u001b[38;5;28;01mif\u001b[39;00m \u001b[38;5;28misinstance\u001b[39m(formatter, \u001b[38;5;28mstr\u001b[39m):\n\u001b[0;32m--> 977\u001b[0m     func_0 \u001b[38;5;241m=\u001b[39m \u001b[38;5;28;01mlambda\u001b[39;00m x: \u001b[43mformatter\u001b[49m\u001b[38;5;241;43m.\u001b[39;49m\u001b[43mformat\u001b[49m\u001b[43m(\u001b[49m\u001b[43mx\u001b[49m\u001b[43m)\u001b[49m\n\u001b[1;32m    978\u001b[0m \u001b[38;5;28;01melif\u001b[39;00m \u001b[38;5;28mcallable\u001b[39m(formatter):\n\u001b[1;32m    979\u001b[0m     func_0 \u001b[38;5;241m=\u001b[39m formatter\n",
      "\u001b[0;31mValueError\u001b[0m: Unknown format code 'f' for object of type 'str'"
     ]
    },
    {
     "data": {
      "text/plain": [
       "<pandas.io.formats.style.Styler at 0x1511b15fd4f0>"
      ]
     },
     "metadata": {},
     "output_type": "display_data"
    }
   ],
   "source": [
    "df = pd.read_csv('./Molecules-data/dsgdb9-299xtr.csv',sep=\"\\t\")\n",
    "display(df)\n",
    "df.count()\n",
    "display(df.describe().style.format(\"{0:.2f}\"))"
   ]
  },
  {
   "cell_type": "markdown",
   "id": "61c3e4a1-a3f7-4ea9-a4f7-53be41fdeec1",
   "metadata": {},
   "source": [
    "#### Create new columns with RDKit objects or properties\n",
    "\n",
    "<div class=\"intro\">\n",
    "\n",
    "A new column can be created holding the respective RDKit molecule objects. Fingerprints can be included to accelerate substructure searches on the dataframe. The 'SMILES BASIC' data in the df dataframe will be converted into  ```mol``` objects that can be processed by RDKit. You can do this using the ```PandasTools.AddMoleculeColumnToFrame``` function.\n",
    "    \n",
    "But we will first apply the same canonicalization operation to all the examples we have in the dataframe, using the aptly named ```apply()``` function.\n",
    "</div>"
   ]
  },
  {
   "cell_type": "code",
   "execution_count": null,
   "id": "2787c6f9-c120-4a0b-9e62-df165784e467",
   "metadata": {},
   "outputs": [
    {
     "ename": "KeyError",
     "evalue": "'SMILES BASIC'",
     "output_type": "error",
     "traceback": [
      "\u001b[0;31m---------------------------------------------------------------------------\u001b[0m",
      "\u001b[0;31mKeyError\u001b[0m                                  Traceback (most recent call last)",
      "File \u001b[0;32m~/anaconda3/lib/python3.9/site-packages/pandas/core/indexes/base.py:3361\u001b[0m, in \u001b[0;36mIndex.get_loc\u001b[0;34m(self, key, method, tolerance)\u001b[0m\n\u001b[1;32m   3360\u001b[0m \u001b[38;5;28;01mtry\u001b[39;00m:\n\u001b[0;32m-> 3361\u001b[0m     \u001b[38;5;28;01mreturn\u001b[39;00m \u001b[38;5;28;43mself\u001b[39;49m\u001b[38;5;241;43m.\u001b[39;49m\u001b[43m_engine\u001b[49m\u001b[38;5;241;43m.\u001b[39;49m\u001b[43mget_loc\u001b[49m\u001b[43m(\u001b[49m\u001b[43mcasted_key\u001b[49m\u001b[43m)\u001b[49m\n\u001b[1;32m   3362\u001b[0m \u001b[38;5;28;01mexcept\u001b[39;00m \u001b[38;5;167;01mKeyError\u001b[39;00m \u001b[38;5;28;01mas\u001b[39;00m err:\n",
      "File \u001b[0;32m~/anaconda3/lib/python3.9/site-packages/pandas/_libs/index.pyx:76\u001b[0m, in \u001b[0;36mpandas._libs.index.IndexEngine.get_loc\u001b[0;34m()\u001b[0m\n",
      "File \u001b[0;32m~/anaconda3/lib/python3.9/site-packages/pandas/_libs/index.pyx:108\u001b[0m, in \u001b[0;36mpandas._libs.index.IndexEngine.get_loc\u001b[0;34m()\u001b[0m\n",
      "File \u001b[0;32mpandas/_libs/hashtable_class_helper.pxi:5198\u001b[0m, in \u001b[0;36mpandas._libs.hashtable.PyObjectHashTable.get_item\u001b[0;34m()\u001b[0m\n",
      "File \u001b[0;32mpandas/_libs/hashtable_class_helper.pxi:5206\u001b[0m, in \u001b[0;36mpandas._libs.hashtable.PyObjectHashTable.get_item\u001b[0;34m()\u001b[0m\n",
      "\u001b[0;31mKeyError\u001b[0m: 'SMILES BASIC'",
      "\nThe above exception was the direct cause of the following exception:\n",
      "\u001b[0;31mKeyError\u001b[0m                                  Traceback (most recent call last)",
      "Cell \u001b[0;32mIn[80], line 16\u001b[0m\n\u001b[1;32m     12\u001b[0m     can \u001b[38;5;241m=\u001b[39m Chem\u001b[38;5;241m.\u001b[39mMolToSmiles(mol) \u001b[38;5;66;03m#convert the previous mol object to SMILES. By default, RDKit canonicalizes the SMILES when applying this MolToSmiles() function\u001b[39;00m\n\u001b[1;32m     14\u001b[0m     \u001b[38;5;28;01mreturn\u001b[39;00m can\n\u001b[0;32m---> 16\u001b[0m df[\u001b[38;5;124m'\u001b[39m\u001b[38;5;124mCANONICAL SMILES BASIC\u001b[39m\u001b[38;5;124m'\u001b[39m] \u001b[38;5;241m=\u001b[39m \u001b[43mdf\u001b[49m\u001b[43m[\u001b[49m\u001b[38;5;124;43m'\u001b[39;49m\u001b[38;5;124;43mSMILES BASIC\u001b[39;49m\u001b[38;5;124;43m'\u001b[39;49m\u001b[43m]\u001b[49m\u001b[38;5;241m.\u001b[39mapply(canonicalize_smiles)\n\u001b[1;32m     17\u001b[0m display(df)\n",
      "File \u001b[0;32m~/anaconda3/lib/python3.9/site-packages/pandas/core/frame.py:3458\u001b[0m, in \u001b[0;36mDataFrame.__getitem__\u001b[0;34m(self, key)\u001b[0m\n\u001b[1;32m   3456\u001b[0m \u001b[38;5;28;01mif\u001b[39;00m \u001b[38;5;28mself\u001b[39m\u001b[38;5;241m.\u001b[39mcolumns\u001b[38;5;241m.\u001b[39mnlevels \u001b[38;5;241m>\u001b[39m \u001b[38;5;241m1\u001b[39m:\n\u001b[1;32m   3457\u001b[0m     \u001b[38;5;28;01mreturn\u001b[39;00m \u001b[38;5;28mself\u001b[39m\u001b[38;5;241m.\u001b[39m_getitem_multilevel(key)\n\u001b[0;32m-> 3458\u001b[0m indexer \u001b[38;5;241m=\u001b[39m \u001b[38;5;28;43mself\u001b[39;49m\u001b[38;5;241;43m.\u001b[39;49m\u001b[43mcolumns\u001b[49m\u001b[38;5;241;43m.\u001b[39;49m\u001b[43mget_loc\u001b[49m\u001b[43m(\u001b[49m\u001b[43mkey\u001b[49m\u001b[43m)\u001b[49m\n\u001b[1;32m   3459\u001b[0m \u001b[38;5;28;01mif\u001b[39;00m is_integer(indexer):\n\u001b[1;32m   3460\u001b[0m     indexer \u001b[38;5;241m=\u001b[39m [indexer]\n",
      "File \u001b[0;32m~/anaconda3/lib/python3.9/site-packages/pandas/core/indexes/base.py:3363\u001b[0m, in \u001b[0;36mIndex.get_loc\u001b[0;34m(self, key, method, tolerance)\u001b[0m\n\u001b[1;32m   3361\u001b[0m         \u001b[38;5;28;01mreturn\u001b[39;00m \u001b[38;5;28mself\u001b[39m\u001b[38;5;241m.\u001b[39m_engine\u001b[38;5;241m.\u001b[39mget_loc(casted_key)\n\u001b[1;32m   3362\u001b[0m     \u001b[38;5;28;01mexcept\u001b[39;00m \u001b[38;5;167;01mKeyError\u001b[39;00m \u001b[38;5;28;01mas\u001b[39;00m err:\n\u001b[0;32m-> 3363\u001b[0m         \u001b[38;5;28;01mraise\u001b[39;00m \u001b[38;5;167;01mKeyError\u001b[39;00m(key) \u001b[38;5;28;01mfrom\u001b[39;00m \u001b[38;5;21;01merr\u001b[39;00m\n\u001b[1;32m   3365\u001b[0m \u001b[38;5;28;01mif\u001b[39;00m is_scalar(key) \u001b[38;5;129;01mand\u001b[39;00m isna(key) \u001b[38;5;129;01mand\u001b[39;00m \u001b[38;5;129;01mnot\u001b[39;00m \u001b[38;5;28mself\u001b[39m\u001b[38;5;241m.\u001b[39mhasnans:\n\u001b[1;32m   3366\u001b[0m     \u001b[38;5;28;01mraise\u001b[39;00m \u001b[38;5;167;01mKeyError\u001b[39;00m(key)\n",
      "\u001b[0;31mKeyError\u001b[0m: 'SMILES BASIC'"
     ]
    }
   ],
   "source": [
    "def canonicalize_smiles(smiles):\n",
    "    '''This function takes a non-canonical SMILES and returns the canonical version\n",
    "    \n",
    "    Args: \n",
    "        -smiles: str, non-canonical SMILES of a molecule\n",
    "    \n",
    "    Out:\n",
    "        - canonical_smiles: str, canonical SMILES of the molecule\n",
    "    '''\n",
    "    \n",
    "    mol = Chem.MolFromSmiles(smiles) #create a mol object from input smiles.\n",
    "    can = Chem.MolToSmiles(mol) #convert the previous mol object to SMILES. By default, RDKit canonicalizes the SMILES when applying this MolToSmiles() function\n",
    "\n",
    "    return can\n",
    "\n",
    "df['CANONICAL SMILES BASIC'] = df['SMILES BASIC'].apply(canonicalize_smiles)\n",
    "display(df)"
   ]
  },
  {
   "cell_type": "code",
   "execution_count": null,
   "id": "09c2c8cb-897d-4fed-966a-eb84c7783e75",
   "metadata": {},
   "outputs": [],
   "source": [
    "df2=df.copy()\n",
    "PandasTools.AddMoleculeColumnToFrame(df2, smilesCol='SMILES BASIC',includeFingerprints=True,molCol='Molecule') #inserted as the last column\n",
    "df2.insert(1, 'Molecule', df2.pop('Molecule')) #move after column 1\n",
    "display(df2)"
   ]
  },
  {
   "cell_type": "markdown",
   "id": "1e9b8df0-f56b-4b6c-bdf1-85e494b4a857",
   "metadata": {},
   "source": [
    "<div class=\"intro\">\n",
    "\n",
    "We will now use the `apply()` function of Pandas to compute the molecular weight of all our molecules. This function takes a `mol` object as input and returns its molecular weight.\n",
    "</div>"
   ]
  },
  {
   "cell_type": "code",
   "execution_count": null,
   "id": "fc63830f-4013-4053-97b8-407158c966a0",
   "metadata": {},
   "outputs": [],
   "source": [
    "from rdkit.Chem.Descriptors import MolWt\n",
    "df2['MW'] = df2['Molecule'].apply(MolWt)\n",
    "df2.insert(4, 'MW', df2.pop('MW')) #move after column 4\n",
    "display(df2)"
   ]
  },
  {
   "cell_type": "markdown",
   "id": "be6b0cfb-ad07-436c-a3ec-d3f0e91580b2",
   "metadata": {},
   "source": [
    "<div class=\"intro\">\n",
    "\n",
    "Let's add other descriptors, such as the number of hydrogen bond donor (`HBD`) and acceptors (`HBA`) in a molecule.\n",
    "</div>"
   ]
  },
  {
   "cell_type": "code",
   "execution_count": null,
   "id": "1e38b067-b4e0-4bd6-95a1-cb5d38d36c12",
   "metadata": {},
   "outputs": [],
   "source": [
    "from rdkit.Chem.rdMolDescriptors import CalcNumHBA, CalcNumHBD\n",
    "df2['HBA'] = df2['Molecule'].apply(Chem.AddHs)\n",
    "df2['HBD'] = df2['Molecule'].apply(Chem.AddHs)\n",
    "df2['HBA'] = df2['HBA'].apply(CalcNumHBA)\n",
    "df2['HBD'] = df2['HBD'].apply(CalcNumHBD)\n",
    "df2.insert(5, 'HBA', df2.pop('HBA')) #move after column 5\n",
    "df2.insert(6, 'HBD', df2.pop('HBD')) #move after column 6\n",
    "display(df2)"
   ]
  },
  {
   "cell_type": "markdown",
   "id": "d5b4f2f2-001a-4af7-9f3a-1cd2c591c560",
   "metadata": {},
   "source": [
    "#### Visualize the molecules in a grid, together with some properties"
   ]
  },
  {
   "cell_type": "code",
   "execution_count": null,
   "id": "71afc138-cbae-455d-9a64-ded1643d9c2a",
   "metadata": {
    "tags": []
   },
   "outputs": [],
   "source": [
    "from rdkit.Chem.Draw import IPythonConsole\n",
    "IPythonConsole.drawOptions.bondLineWidth=2\n",
    "#FrameToGridImage: Draw grid image of mols in pandas DataFrame\n",
    "PandasTools.FrameToGridImage(df2, molsPerRow=3, column='Molecule',legends=[\n",
    "        f\"{molecule['dsgdb9 ID']}: {molecule['MW']:.2f} Da. HB {molecule['HBD']}D:{molecule['HBA']}A\"\n",
    "        for index, molecule in df2.iterrows()],\n",
    "        useSVG=True, subImgSize=(400, 200), maxMols=df2.shape[0])"
   ]
  },
  {
   "cell_type": "markdown",
   "id": "b624ea38-44d1-4811-aa3b-4b13292f7ec4",
   "metadata": {},
   "source": [
    "#### Select molecules that match a pattern and visualize them on a grid \n",
    "\n",
    "<div class=\"intro\">\n",
    "\n",
    "The substructure will be given as a SMARTS ([see examples on the Daylight website](https://www.daylight.com/dayhtml_tutorials/languages/smarts/smarts_examples.html))\n",
    "\n",
    "We will search for ketones. A carbonyl group can be simply identified by `[CX3]=[OX1]` (a carbon that has exactly three connections is double bonded to an oxygen atom that has a single connection). But it hits  carboxylic acid, ester, ketone, aldehyde, carbonic acid/ester,anhydride, carbamic acid/ester, acyl halide, amide.\n",
    "\n",
    "This is why the SMARTS for ketones is `[#6][CX3](=O)[#6]`\n",
    "- [CX3] = C with exactly 3 connections\n",
    "- [#6] carbon atom\n",
    "- (=O) oxygen involved in a double bond\n",
    "\n",
    "</div>"
   ]
  },
  {
   "cell_type": "code",
   "execution_count": null,
   "id": "810b082c-4c00-49d6-b492-73c177abbc2c",
   "metadata": {},
   "outputs": [],
   "source": [
    "substructure = Chem.MolFromSmarts('[#6][CX3](=O)[#6]') #N-containing compounds\n",
    "df2['ketone'] = df2['Molecule'].apply(lambda x: x.HasSubstructMatch(substructure))\n",
    "df2.insert(2, 'ketone', df2.pop('ketone')) #move after column 2\n",
    "df2"
   ]
  },
  {
   "cell_type": "code",
   "execution_count": null,
   "id": "5229bbcc-9e2b-4126-8271-40197fac52c0",
   "metadata": {},
   "outputs": [],
   "source": [
    "print(f\"There are {df2.loc[df2['ketone']].shape[0]} molecules containing at least one ketone group\")\n",
    "\n",
    "PandasTools.FrameToGridImage(df2.loc[df2['ketone']], molsPerRow=3, column='Molecule',legends=[\n",
    "        f\"{molecule['dsgdb9 ID']}: {molecule['MW']:.2f} Da. HB {molecule['HBD']}D:{molecule['HBA']}A\"\n",
    "        for index, molecule in df2.iterrows()],\n",
    "        useSVG=True, subImgSize=(400, 200), maxMols=df2.loc[df2['ketone']].shape[0])"
   ]
  },
  {
   "cell_type": "markdown",
   "id": "259023a4-7fb5-4e24-943d-47450d58dc63",
   "metadata": {
    "tags": []
   },
   "source": [
    "## Chemical (or molecular) similarity visualized as a heatmap\n",
    "\n",
    "<div class=\"intro\">\n",
    "\n",
    "[Chemical similarity](https://en.wikipedia.org/wiki/Chemical_similarity) refers to the similarity of chemical elements, molecules or chemical compounds with respect to either structural or functional qualities. It is often described as an inverse of a measure of distance in descriptor space. The most popular similarity measure for comparing chemical structures represented by means of fingerprints is the **Tanimoto** (or Jaccard) coefficient *T*. Two structures are usually considered similar if *T* > 0.85. Let's enter into more details.\n",
    "\n",
    "**Similarity measures**, calculations that quantify the similarity of two molecules, and screening, a way of rapidly eliminating molecules as candidates in a substructure search, are both processes that use **fingerprints**. Fingerprints are a very abstract representation of certain **structural features** of a molecule. Structure in a broad sense, it can be either 3D coordinates or the identification of chemical groups.\n",
    "\n",
    "**Structural keys** were the first type of screen employed for high-speed screening of chemical databases. A structural key is usually represented as a boolean array. It is a bitmap in which each bit represents the presence (TRUE) or absence (FALSE) of a specific **structural feature**.\n",
    "\n",
    "**Structural keys suffer from a lack of generality**. The choice of patterns depends on the nature of the queries to be made: A structural key used by a group of pharmaceutical researchers might be nearly worthless to a group of petrochemical researchers. **Fingerprints** address this lack of generality by eliminating the idea of pre-defined patterns\n",
    "\n",
    "---\n",
    "\n",
    "A **fingerprint** is a boolean array, or bitmap, but unlike a structural key there is no assigned meaning to each bit. Your own fingerprint is very characteristic of you, yet there is no meaning to any particular feature. Similarly, a pattern's fingerprint characterizes the pattern, but **the meaning of any particular bit is not well defined**. \n",
    "Unlike a structural key with its pre-defined patterns, the patterns for a molecule's fingerprint are generated from the molecule itself. The fingerprinting algorithm examines the molecule and generates the following:\n",
    "\n",
    "- a pattern for each atom\n",
    "- a pattern representing each atom and its nearest neighbors (plus the bonds that join them)\n",
    "- a pattern representing each group of atoms and bonds connected by paths up to 2 bonds long\n",
    "- ... atoms and bonds connected by paths up to 3 bonds long\n",
    "- ... continuing....\n",
    "\n",
    "**For example, the molecule OC=CN would generate the following patterns**:\n",
    "\n",
    "- 0-bond paths:\t  C\t  O\t  N\n",
    "- 1-bond paths:\t  OC\t  C=C\t  CN\n",
    "- 2-bond paths:\t  OC=C\t  C=CN\t\n",
    "- 3-bond paths:\t  OC=CN\t\n",
    "\n",
    "---\n",
    "\n",
    "**Fingerprints allow to evaluate the structural similarity between two compounds**. Another approach would consist in ranking them according to the number of physical properties and reactions they share. Fingerprints effectively encode the substructures present in a molecule. It would not seem unreasonable that the proportion of substructures in common between two molecules should be a reasonable measure of similarity of the overall molecules. In mathematical terms this is a comparison of the bits in the fingerprints which are set on. Let's define a, b, c, and d as:\n",
    "- a is the count of bits on in system A but not in system B\n",
    "- b is the count of bits on in system B but not in system A\n",
    "- c is the count of the bits on in both system A and system B\n",
    "- d is the count of the bits off in both system A and system B\n",
    "\n",
    "The popular so-called **Tanimoto (or Jaccard) similarity coefficient** is calculated as:\n",
    "$$\\frac{c}{a+b+c}$$\n",
    "It may be regarded as the proportion of the \"on-bits\" which are shared.\n",
    "\n",
    "</div>"
   ]
  },
  {
   "cell_type": "markdown",
   "id": "059fcf0a-450f-4263-bd4f-f0307640eabf",
   "metadata": {},
   "source": [
    "### Read the database\n",
    "\n",
    "We will play with a reduced subset of 25 compounds"
   ]
  },
  {
   "cell_type": "code",
   "execution_count": null,
   "id": "9fe6b666-fa0c-4af3-8fff-3de7d708e5fe",
   "metadata": {},
   "outputs": [],
   "source": [
    "df25mols = pd.read_csv('./Molecules-data/dsgdb9-25xtr.csv',sep=\"\\t\")\n",
    "df25mols.count()\n",
    "PandasTools.AddMoleculeColumnToFrame(df25mols, smilesCol='SMILES BASIC',includeFingerprints=True,molCol='Molecule')\n",
    "PandasTools.FrameToGridImage(df25mols, molsPerRow=3, column='Molecule',legends=[\n",
    "        f\"{molecule['dsgdb9 ID']}: {molecule['composition']}\"\n",
    "        for index, molecule in df25mols.iterrows()],\n",
    "        useSVG=True, subImgSize=(400, 200), maxMols=df25mols.shape[0])"
   ]
  },
  {
   "cell_type": "markdown",
   "id": "088e7c5f-fde3-4203-81e2-dd41b7cca310",
   "metadata": {},
   "source": [
    "### Calculate the similarity criterion between all pairs of molecules\n",
    "\n",
    "<div class = \"intro\">\n",
    "\n",
    "The MACCS (Molecular ACCess System) keys are one of the most commonly used structural keys. They are sometimes referred to as the MDL keys, named after the company that developed them. While there are two sets of MACCS keys (one with 960 keys and the other containing a subset of 166 keys), only the shorter fragment definitions are available to the public. These 166 public keys are implemented in popular open-source cheminformatics software packages, including RDKit. The fragment definitions for the MACCS 166 keys can be found in [this document](https://github.com/rdkit/rdkit/blob/master/rdkit/Chem/MACCSkeys.py), under the form of [SMARTS](https://www.daylight.com/dayhtml/doc/theory/theory.smarts.html) patterns.\n",
    "\n",
    "</div>"
   ]
  },
  {
   "cell_type": "code",
   "execution_count": null,
   "id": "44276852-ea96-4a23-9643-66fa27c596fc",
   "metadata": {},
   "outputs": [],
   "source": [
    "from rdkit import DataStructs\n",
    "from rdkit.Chem import MACCSkeys\n",
    "\n",
    "fpsMK = [MACCSkeys.GenMACCSKeys(mi['Molecule']) for i,mi in df25mols.iterrows()]\n",
    "\n",
    "Similarity = np.zeros((len(fpsMK),len(fpsMK)))\n",
    "IDMol = []\n",
    "\n",
    "for i,mi in df25mols.iterrows():\n",
    "    IDMol.append(mi['dsgdb9 ID'])\n",
    "    for j,mj in df25mols.iterrows():\n",
    "        Similarity[i][j] = DataStructs.DiceSimilarity(fpsMK[i],fpsMK[j])"
   ]
  },
  {
   "cell_type": "code",
   "execution_count": null,
   "id": "5bada408-7922-497b-88f2-27a02e38a6bb",
   "metadata": {},
   "outputs": [],
   "source": [
    "dfSimilarity = pd.DataFrame(Similarity, columns=IDMol, index=IDMol) \n",
    "display(dfSimilarity)"
   ]
  },
  {
   "cell_type": "markdown",
   "id": "434ad58a-58f2-4df3-98fd-43043a3035b9",
   "metadata": {},
   "source": [
    "### Heatmap of the chemical similarity, using seaborn"
   ]
  },
  {
   "cell_type": "code",
   "execution_count": null,
   "id": "44f95b56-33ce-4944-9f00-cd6786e83b90",
   "metadata": {},
   "outputs": [],
   "source": [
    "import seaborn as sns\n",
    "plt.figure(figsize=(16,16))\n",
    "sns.heatmap(dfSimilarity, cmap='seismic', annot = False)\n",
    "plt.show()"
   ]
  },
  {
   "cell_type": "markdown",
   "id": "ac536c1e-e669-4cd8-b8a5-2e9b086def0f",
   "metadata": {},
   "source": [
    "### Heatmap of the chemical similarity, using plotly"
   ]
  },
  {
   "cell_type": "code",
   "execution_count": null,
   "id": "d0ca055a-9c14-4a89-9220-0d5d8ab51cbd",
   "metadata": {},
   "outputs": [],
   "source": [
    "import plotly.express as px\n",
    "fig = px.imshow(dfSimilarity, x=dfSimilarity.columns.astype(str), y=dfSimilarity.index.astype(str),color_continuous_scale='RdBu_r')\n",
    "fig.update_layout(width=1000,height=1000)"
   ]
  },
  {
   "cell_type": "markdown",
   "id": "9c8599c1-c8a8-42e0-99b0-3a6a64b07a2a",
   "metadata": {},
   "source": [
    "## The maximum common structure\n",
    "\n",
    "<div class='intro'>\n",
    "    \n",
    "MCS is defined as the largest substructure that appears in two or more candidate molecules\n",
    "    \n",
    "</div>"
   ]
  },
  {
   "cell_type": "code",
   "execution_count": null,
   "id": "d11476eb-3b0b-48f7-b9f9-5c3bf3a3bac2",
   "metadata": {
    "tags": []
   },
   "outputs": [],
   "source": [
    "from rdkit.Chem import rdFMCS"
   ]
  },
  {
   "cell_type": "markdown",
   "id": "c2f0ad46-35ba-4120-9d4e-5be6c1bc21c7",
   "metadata": {},
   "source": [
    "# A word about descriptors and fingerprints\n",
    "\n",
    "<div class = \"intro\">\n",
    "    \n",
    "A fingerprint is a structural descriptor\n",
    "\n",
    "- **1D molecular descriptor**\n",
    "    - Global descriptor: only one value represents the whole molecule\n",
    "    - Example: : solubility, logP, molecular weight, melting point, ...\n",
    "    - Usually do not contain enough information to be applied to machine learning (ML)\n",
    "    - Can be added to 2D fingerprints to improve molecular encoding for ML\n",
    "    \n",
    "- **2D molecular descriptors**: \n",
    "    - Detailed representation of individual parts of the molecule\n",
    "    - Example: molecular graphs, paths, fragments, atom environments\n",
    "    - Contains many features/bits per molecule called fingerprints\n",
    "    - Very often used in similarity search and ML\n",
    "\n",
    "- **3D molecular descriptors**: \n",
    "    - Example: shape, stereochemistry\n",
    "    - Less robust than 2D representations because of molecule flexibility (what is the “right” conformation of a molecule?) Biological similarity\n",
    "    - Biological fingerprint, e.g. individual bits represent bioactivity measure against different targets\n",
    "    - Independent of molecular structure\n",
    "    - Requires experimental (or predicted) data\n",
    "\n",
    "</div>"
   ]
  },
  {
   "cell_type": "markdown",
   "id": "d764f617-d387-4442-b869-4baed7d1bfaf",
   "metadata": {},
   "source": [
    "# Useful resources\n",
    "\n",
    "<div class=\"intro\">\n",
    "   \n",
    "- [Teaching material for computer-aided drug design, TeachOpenCADD](https://projects.volkamerlab.org/teachopencadd/index.html)\n",
    "- [Daylight theory manual](https://www.daylight.com/dayhtml/doc/theory/index.html)\n",
    "</div>"
   ]
  },
  {
   "cell_type": "markdown",
   "id": "01f7abae-3a1c-4126-9e28-c3872acbbcf0",
   "metadata": {},
   "source": [
    "# End"
   ]
  },
  {
   "cell_type": "code",
   "execution_count": null,
   "id": "898a0af5-6513-4be2-8538-0d741a4c4478",
   "metadata": {},
   "outputs": [],
   "source": [
    "vID.end(cwd0)"
   ]
  },
  {
   "cell_type": "code",
   "execution_count": null,
   "id": "c8db19ab-fbc6-4dba-9e81-495313b7b692",
   "metadata": {},
   "outputs": [],
   "source": []
  }
 ],
 "metadata": {
  "kernelspec": {
   "display_name": "Python 3 (ipykernel)",
   "language": "python",
   "name": "python3"
  },
  "language_info": {
   "codemirror_mode": {
    "name": "ipython",
    "version": 3
   },
   "file_extension": ".py",
   "mimetype": "text/x-python",
   "name": "python",
   "nbconvert_exporter": "python",
   "pygments_lexer": "ipython3",
   "version": "3.9.18"
  },
  "toc-autonumbering": true,
  "toc-showcode": false,
  "toc-showmarkdowntxt": false,
  "toc-showtags": false
 },
 "nbformat": 4,
 "nbformat_minor": 5
}
