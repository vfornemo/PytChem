{
 "cells": [
  {
   "cell_type": "code",
   "execution_count": 1,
   "id": "269396e1-4699-46d7-b7bc-8ef342174c94",
   "metadata": {},
   "outputs": [
    {
     "name": "stdout",
     "output_type": "stream",
     "text": [
      "/home/vfornemo/project/PytChem\n"
     ]
    },
    {
     "data": {
      "text/html": [
       "<style>\n",
       "h1, h2, h3, h4, h5, h6 {\n",
       "  font-family: Verdana, \"DejaVu Sans\", \"Bitstream Vera Sans\", Geneva, sans-serif;\n",
       "  font-weight: bold;\n",
       "}\n",
       "body, intro, introE, introT, rq, rqE, rqT, ex, exE, app, appE, sol, todo, figure  {\n",
       "  font-family: Verdana, \"DejaVu Sans\", \"Bitstream Vera Sans\", Geneva, sans-serif;\n",
       "  font-weight: 400;\n",
       "  font-size: 12px;\n",
       "}\n",
       "h1 {\n",
       "  border: 0 solid #333;\n",
       "  padding: 30px ;\n",
       "  color: white;\n",
       "  background: #b11d01;\n",
       "  text-align: center;\n",
       "}\n",
       "h2 {\n",
       "  border: 3px solid #333;\n",
       "  padding: 18px ;\n",
       "  color: #b11d01;\n",
       "  background: #ffffff;\n",
       "  text-align: center;\n",
       "}\n",
       "h3 {\n",
       "  border: 0 solid #333;\n",
       "  padding: 12px ;\n",
       "  color: #000000;\n",
       "  background: #c1c1c1;\n",
       "  text-align: left;\n",
       "}\n",
       "h4 {\n",
       "  border: 0 solid #333;\n",
       "  padding: 2px ;\n",
       "  color: #000000;\n",
       "  background: #d9fffc;\n",
       "  text-align: left;\n",
       "}\n",
       "h5 {\n",
       "  border: 1px solid #333;\n",
       "  padding: 2px ;\n",
       "  color: #000000;\n",
       "  background: #ffffff;\n",
       "  text-align: left;\n",
       "}\n",
       ".introT::before {    \n",
       "    content: attr(title);\n",
       "    background-color: #cecece;\n",
       "    margin-left:-0.5em;\n",
       "    margin-right:-0.5em;\n",
       "    padding-left:0.5em;\n",
       "    padding-right:0.5em;\n",
       "    font-weight: 600;\n",
       "    display: block;\n",
       "}\n",
       ".introT {    \n",
       "    background-color: #cecece80;\n",
       "    border-color: #969696;\n",
       "    border-left: 5px solid #969696;\n",
       "    padding: 0.5em;\n",
       "}\n",
       ".intro {    \n",
       "    background-color: #cecece80;\n",
       "    border-color: #969696;\n",
       "    border-left: 5px solid #969696;\n",
       "    padding: 0.5em;\n",
       "}\n",
       ".introE {    \n",
       "    background-color: #cecece80;\n",
       "    border-color: #969696;\n",
       "    border-left: 5px solid #969696;\n",
       "    padding: 0.5em;\n",
       "    color : #117996;\n",
       "}\n",
       ".rq {    \n",
       "    background-color: #fcf2f2;\n",
       "    border-color: #dFb5b4;\n",
       "    border-left: 5px solid #dfb5b4;\n",
       "    padding: 0.5em;\n",
       "}\n",
       ".rqE::before {    \n",
       "    background-color: #fcd3d3;\n",
       "    color: #ff0000;\n",
       "    content:\"Warning\";\n",
       "    margin-left:-0.5em;\n",
       "    margin-right:-0.5em;\n",
       "    padding-left:0.5em;\n",
       "    padding-right:0.5em;\n",
       "    font-weight: 600;\n",
       "    display: block;\n",
       "}\n",
       ".rqE {    \n",
       "    background-color: #fcd3d380;\n",
       "    border-color: #dFb5b4;\n",
       "    border-left: 5px solid #dfb5b4;\n",
       "    padding: 0.5em;\n",
       "}\n",
       ".rqT::before {    \n",
       "    background-color: #fcd3d3;\n",
       "    color: #ff0000;\n",
       "    content: attr(title);\n",
       "    margin-left:-0.5em;\n",
       "    margin-right:-0.5em;\n",
       "    padding-left:0.5em;\n",
       "    padding-right:0.5em;\n",
       "    font-weight: 600;\n",
       "    display: block;\n",
       "}\n",
       ".rqT {    \n",
       "    background-color: #fcd3d380;\n",
       "    border-color: #dFb5b4;\n",
       "    border-left: 5px solid #dfb5b4;\n",
       "    padding: 0.5em;\n",
       "}\n",
       ".exold {    \n",
       "    background-color: #b2dbea80;\n",
       "    border-color: #0055ff;\n",
       "    border-left: 10px solid #0055ff;\n",
       "    padding: 0.5em;\n",
       "}\n",
       ".ex {    \n",
       "    background-color: #b2dbea80;\n",
       "    padding: 0.5em;\n",
       "    padding-top: 0em;\n",
       "    position:relative;\n",
       "}\n",
       ".ex::before {\n",
       "    background-color: #b2dbea;\n",
       "    content:\"Exercice\";\n",
       "    margin-left:-0.5em;\n",
       "    margin-right:-0.5em;\n",
       "    padding-left:0.5em;\n",
       "    padding-right:0.5em;\n",
       "    font-weight: 600;\n",
       "    display: block;\n",
       "}\n",
       ".exE {    \n",
       "    background-color: #b2dbea80;\n",
       "    padding: 0.5em;\n",
       "    padding-top: 0em;\n",
       "    position:relative;\n",
       "    color : #117996;\n",
       "}\n",
       ".exE::before {\n",
       "    background-color: #b2dbea;\n",
       "    content:\"Exercise\";\n",
       "    margin-left:-0.5em;\n",
       "    margin-right:-0.5em;\n",
       "    padding-left:0.5em;\n",
       "    padding-right:0.5em;\n",
       "    font-weight: 600;\n",
       "    display: block;\n",
       "    color : #117996;\n",
       "}\n",
       ".app {    \n",
       "    background-color: #b2dbea80;\n",
       "    padding: 0.5em;\n",
       "    padding-top: 0em;\n",
       "    position:relative;\n",
       "}\n",
       ".app::before {\n",
       "    background-color: #b2dbea;\n",
       "    content:\"Application\";\n",
       "    margin-left:-0.5em;\n",
       "    margin-right:-0.5em;\n",
       "    padding-left:0.5em;\n",
       "    padding-right:0.5em;\n",
       "    font-weight: 600;\n",
       "    display: block;\n",
       "}\n",
       ".appE {    \n",
       "    background-color: #b2dbea80;\n",
       "    padding: 0.5em;\n",
       "    padding-top: 0em;\n",
       "    color : #117996;\n",
       "    position:relative;\n",
       "}\n",
       ".appE::before {\n",
       "    background-color: #b2dbea;\n",
       "    content:\"Application\";\n",
       "    margin-left:-0.5em;\n",
       "    margin-right:-0.5em;\n",
       "    padding-left:0.5em;\n",
       "    padding-right:0.5em;\n",
       "    font-weight: 600;\n",
       "    color : #117996;\n",
       "    display: block;\n",
       "}\n",
       ".sol {    \n",
       "    background-color: #bbeab880;\n",
       "    padding: 0.5em;\n",
       "    padding-top: 0em;\n",
       "    position:relative;\n",
       "}\n",
       ".sol::before {\n",
       "    background-color: #bbeab8;\n",
       "    content:\"Answer\";\n",
       "    margin-left:-0.5em;\n",
       "    margin-right:-0.5em;\n",
       "    padding-left:0.5em;\n",
       "    padding-right:0.5em;\n",
       "    font-weight: 600;\n",
       "    display: block;\n",
       "}\n",
       "div.todo:before {\n",
       "    content:url(data:image/png;base64,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);\n",
       "    float:left;\n",
       "    margin-left:20px;\n",
       "    margin-right:20px;\n",
       "    margin-top:20px;\n",
       "    margin-bottom:20px;\n",
       "}\n",
       "div.todo{\n",
       "    font-size: 1.1em;\n",
       "    margin-top:40px;\n",
       "    background-color: #b2dbea80;\n",
       "}\n",
       "div.todo ul{\n",
       "    margin: 0.2em;\n",
       "}\n",
       "div.todo li{\n",
       "    margin-left:60px;\n",
       "    margin-top:0;\n",
       "    margin-bottom:0;\n",
       "}\n",
       "\n",
       "figure {\n",
       "    display: inline-block;\n",
       "    border: 0px;\n",
       "    margin: 5px; /* adjust as needed */\n",
       "    text-align: center;\n",
       "}\n",
       "figure img {\n",
       "    vertical-align: top;\n",
       "    text-align: center;\n",
       "}\n",
       "figure figcaption {\n",
       "    border: 0px;\n",
       "    text-align: center;\n",
       "    font-size: 11px;\n",
       "}\n",
       "\n",
       "</style>\n"
      ],
      "text/plain": [
       "<IPython.core.display.HTML object>"
      ]
     },
     "metadata": {},
     "output_type": "display_data"
    },
    {
     "data": {
      "text/markdown": [
       "**Start at:** Friday 01 December 2023, 19:56:48  \n",
       "**Hostname:** vfornemo-server (Linux)"
      ],
      "text/plain": [
       "<IPython.core.display.Markdown object>"
      ]
     },
     "metadata": {},
     "output_type": "display_data"
    },
    {
     "data": {
      "text/markdown": [
       "<p style=\"text-align: center\"><img width=\"800px\" src=\"./config/svg/pyPhysChemBanner.svg\" style=\"margin-left:auto; margin-right:auto\"/></p>"
      ],
      "text/plain": [
       "<IPython.core.display.Markdown object>"
      ]
     },
     "metadata": {},
     "output_type": "display_data"
    }
   ],
   "source": [
    "import os\n",
    "import sys\n",
    "\n",
    "print(os.getcwd())\n",
    "cwd0 = './config/'\n",
    "sys.path.append(cwd0)\n",
    "\n",
    "import visualID_Eng as vID\n",
    "from visualID_Eng import fg,bg,hl,color\n",
    "vID.init(cwd0)\n",
    "\n",
    "import tools4pyPhysChem as t4pPC\n",
    "\n",
    "#cancel the \"last show-up\" behaviour of Jupyter notebooks\n",
    "from IPython.core.interactiveshell import InteractiveShell\n",
    "InteractiveShell.ast_node_interactivity = \"all\"\n",
    "\n",
    "__author__ = \"Thierry Leininger, LCPQ (CNRS-UT3 lab, Toulouse, France)\""
   ]
  },
  {
   "cell_type": "markdown",
   "id": "8c39132a",
   "metadata": {
    "tags": []
   },
   "source": [
    " # Harmonic Oscillator\n",
    "\n",
    "## Introduction\n",
    "\n",
    "<div class=\"intro\">\n",
    "\n",
    "In this project, we propose to solve the Schrödinger equation for the one-dimensional quantum harmonic oscillator and vizualise the corresponding solutions and some of their properties. As usual, the Schrödinger equation reads:\n",
    "\n",
    "$$\\hat{H}(x)\\psi_v(x)=E_v\\psi_v(x)$$\n",
    "\n",
    "with $\\hat{H}=\\hat{T}+\\hat{V}$\n",
    "\n",
    "The kinetic energy is given by $ \\hat{T}= \\frac{\\hat{p}^2}{2m} $ which, with $\\hat{p}=- i\\hbar \\frac{\\partial}{\\partial \\hat{x}}$, becomes\n",
    "\n",
    "\n",
    "$$ \\hat{T}=-\\frac{\\hbar^{2}}{2m} \\frac{\\partial}{\\partial x^2}$$\n",
    "\n",
    "In the case of the harmonic oscillator the potential energy of the particle is simply \n",
    "$$\\hat{V} = \\frac{1}{2}kx^2$$\n",
    "\n",
    "\n",
    "Thus, the Schrodinger equation one has to solve is \n",
    "    \n",
    "$$[-\\frac{\\hbar^{2}}{2m} \\frac{\\partial}{\\partial x^2}+\\frac{1}{2}kx^2]\\psi_v(x) = E_v\\psi_v(x)$$\n",
    "\n",
    "</div>"
   ]
  },
  {
   "cell_type": "markdown",
   "id": "ed1cf25e",
   "metadata": {},
   "source": [
    "<div class=\"exE\">\n",
    "\n",
    "- From now on, we will choose $\\hbar=m=k=1$. Plot the corresponding harmonic potential.\n",
    "</div>"
   ]
  },
  {
   "cell_type": "code",
   "execution_count": 2,
   "id": "ed2ff2bb",
   "metadata": {},
   "outputs": [
    {
     "data": {
      "text/plain": [
       "[<matplotlib.lines.Line2D at 0x7f15722b3f10>]"
      ]
     },
     "execution_count": 2,
     "metadata": {},
     "output_type": "execute_result"
    },
    {
     "data": {
      "text/plain": [
       "<matplotlib.legend.Legend at 0x7f15917c0340>"
      ]
     },
     "execution_count": 2,
     "metadata": {},
     "output_type": "execute_result"
    },
    {
     "data": {
      "text/plain": [
       "Text(0.5, 0, 'x')"
      ]
     },
     "execution_count": 2,
     "metadata": {},
     "output_type": "execute_result"
    },
    {
     "data": {
      "text/plain": [
       "Text(0, 0.5, 'V')"
      ]
     },
     "execution_count": 2,
     "metadata": {},
     "output_type": "execute_result"
    },
    {
     "data": {
      "image/png": "[encoded data removed]",
      "text/plain": [
       "<Figure size 1000x500 with 1 Axes>"
      ]
     },
     "metadata": {},
     "output_type": "display_data"
    }
   ],
   "source": [
    "import matplotlib.pyplot as plt\n",
    "import numpy as np\n",
    "\n",
    "\n",
    "# Definition of the potential energy function\n",
    "def har_V(x):\n",
    "    V = 0.5*x**2\n",
    "    return V\n",
    "\n",
    "# Generate linspace\n",
    "_x = np.linspace(-5.,5.,100)\n",
    "_V = har_V(_x)\n",
    "\n",
    "# Plotting\n",
    "plt.rcParams[\"figure.figsize\"] = (10,5)\n",
    "plt.rcParams.update({'font.size': 12})\n",
    "plt.plot(_x, _V, linewidth=1,color='red',label=\"Harmonic Potential\")\n",
    "plt.legend()\n",
    "plt.xlabel(\"x\")\n",
    "plt.ylabel(\"V\")\n",
    "plt.show()\n",
    "\n"
   ]
  },
  {
   "cell_type": "markdown",
   "id": "612d87bb",
   "metadata": {},
   "source": [
    "### Solutions of the Schrödinger Equation\n",
    "\n",
    "<div class=\"intro\">\n",
    "\n",
    "As suggested above, the solutions of the Quantum Harmonic Oscillator depend on a (<i>vibrational</i>) quantum number $v$.\n",
    "\n",
    "The energies ($ie$ eigenvalues) are given by\n",
    "\n",
    "$$ E_v=(v+\\frac{1}{2})\\hbar\\omega$$ with $v=0, 1, 2, ...$ and $\\omega=\\sqrt{(\\frac{k}{m})}$\n",
    "\n",
    "\n",
    "The corresponding wavefunctions ($ie$ eigenfunctions) are given by\n",
    "\n",
    "$$\\Psi_v=N_vH_ve^{-y^2/2}$$ where $N_v$ is the normalization factor, $H_v$ the <b>Hermite polynomial</b> and $y=(\\frac{mk}{\\hbar^2})^{1/4}x$.\n",
    "\n",
    "\n",
    "The <b>Hermite polynomials</b> are defined using a recurrence relation\n",
    "$$H_{v+1}=2yH_v-2vH_{v-1}$$\n",
    "with $H_0=1$ and $H_1=2y$.\n"
   ]
  },
  {
   "cell_type": "markdown",
   "id": "0b43c734",
   "metadata": {},
   "source": [
    "<div class=\"exE\">\n",
    "\n",
    "Code a `Hv(v,y)` function returning the evaluation of $v^{th}$ Hermite polynomial, $H_v$ at a given value $y$\n",
    "</div>"
   ]
  },
  {
   "cell_type": "code",
   "execution_count": 3,
   "id": "b8940288-840e-46ce-8f8c-f101c97712b0",
   "metadata": {},
   "outputs": [
    {
     "name": "stdout",
     "output_type": "stream",
     "text": [
      "H0 = \n"
     ]
    },
    {
     "data": {
      "text/plain": [
       "1"
      ]
     },
     "execution_count": 3,
     "metadata": {},
     "output_type": "execute_result"
    },
    {
     "name": "stdout",
     "output_type": "stream",
     "text": [
      "H1 = \n"
     ]
    },
    {
     "data": {
      "text/latex": [
       "$\\displaystyle 2 y$"
      ],
      "text/plain": [
       "2*y"
      ]
     },
     "execution_count": 3,
     "metadata": {},
     "output_type": "execute_result"
    },
    {
     "name": "stdout",
     "output_type": "stream",
     "text": [
      "H2 = \n"
     ]
    },
    {
     "data": {
      "text/latex": [
       "$\\displaystyle 4 y^{2} - 2$"
      ],
      "text/plain": [
       "4*y**2 - 2"
      ]
     },
     "execution_count": 3,
     "metadata": {},
     "output_type": "execute_result"
    },
    {
     "name": "stdout",
     "output_type": "stream",
     "text": [
      "H3 = \n"
     ]
    },
    {
     "data": {
      "text/latex": [
       "$\\displaystyle 2 y \\left(4 y^{2} - 2\\right) - 8 y$"
      ],
      "text/plain": [
       "2*y*(4*y**2 - 2) - 8*y"
      ]
     },
     "execution_count": 3,
     "metadata": {},
     "output_type": "execute_result"
    },
    {
     "name": "stdout",
     "output_type": "stream",
     "text": [
      "H4 = \n"
     ]
    },
    {
     "data": {
      "text/latex": [
       "$\\displaystyle - 24 y^{2} + 2 y \\left(2 y \\left(4 y^{2} - 2\\right) - 8 y\\right) + 12$"
      ],
      "text/plain": [
       "-24*y**2 + 2*y*(2*y*(4*y**2 - 2) - 8*y) + 12"
      ]
     },
     "execution_count": 3,
     "metadata": {},
     "output_type": "execute_result"
    }
   ],
   "source": [
    "import sympy as sym\n",
    "\n",
    "# Definition of the Hermite polynomials\n",
    "def Hv(v, y):\n",
    "    \n",
    "    # Check if v is a natural integer\n",
    "    if v < 0 or type(v) != int:\n",
    "        raise RuntimeError(\"Error: v must be a positive integer or zero.\")\n",
    "\n",
    "    H0 = 1\n",
    "    H1 = 2*y\n",
    "\n",
    "    if v == 0:\n",
    "        return H0\n",
    "    elif v == 1:\n",
    "        return H1\n",
    "    else:\n",
    "        for n in range(2, v+1, 1):\n",
    "            Hn = 2*y*H1 - 2*(n-1)*H0\n",
    "            H0 = H1\n",
    "            H1 = Hn\n",
    "        return H1 # We should return Hn, here Hn = H1. Returning Hn will result in an reference error.\n",
    "\n",
    "\n",
    "# test\n",
    "y = sym.symbols('y')\n",
    "for i in range(5):\n",
    "    print(\"H{0} = \".format(i))\n",
    "    Hv(i, y)\n"
   ]
  },
  {
   "cell_type": "markdown",
   "id": "f055ec10",
   "metadata": {},
   "source": [
    "<div class=\"exE\">\n",
    "\n",
    "Using the `hermite` function from `sympy`, print the first 6 Hermite polynomials and check your code written in the previous cell for a few values of <i>v</i> and <i>y</i>.\n",
    "The results will be advantageoulsy presented in a table (see example below) beside the expression of the `hermite`polynomial.\n",
    "\n",
    "<p style=\"text-align:center;\"><img width=\"280\" src = \"./tableQHO.jpg\"/></p>\n",
    "\n",
    "</div>"
   ]
  },
  {
   "cell_type": "code",
   "execution_count": 4,
   "id": "f4b57e81",
   "metadata": {},
   "outputs": [
    {
     "name": "stdout",
     "output_type": "stream",
     "text": [
      "v = 0, H_v = 1\n",
      "  y        Hermite(y)       Hv(y)\n",
      " 0.00       1.000000       1.000000\n",
      " 1.25       1.000000       1.000000\n",
      " 2.50       1.000000       1.000000\n",
      " 3.75       1.000000       1.000000\n",
      " 5.00       1.000000       1.000000\n",
      "\n",
      "v = 1, H_v = 2*y\n",
      "  y        Hermite(y)       Hv(y)\n",
      " 0.00       0.000000       0.000000\n",
      " 1.25       2.500000       2.500000\n",
      " 2.50       5.000000       5.000000\n",
      " 3.75       7.500000       7.500000\n",
      " 5.00      10.000000      10.000000\n",
      "\n",
      "v = 2, H_v = 4*y**2 - 2\n",
      "  y        Hermite(y)       Hv(y)\n",
      " 0.00      -2.000000      -2.000000\n",
      " 1.25       4.250000       4.250000\n",
      " 2.50      23.000000      23.000000\n",
      " 3.75      54.250000      54.250000\n",
      " 5.00      98.000000      98.000000\n",
      "\n",
      "v = 3, H_v = 8*y**3 - 12*y\n",
      "  y        Hermite(y)       Hv(y)\n",
      " 0.00       0.000000      -0.000000\n",
      " 1.25       0.625000       0.625000\n",
      " 2.50      95.000000      95.000000\n",
      " 3.75     376.875000     376.875000\n",
      " 5.00     940.000000     940.000000\n",
      "\n",
      "v = 4, H_v = 16*y**4 - 48*y**2 + 12\n",
      "  y        Hermite(y)       Hv(y)\n",
      " 0.00      12.000000      12.000000\n",
      " 1.25     -23.937500     -23.937500\n",
      " 2.50     337.000000     337.000000\n",
      " 3.75    2501.062500    2501.062500\n",
      " 5.00    8812.000000    8812.000000\n",
      "\n",
      "v = 5, H_v = 32*y**5 - 160*y**3 + 120*y\n",
      "  y        Hermite(y)       Hv(y)\n",
      " 0.00       0.000000       0.000000\n",
      " 1.25     -64.843750     -64.843750\n",
      " 2.50     925.000000     925.000000\n",
      " 3.75   15742.968750   15742.968750\n",
      " 5.00   80600.000000   80600.000000\n",
      "\n"
     ]
    }
   ],
   "source": [
    "from sympy import hermite_poly\n",
    "\n",
    "# generate y data\n",
    "y = sym.symbols('y')\n",
    "yl = np.linspace(0, 5, 5)\n",
    "\n",
    "# compare the results\n",
    "for i in range(6):\n",
    "    print(\"v = {0}, H_v = {1}\".format(i, hermite_poly(i, y)))\n",
    "    print(\"  y        Hermite(y)       Hv(y)\")\n",
    "    for j in range(len(yl)):\n",
    "        sym_val = hermite_poly(i, yl[j]).evalf()\n",
    "        hv_val = Hv(i, yl[j])\n",
    "        print(\"{0:5.2f} {1:14.6f} {2:14.6f}\".format(yl[j], sym_val, hv_val))\n",
    "    print()\n",
    "    \n"
   ]
  },
  {
   "cell_type": "markdown",
   "id": "db2cc40b",
   "metadata": {},
   "source": [
    "<div class=\"exE\">\n",
    "\n",
    "Use the previous expression of the Hermite polynomials to verify with `sympy` that the normalization factor $N_v$ \n",
    "are given by $N=(\\pi ^{1/2} 2^v v!)^{-1/2}$.</div>"
   ]
  },
  {
   "cell_type": "code",
   "execution_count": 5,
   "id": "6fb67f03",
   "metadata": {},
   "outputs": [
    {
     "name": "stdout",
     "output_type": "stream",
     "text": [
      "v = 0, N1 = 0.751125544464943, N2 = 0.751125544464943\n",
      "v = 1, N1 = 0.531125966013599, N2 = 0.531125966013599\n",
      "v = 2, N1 = 0.265562983006799, N2 = 0.265562983006799\n",
      "v = 3, N1 = 0.108415633823010, N2 = 0.108415633823010\n",
      "v = 4, N1 = 0.0383307149314439, N2 = 0.0383307149314439\n",
      "v = 5, N1 = 0.0121212363525988, N2 = 0.0121212363525988\n",
      "v = 6, N1 = 0.00349909953554198, N2 = 0.00349909953554198\n",
      "v = 7, N1 = 0.000935173687444138, N2 = 0.000935173687444138\n",
      "v = 8, N1 = 0.000233793421861034, N2 = 0.000233793421861034\n",
      "v = 9, N1 = 0.0000551056379982482, N2 = 0.0000551056379982482\n"
     ]
    }
   ],
   "source": [
    "from sympy import oo\n",
    "\n",
    "# Perform normalization to get the normalization coefficient\n",
    "def norm_coeff(f):\n",
    "    \"\"\"\n",
    "    Normalization\n",
    "    \n",
    "    input:\n",
    "        - f: a function of v and y\n",
    "    returns:\n",
    "        normalization coefficient\n",
    "    \"\"\"\n",
    "    f_int = sym.integrate(f*sym.conjugate(f), (y,-oo,+oo))\n",
    "    f_int = 1/sym.sqrt(f_int)\n",
    "\n",
    "    return f_int\n",
    "\n",
    "# Generate normalization factor of a given v\n",
    "def norm_factor(v):\n",
    "    \"\"\"\n",
    "    Normalization factor\n",
    "    \n",
    "    input:\n",
    "        - v: quantum number\n",
    "    returns:\n",
    "        normalization factor\n",
    "    \"\"\"\n",
    "    N = 1/sym.sqrt(sym.factorial(v)*2**v*sym.sqrt(sym.pi))\n",
    "    return N\n",
    "\n",
    "for v in range(10):\n",
    "    f = hermite_poly(v, y)*sym.exp(-y**2/2)\n",
    "    N1 = norm_coeff(f).evalf()\n",
    "    N2 = norm_factor(v).evalf()\n",
    "    assert N1 == N2\n",
    "    print(\"v = {0}, N1 = {1}, N2 = {2}\".format(v, N1, N2))\n",
    "\n",
    "\n"
   ]
  },
  {
   "cell_type": "markdown",
   "id": "b0cc057c",
   "metadata": {},
   "source": [
    "## Wavefunctions\n",
    "\n",
    "<div class=\"rqT\" title=\"Directives\">\n",
    "    \n",
    "From now on, you have to do symbolic algebra with the SymPy library.\n",
    "</div>"
   ]
  },
  {
   "cell_type": "markdown",
   "id": "3e339191",
   "metadata": {},
   "source": [
    "<div class=\"exE\">\n",
    "Compute the left-hand side of Schrödinger equation to verify that $\\Psi_v(x)$ and $E_v$ are eigenfunctions and eigenvalues."
   ]
  },
  {
   "cell_type": "code",
   "execution_count": 6,
   "id": "5e4b6a62",
   "metadata": {},
   "outputs": [
    {
     "data": {
      "text/latex": [
       "$\\displaystyle 0.5$"
      ],
      "text/plain": [
       "0.500000000000000"
      ]
     },
     "execution_count": 6,
     "metadata": {},
     "output_type": "execute_result"
    },
    {
     "data": {
      "text/latex": [
       "$\\displaystyle 1.5$"
      ],
      "text/plain": [
       "1.50000000000000"
      ]
     },
     "execution_count": 6,
     "metadata": {},
     "output_type": "execute_result"
    },
    {
     "data": {
      "text/latex": [
       "$\\displaystyle 2.5$"
      ],
      "text/plain": [
       "2.50000000000000"
      ]
     },
     "execution_count": 6,
     "metadata": {},
     "output_type": "execute_result"
    },
    {
     "data": {
      "text/latex": [
       "$\\displaystyle 3.5$"
      ],
      "text/plain": [
       "3.50000000000000"
      ]
     },
     "execution_count": 6,
     "metadata": {},
     "output_type": "execute_result"
    },
    {
     "data": {
      "text/latex": [
       "$\\displaystyle 4.5$"
      ],
      "text/plain": [
       "4.50000000000000"
      ]
     },
     "execution_count": 6,
     "metadata": {},
     "output_type": "execute_result"
    },
    {
     "data": {
      "text/latex": [
       "$\\displaystyle 5.5$"
      ],
      "text/plain": [
       "5.50000000000000"
      ]
     },
     "execution_count": 6,
     "metadata": {},
     "output_type": "execute_result"
    }
   ],
   "source": [
    "# Construct nabla2(f)\n",
    "# Now we reconsider k, m and hbar as zeros\n",
    "\n",
    "\n",
    "# Define H(f)\n",
    "def H(f):\n",
    "    \"\"\"\n",
    "    Hamiltonian\n",
    "    \n",
    "    input:\n",
    "        - f: a function of y, y = (mk/hbar^2)^1/4*x\n",
    "    returns:\n",
    "        the hamiltonian of f\n",
    "    \"\"\"\n",
    "    sym.simplify(f)\n",
    "    \n",
    "    # Calculate nabla2(f)\n",
    "    x = sym.symbols('x')\n",
    "    # m,k,hbar = sym.symbols('m k hbar')\n",
    "    # Now consider k, m and hbar as zeros to simplify the calculation\n",
    "    m = 1\n",
    "    k = 1\n",
    "    hbar = 1\n",
    "    f = f.subs(y, (m*k/hbar**2)**(1/4)*x)\n",
    "\n",
    "    x_der1 = sym.diff(f,x)\n",
    "    x_der2 = sym.diff(x_der1,x)\n",
    "\n",
    "    Hf = -hbar**2/(2*m)*x_der2 + 0.5*k*x**2*f\n",
    "    sym.simplify(Hf)\n",
    "    return Hf\n",
    "\n",
    "def phi_v(v):\n",
    "    \"\"\"\n",
    "    Wave function\n",
    "    \n",
    "    input:\n",
    "        - v: quantum number\n",
    "    returns:\n",
    "        vth order of wave function of harmonic oscillator (as a function of x)\n",
    "    \"\"\"\n",
    "    f = norm_factor(v)*hermite_poly(v, y)*sym.exp(-y**2/2)\n",
    "    f = f.subs(y, (m*k/hbar**2)**(1/4)*x)\n",
    "\n",
    "    return f\n",
    "\n",
    "x = sym.symbols('x')\n",
    "# m,k,hbar = sym.symbols('m k hbar')\n",
    "m = 1\n",
    "k = 1\n",
    "hbar = 1\n",
    "\n",
    "def E_v(v):\n",
    "    \"\"\"\n",
    "    Energy\n",
    "    \n",
    "    input:\n",
    "        - v: quantum number\n",
    "    returns:\n",
    "        vth order of energy of harmonic oscillator\n",
    "    \"\"\"\n",
    "    E = (0.5+v)\n",
    "    return E\n",
    "\n",
    "for v in range(6):\n",
    "    f = phi_v(v)\n",
    "    E = H(f)/f\n",
    "    E = sym.simplify(E)\n",
    "    E\n"
   ]
  },
  {
   "cell_type": "markdown",
   "id": "45034f54-7d8d-4762-95fc-70b06d60160c",
   "metadata": {},
   "source": [
    "#### Lowest wavefunctions and their associated energy"
   ]
  },
  {
   "cell_type": "markdown",
   "id": "124f3a91",
   "metadata": {},
   "source": [
    "<div class=\"exE\">\n",
    "    \n",
    "Complete the previous plot by plotting the $\\Psi_v(x)$ at level $E_v$."
   ]
  },
  {
   "cell_type": "code",
   "execution_count": 7,
   "id": "5765e3db",
   "metadata": {},
   "outputs": [
    {
     "data": {
      "text/plain": [
       "[<matplotlib.lines.Line2D at 0x7f1568ce2fd0>]"
      ]
     },
     "execution_count": 7,
     "metadata": {},
     "output_type": "execute_result"
    },
    {
     "data": {
      "text/plain": [
       "<matplotlib.legend.Legend at 0x7f1568cd7f70>"
      ]
     },
     "execution_count": 7,
     "metadata": {},
     "output_type": "execute_result"
    },
    {
     "data": {
      "text/plain": [
       "Text(0.5, 0, '$x$')"
      ]
     },
     "execution_count": 7,
     "metadata": {},
     "output_type": "execute_result"
    },
    {
     "data": {
      "text/plain": [
       "Text(0, 0.5, '$\\\\phi_v(x)$')"
      ]
     },
     "execution_count": 7,
     "metadata": {},
     "output_type": "execute_result"
    },
    {
     "data": {
      "text/plain": [
       "[<matplotlib.lines.Line2D at 0x7f1568cfb3a0>]"
      ]
     },
     "execution_count": 7,
     "metadata": {},
     "output_type": "execute_result"
    },
    {
     "data": {
      "text/plain": [
       "<matplotlib.legend.Legend at 0x7f156ec2cd60>"
      ]
     },
     "execution_count": 7,
     "metadata": {},
     "output_type": "execute_result"
    },
    {
     "data": {
      "text/plain": [
       "Text(0.5, 0, '$x$')"
      ]
     },
     "execution_count": 7,
     "metadata": {},
     "output_type": "execute_result"
    },
    {
     "data": {
      "text/plain": [
       "Text(0, 0.5, '$\\\\phi_v(x)$')"
      ]
     },
     "execution_count": 7,
     "metadata": {},
     "output_type": "execute_result"
    },
    {
     "data": {
      "text/plain": [
       "[<matplotlib.lines.Line2D at 0x7f1568c83ee0>]"
      ]
     },
     "execution_count": 7,
     "metadata": {},
     "output_type": "execute_result"
    },
    {
     "data": {
      "text/plain": [
       "<matplotlib.legend.Legend at 0x7f1568c83d00>"
      ]
     },
     "execution_count": 7,
     "metadata": {},
     "output_type": "execute_result"
    },
    {
     "data": {
      "text/plain": [
       "Text(0.5, 0, '$x$')"
      ]
     },
     "execution_count": 7,
     "metadata": {},
     "output_type": "execute_result"
    },
    {
     "data": {
      "text/plain": [
       "Text(0, 0.5, '$\\\\phi_v(x)$')"
      ]
     },
     "execution_count": 7,
     "metadata": {},
     "output_type": "execute_result"
    },
    {
     "data": {
      "text/plain": [
       "[<matplotlib.lines.Line2D at 0x7f1568c8be20>]"
      ]
     },
     "execution_count": 7,
     "metadata": {},
     "output_type": "execute_result"
    },
    {
     "data": {
      "text/plain": [
       "<matplotlib.legend.Legend at 0x7f1568c8bca0>"
      ]
     },
     "execution_count": 7,
     "metadata": {},
     "output_type": "execute_result"
    },
    {
     "data": {
      "text/plain": [
       "Text(0.5, 0, '$x$')"
      ]
     },
     "execution_count": 7,
     "metadata": {},
     "output_type": "execute_result"
    },
    {
     "data": {
      "text/plain": [
       "Text(0, 0.5, '$\\\\phi_v(x)$')"
      ]
     },
     "execution_count": 7,
     "metadata": {},
     "output_type": "execute_result"
    },
    {
     "data": {
      "text/plain": [
       "[<matplotlib.lines.Line2D at 0x7f1568c9cfa0>]"
      ]
     },
     "execution_count": 7,
     "metadata": {},
     "output_type": "execute_result"
    },
    {
     "data": {
      "text/plain": [
       "<matplotlib.legend.Legend at 0x7f1568c9cf70>"
      ]
     },
     "execution_count": 7,
     "metadata": {},
     "output_type": "execute_result"
    },
    {
     "data": {
      "text/plain": [
       "Text(0.5, 0, '$x$')"
      ]
     },
     "execution_count": 7,
     "metadata": {},
     "output_type": "execute_result"
    },
    {
     "data": {
      "text/plain": [
       "Text(0, 0.5, '$\\\\phi_v(x)$')"
      ]
     },
     "execution_count": 7,
     "metadata": {},
     "output_type": "execute_result"
    },
    {
     "data": {
      "text/plain": [
       "[<matplotlib.lines.Line2D at 0x7f1568c8bf10>]"
      ]
     },
     "execution_count": 7,
     "metadata": {},
     "output_type": "execute_result"
    },
    {
     "data": {
      "text/plain": [
       "<matplotlib.legend.Legend at 0x7f1568cb6310>"
      ]
     },
     "execution_count": 7,
     "metadata": {},
     "output_type": "execute_result"
    },
    {
     "data": {
      "text/plain": [
       "Text(0.5, 0, '$x$')"
      ]
     },
     "execution_count": 7,
     "metadata": {},
     "output_type": "execute_result"
    },
    {
     "data": {
      "text/plain": [
       "Text(0, 0.5, '$\\\\phi_v(x)$')"
      ]
     },
     "execution_count": 7,
     "metadata": {},
     "output_type": "execute_result"
    },
    {
     "data": {
      "image/png": "[encoded data removed]",
      "text/plain": [
       "<Figure size 1000x500 with 1 Axes>"
      ]
     },
     "metadata": {},
     "output_type": "display_data"
    }
   ],
   "source": [
    "#### Plots\n",
    "\n",
    "for v in range(6):\n",
    "    # Generate linspace\n",
    "    f = phi_v(v)\n",
    "    _x = np.linspace(-5.,5.,100)\n",
    "    _f = sym.lambdify(x, f)\n",
    "    E = E_v(v)\n",
    "    \n",
    "    # Plotting\n",
    "    plt.plot(_x, _f(_x)+E, linewidth=2,label=\"v = {0}\".format(v))\n",
    "    plt.legend()\n",
    "    plt.xlabel(\"$x$\")\n",
    "    plt.ylabel(\"$\\phi_v(x)$\")\n",
    "plt.show()"
   ]
  },
  {
   "cell_type": "markdown",
   "id": "0272e1b2",
   "metadata": {},
   "source": [
    "### Expectations values\n",
    "\n",
    "<div class=\"intro\">\n",
    "\n",
    "The expectation value of an observable $\\Omega$ is given by\n",
    "$$<\\Omega >=\\int_{-\\infty}^{+\\infty}{\\Psi^*_v \\Omega \\Psi_v dx}$$   "
   ]
  },
  {
   "cell_type": "markdown",
   "id": "93b13247",
   "metadata": {},
   "source": [
    "<div class=\"exE\">    \n",
    "Show that, with the values chosen for the constants, $<x^2>=v+\\frac{1}{2}$."
   ]
  },
  {
   "cell_type": "code",
   "execution_count": 8,
   "id": "490cf746",
   "metadata": {},
   "outputs": [
    {
     "name": "stdout",
     "output_type": "stream",
     "text": [
      "exp(-0.5*x**2)/pi**(1/4)\n",
      "v = 0, E1 = 0.500000000000000, E2 = 0.5\n",
      "1.0*sqrt(2)*x*exp(-0.5*x**2)/pi**(1/4)\n",
      "v = 1, E1 = 1.50000000000000, E2 = 1.5\n",
      "sqrt(2)*(4.0*x**2 - 2)*exp(-0.5*x**2)/(4*pi**(1/4))\n",
      "v = 2, E1 = 2.50000000000000, E2 = 2.5\n",
      "sqrt(3)*(8.0*x**3 - 12.0*x)*exp(-0.5*x**2)/(12*pi**(1/4))\n",
      "v = 3, E1 = 3.50000000000000, E2 = 3.5\n",
      "sqrt(6)*(16.0*x**4 - 48.0*x**2 + 12)*exp(-0.5*x**2)/(48*pi**(1/4))\n",
      "v = 4, E1 = 4.50000000000000, E2 = 4.5\n",
      "sqrt(15)*(32.0*x**5 - 160.0*x**3 + 120.0*x)*exp(-0.5*x**2)/(240*pi**(1/4))\n",
      "v = 5, E1 = 5.50000000000000, E2 = 5.5\n"
     ]
    }
   ],
   "source": [
    "def expc_val(f, A):\n",
    "    \"\"\"\n",
    "    Expectation value of an observable\n",
    "    \n",
    "    input:\n",
    "        - f: a wavefunction of x, x belongs to (-oo, +oo)\n",
    "        - A: an observable\n",
    "    returns:\n",
    "        expectation value of A\n",
    "    \"\"\"\n",
    "    print(f)\n",
    "    expc = sym.integrate(f*A*f, (x,-oo,+oo))\n",
    "    expc = sym.simplify(expc)\n",
    "    return expc\n",
    "\n",
    "x = sym.symbols('x')\n",
    "for v in range(6):\n",
    "    E1 = expc_val(phi_v(v), x**2)\n",
    "    E2 = v + 0.5\n",
    "    assert E1 == E2\n",
    "    print(\"v = {0}, E1 = {1}, E2 = {2}\".format(v, E1, E2))\n"
   ]
  },
  {
   "cell_type": "markdown",
   "id": "bc6d4887",
   "metadata": {},
   "source": [
    "<div class=\"exE\">\n",
    "Search the nodes of the wavefunctions (<i>ie</i> solve $H_v(y)=0$) for different values of $v$ and make a plot of these nodes.\n",
    "\n",
    "</div>"
   ]
  },
  {
   "cell_type": "code",
   "execution_count": 9,
   "id": "2a36acfc-f44a-4a3c-8835-e0cf044da240",
   "metadata": {},
   "outputs": [
    {
     "data": {
      "text/plain": [
       "[<matplotlib.lines.Line2D at 0x7f1568b718e0>]"
      ]
     },
     "execution_count": 9,
     "metadata": {},
     "output_type": "execute_result"
    },
    {
     "data": {
      "text/plain": [
       "Text(0.5, 1.0, 'v = 5')"
      ]
     },
     "execution_count": 9,
     "metadata": {},
     "output_type": "execute_result"
    },
    {
     "data": {
      "text/plain": [
       "[<matplotlib.lines.Line2D at 0x7f1568b74820>]"
      ]
     },
     "execution_count": 9,
     "metadata": {},
     "output_type": "execute_result"
    },
    {
     "data": {
      "text/plain": [
       "[<matplotlib.lines.Line2D at 0x7f156e7568e0>]"
      ]
     },
     "execution_count": 9,
     "metadata": {},
     "output_type": "execute_result"
    },
    {
     "data": {
      "text/plain": [
       "Text(0.5, 1.0, 'v = 4')"
      ]
     },
     "execution_count": 9,
     "metadata": {},
     "output_type": "execute_result"
    },
    {
     "data": {
      "text/plain": [
       "[<matplotlib.lines.Line2D at 0x7f1568189d60>]"
      ]
     },
     "execution_count": 9,
     "metadata": {},
     "output_type": "execute_result"
    },
    {
     "data": {
      "text/plain": [
       "[<matplotlib.lines.Line2D at 0x7f15681fadf0>]"
      ]
     },
     "execution_count": 9,
     "metadata": {},
     "output_type": "execute_result"
    },
    {
     "data": {
      "text/plain": [
       "Text(0.5, 1.0, 'v = 3')"
      ]
     },
     "execution_count": 9,
     "metadata": {},
     "output_type": "execute_result"
    },
    {
     "data": {
      "text/plain": [
       "[<matplotlib.lines.Line2D at 0x7f15681faa30>]"
      ]
     },
     "execution_count": 9,
     "metadata": {},
     "output_type": "execute_result"
    },
    {
     "data": {
      "text/plain": [
       "[<matplotlib.lines.Line2D at 0x7f1568198eb0>]"
      ]
     },
     "execution_count": 9,
     "metadata": {},
     "output_type": "execute_result"
    },
    {
     "data": {
      "text/plain": [
       "Text(0.5, 1.0, 'v = 2')"
      ]
     },
     "execution_count": 9,
     "metadata": {},
     "output_type": "execute_result"
    },
    {
     "data": {
      "text/plain": [
       "[<matplotlib.lines.Line2D at 0x7f156818ef40>]"
      ]
     },
     "execution_count": 9,
     "metadata": {},
     "output_type": "execute_result"
    },
    {
     "data": {
      "text/plain": [
       "[<matplotlib.lines.Line2D at 0x7f1568b74940>]"
      ]
     },
     "execution_count": 9,
     "metadata": {},
     "output_type": "execute_result"
    },
    {
     "data": {
      "text/plain": [
       "Text(0.5, 1.0, 'v = 1')"
      ]
     },
     "execution_count": 9,
     "metadata": {},
     "output_type": "execute_result"
    },
    {
     "data": {
      "text/plain": [
       "[<matplotlib.lines.Line2D at 0x7f156e75ac40>]"
      ]
     },
     "execution_count": 9,
     "metadata": {},
     "output_type": "execute_result"
    },
    {
     "data": {
      "text/plain": [
       "[<matplotlib.lines.Line2D at 0x7f15681fad90>]"
      ]
     },
     "execution_count": 9,
     "metadata": {},
     "output_type": "execute_result"
    },
    {
     "data": {
      "text/plain": [
       "Text(0.5, 1.0, 'v = 0')"
      ]
     },
     "execution_count": 9,
     "metadata": {},
     "output_type": "execute_result"
    },
    {
     "data": {
      "text/plain": [
       "[<matplotlib.lines.Line2D at 0x7f156818ec10>]"
      ]
     },
     "execution_count": 9,
     "metadata": {},
     "output_type": "execute_result"
    },
    {
     "data": {
      "image/png": "[encoded data removed]",
      "text/plain": [
       "<Figure size 1000x500 with 6 Axes>"
      ]
     },
     "metadata": {},
     "output_type": "display_data"
    }
   ],
   "source": [
    "fig, axs = plt.subplots(6)\n",
    "\n",
    "for v in reversed(range(6)):\n",
    "    x, y = sym.symbols('x y')\n",
    "    sol = sym.solve(hermite_poly(v,y), y)\n",
    "    phi = phi_v(v)\n",
    "    _phi = sym.lambdify(x, phi)\n",
    "    _x = np.linspace(-5.,5.,100)\n",
    "    axs[v].plot(_x, _phi(_x), linewidth=2)\n",
    "    axs[v].set_title(\"v = {0}\".format(v))\n",
    "    axs[v].plot(sol, np.zeros(len(sol)), 'o', label=\"v = {0}\".format(v))\n"
   ]
  },
  {
   "cell_type": "markdown",
   "id": "ae70f4a8-31d8-424f-a1a9-a53d74341511",
   "metadata": {},
   "source": [
    "# End"
   ]
  },
  {
   "cell_type": "code",
   "execution_count": 10,
   "id": "898a0af5-6513-4be2-8538-0d741a4c4478",
   "metadata": {},
   "outputs": [
    {
     "data": {
      "text/markdown": [
       "**End at:** Friday 01 December 2023, 19:56:56  \n",
       "**Duration:** 00:00:08 133ms"
      ],
      "text/plain": [
       "<IPython.core.display.Markdown object>"
      ]
     },
     "metadata": {},
     "output_type": "display_data"
    },
    {
     "data": {
      "text/markdown": [
       "<p style=\"text-align: center\"><img width=\"800px\" src=\"./config/svg/logoEnd.svg\" style=\"margin-left:auto; margin-right:auto\"/></p>"
      ],
      "text/plain": [
       "<IPython.core.display.Markdown object>"
      ]
     },
     "metadata": {},
     "output_type": "display_data"
    }
   ],
   "source": [
    "vID.end(cwd0)"
   ]
  },
  {
   "cell_type": "code",
   "execution_count": null,
   "id": "65198501-d1ca-46e5-a6b6-9d2fa6114d0a",
   "metadata": {},
   "outputs": [],
   "source": []
  }
 ],
 "metadata": {
  "kernelspec": {
   "display_name": "Python 3 (ipykernel)",
   "language": "python",
   "name": "python3"
  },
  "language_info": {
   "codemirror_mode": {
    "name": "ipython",
    "version": 3
   },
   "file_extension": ".py",
   "mimetype": "text/x-python",
   "name": "python",
   "nbconvert_exporter": "python",
   "pygments_lexer": "ipython3",
   "version": "3.9.18"
  },
  "toc-autonumbering": false,
  "toc-showcode": false,
  "toc-showmarkdowntxt": false,
  "toc-showtags": false
 },
 "nbformat": 4,
 "nbformat_minor": 5
}
