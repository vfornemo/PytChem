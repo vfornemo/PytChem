{
 "cells": [
  {
   "cell_type": "code",
   "execution_count": 3,
   "id": "269396e1-4699-46d7-b7bc-8ef342174c94",
   "metadata": {},
   "outputs": [
    {
     "name": "stdout",
     "output_type": "stream",
     "text": [
      "/home/romuald/ENSEIGNEMENT/0-JupyterNotebooks/pyPhysChem\n"
     ]
    },
    {
     "data": {
      "text/html": [
       "<style>\n",
       "h1, h2, h3, h4, h5, h6 {\n",
       "  font-family: Verdana, \"DejaVu Sans\", \"Bitstream Vera Sans\", Geneva, sans-serif;\n",
       "  font-weight: bold;\n",
       "}\n",
       "body, exercice {\n",
       "  font-family: Verdana, \"DejaVu Sans\", \"Bitstream Vera Sans\", Geneva, sans-serif;\n",
       "  font-weight: 200;\n",
       "}\n",
       "h1 {\n",
       "  border: 0 solid #333;\n",
       "  padding: 30px ;\n",
       "  color: white;\n",
       "  background: #b11d01;\n",
       "  text-align: center;\n",
       "}\n",
       "h2 {\n",
       "  border: 3px solid #333;\n",
       "  padding: 18px ;\n",
       "  color: #b11d01;\n",
       "  background: #ffffff;\n",
       "  text-align: center;\n",
       "}\n",
       "h3 {\n",
       "  border: 0 solid #333;\n",
       "  padding: 12px ;\n",
       "  color: #000000;\n",
       "  background: #c1c1c1;\n",
       "  text-align: left;\n",
       "}\n",
       "h4 {\n",
       "  border: 0 solid #333;\n",
       "  padding: 2px ;\n",
       "  color: #000000;\n",
       "  background: #d9fffc;\n",
       "  text-align: left;\n",
       "}\n",
       "h5 {\n",
       "  border: 1px solid #333;\n",
       "  padding: 2px ;\n",
       "  color: #000000;\n",
       "  background: #ffffff;\n",
       "  text-align: left;\n",
       "}\n",
       ".rq {    \n",
       "    background-color: #fcf2f2;\n",
       "    border-color: #dFb5b4;\n",
       "    border-left: 5px solid #dfb5b4;\n",
       "    padding: 0.5em;\n",
       "    font-weight: 200;\n",
       "    }\n",
       ".intro {    \n",
       "    background-color: #f1f1f1;\n",
       "    border-color: #969696;\n",
       "    border-left: 5px solid #969696;\n",
       "    padding: 0.5em;\n",
       "    font-weight: 200;\n",
       "    }\n",
       ".exold {    \n",
       "    background-color: #b2dbea80;\n",
       "    border-color: #0055ff;\n",
       "    border-left: 10px solid #0055ff;\n",
       "    padding: 0.5em;\n",
       "    font-weight: 200;\n",
       "    }\n",
       ".ex {    \n",
       "    background-color: #b2dbea80;\n",
       "    padding: 0.5em;\n",
       "    padding-top: 0em;\n",
       "    font-weight: 200;\n",
       "    position:relative;\n",
       "    }\n",
       ".ex::before {\n",
       "    background-color: #b2dbea;\n",
       "    content:\"Exercice\";\n",
       "    margin-left:-0.5em;\n",
       "    margin-right:-0.5em;\n",
       "    padding-left:0.5em;\n",
       "    padding-right:0.5em;\n",
       "    font-weight: 600;\n",
       "    display: block;\n",
       "    }\n",
       ".app {    \n",
       "    background-color: #b2dbea80;\n",
       "    padding: 0.5em;\n",
       "    padding-top: 0em;\n",
       "    font-weight: 200;\n",
       "    position:relative;\n",
       "    }\n",
       ".app::before {\n",
       "    background-color: #b2dbea;\n",
       "    content:\"Application\";\n",
       "    margin-left:-0.5em;\n",
       "    margin-right:-0.5em;\n",
       "    padding-left:0.5em;\n",
       "    padding-right:0.5em;\n",
       "    font-weight: 600;\n",
       "    display: block;\n",
       "    }\n",
       "</style>\n"
      ],
      "text/plain": [
       "<IPython.core.display.HTML object>"
      ]
     },
     "metadata": {},
     "output_type": "display_data"
    },
    {
     "data": {
      "text/markdown": [
       "**Start at:** Wednesday 05 April 2023, 12:26:48  \n",
       "**Hostname:** insa-12842 (Linux)"
      ],
      "text/plain": [
       "<IPython.core.display.Markdown object>"
      ]
     },
     "metadata": {},
     "output_type": "display_data"
    },
    {
     "data": {
      "text/markdown": [
       "<p style=\"text-align: center\"><img width=\"800px\" src=\"./config/svg/pyPhysChemBanner.svg\" style=\"margin-left:auto; margin-right:auto\"/></p>"
      ],
      "text/plain": [
       "<IPython.core.display.Markdown object>"
      ]
     },
     "metadata": {},
     "output_type": "display_data"
    }
   ],
   "source": [
    "import os\n",
    "import sys\n",
    "\n",
    "print(os.getcwd())\n",
    "cwd0 = './config/'\n",
    "sys.path.append(cwd0)\n",
    "\n",
    "import visualID_Eng as vID\n",
    "from visualID_Eng import color\n",
    "vID.init(cwd0)\n",
    "import tools4pyPhysChem as t4pPC"
   ]
  },
  {
   "cell_type": "markdown",
   "id": "a1b3496a-7f24-4bef-ae7c-617f267ab7ad",
   "metadata": {
    "tags": []
   },
   "source": [
    "# Équations différentielles\n",
    "\n",
    "## **1.** Rappels de mathématiques\n",
    "\n",
    "### **1.1.** Définitions\n",
    "On appelle équation différentielle toute équation possédant les deux caractéristiques suivantes :\n",
    "\n",
    "- l’inconnue de l’équation est une fonction définie sur un ensemble $\\Omega\\subset\\mathbb{R}$ et à valeurs dans $\\mathbb{R}$\n",
    "- l’équation met en relation cette fonction inconnue avec ses dérivées (première ou d'ordre supérieur)\n",
    "\n",
    "On distingue deux grandes classes d’équations différentielles :\n",
    "\n",
    "- les équations différentielles ordinaires (**EDO**) lorsque la fonction inconnue, usuellement notée *y*, ne dépend que d’une seule variable réelle (*x* ou *t* en général),\n",
    "- les équations aux dérivées partielles (**EDP**) lorsque l’inconnue, en général notée *u* dans ce cas, est une fonction à plusieurs variables (*x*, *y* ou *t*, *x* ou *x*, *y*, *z*, *t* etc...)\n",
    "\n",
    "Les équations différentielles sont utilisées pour modéliser mathématiquement de nombreux phénomènes physiques, biologiques ou encore financiers. Leur étude revêt donc un intérêt particulier dans le monde de la recherche et de l’industrie.\n",
    "\n",
    "On a en particulier besoin de résoudre des EDO en **cinétique chimique**.\n",
    "\n",
    "### **1.2.** Équations différentielles ordinaires (EDO)\n",
    "\n",
    "Une EDO d'ordre *n* est une équation de la forme :\n",
    "\n",
    "$$F(x,y,y',y\",y^{(3)}....,y^{(n)})=0$$\n",
    "\n",
    "où *y* et ses dérivées sont des fonctions de *x*\n",
    "\n",
    "Une EDO d'ordre *n* est dite résolue si on peut exprimer la dérivée la plus forte en fonction de *x* et des dérivées précédentes :\n",
    "\n",
    "$$y^{(n)}=G(x,y,y',y\",y^{(3)}....,y^{(n-1)})$$\n",
    "\n",
    "Dans la classe des EDO, celles qui vont plus particulièrement nous intéresser sont les **EDO linéaires** (**EDOL**):\n",
    "\n",
    "$$a_{0}(x)y+a_{1}(x)y'+\\ldots+a_{n}(x)y^{(n)}-b(x)=0$$\n",
    "\n",
    "c'est-à-dire : $a_{0}(x)y+a_{1}(x)y'+\\ldots+a_{n}(x)y^{(n)}=b(x)$\n",
    "\n",
    "$b(x)$ est appelé le second membre de l'EDOL"
   ]
  },
  {
   "cell_type": "markdown",
   "id": "78161ba7-d6c3-43c7-bc22-a34c3d8f8d1e",
   "metadata": {},
   "source": [
    "#### EDOL sans et avec second membre. Solution homogène et solution particulière\n",
    "\n",
    "sans : $a_{0}(x)y+a_{1}(x)y'+\\ldots+a_{n}(x)y^{(n)}=0$\n",
    "\n",
    "avec : $a_{0}(x)y+a_{1}(x)y'+\\ldots+a_{n}(x)y^{(n)}=b(x)$\n",
    "\n",
    "De façon générale, la solution de l'équation avec second membre est la somme de 2 termes :\n",
    "\n",
    "$$y=y_\\mathrm{H} + y_\\mathrm{P}$$\n",
    "\n",
    "- où $y_\\mathrm{H}$ est la solution de l'équation sans second membre, qu'on appelle solution <span style=\"color:red\">**h**</span>omogène\n",
    "\n",
    "$$a_{0}(x)\\color{red}{y_\\mathrm{H}}+a_{1}(x)\\color{red}{y_\\mathrm{H}'}+\\ldots+a_{n}(x)\\color{red}{y_\\mathrm{H}^{(n)}}=0$$\n",
    "\n",
    "\n",
    "- et où $y_\\mathrm{P}$ est une solution <span style=\"color:red\">**p**</span>articulière de l'équation générale, c'est-à-dire que c'est toute solution qui vérifie que \n",
    "\n",
    "$$a_{0}(x)\\color{red}{y_\\mathrm{P}}+a_{1}(x)\\color{red}{y_\\mathrm{P}'}+\\ldots+a_{n}(x)\\color{red}{y_\\mathrm{P}^{(n)}}=b(x)$$\n",
    "\n",
    "\n",
    "#### EDOL d'ordre 1 sans second membre\n",
    "\n",
    "##### coefficient variable, sans second membre\n",
    "\n",
    "$y'+a(x)y=0$\n",
    "\n",
    "solution :\n",
    "$$y_\\mathrm{H}=\\lambda e^{-A(x)}$$\n",
    "\n",
    "où $A(x)$ est une primitive de $a(x)$, et $\\lambda$ est une constante réelle ou complexe\n",
    "\n",
    "\n",
    "##### Coefficient constant, sans second membre\n",
    "\n",
    "$y'+ay=0\\,\\,\\,\\,\\,\\,\\,\\,\\,\\,a\\in\\mathbb{R}$\n",
    "\n",
    "solution :\n",
    "$$y_\\mathrm{H}=\\lambda e^{-ax}$$\n",
    "\n",
    "(*ax* est bien une primitive de *a*)\n",
    "\n",
    "<div class=\"rq\">\n",
    "    \n",
    "OK, la solution est du type $y_\\mathrm{H}=\\lambda e^{-ax}$ ou $y_\\mathrm{H}=\\lambda e^{-A(x)}$.\n",
    "\n",
    "**Mais quelle est la valeur de $\\lambda$ ?**\n",
    "\n",
    "Ça dépend... des conditions initiales du probème. Supposons que l'évolution de la concentration d'une espèce B en fonction du temps soit solution d'une EDOL d'ordre 1, et de la forme $[\\mathrm{B}]_\\mathrm{H}=\\lambda e^{-2t}$. Information supplémentaire : la concentration initiale de B vaut $b_\\mathrm{0}$.\n",
    "    \n",
    "On reprend l'équation $[\\mathrm{B}]_\\mathrm{H}=\\lambda e^{-2t}$ en appliquant les conditions initiales, ce qui donne : $ b_0 = \\lambda e^{0}$\n",
    "    \n",
    "D'où (faut-il rappeler que $e^0 = 1$ ?): $\\lambda = b_0$\n",
    "    \n",
    "Bref, la solution homogène, compte tenu des conditions initiales, est : \n",
    "    \n",
    "$$[\\mathrm{B}]_\\mathrm{H}=b_0 e^{-2t}$$ \n",
    "\n",
    "</div>"
   ]
  },
  {
   "cell_type": "markdown",
   "id": "bc3d4591-8a72-4daf-a630-4cbc35dd454e",
   "metadata": {},
   "source": [
    "#### EDOL d'ordre 1 avec second membre\n",
    "\n",
    "$$y'+a(x)y=b(x)$$\n",
    "\n",
    "La solution générale a donc pour expression $y=y_\\mathrm{H}+y_\\mathrm{P}$\n",
    "\n",
    "où $y_\\mathrm{H}$ est solution de $y'+a(x)y=0$ et $y_\\mathrm{P}$ est une solution particulière.\n",
    "\n",
    "<div class=\"rq\">\n",
    "    \n",
    "**Comment fait-on pour trouver la solution particulière ?** \n",
    "    \n",
    "- Parfois on a l'intuition d'une solution évidente\n",
    "- Parfois on utilise la \"*méthode de variation de la constante*\"\n",
    "\n",
    "</div>"
   ]
  },
  {
   "cell_type": "markdown",
   "id": "2f8c2c4a-7140-4ae9-9041-d5f740704c83",
   "metadata": {},
   "source": [
    "#### EDOL d'ordre 2\n",
    "\n",
    "##### coefficients constants, sans second membre\n",
    "\n",
    "$$y\"+ay'+by=0\\,\\,\\,\\,\\,\\,\\,\\,\\,\\,a,b\\in\\mathbb{R}$$\n",
    "\n",
    "il faut d'abord résoudre le polynome caractéristique d'ordre 2 : $r^2+ar+b=0$, ce qui mène à deux racines $r_1$ et $r_2$ \n",
    "\n",
    "- solution de l'EDOL si $r_1$ et $r_2$ sont réels ou complexes : \n",
    "\n",
    "$$y_{\\mathrm{H}}=\\lambda e^{r_{1}x}+\\mu e^{r_{2}x}$$\n",
    "\n",
    "- solution de l'EDOL si $r_1$ et $r_2$ sont identiques (on parle de racine double) : \n",
    "\n",
    "$$y_{\\mathrm{H}}=(\\lambda x+\\mu)e^{rx}$$\n",
    "\n",
    "NB. lorsque $r_1$ et $r_2$ sont deux racines complexes, elles sont conjuguées : $r_{1}=\\alpha+i\\beta$ et $r_{2}=\\alpha-i\\beta$. La solution de l'EDOL peut être développée en :\n",
    "\n",
    "$$y_{\\mathrm{H}}=\\lambda e^{\\alpha x}\\cos(\\beta x)+\\mu e^{\\alpha x}\\sin(\\beta x)$$"
   ]
  },
  {
   "cell_type": "markdown",
   "id": "4b45a92c-098d-4cbc-9b03-3a1d88f89b3c",
   "metadata": {},
   "source": [
    "### **1.3.** Équations aux dérivées partielles (EDP)\n",
    "\n",
    "hors programme"
   ]
  },
  {
   "cell_type": "markdown",
   "id": "1b7753a8-23eb-4567-9d0e-e40485b30fcb",
   "metadata": {},
   "source": [
    "### **1.4.** Je suis perdu avec tous ces maths...\n",
    "\n",
    "<div class=\"rq\">\n",
    "\n",
    "xxxxxxxx\n",
    "\n",
    "</div>"
   ]
  },
  {
   "cell_type": "markdown",
   "id": "6c653934-9def-4a8e-bffa-1b49eb403e19",
   "metadata": {},
   "source": [
    "## **2.** Résolution symbolique d'EDO\n",
    "\n",
    "On va à nouveau faire appel au module `SymPy` et à ses fonctions permettant de résoudre des \"ode\", pour Ordinary Differential Equation."
   ]
  },
  {
   "cell_type": "code",
   "execution_count": 3,
   "id": "baa12eda-b90e-402a-a8e2-b8e9cae7421c",
   "metadata": {},
   "outputs": [],
   "source": [
    "import sympy as sym\n",
    "from tools4pyPhysChem import PrintLatexStyleSymPyEquation as ple"
   ]
  },
  {
   "cell_type": "markdown",
   "id": "42b6fb61-b8b7-4fa0-b8a7-f8567f74ac73",
   "metadata": {},
   "source": [
    "### **2.1.** EDO et EDOL d'ordre 1\n",
    "\n",
    "#### **2.1.a.** Coefficient constant, sans second membre\n",
    "\n",
    "$$y'+ay=0$$\n",
    "\n",
    "On attend comme solution : $y_\\mathrm{H}=\\lambda e^{-ax}$"
   ]
  },
  {
   "cell_type": "code",
   "execution_count": 4,
   "id": "70481351-d2a4-490c-977a-119c88e5f2ed",
   "metadata": {},
   "outputs": [
    {
     "data": {
      "text/latex": [
       "$\\displaystyle a y{\\left(x \\right)} + \\frac{d}{d x} y{\\left(x \\right)} = 0$"
      ],
      "text/plain": [
       "<IPython.core.display.Math object>"
      ]
     },
     "metadata": {},
     "output_type": "display_data"
    },
    {
     "data": {
      "text/latex": [
       "$\\displaystyle y{\\left(x \\right)} = C_{1} e^{- a x}$"
      ],
      "text/plain": [
       "Eq(y(x), C1*exp(-a*x))"
      ]
     },
     "execution_count": 4,
     "metadata": {},
     "output_type": "execute_result"
    }
   ],
   "source": [
    "x = sym.Symbol('x')\n",
    "a = sym.Symbol('a')\n",
    "y = sym.Function('y')(x)\n",
    "dydx = y.diff(x)\n",
    "expr = sym.Eq(dydx+a*y, 0)\n",
    "ple(expr)\n",
    "sym.dsolve(expr)"
   ]
  },
  {
   "cell_type": "markdown",
   "id": "d14a9fcc-e8f9-4229-9c6c-c365535619df",
   "metadata": {},
   "source": [
    "C'est bon. `SymPy` a appelé la constante $C_1$ au lieu de $\\lambda$, ce qui est son droit le plus strict. Mais à part cette convention différente, c'est la solution attendue."
   ]
  },
  {
   "cell_type": "markdown",
   "id": "dfd7825a-f3d4-4706-94fd-e8ec93ff8a26",
   "metadata": {},
   "source": [
    "#### **2.1.b.** Coefficient variable, sans second membre\n",
    "\n",
    "$$y'+a(x)y=0$$\n",
    "\n",
    "c'est-à-dire :\n",
    "\n",
    "$$\\frac{dy(x)}{dx}+a(x)y(x)=0$$\n",
    "\n",
    "(c'est cette notation, dite de Leibniz, qui est utilisée par `SymPy`)\n",
    "\n",
    "On attend comme solution : $y_\\mathrm{H}=\\lambda e^{-A(x)}$, où $A(x)$ est la primitive de $a(x)$"
   ]
  },
  {
   "cell_type": "code",
   "execution_count": 6,
   "id": "41ee1aec-a6fe-4e47-b716-82f900d82bd5",
   "metadata": {},
   "outputs": [
    {
     "data": {
      "text/latex": [
       "$\\displaystyle y$"
      ],
      "text/plain": [
       "<IPython.core.display.Math object>"
      ]
     },
     "metadata": {},
     "output_type": "display_data"
    },
    {
     "data": {
      "text/latex": [
       "$\\displaystyle \\frac{d}{d x} y{\\left(x \\right)}$"
      ],
      "text/plain": [
       "<IPython.core.display.Math object>"
      ]
     },
     "metadata": {},
     "output_type": "display_data"
    },
    {
     "data": {
      "text/latex": [
       "$\\displaystyle a{\\left(x \\right)} y{\\left(x \\right)} + \\frac{d}{d x} y{\\left(x \\right)} = 0$"
      ],
      "text/plain": [
       "<IPython.core.display.Math object>"
      ]
     },
     "metadata": {},
     "output_type": "display_data"
    },
    {
     "data": {
      "text/latex": [
       "$\\displaystyle y{\\left(x \\right)} = C_{1} e^{- \\int a{\\left(x \\right)}\\, dx}$"
      ],
      "text/plain": [
       "Eq(y(x), C1*exp(-Integral(a(x), x)))"
      ]
     },
     "execution_count": 6,
     "metadata": {},
     "output_type": "execute_result"
    }
   ],
   "source": [
    "x = sym.Symbol('x')\n",
    "a = sym.Function('a') # c'est ici que se joue la différence avec le cas précédent\n",
    "y = sym.Function('y')\n",
    "ple(y)\n",
    "dydx = y(x).diff(x)\n",
    "ple(dydx)\n",
    "expr = sym.Eq(dydx+a(x)*y(x), 0)\n",
    "ple(expr)\n",
    "\n",
    "sym.dsolve(expr,y(x))"
   ]
  },
  {
   "cell_type": "markdown",
   "id": "73de0a20-72d8-4c53-afc2-325e4e1222ff",
   "metadata": {},
   "source": [
    "Prenons maintenant comme exemple $a(x) = 2x$, dont une primitive est $x^2$ "
   ]
  },
  {
   "cell_type": "code",
   "execution_count": 5,
   "id": "1503203f-9af8-4ae4-9128-54ed8692307b",
   "metadata": {},
   "outputs": [
    {
     "data": {
      "text/latex": [
       "$\\displaystyle y{\\left(x \\right)}$"
      ],
      "text/plain": [
       "<IPython.core.display.Math object>"
      ]
     },
     "metadata": {},
     "output_type": "display_data"
    },
    {
     "data": {
      "text/latex": [
       "$\\displaystyle \\frac{d}{d x} y{\\left(x \\right)}$"
      ],
      "text/plain": [
       "<IPython.core.display.Math object>"
      ]
     },
     "metadata": {},
     "output_type": "display_data"
    },
    {
     "data": {
      "text/latex": [
       "$\\displaystyle 2 x y{\\left(x \\right)} + \\frac{d}{d x} y{\\left(x \\right)} = 0$"
      ],
      "text/plain": [
       "<IPython.core.display.Math object>"
      ]
     },
     "metadata": {},
     "output_type": "display_data"
    },
    {
     "data": {
      "text/latex": [
       "$\\displaystyle y{\\left(x \\right)} = C_{1} e^{- x^{2}}$"
      ],
      "text/plain": [
       "Eq(y(x), C1*exp(-x**2))"
      ]
     },
     "execution_count": 5,
     "metadata": {},
     "output_type": "execute_result"
    }
   ],
   "source": [
    "x = sym.Symbol('x')\n",
    "def a(x):\n",
    "    return 2*x\n",
    "y = sym.Function('y')\n",
    "ple(y(x))\n",
    "dydx = y(x).diff(x)\n",
    "ple(dydx)\n",
    "expr = sym.Eq(dydx+a(x)*y(x), 0)\n",
    "ple(expr)\n",
    "sym.dsolve(expr,y(x))"
   ]
  },
  {
   "cell_type": "markdown",
   "id": "4dc7c46d-0bd9-45d8-8e0d-59643dccf479",
   "metadata": {},
   "source": [
    "Et maitenant, introduisons une condition initiale, par exemple *y* = *y*0 lorsque *x* = 0\n",
    "\n",
    "On a donc le système suivant :\n",
    "\n",
    "$$\\left\\{ \\begin{array}{c}\n",
    "\\frac{dy(x)}{dx}+2xy(x)=0\\\\\n",
    "y(0)=y_{0}\n",
    "\\end{array}\\right.$$"
   ]
  },
  {
   "cell_type": "code",
   "execution_count": 7,
   "id": "e2c75e05-3c5b-4b4a-a59a-f893c7c56244",
   "metadata": {},
   "outputs": [
    {
     "data": {
      "text/latex": [
       "$\\displaystyle y{\\left(x \\right)} = y_{0} e^{- x^{2}}$"
      ],
      "text/plain": [
       "Eq(y(x), y0*exp(-x**2))"
      ]
     },
     "execution_count": 7,
     "metadata": {},
     "output_type": "execute_result"
    }
   ],
   "source": [
    "sym.dsolve(expr,y(x),ics={y(0): 'y0'})"
   ]
  },
  {
   "cell_type": "markdown",
   "id": "2e7e76a7-5ceb-44f7-a469-4adc9f7fd6d2",
   "metadata": {
    "tags": []
   },
   "source": [
    "<div class=\"rq\">\n",
    "\n",
    "Pourrait-on maintenant considérer un **cas général d'EDOL d'ordre 1** avec coefficient variable et second membre variable ou constant ?\n",
    "\n",
    "</div>\n",
    "\n",
    "Bien sûr, on va voir que c'est un **appel de fonction très simple** qui va nous permettre de retrouver ce qui est dans les documents qui traitent des équations différentielles"
   ]
  },
  {
   "cell_type": "markdown",
   "id": "7c37421b-53d6-4c10-be64-e90b35d2b6d4",
   "metadata": {},
   "source": [
    "#### **2.1.c.** Cas général\n",
    "\n",
    "il faut bien poser le système à résoudre. On va l'écrire avec la notation de Leibniz.\n",
    "\n",
    "- Sur la première ligne on indique l'équation différentielle du type $y'(x)+a(x)y=\\mathrm{second\\,\\,membre}$\n",
    "\n",
    "- Sur la deuxième ligne on indique les conditions initiales, s'il en existe. S'il n'y en a pas, on n'aura pas de solution unique, c'est-à-dire que la solution dépendra d'un paramètre\n",
    "\n",
    "$$\\left\\{ \\begin{array}{c}\n",
    "\\frac{dy(x)}{dx}+a(x)y(x)=b(x)\\\\\n",
    "y(0)=y_{0}\n",
    "\\end{array}\\right.$$\n",
    "\n",
    "Voilà comment ça se traduit avec `SymPy` :\n",
    "\n",
    "**Patience !!** On a demandé quelque chose de compliqué à `SymPy`. "
   ]
  },
  {
   "cell_type": "code",
   "execution_count": 8,
   "id": "0b67d102-796d-4867-8078-fc76b9e08757",
   "metadata": {},
   "outputs": [
    {
     "data": {
      "text/latex": [
       "$\\displaystyle y$"
      ],
      "text/plain": [
       "<IPython.core.display.Math object>"
      ]
     },
     "metadata": {},
     "output_type": "display_data"
    },
    {
     "data": {
      "text/latex": [
       "$\\displaystyle \\frac{d}{d x} y{\\left(x \\right)}$"
      ],
      "text/plain": [
       "<IPython.core.display.Math object>"
      ]
     },
     "metadata": {},
     "output_type": "display_data"
    },
    {
     "data": {
      "text/latex": [
       "$\\displaystyle a{\\left(x \\right)} y{\\left(x \\right)} + \\frac{d}{d x} y{\\left(x \\right)} = b{\\left(x \\right)}$"
      ],
      "text/plain": [
       "<IPython.core.display.Math object>"
      ]
     },
     "metadata": {},
     "output_type": "display_data"
    },
    {
     "data": {
      "text/latex": [
       "$\\displaystyle \\left(e^{\\int a{\\left(x \\right)}\\, dx} - \\int a{\\left(x \\right)} e^{\\int a{\\left(x \\right)}\\, dx}\\, dx\\right) y{\\left(x \\right)} + \\int \\left(a{\\left(x \\right)} y{\\left(x \\right)} - b{\\left(x \\right)}\\right) e^{\\int a{\\left(x \\right)}\\, dx}\\, dx = C_{1}$"
      ],
      "text/plain": [
       "Eq((exp(Integral(a(x), x)) - Integral(a(x)*exp(Integral(a(x), x)), x))*y(x) + Integral((a(x)*y(x) - b(x))*exp(Integral(a(x), x)), x), C1)"
      ]
     },
     "execution_count": 8,
     "metadata": {},
     "output_type": "execute_result"
    }
   ],
   "source": [
    "x = sym.Symbol('x')\n",
    "a = sym.Function('a')\n",
    "b = sym.Function('b')\n",
    "y = sym.Function('y')\n",
    "ple(y)\n",
    "dydx = y(x).diff(x)\n",
    "ple(dydx)\n",
    "expr = sym.Eq(dydx+a(x)*y(x), b(x))\n",
    "ple(expr)\n",
    "\n",
    "sym.dsolve(expr,y(x))"
   ]
  },
  {
   "cell_type": "markdown",
   "id": "bb2f4178-a043-4010-8ca1-8ebf80dea33b",
   "metadata": {
    "tags": []
   },
   "source": [
    "<div class=\"rq\">\n",
    "\n",
    "Ouh là ! On a remplacé une expression déjà pas simple, $\\frac{dy(x)}{dx}+a(x)y(x)=b(x)$, par une expression encore plus compliquée !!\n",
    "\n",
    "</div>\n",
    "\n",
    "<br>Normal, puisqu'on n'a pas considéré des cas concrets, c'est-à-dire des expressions précises pour $a(x)$ et $b(x)$. On va maintenant faire la même résolution, mais avec des exemples plus précis."
   ]
  },
  {
   "cell_type": "markdown",
   "id": "57b04d22-a19b-47da-8568-4829fc490026",
   "metadata": {
    "tags": []
   },
   "source": [
    "##### - Cinétique d'ordre un d'une réaction chimique\n",
    "\n",
    "Soit une réaction de transformation directe (on dit élémentaire) d'une espèce A en une espèce B : A → B\n",
    "\n",
    "On peut démontrer que la variation de concentration de A au cours du temps est solution d'une équation différentielle. On notera $a_0$ la concentration initiale de l'espèce A. \n",
    "\n",
    "Le système à résoudre est :\n",
    "\n",
    "$$\\left\\{ \\begin{array}{c}\n",
    "-\\frac{d[\\mathrm{A}]_t}{dt}=k[\\mathrm{A}]_t\\\\\n",
    "[\\mathrm{A}]_{t=0}=a_{0}\n",
    "\\end{array}\\right.$$\n",
    "\n",
    "- $k$ est une constante appelée constante de vitesse de la réaction. Elle ne dépend pas du temps\n",
    "- [A] est la concentration de l'espèce A, qui varie au cours du temps\n",
    "- $a_0$ est la concentration initiale de A. C'est une constante\n",
    "\n",
    "C'est bien une EDOL d'ordre 1, du type (la variable est ici le temps *t*, et non pas *x*)\n",
    "\n",
    "$$\\left\\{ \\begin{array}{c}\n",
    "\\frac{dy(t)}{dt}+a(t)y(t)=b(t)\\\\\n",
    "y(0)=y_{0}\n",
    "\\end{array}\\right.$$\n",
    "\n",
    "avec ici $b(t)$ : 0, $a(t) : k$, et $y(t) : [\\mathrm{A}]_t$, la concentration, qui dépend du temps\n",
    "\n",
    "Le signe \"-\" devant $\\frac{d[\\mathrm{A}]_t}{dt}$ n'est pas un problème, le solver de `SymPy` saura s'en sortir"
   ]
  },
  {
   "cell_type": "code",
   "execution_count": 6,
   "id": "08a78fa0-1d78-4a13-afcd-c35a20374e31",
   "metadata": {},
   "outputs": [
    {
     "data": {
      "text/latex": [
       "$\\displaystyle \\frac{d}{d t} A{\\left(t \\right)}$"
      ],
      "text/plain": [
       "<IPython.core.display.Math object>"
      ]
     },
     "metadata": {},
     "output_type": "display_data"
    },
    {
     "data": {
      "text/latex": [
       "$\\displaystyle - k A{\\left(t \\right)} - \\frac{d}{d t} A{\\left(t \\right)} = 0$"
      ],
      "text/plain": [
       "<IPython.core.display.Math object>"
      ]
     },
     "metadata": {},
     "output_type": "display_data"
    },
    {
     "data": {
      "text/latex": [
       "$\\displaystyle A{\\left(t \\right)} = a_{0} e^{- k t}$"
      ],
      "text/plain": [
       "Eq(A(t), a0*exp(-k*t))"
      ]
     },
     "execution_count": 6,
     "metadata": {},
     "output_type": "execute_result"
    }
   ],
   "source": [
    "t = sym.Symbol('t')\n",
    "k = sym.Symbol('k')\n",
    "A = sym.Function('A')\n",
    "dAdt = A(t).diff(t)\n",
    "ple(dAdt)\n",
    "expr = sym.Eq(-dAdt-k*A(t), 0)\n",
    "ple(expr)\n",
    "\n",
    "sym.dsolve(expr,A(t),ics={A(0): 'a0'})"
   ]
  },
  {
   "cell_type": "markdown",
   "id": "83bbc80d-ebe9-4140-a535-e3cda11d7820",
   "metadata": {
    "tags": []
   },
   "source": [
    "##### - Cinétique d'ordre deux d'une réaction chimique\n",
    "\n",
    "Soit une réaction bimoléculaire de deux espèces A en une espèce B : 2A → B\n",
    "\n",
    "On peut démontrer que la variation de concentration de A au cours du temps est solution d'une équation différentielle. On notera $a_0$ la concentration initiale de l'espèce A. \n",
    "\n",
    "Le système à résoudre est :\n",
    "\n",
    "$$\\left\\{ \\begin{array}{c}\n",
    "-\\frac{1}{2}\\frac{d[\\mathrm{A}]_t}{dt}=k[\\mathrm{A}]_t^2\\\\\n",
    "[\\mathrm{A}]_{t=0}=a_{0}\n",
    "\\end{array}\\right.$$\n",
    "\n",
    "- $k$ est la constante de vitesse de la réaction. Elle ne dépend toujours pas du temps\n",
    "- [A] est la concentration de l'espèce A, qui varie au cours du temps\n",
    "- $a_0$ est la concentration initiale de A. C'est une constante\n",
    "\n",
    "On va adapter cette équation pour qu'elle soit de la forme ci-dessous, ce qui va nous permettre de directement appliquer la résolution d'équations différentielles de `SymPy`.\n",
    "\n",
    "$$\\left\\{ \\begin{array}{c}\n",
    "\\frac{dy(x)}{dx}+a(x)y(x)=b(x)\\\\\n",
    "y(0)=y_{0}\n",
    "\\end{array}\\right.$$\n",
    "\n",
    "$$\\left\\{ \\begin{array}{c}\n",
    "\\frac{d[\\mathrm{A}]_t}{dx}+2k[\\mathrm{A}]_t^2=0\\\\\n",
    "[\\mathrm{A}]_{t=0}=a_{0}\n",
    "\\end{array}\\right.$$\n",
    "\n",
    "<div class=\"rq\">\n",
    "\n",
    "<span style='color:red'>**STOOOOOOOP !!!** Ça ne ressemble pas à ce qu'on a expliqué jusqu'à présent, puisque la fonction [A] est au carré !!</span>\n",
    "    \n",
    "<br>**Bien vu !** Ce n'st pas une EDOL. Mais même si vous ne savez pas la résoudre après les rappels de cours précédents, `SymPy` sait la résoudre, lui, car il s'agit bien d'une équation différentielle ordinaire (EDO), dont la définition générale est :\n",
    "    \n",
    "$$F(t,y,y',y\",y^{(3)}....,y^{(n)})=0$$\n",
    "    \n",
    "</div>\n",
    "\n",
    "\n"
   ]
  },
  {
   "cell_type": "code",
   "execution_count": 10,
   "id": "5465fa1f-6c24-48fa-963d-e6a02db83475",
   "metadata": {},
   "outputs": [
    {
     "data": {
      "text/latex": [
       "$\\displaystyle \\frac{d}{d x} y{\\left(x \\right)}$"
      ],
      "text/plain": [
       "<IPython.core.display.Math object>"
      ]
     },
     "metadata": {},
     "output_type": "display_data"
    },
    {
     "data": {
      "text/latex": [
       "$\\displaystyle - k A^{2}{\\left(t \\right)} - 0.5 \\frac{d}{d t} A{\\left(t \\right)} = 0$"
      ],
      "text/plain": [
       "<IPython.core.display.Math object>"
      ]
     },
     "metadata": {},
     "output_type": "display_data"
    },
    {
     "data": {
      "text/latex": [
       "$\\displaystyle A{\\left(t \\right)} = - \\frac{1}{- 2.0 k t - \\frac{1}{a_{0}}}$"
      ],
      "text/plain": [
       "Eq(A(t), -1/(-2.0*k*t - 1/a0))"
      ]
     },
     "execution_count": 10,
     "metadata": {},
     "output_type": "execute_result"
    }
   ],
   "source": [
    "t = sym.Symbol('t')\n",
    "k = sym.Symbol('k')\n",
    "A = sym.Function('A')\n",
    "dAdt = A(t).diff(t)\n",
    "ple(dydx)\n",
    "expr = sym.Eq(-(1/2)*dAdt-k*A(t)**2, 0)\n",
    "ple(expr)\n",
    "\n",
    "sym.dsolve(expr,A(t),ics={A(0): 'a0'})"
   ]
  },
  {
   "cell_type": "markdown",
   "id": "6891acf9-2913-49b9-8862-096667c668b8",
   "metadata": {},
   "source": [
    "##### - Un exemple tiré de la physique : l'oscillateur harmonique\n",
    "\n",
    "Soit un objet de masse *m* fixé à un mur par un ressort de raideur *k*. On appelle position d'équilibre celle pour laquelle la masse est immobile, c'est-à-dire que le ressort ne vibre pas. Si on tire dessus, puisqu'on le relâche, on déclenche un mouvement d'oscillation. On peut démontrer que le déplacement horizontal de la masse par rapport à la position d'équilibre, $x$, est solution d'une EDO d'ordre 2. \n",
    "\n",
    "On notera $x_0$ l'étirement qui a été appliqué à *t* = 0, mais sans lui donner une vitesse initiale. On a deux conditions initiales à définir.\n",
    "\n",
    "Le système à résoudre est le suivant :\n",
    "\n",
    "$$\\left\\{ \\begin{array}{c}\n",
    "m\\frac{d^2x(t)}{dt^2}+kx(t)=0\\\\\n",
    "x(0)=x_{0}\\\\\n",
    "\\left(\\frac{dx(t)}{dt}\\right)_{t=0}=0\n",
    "\\end{array}\\right.$$\n",
    "\n",
    "On va faire quelques affichages intermédiaires pour bien indentifier la nature des objets manipulés et créés par `SymPy`"
   ]
  },
  {
   "cell_type": "code",
   "execution_count": 7,
   "id": "f3ca831b-584f-4db8-856f-78c5e45079db",
   "metadata": {},
   "outputs": [
    {
     "name": "stdout",
     "output_type": "stream",
     "text": [
      "\n",
      "\u001b[94m\u001b[1mdx2dt2 :\u001b[0m\n"
     ]
    },
    {
     "data": {
      "text/latex": [
       "$\\displaystyle \\frac{d^{2}}{d t^{2}} x{\\left(t \\right)}$"
      ],
      "text/plain": [
       "<IPython.core.display.Math object>"
      ]
     },
     "metadata": {},
     "output_type": "display_data"
    },
    {
     "name": "stdout",
     "output_type": "stream",
     "text": [
      "\n",
      "\u001b[94m\u001b[1mEDOL :\u001b[0m\n"
     ]
    },
    {
     "data": {
      "text/latex": [
       "$\\displaystyle k x{\\left(t \\right)} + m \\frac{d^{2}}{d t^{2}} x{\\left(t \\right)} = 0$"
      ],
      "text/plain": [
       "<IPython.core.display.Math object>"
      ]
     },
     "metadata": {},
     "output_type": "display_data"
    },
    {
     "name": "stdout",
     "output_type": "stream",
     "text": [
      "\n",
      "\u001b[94m\u001b[1mdxdt :\u001b[0m\n"
     ]
    },
    {
     "data": {
      "text/latex": [
       "$\\displaystyle \\frac{d}{d t} x{\\left(t \\right)}$"
      ],
      "text/plain": [
       "<IPython.core.display.Math object>"
      ]
     },
     "metadata": {},
     "output_type": "display_data"
    },
    {
     "name": "stdout",
     "output_type": "stream",
     "text": [
      "\n",
      "\u001b[94m\u001b[1mdx/dt à t=0 :\u001b[0m\n"
     ]
    },
    {
     "data": {
      "text/latex": [
       "$\\displaystyle \\left. \\frac{d}{d t} x{\\left(t \\right)} \\right|_{\\substack{ t=0 }}$"
      ],
      "text/plain": [
       "<IPython.core.display.Math object>"
      ]
     },
     "metadata": {},
     "output_type": "display_data"
    },
    {
     "name": "stdout",
     "output_type": "stream",
     "text": [
      "\n",
      "\u001b[94m\u001b[1msolution \"brute\" de l'EDOL, avec prise en compte des conditions initiales (ics)\u001b[0m\n"
     ]
    },
    {
     "data": {
      "text/latex": [
       "$\\displaystyle x{\\left(t \\right)} = \\frac{x_{0} e^{t \\sqrt{- \\frac{k}{m}}}}{2} + \\frac{x_{0} e^{- t \\sqrt{- \\frac{k}{m}}}}{2}$"
      ],
      "text/plain": [
       "<IPython.core.display.Math object>"
      ]
     },
     "metadata": {},
     "output_type": "display_data"
    },
    {
     "name": "stdout",
     "output_type": "stream",
     "text": [
      "\n",
      "\u001b[94m\u001b[1msolution de l'EDOL après tentative de simplification\u001b[0m\n"
     ]
    },
    {
     "data": {
      "text/latex": [
       "$\\displaystyle x{\\left(t \\right)} = x_{0} \\cosh{\\left(t \\sqrt{- \\frac{k}{m}} \\right)}$"
      ],
      "text/plain": [
       "<IPython.core.display.Math object>"
      ]
     },
     "metadata": {},
     "output_type": "display_data"
    }
   ],
   "source": [
    "t = sym.Symbol('t')\n",
    "k = sym.Symbol('k')\n",
    "m = sym.Symbol('m')\n",
    "x = sym.Function('x')\n",
    "dx2dt2 = x(t).diff(t,2)\n",
    "print(f\"\\n{color.BLUE}{color.BOLD}dx2dt2 :{color.OFF}\")\n",
    "ple(dx2dt2)\n",
    "expr = sym.Eq(m*dx2dt2+k*x(t), 0)\n",
    "print(f\"\\n{color.BLUE}{color.BOLD}EDOL :{color.OFF}\")\n",
    "ple(expr)\n",
    "\n",
    "dxdt = x(t).diff(t)\n",
    "print(f\"\\n{color.BLUE}{color.BOLD}dxdt :{color.OFF}\")\n",
    "ple(dxdt)\n",
    "# là c'est un peu tricky. On prépare la condition initiale : vitesse initiale = 0\n",
    "# On ne peut pas écrire directement (dx/dt)=0, ça n'a pas de sens !\n",
    "# Il faut d'abord qu'on définisse une variable dxdt0, qui va vouloir dire (dx/dt) à t=0\n",
    "# puis dans ics on écrira dxdt0: 0. C'est parti.\n",
    "dxdt0 = dxdt.subs(t,0)\n",
    "print(f\"\\n{color.BLUE}{color.BOLD}dx/dt à t=0 :{color.OFF}\")\n",
    "ple(dxdt0)\n",
    "\n",
    "sol = sym.dsolve(expr,x(t),ics={x(0): 'x0', dxdt0: 0})\n",
    "print(f\"\\n{color.BLUE}{color.BOLD}solution \\\"brute\\\" de l'EDOL, avec prise en compte des conditions initiales (ics){color.OFF}\")\n",
    "ple(sol)\n",
    "print(f\"\\n{color.BLUE}{color.BOLD}solution de l'EDOL après tentative de simplification{color.OFF}\")\n",
    "ple(sym.simplify(sol))"
   ]
  },
  {
   "cell_type": "markdown",
   "id": "3b068820-5c3a-4800-bd00-1dc6d0722ae0",
   "metadata": {},
   "source": [
    "<div class=\"rq\">\n",
    "\n",
    "<span style='color:red'>**STOOOOOOOP !!!** Cette relation est bizarre, elle ne ressemble pas à ce qu'on trouve dans les livres sur ce sujet ! Et c'est étrange une racine d'un nombre négatif... </span>\n",
    "    \n",
    "**Bien vu !** `SymPy` choisit la solution la plus simple à trouver selon lui. Or les solutions d'une ODE d'ordre 2 dépendent du signe des racines du polynôme caractéristique. On a oublié jusqu'à présent un point important : préciser, si nécessaire, si une variable est positive ou pas. Toutes les variables de ce problème physique sont positives ! On va le préciser à l'utilisation de `Symbol`\n",
    "    \n",
    "</div>\n"
   ]
  },
  {
   "cell_type": "code",
   "execution_count": 8,
   "id": "759a7dcc-0a73-4402-8b74-ef4aef92b6b3",
   "metadata": {},
   "outputs": [
    {
     "name": "stdout",
     "output_type": "stream",
     "text": [
      "\u001b[94m\u001b[1msolution de l'EDOL, avec prise en compte des conditions initiales (ics)\u001b[0m\n"
     ]
    },
    {
     "data": {
      "text/latex": [
       "$\\displaystyle x{\\left(t \\right)} = x_{0} \\cos{\\left(\\frac{\\sqrt{k} t}{\\sqrt{m}} \\right)}$"
      ],
      "text/plain": [
       "<IPython.core.display.Math object>"
      ]
     },
     "metadata": {},
     "output_type": "display_data"
    }
   ],
   "source": [
    "t = sym.Symbol('t', positive=True)\n",
    "k = sym.Symbol('k', positive=True)\n",
    "m = sym.Symbol('m', positive=True)\n",
    "x = sym.Function('x')\n",
    "d2xdt2 = x(t).diff(t,2)\n",
    "expr = sym.Eq(m*d2xdt2+k*x(t), 0)\n",
    "dxdt = x(t).diff(t)\n",
    "dxdt0 = dxdt.subs(t,0)\n",
    "sol = sym.dsolve(expr,x(t),ics={x(0): 'x0', dxdt0: 0})\n",
    "print(f\"{color.BLUE}{color.BOLD}solution de l'EDOL, avec prise en compte des conditions initiales (ics){color.OFF}\")\n",
    "ple(sol)"
   ]
  },
  {
   "cell_type": "markdown",
   "id": "3a0cd247-8057-472e-959c-202c4e66a3f6",
   "metadata": {},
   "source": [
    "## **3.** Résolution numérique d'EDO\n",
    "\n",
    "On va cette fois-ci faire appel au module `sciPy` et à ses fonctions permettant de résoudre des \"ode\" de façon numérique."
   ]
  },
  {
   "cell_type": "code",
   "execution_count": 129,
   "id": "898a0af5-6513-4be2-8538-0d741a4c4478",
   "metadata": {},
   "outputs": [
    {
     "data": {
      "text/markdown": [
       "**End at:** Friday 04 November 2022, 17:34:20  \n",
       "**Duration:** 07:54:29 651ms"
      ],
      "text/plain": [
       "<IPython.core.display.Markdown object>"
      ]
     },
     "metadata": {},
     "output_type": "display_data"
    },
    {
     "data": {
      "text/markdown": [
       "<p style=\"text-align: center\"><img width=\"800px\" src=\"./config/svg/logoEnd.svg\" style=\"margin-left:auto; margin-right:auto\"/></p>"
      ],
      "text/plain": [
       "<IPython.core.display.Markdown object>"
      ]
     },
     "metadata": {},
     "output_type": "display_data"
    }
   ],
   "source": [
    "vID.end(cwd0)"
   ]
  },
  {
   "cell_type": "code",
   "execution_count": null,
   "id": "e0e0f687-17f3-40b6-8ad1-9f06616a7cd4",
   "metadata": {},
   "outputs": [],
   "source": []
  }
 ],
 "metadata": {
  "kernelspec": {
   "display_name": "Python 3 (ipykernel)",
   "language": "python",
   "name": "python3"
  },
  "language_info": {
   "codemirror_mode": {
    "name": "ipython",
    "version": 3
   },
   "file_extension": ".py",
   "mimetype": "text/x-python",
   "name": "python",
   "nbconvert_exporter": "python",
   "pygments_lexer": "ipython3",
   "version": "3.9.12"
  }
 },
 "nbformat": 4,
 "nbformat_minor": 5
}
