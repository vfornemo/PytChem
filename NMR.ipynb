{
 "cells": [
  {
   "cell_type": "code",
   "execution_count": 3,
   "id": "269396e1-4699-46d7-b7bc-8ef342174c94",
   "metadata": {},
   "outputs": [
    {
     "name": "stdout",
     "output_type": "stream",
     "text": [
      "/home/romuald/ENSEIGNEMENT/0-JupyterNotebooks/pyPhysChem\n"
     ]
    },
    {
     "data": {
      "text/html": [
       "<style>\n",
       "h1, h2, h3, h4, h5, h6 {\n",
       "  font-family: Verdana, \"DejaVu Sans\", \"Bitstream Vera Sans\", Geneva, sans-serif;\n",
       "  font-weight: bold;\n",
       "}\n",
       "body, intro, introE, introT, rq, rqE, rqT, ex, exE, app, appE, sol, todo, figure  {\n",
       "  font-family: Verdana, \"DejaVu Sans\", \"Bitstream Vera Sans\", Geneva, sans-serif;\n",
       "  font-weight: 400;\n",
       "  font-size: 12px;\n",
       "}\n",
       "h1 {\n",
       "  border: 0 solid #333;\n",
       "  padding: 30px ;\n",
       "  color: white;\n",
       "  background: #b11d01;\n",
       "  text-align: center;\n",
       "}\n",
       "h2 {\n",
       "  border: 3px solid #333;\n",
       "  padding: 18px ;\n",
       "  color: #b11d01;\n",
       "  background: #ffffff;\n",
       "  text-align: center;\n",
       "}\n",
       "h3 {\n",
       "  border: 0 solid #333;\n",
       "  padding: 12px ;\n",
       "  color: #000000;\n",
       "  background: #c1c1c1;\n",
       "  text-align: left;\n",
       "}\n",
       "h4 {\n",
       "  border: 0 solid #333;\n",
       "  padding: 2px ;\n",
       "  color: #000000;\n",
       "  background: #d9fffc;\n",
       "  text-align: left;\n",
       "}\n",
       "h5 {\n",
       "  border: 1px solid #333;\n",
       "  padding: 2px ;\n",
       "  color: #000000;\n",
       "  background: #ffffff;\n",
       "  text-align: left;\n",
       "}\n",
       ".introT::before {    \n",
       "    content: attr(title);\n",
       "    background-color: #cecece;\n",
       "    margin-left:-0.5em;\n",
       "    margin-right:-0.5em;\n",
       "    padding-left:0.5em;\n",
       "    padding-right:0.5em;\n",
       "    font-weight: 600;\n",
       "    display: block;\n",
       "}\n",
       ".introT {    \n",
       "    background-color: #cecece80;\n",
       "    border-color: #969696;\n",
       "    border-left: 5px solid #969696;\n",
       "    padding: 0.5em;\n",
       "}\n",
       ".intro {    \n",
       "    background-color: #cecece80;\n",
       "    border-color: #969696;\n",
       "    border-left: 5px solid #969696;\n",
       "    padding: 0.5em;\n",
       "}\n",
       ".introE {    \n",
       "    background-color: #cecece80;\n",
       "    border-color: #969696;\n",
       "    border-left: 5px solid #969696;\n",
       "    padding: 0.5em;\n",
       "    color : #117996;\n",
       "}\n",
       ".rq {    \n",
       "    background-color: #fcf2f2;\n",
       "    border-color: #dFb5b4;\n",
       "    border-left: 5px solid #dfb5b4;\n",
       "    padding: 0.5em;\n",
       "}\n",
       ".rqE::before {    \n",
       "    background-color: #fcd3d3;\n",
       "    color: #ff0000;\n",
       "    content:\"Warning\";\n",
       "    margin-left:-0.5em;\n",
       "    margin-right:-0.5em;\n",
       "    padding-left:0.5em;\n",
       "    padding-right:0.5em;\n",
       "    font-weight: 600;\n",
       "    display: block;\n",
       "}\n",
       ".rqE {    \n",
       "    background-color: #fcd3d380;\n",
       "    border-color: #dFb5b4;\n",
       "    border-left: 5px solid #dfb5b4;\n",
       "    padding: 0.5em;\n",
       "}\n",
       ".rqT::before {    \n",
       "    background-color: #fcd3d3;\n",
       "    color: #ff0000;\n",
       "    content: attr(title);\n",
       "    margin-left:-0.5em;\n",
       "    margin-right:-0.5em;\n",
       "    padding-left:0.5em;\n",
       "    padding-right:0.5em;\n",
       "    font-weight: 600;\n",
       "    display: block;\n",
       "}\n",
       ".rqT {    \n",
       "    background-color: #fcd3d380;\n",
       "    border-color: #dFb5b4;\n",
       "    border-left: 5px solid #dfb5b4;\n",
       "    padding: 0.5em;\n",
       "}\n",
       ".exold {    \n",
       "    background-color: #b2dbea80;\n",
       "    border-color: #0055ff;\n",
       "    border-left: 10px solid #0055ff;\n",
       "    padding: 0.5em;\n",
       "}\n",
       ".ex {    \n",
       "    background-color: #b2dbea80;\n",
       "    padding: 0.5em;\n",
       "    padding-top: 0em;\n",
       "    position:relative;\n",
       "}\n",
       ".ex::before {\n",
       "    background-color: #b2dbea;\n",
       "    content:\"Exercice. \" attr(title);\n",
       "    margin-left:-0.5em;\n",
       "    margin-right:-0.5em;\n",
       "    padding-left:0.5em;\n",
       "    padding-right:0.5em;\n",
       "    font-weight: 600;\n",
       "    display: block;\n",
       "}\n",
       ".exE {    \n",
       "    background-color: #b2dbea80;\n",
       "    padding: 0.5em;\n",
       "    padding-top: 0em;\n",
       "    position:relative;\n",
       "    color : #117996;\n",
       "}\n",
       ".exE::before {\n",
       "    background-color: #b2dbea;\n",
       "    content:\"Exercise. \" attr(title);\n",
       "    margin-left:-0.5em;\n",
       "    margin-right:-0.5em;\n",
       "    padding-left:0.5em;\n",
       "    padding-right:0.5em;\n",
       "    font-weight: 600;\n",
       "    display: block;\n",
       "    color : #117996;\n",
       "}\n",
       ".app {    \n",
       "    background-color: #b2dbea80;\n",
       "    padding: 0.5em;\n",
       "    padding-top: 0em;\n",
       "    position:relative;\n",
       "}\n",
       ".app::before {\n",
       "    background-color: #b2dbea;\n",
       "    content:\"Application\";\n",
       "    margin-left:-0.5em;\n",
       "    margin-right:-0.5em;\n",
       "    padding-left:0.5em;\n",
       "    padding-right:0.5em;\n",
       "    font-weight: 600;\n",
       "    display: block;\n",
       "}\n",
       ".appE {    \n",
       "    background-color: #b2dbea80;\n",
       "    padding: 0.5em;\n",
       "    padding-top: 0em;\n",
       "    color : #117996;\n",
       "    position:relative;\n",
       "}\n",
       ".appE::before {\n",
       "    background-color: #b2dbea;\n",
       "    content:\"Application\";\n",
       "    margin-left:-0.5em;\n",
       "    margin-right:-0.5em;\n",
       "    padding-left:0.5em;\n",
       "    padding-right:0.5em;\n",
       "    font-weight: 600;\n",
       "    color : #117996;\n",
       "    display: block;\n",
       "}\n",
       ".sol {    \n",
       "    background-color: #bbeab880;\n",
       "    padding: 0.5em;\n",
       "    padding-top: 0em;\n",
       "    position:relative;\n",
       "}\n",
       ".sol::before {\n",
       "    background-color: #bbeab8;\n",
       "    content:\"Answer\";\n",
       "    margin-left:-0.5em;\n",
       "    margin-right:-0.5em;\n",
       "    padding-left:0.5em;\n",
       "    padding-right:0.5em;\n",
       "    font-weight: 600;\n",
       "    display: block;\n",
       "}\n",
       ".com {    \n",
       "    background-color: #ffff7f80;\n",
       "    padding: 0.5em;\n",
       "    padding-top: 0em;\n",
       "    position:relative;\n",
       "}\n",
       ".com::before {\n",
       "    background-color: #ffff7f;\n",
       "    content:\"Comment.\";\n",
       "    margin-left:-0.5em;\n",
       "    margin-right:-0.5em;\n",
       "    padding-left:0.5em;\n",
       "    padding-right:0.5em;\n",
       "    font-weight: 600;\n",
       "    display: block;\n",
       "}\n",
       "div.todo:before {\n",
       "    content:url(data:image/png;base64,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);\n",
       "    float:left;\n",
       "    margin-left:20px;\n",
       "    margin-right:20px;\n",
       "    margin-top:20px;\n",
       "    margin-bottom:20px;\n",
       "}\n",
       "div.todo{\n",
       "    font-size: 1.1em;\n",
       "    margin-top:40px;\n",
       "    background-color: #b2dbea80;\n",
       "}\n",
       "div.todo ul{\n",
       "    margin: 0.2em;\n",
       "}\n",
       "div.todo li{\n",
       "    margin-left:60px;\n",
       "    margin-top:0;\n",
       "    margin-bottom:0;\n",
       "}\n",
       "\n",
       "figure {\n",
       "    display: inline-block;\n",
       "    border: 0px;\n",
       "    margin: 5px; /* adjust as needed */\n",
       "    text-align: center;\n",
       "    display: block;\n",
       "}\n",
       "figure > img {\n",
       "    vertical-align: top;\n",
       "    text-align: center;\n",
       "    display: block;\n",
       "}\n",
       "figure figcaption {\n",
       "    border: 0px;\n",
       "    text-align: center;\n",
       "    font-size: 11px;\n",
       "}\n",
       "\n",
       "</style>\n"
      ],
      "text/plain": [
       "<IPython.core.display.HTML object>"
      ]
     },
     "metadata": {},
     "output_type": "display_data"
    },
    {
     "data": {
      "text/markdown": [
       "**Start at:** Wednesday 22 November 2023, 18:26:57  \n",
       "**Hostname:** insa-12842 (Linux)"
      ],
      "text/plain": [
       "<IPython.core.display.Markdown object>"
      ]
     },
     "metadata": {},
     "output_type": "display_data"
    },
    {
     "data": {
      "text/markdown": [
       "<p style=\"text-align: center\"><img width=\"800px\" src=\"./config/svg/pyPhysChemBanner.svg\" style=\"margin-left:auto; margin-right:auto\"/></p>"
      ],
      "text/plain": [
       "<IPython.core.display.Markdown object>"
      ]
     },
     "metadata": {},
     "output_type": "display_data"
    }
   ],
   "source": [
    "import os\n",
    "import sys\n",
    "\n",
    "print(os.getcwd())\n",
    "cwd0 = './config/'\n",
    "sys.path.append(cwd0)\n",
    "\n",
    "import visualID_Eng as vID\n",
    "from visualID_Eng import color\n",
    "vID.init(cwd0)\n",
    "import tools4pyPhysChem as t4pPC"
   ]
  },
  {
   "cell_type": "markdown",
   "id": "a1b3496a-7f24-4bef-ae7c-617f267ab7ad",
   "metadata": {
    "tags": []
   },
   "source": [
    "# The renaissance of 2nd-order NMR: a model hamiltonian-based rationalization of benchtop NMR spectra"
   ]
  },
  {
   "cell_type": "markdown",
   "id": "c4da9388-e143-4ec9-9223-fa84f1173571",
   "metadata": {},
   "source": [
    "## Introduction to benchtop NMR and simple refresher on NMR\n",
    "\n",
    "### Benchtop NMR\n",
    "\n",
    "#### Benchtop NMR *vs.* \"usual\" high field NMR spectrometer\n",
    "\n",
    "<div class=\"intro\">\n",
    "    \n",
    "<img src=\"./Misc-Slides/NMR/Slides-BenchtopNMR-01.jpg\" alt=\"NMR1\" width=\"1200\" style=\"display: block; margin: 0 auto; align:center\"/> \n",
    "</div>\n",
    "\n",
    "#### Interest of benchtop NMR\n",
    "\n",
    "<div class=\"intro\">\n",
    "\n",
    "- Benchtop NMR spectrometers are utilized for various applications in chemistry, biochemistry, food science, materials science, and other fields\n",
    "\n",
    "- The lower field strength may limit the resolution and sensitivity compared to high-field NMR\n",
    "\n",
    "- But benchtop NMR devices offer advantages such as portability, ease of use, and accessibility for routine analyses and educational purposes\n",
    "\n",
    "- Used for tasks like chemical reaction monitoring, quality control in industries, studying molecular structures of small organic molecules, quantifying components in mixtures\n",
    "</div>\n",
    "\n",
    "#### Sensitivity of benchtop NMR\n",
    "\n",
    "<div class=\"intro\">\n",
    "\n",
    "- Sensitivity can be an issue \n",
    "\n",
    "- The sensitivity of an NMR instrument determines its ability to detect and resolve signals from a sample, which directly affects the quality of the acquired spectrum\n",
    "\n",
    "- Benchtop NMR instruments might struggle to detect low concentrations of certain compounds\n",
    "\n",
    "- Fortunately, improvements in magnets, electronics, and methodologies continue to enhance benchtop NMR sensitivity\n",
    "\n",
    "- The quality and homogeneity of the magnetic field is key\n",
    "\n",
    "<img src=\"./Misc-Slides/NMR/Figures/SignalAsAFunctionOfB0.png\" alt=\"SignalB0\" width=\"600\" style=\"display: block; margin: 0 auto; align:center\"/> \n",
    "\n",
    "- A good signal sensitivity allows the detection of low concentration samples, with an adapted acquisition time \n",
    "\n",
    "<img src=\"./Misc-Slides/NMR/Figures/Lidocaine.png\" alt=\"Lidocaine\" width=\"800\" style=\"display: block; margin: 0 auto; align:center\"/> \n",
    "</div>"
   ]
  },
  {
   "cell_type": "markdown",
   "id": "0fe66349-fd41-4142-af69-2bfee6ef91e9",
   "metadata": {},
   "source": [
    "### Simple refresher on 1H NMR\n",
    "\n",
    "#### Proton in a magnetic field, nuclear Zeeman splitting and Larmor frequency, spin-spin coupling\n",
    "\n",
    "<div class=\"intro\">\n",
    "    \n",
    "<img src=\"./Misc-Slides/NMR/Slides-BenchtopNMR-04.jpg\" alt=\"NMR4\" width=\"1200\" style=\"display: block; margin: 0 auto; align:center\"/> \n",
    "</div>\n",
    "<br>\n",
    "<div class=\"rqT\" title=\"Start reading the technical paper, sections 1.1 to 1.3\">\n",
    "\n",
    "It's time to start reading the [technical paper](./MiscPDF/NMR-TechnicalPaper-v3.pdf) on the quantum context of the interaction of half-spin nuclei with magnetic fields and the interactions between nuclear spins. **Don't be afraid**. It will be introduced step-by-step in the present notebook. You will discover that such proposed spin hamiltonian description turns out to be crucial in understanding and modeling the so-called **higher-order effects** in NMR spectroscopy, which appear given to the weak magnetic fields of benchtop NMR spectrometers. \n",
    "\n",
    "**<u>There is no need to use SymPy to solve the exercises of this part. Use only matplotlib and NumPy</u>**\n",
    "</div>"
   ]
  },
  {
   "cell_type": "markdown",
   "id": "38f18927-1e72-45d5-8bc4-529bb11b4167",
   "metadata": {},
   "source": [
    "<div class=\"exE\" title=\"Gyromagnetic ratio and other constants\">\n",
    "\n",
    "Import the proton gyromagnetic ratio, Planck constant and reduced Planck constant from `scipy.constant`. Name them `_gamH`, `_h` and `_hbar`. Print their value as well as their unit and their uncertainty.\n",
    "\n",
    "</div>"
   ]
  },
  {
   "cell_type": "code",
   "execution_count": null,
   "id": "4a6add6e-a851-434d-a65e-b1666b1724d6",
   "metadata": {},
   "outputs": [],
   "source": [
    "# insert your code below\n",
    "\n"
   ]
  },
  {
   "cell_type": "markdown",
   "id": "cd17fe35-82a1-404b-9dfe-6a277b60b68a",
   "metadata": {},
   "source": [
    "<div class=\"exE\" title=\"Absolute resonance frequency\">\n",
    "    \n",
    "1. define a `nu_0(_B0)` function that will return the absolute resonance frequency for the proton, *ν*<sub>0</sub> (in MHz) as a function of the applied magnetic field, *B*<sub>0</sub> (in Tesla)\n",
    "\n",
    "2. calculate *ν*<sub>0</sub> for a 1.88 T permanent magnet and a 18.8 T superconducting magnet. Comment on this result in the \"comment\" markdown cell.\n",
    "\n",
    "</div>"
   ]
  },
  {
   "cell_type": "code",
   "execution_count": null,
   "id": "bb1c3895-a513-4e3c-8bb3-a0b3ff8b9b74",
   "metadata": {},
   "outputs": [],
   "source": [
    "# insert your code below\n",
    "\n"
   ]
  },
  {
   "cell_type": "markdown",
   "id": "be899f79-233a-4233-bc38-cf36a6498a0e",
   "metadata": {},
   "source": [
    "<div class=\"exE\" title=\"Nuclear Zeeman splitting of a proton in a magnetic field\">\n",
    "\n",
    "    \n",
    "1. define a `Zeeman_E(_mI,_B0)` function that will return the Zeeman energy (in J) of a nucleus with magnetic quantum number  *m<sub>I</sub>* as a function of the applied magnetic field, *B*<sub>0</sub> (in Tesla). Under an external magnetic field *B*<sub>0</sub>, the energy *E*(*m<sub>I</sub>*, *B*<sub>0</sub>) of a quantum particle with a spin projection *m<sub>I</sub>* on the axis of  *B*<sub>0</sub>  is given by\n",
    "\n",
    "$$E = -m_I  \\hbar \\gamma_H B_0$$\n",
    "\n",
    "(see also equations (10) or (11) of the  [technical paper](./MiscPDF/NMR-TechnicalPaper-v3.pdf))\n",
    "\n",
    "2. calculate the Zeeman energy splitting, Δ*E* (in J) for protons under an external magnetic field *B*<sub>0</sub> = 1.88 T and 18.8 T\n",
    "\n",
    "3. calculate for each magnetic field the resonance transition frequency between the levels, in MHz. Comment on this result in the \"comment\" markdown cell. \n",
    "\n",
    "</div>"
   ]
  },
  {
   "cell_type": "code",
   "execution_count": null,
   "id": "48a64e1c-dd56-4a6e-83a2-61495416c068",
   "metadata": {},
   "outputs": [],
   "source": [
    "# insert your code here\n",
    "\n"
   ]
  },
  {
   "cell_type": "markdown",
   "id": "5c22baa3-f4eb-4285-8c7a-a5995bb7a40b",
   "metadata": {},
   "source": [
    "<div class=\"com\">\n",
    "\n",
    "Insert your comment here\n",
    "</div>"
   ]
  },
  {
   "cell_type": "markdown",
   "id": "2b0991bc-d4cd-442d-82d8-bcb766ec01d0",
   "metadata": {},
   "source": [
    "#### Protons in a chemical environment: chemical shift, chemical shielding, spin-spin coupling\n",
    "\n",
    "<div class=\"intro\">\n",
    "    \n",
    "<img src=\"./Misc-Slides/NMR/Slides-BenchtopNMR-05.jpg\" alt=\"NMR5\" width=\"1200\" style=\"display: block; margin: 0 auto; align:center\"/>  \n",
    "</div>\n",
    "<br>\n",
    "<div class=\"intro\">\n",
    "\n",
    "And, of course:\n",
    "- integration in the spectrum provides the relative abundance of protons represented by each peak\n",
    "\n",
    "- by interpreting these peaks, chemists can deduce the structure, connectivity, and environment of molecules, making proton NMR a powerful tool in chemical analysis and structure determination\n",
    " \n",
    "</div>"
   ]
  },
  {
   "cell_type": "markdown",
   "id": "809d6296-3e47-43e1-a3fc-c0fe2d17535b",
   "metadata": {},
   "source": [
    "<div class=\"exE\" title=\"Frequency ↔ chemical shift relationships, Larmor frequency\">\n",
    "\n",
    "Later on, it might be useful to have functions that make conversions between resonance frequencies *ν*, in MHz, and chemical shifts *δ*, in ppm. \n",
    "\n",
    "$$\\delta_i\\mathrm{(ppm)} = \\frac{\\nu_i - \\nu_\\mathrm{ref}}{\\nu_\\mathrm{ref}} \\times 10^6$$\n",
    "\n",
    "where $\\nu_\\mathrm{ref}$ is the frequency of a reference compound, such as TMS.\n",
    "\n",
    "With $\\nu_0$, the operating frequency of the spectrometer employed, defined as the origin of the frequency scale, the previous equation becomes\n",
    "\n",
    "$$\\delta_i\\mathrm{(ppm)} = \\frac{\\nu_i - \\nu_0}{\\nu_0} \\times 10^6$$\n",
    "\n",
    "1. Analyze what each of the following four functions is supposed to do. Copy/paste the functions in the next Code cell and replace the `enter_your_code` field with the appropriate code.\n",
    "\n",
    "```python\n",
    "def delta_i(nu_i, nu_ref):\n",
    "    '''\n",
    "    Function that converts a resonance frequency of a proton i into a chemical shift\n",
    "\n",
    "    Input:\n",
    "    nu_i = resonance frequency of nucleus i in MHz\n",
    "    nu_ref = resonance frequency of a reference (eg TMS), in MHz\n",
    "\n",
    "    Output:\n",
    "    chemical shift, in ppm\n",
    "    '''\n",
    "    return enter_your_code\n",
    "\n",
    "def nu_i(delta_i, nu0):\n",
    "    '''\n",
    "    Function that converts a chemical shift into an absolute resonance frequency\n",
    "\n",
    "    Input:\n",
    "        delta_i = chemical shift to convert, in ppm\n",
    "        nu0 = resonance frequency of the spectrometer, in MHz\n",
    "\n",
    "    Output:\n",
    "        absolute resonance frequency nu_i, in MHz\n",
    "    '''\n",
    "    return enter_your_code\n",
    "\n",
    "def nu_i_rel(delta_i, nu0):\n",
    "    '''\n",
    "    Function that converts a chemical shift into a relative resonance frequency, i.e. nu_i - nu0\n",
    "\n",
    "    Input:\n",
    "        delta_i = chemical shift to convert, in ppm\n",
    "        nu0 = resonance frequency of the spectrometer, in MHz\n",
    "\n",
    "    Output:\n",
    "        relative resonance frequency, in Hz\n",
    "    '''\n",
    "    return enter_your_code\n",
    "\n",
    "def delta_i_rel(nu_i_rel,nu0):\n",
    "    '''\n",
    "    Function that converts a relative resonance frequency (nu_i - nu0) into a chemical shift\n",
    "\n",
    "    Input:\n",
    "        nu_i_rel = relative resonance frequency, in Hz\n",
    "        nu0 = resonance frequency of the spectrometer, in MHz\n",
    "\n",
    "    Output:\n",
    "        chemical shift, in ppm\n",
    "    '''\n",
    "    return enter_your_code\n",
    "```\n",
    "\n",
    "<br>\n",
    "\n",
    "2. Let's remind as well that the Larmor frequency for a proton in chemical environment is:\n",
    "\n",
    "$$\\nu_{\\mathrm{L}}(i)=\\frac{\\gamma_{\\mathrm{H}}B_{0}}{2\\pi}(1-\\sigma_{i})$$\n",
    "\n",
    "Complete the functions with a `LarmorFreq(B0,sigma)` function that will return the Larmor frequency (in MHz) of a proton in interaction with a *B*<sub>0</sub> external magnetic field (in Tesla), and which has a chemical shielding *σ* (in ppm). Apply the function for *B*<sub>0</sub> = 1.88 T and *σ* = 0 ppm.\n",
    "\n",
    "3. The resonance of protons of a reference compound, e.g. TMS, are set up as an internal reference of the NMR spectrometer, *i.e.* they are set up to lie at 0 ppm, as the origin of the chemical shift scale. A sample recorded on a 80 MHz spectrometer exhibits a single resonance at 581.60 Hz from the TMS resonance. The signal is observed at 5816.00 Hz from TMS on a 800 MHz spectrometer. Calculate in each case the chemical shift corresponding to the observed resonance. Comment on this result.\n",
    "\n",
    "4. At which frequency from TMS would be observed the same signal on a 600 MHz spectrometer? What would be its absolute resonance frequency?\n",
    "</div>"
   ]
  },
  {
   "cell_type": "code",
   "execution_count": null,
   "id": "52f023e3-d076-4b83-9c06-43c015db1a3d",
   "metadata": {},
   "outputs": [],
   "source": [
    "# enter your code here\n",
    "\n"
   ]
  },
  {
   "cell_type": "markdown",
   "id": "e58f389e-5715-4abc-ae81-b1d436258388",
   "metadata": {},
   "source": [
    "<div class=\"com\">\n",
    "\n",
    "Insert your comment to Q3 and answer to Q4 here\n",
    "</div>"
   ]
  },
  {
   "cell_type": "markdown",
   "id": "9ac1b219-95eb-4519-b775-21f0deaa071e",
   "metadata": {},
   "source": [
    "#### High-order splitting pattern\n",
    "\n",
    "<div class=\"intro\">\n",
    "\n",
    "The splitting pattern and the intensity of the peaks was summarized with the Pascal's triangle. The multiplicity of an NMR signal reveals the number of neighboring nuclei that contribute to the splitting, thanks to the 2*nI*+1 rule, where *n* represents the number of adjacent, equivalent protons. Let's consider a compound which resonant nuclei are protons only. With *I* = 1/2, the 2*nI*+1 rule becomes the *n*+1 rule. It means that a proton that appears in the spectrum as a cluster of *m* peaks is surrounded by *m*-1 equivalent protons.\n",
    "\n",
    "This can rationalize **first-order splitting patterns only**, that are observed when the difference between the frequency resonance (in Hertz) between coupled protons is much larger than the *J* coupling constant. Let's consider two protons a and b, simple first-order will be observed if :\n",
    "\n",
    "$$\\Delta\\nu_{ab}\\geq10J_{ab}$$\n",
    "\n",
    "High-order splitting pattern takes place when the difference between the frequency resonance (in Hertz) is much less or the same that order of magnitude as the *J* coupling\n",
    "\n",
    "$$\\Delta\\nu_{ab}<10J_{ab}$$\n",
    "\n",
    "The second order pattern is observed as leaning of a classical pattern: the inner peaks are taller and the outer peaks are shorter. This is called the **roof effect**. For a two-proton system, the difference between first-order and second-order is typically:\n",
    "\n",
    "<img src=\"./Misc-Slides/NMR/Figures/JAX_vs_JAB.png\" alt=\"roof_effect\" width=\"400\" style=\"display: block; margin: 0 auto; align:center\"/>  \n",
    "\n",
    "</div>\n",
    "<br>\n",
    "<div class=\"rq\">\n",
    "\n",
    "**Such High-order splitting pattern is likely to be observed on benchtop NMR spectrometers, given the low magnetic field that they operate with.**\n",
    "</div>"
   ]
  },
  {
   "cell_type": "markdown",
   "id": "6139b6b1-ecac-44b6-b060-416071ddb107",
   "metadata": {},
   "source": [
    "## Introduction to effective hamiltonians that describe coupled \"nuclear spins\" in an external magnetic field\n",
    "\n",
    "\n",
    "### Short summary\n",
    "\n",
    "<div class=\"rqT\" title=\"Now you have to read sections 1.4 and 1.5\">\n",
    "\n",
    "\n",
    "**In short:**\n",
    "\n",
    "The total Hamiltonian for any spin system is the summation of individual Hamiltonians, which all describe a particular physical interaction. We will here only consider two prominent interactions, The Zeeman Hamiltonian, $\\hat{H}_{\\mathrm{Z}}$, which accounts for the magnetic interaction of nuclear spins with the static external field of the spectrometer, and the J-coupling Hamiltonian, $\\hat{H}_{\\mathrm{J}}$, which accounts for the interaction of pairs of nuclear spins through bonding electrons. The total NMR Hamiltonian is expressed as\n",
    "\n",
    "$$\\hat{H}^{\\mathrm{NMR}}=\\hat{H}_{\\mathrm{Z}}+\\hat{H}_{\\mathrm{J}}$$\n",
    "\n",
    "where, in reduced unit of frequency (see section 1.4), the matrix representation of these Hamiltonian operators is\n",
    "\n",
    "$$\\boldsymbol{H}_{\\mathrm{Z}}=-\\frac{1}{2}\\sum_{i=1}^{N}\\nu_{i}\\boldsymbol{\\sigma}_{z_{i}}$$\n",
    "\n",
    "and\n",
    "\n",
    "$$\\boldsymbol{H}_{\\mathrm{J}}=\\frac{1}{4}\\sum_{i=1}^{N}\\sum_{j=1}^{i-1}J_{ij}\\left(\\boldsymbol{\\sigma}_{x_{i}}\\boldsymbol{\\sigma}_{x_{j}}+\\boldsymbol{\\sigma}_{y_{i}}\\boldsymbol{\\sigma}_{y_{j}}+\\boldsymbol{\\sigma}_{z_{i}}\\boldsymbol{\\sigma}_{z_{j}}\\right)$$\n",
    "\n",
    "The $\\boldsymbol{\\sigma}_{q}$ (*q*=*x*, *y* or *z*) are the Pauli matrices: \n",
    "\n",
    "$$\\boldsymbol{\\sigma}_{x}=\\left(\\begin{array}{cc}\n",
    "0 & 1\\\\\n",
    "1 & 0\n",
    "\\end{array}\\right)\\,\\,\\,\\,\\,\\,\\,\\,\\,\\boldsymbol{\\sigma}_{y}=\\left(\\begin{array}{cc}\n",
    "0 & -i\\\\\n",
    "i & 0\n",
    "\\end{array}\\right)\\,\\,\\,\\,\\,\\,\\,\\,\\,\\boldsymbol{\\sigma}_{z}=\\left(\\begin{array}{cc}\n",
    "1 & 0\\\\\n",
    "0 & -1\n",
    "\\end{array}\\right)$$\n",
    "\n",
    "It is explained in the [technical paper](./MiscPDF/NMR-TechnicalPaper-v3.pdf) that the practical use of these equations involves the introduction of the so-called Kronecker product (see section 1.5.1 and the introduction of section 1.5.2). Actually, since we will work on matrix representations of operators, we face the necessity to use these Kronecker products:\n",
    "\n",
    "$\\boldsymbol{A}\\otimes\\boldsymbol{B}$ is the Kronecker product of matrices $\\boldsymbol{A}$ and $\\boldsymbol{B}$\n",
    "\n",
    "</div>"
   ]
  },
  {
   "cell_type": "markdown",
   "id": "a46ff34a-223d-4966-ac35-3ffaba54d111",
   "metadata": {},
   "source": [
    "### Basic use of the `sympy.physics` functions and modules\n",
    "\n",
    "<div class=\"rqT\" title = \"From now on, you must use SymPy and the symbolic representation of all variables\">\n",
    "\n",
    "All necessary libraries, modules and functions are imported in the next cell. The Pauli matrices $\\sigma_x$, $\\sigma_y$, $\\sigma_z$, $\\sigma^+$ and $\\sigma^-$ are then saved as `sigma_x`, `sigma_y`, `sigma_z`, `sigma_Plus` and `sigma_Moins`\n",
    "\n",
    "Do not hesitate to access the [online manual of the `physics` module of SymPy](https://docs.sympy.org/latest/reference/public/physics/index.html).\n",
    "</div>\n"
   ]
  },
  {
   "cell_type": "code",
   "execution_count": null,
   "id": "325555f8-6c4b-4873-adb3-01ed32bf463f",
   "metadata": {},
   "outputs": [],
   "source": [
    "import scipy.constants as sc\n",
    "import numpy as np\n",
    "from matplotlib import pyplot as plt\n",
    "%matplotlib notebook\n",
    "\n",
    "import sympy as sp\n",
    "\n",
    "from sympy.physics.matrices import msigma # Pauli matrices\n",
    "# from sympy.physics.paulialgebra import evaluate_pauli_product as epp\n",
    "from sympy.physics.quantum import TensorProduct # for matrices, this uses matrix_tensor_product to compute the Kronecker or tensor product matrix\n",
    "from sympy.physics.quantum import represent # represents a quantum expression in the given basis set\n",
    "from sympy import Identity, eye, Matrix # eye returns and identity matrix, whereas Identity returns the symbolic Matrix Identity I\n",
    "\n",
    "from IPython.display import Latex\n",
    "from IPython.core.interactiveshell import InteractiveShell\n",
    "InteractiveShell.ast_node_interactivity = \"all\"\n",
    "sp.init_printing(use_unicode=True)"
   ]
  },
  {
   "cell_type": "markdown",
   "id": "fd582e4e-e5a2-4d52-a8b6-56b74064dcb1",
   "metadata": {},
   "source": [
    "<div class=\"intro\">\n",
    "\n",
    "Now let's play a bit with some functions and operators\n",
    "\n",
    "(`sp.I` is the imaginary number)\n",
    "</div>"
   ]
  },
  {
   "cell_type": "code",
   "execution_count": null,
   "id": "0dae6d86-45c9-42dd-b076-5c9f6f32db0d",
   "metadata": {},
   "outputs": [],
   "source": [
    "sigma_x = msigma(1)\n",
    "sigma_y = msigma(2)\n",
    "sigma_z = msigma(3)\n",
    "sigma_Plus = (sigma_x + sp.I*sigma_y)/2\n",
    "sigma_Moins = (sigma_x - sp.I*sigma_y)/2\n",
    "\n",
    "Latex(\"$\\sigma_x$:\")\n",
    "sigma_x\n",
    "Latex(\"$\\sigma_y$:\")\n",
    "sigma_y\n",
    "Latex(\"$\\sigma_z$:\")\n",
    "sigma_z\n",
    "\n",
    "Latex(\"$\\sigma^+$:\")\n",
    "sigma_Plus\n",
    "Latex(\"$\\sigma^-$:\")\n",
    "sigma_Moins"
   ]
  },
  {
   "cell_type": "markdown",
   "id": "dda07610-b5c5-4430-9247-a6f6ca013427",
   "metadata": {},
   "source": [
    "<div class=\"rqE\">\n",
    "\n",
    "**Do not `print` SymPy variables**. `print(SymPy variable)` returns a string form designed to be copied ans pasted.\n",
    "\n",
    "To display them, just type their name. In a notebook, it will render $\\LaTeX$\n",
    "(if it does not work, use `display` as a backup)\n",
    "\n",
    "Let's illustrate this in the next cell, to make it clear\n",
    "</div>"
   ]
  },
  {
   "cell_type": "code",
   "execution_count": null,
   "id": "f1bab39e-2a09-47ee-8e8c-5b3dfffbf718",
   "metadata": {},
   "outputs": [],
   "source": [
    "x= sp.Symbol('x')\n",
    "example = sp.Integral(3*x**2+1)\n",
    "t4pPC.centerTitle(\"print(example) returns a string\")\n",
    "print(example)\n",
    "t4pPC.centerTitle(\"type 'example' directly to return a pretty display of the integral\")\n",
    "example\n",
    "t4pPC.centerTitle(\"'display(example)' also returns a pretty display of the integral\")\n",
    "display(example)"
   ]
  },
  {
   "cell_type": "markdown",
   "id": "a872dbd5-6a75-4a66-9808-91fdf59497b0",
   "metadata": {},
   "source": [
    "<div class=\"intro\">\n",
    "\n",
    "Let's now express the two spin states $\\alpha$ and $\\beta$ in a two-state basis set\n",
    "</div>"
   ]
  },
  {
   "cell_type": "code",
   "execution_count": null,
   "id": "e695108d-6bbf-4076-9656-2f2fcc13d806",
   "metadata": {},
   "outputs": [],
   "source": [
    "alpha = sp.Matrix([1,0])\n",
    "beta = sp.Matrix([0,1])\n",
    "alpha\n",
    "beta"
   ]
  },
  {
   "cell_type": "markdown",
   "id": "86828a6a-853b-46ee-be37-b84690f63574",
   "metadata": {},
   "source": [
    "<div class=\"exE\" title=\"Comment?\">\n",
    "\n",
    "Comment on the results.\n",
    "\n",
    "What would be the difference with the next possible matrix forms for $\\alpha$ and $\\beta$?\n",
    "\n",
    "(answer in the \"comment\" mardown cell)\n",
    "\n",
    "$$\\alpha=\\left(\\begin{array}{c}\n",
    "\\frac{1}{2}\\\\\n",
    "\\frac{1}{2}\n",
    "\\end{array}\\right)\\,\\,\\,\\,\\,\\,\\,\\,\\,\\,\\,\\,\\beta=\\left(\\begin{array}{c}\n",
    "\\frac{1}{2}\\\\\n",
    "-\\frac{1}{2}\n",
    "\\end{array}\\right)$$\n",
    "</div>"
   ]
  },
  {
   "cell_type": "markdown",
   "id": "d00dfc05-2db1-43b6-823b-239dac5a96b1",
   "metadata": {},
   "source": [
    "<div class=\"com\">\n",
    "\n",
    "Insert your comment here\n",
    "</div>"
   ]
  },
  {
   "cell_type": "markdown",
   "id": "721b6c31-14e0-4972-a30e-77bf8e4ef1f0",
   "metadata": {},
   "source": [
    "<div class=\"exE\">\n",
    "\n",
    "Apply the `sigma_Plus` and `sigma_Moins` operators to both `alpha` and `beta`. Comment on the results.\n",
    "</div>"
   ]
  },
  {
   "cell_type": "code",
   "execution_count": null,
   "id": "9f498c57-f020-4bca-a6b8-2cb5f666ebb5",
   "metadata": {},
   "outputs": [],
   "source": [
    "# insert your code here\n",
    "\n"
   ]
  },
  {
   "cell_type": "markdown",
   "id": "bc83d643-61d8-4806-b8b0-f392d3b6bb8d",
   "metadata": {},
   "source": [
    "<div class=\"com\">\n",
    "\n",
    "Insert your comment here\n",
    "</div>"
   ]
  },
  {
   "cell_type": "markdown",
   "id": "7c048173-fdfb-440f-a645-9c2f2b2a5e08",
   "metadata": {},
   "source": [
    "<div class=\"intro\">\n",
    "\n",
    "We will see later that some equations depend on the identity matrix. There are two ways to return in identity matrix with SymPy. One is the [`eye` method](https://docs.sympy.org/latest/modules/matrices/common.html#sympy.matrices.common.MatrixCommon.eye), that returns an explicit identity matrix, the second one is the [`Identity` function], that returns a symbolic identity matrix. A symbolic matrix expression can be turned into an explicit matrix with the `as_explicit()` method.\n",
    "\n",
    "Let's illustrate all this with a 3 &times; 3 identity matrix: "
   ]
  },
  {
   "cell_type": "code",
   "execution_count": null,
   "id": "34a807c2-5af2-4f80-b364-82127ef2c93a",
   "metadata": {},
   "outputs": [],
   "source": [
    "t4pPC.centerTitle(\"eye method\")\n",
    "I_ = eye(3)\n",
    "I_\n",
    "\n",
    "t4pPC.centerTitle(\"Identity method\")\n",
    "I = Identity(3)\n",
    "I\n",
    "print(f\"Shape of the Identity matrix {I} = {I.shape}\")\n",
    "\n",
    "I_ = I.as_explicit()\n",
    "I_"
   ]
  },
  {
   "cell_type": "markdown",
   "id": "0e2e110c-5028-4dca-b716-fdb762e02662",
   "metadata": {},
   "source": [
    "<div class=\"exE\" title=\"Zeeman energies of a single proton in a magnetic field\">\n",
    "\n",
    "Apply the matrix representation of the Zeeman Hamiltonian,$ \\boldsymbol{H}_{\\mathrm{Z}}$, to the matrix form of the spin states $\\alpha$ and $\\beta$. Use a symbolic representation of variables. You should find results reported in equations (10) and (11).\n",
    "\n",
    "**Hint**:\n",
    "\n",
    "```python\n",
    "B0 = sp.Symbol(\"B0\", positive=True, real=True)\n",
    "gamma_H = sp.Symbol(\"gamma_H\", positive=True, real=True)\n",
    "hbar = sp.Symbol(\"hbar\", positive=True, real=True)\n",
    "```\n",
    "</div>"
   ]
  },
  {
   "cell_type": "code",
   "execution_count": null,
   "id": "d0fe9f27-b9f7-4389-b0c9-056dd68f28d6",
   "metadata": {},
   "outputs": [],
   "source": [
    "# insert your code here\n",
    "\n"
   ]
  },
  {
   "cell_type": "markdown",
   "id": "70aac06e-8a3b-47d1-8580-3b0d2650af79",
   "metadata": {},
   "source": [
    "### Kronecker products\n",
    "\n",
    "<div class=\"intro\">\n",
    "\n",
    "We must use Kronecker products since we will work on matrix representations of operators. For a two-spin system, the Zeeman Hamiltonian is written as\n",
    "\n",
    "$$\\boldsymbol{H}_{\\mathrm{Z}}=-\\frac{1}{2}\\nu_{\\mathrm{A}}\\boldsymbol{\\sigma}_{z_{\\mathrm{A}}}\\otimes\\boldsymbol{\\mathrm{1}}-\\frac{1}{2}\\nu_{\\mathrm{B}}\\boldsymbol{\\mathrm{1}}\\otimes\\boldsymbol{\\sigma}_{z_{\\mathrm{B}}}$$\n",
    "\n",
    "wheras the J-coupling Hamiltonian is formulated as\n",
    "\n",
    "$$\\boldsymbol{H}_{\\mathrm{J}}=\\frac{1}{4}J_{\\mathrm{AB}}(\\boldsymbol{\\Sigma}_{xx}+\\boldsymbol{\\Sigma}_{yy}+\\boldsymbol{\\Sigma}_{zz})$$\n",
    "</div>"
   ]
  },
  {
   "cell_type": "markdown",
   "id": "ec63116f-7d59-4c88-acde-cd93f0f65ab5",
   "metadata": {},
   "source": [
    "#### Operators for the Zeeman Hamiltonian\n",
    "\n",
    "<div class=\"exE\" title=\"Pauli matrix representation in a two-spin system (section 1.5.2)\">\n",
    "\n",
    "1. Define $\\boldsymbol{\\sigma}_{z_{\\mathrm{A}}}\\otimes\\boldsymbol{\\mathrm{1}}$ and $\\boldsymbol{\\mathrm{1}}\\otimes\\boldsymbol{\\sigma}_{z_{\\mathrm{B}}}$ as two new operators `SzA` and `SzB`\n",
    "\n",
    "2.  Print them out to check that they are correct.\n",
    "</div>"
   ]
  },
  {
   "cell_type": "code",
   "execution_count": null,
   "id": "78d51c0b-6f1a-4dd9-abd2-af78cc8034ac",
   "metadata": {},
   "outputs": [],
   "source": [
    "# insert your code here\n",
    "\n"
   ]
  },
  {
   "cell_type": "markdown",
   "id": "9193ba71-a29b-4d77-a232-e0fd2613fd9b",
   "metadata": {},
   "source": [
    "####  Operators for the J-coupling Hamiltonian\n",
    "\n",
    "<div class=\"exE\" title=\"Matrix representation of operators of the J-coupling hamiltonian in a two-spin system (section 1.5.2)\">\n",
    "\n",
    "1. Define $\\boldsymbol{\\Sigma}_{xx}$, $\\boldsymbol{\\Sigma}_{yy}$ and $\\boldsymbol{\\Sigma}_{zz}$ as three new operators `Sigma_xx`, `Sigma_yy` and `Sigma_zz`\n",
    "\n",
    "2.  Display them to check that they are correct.\n",
    "</div>"
   ]
  },
  {
   "cell_type": "code",
   "execution_count": null,
   "id": "f30e9747-a69b-4f93-8a6a-e4625a2ed742",
   "metadata": {},
   "outputs": [],
   "source": [
    "# insert your code here\n",
    "\n"
   ]
  },
  {
   "cell_type": "markdown",
   "id": "258b9415-c0e9-450e-90a0-b83da32a0bb2",
   "metadata": {},
   "source": [
    "## Definition and diagonalization of the spin Hamiltonian of an AB system\n",
    "\n",
    "### Definition of H\n",
    "\n",
    "#### Zeeman component of the Hamiltonian\n",
    "\n",
    "\n",
    "<div class=\"exE\" title=\"Matrix representation of the Zeeman hamiltonian in a two-spin system (section 1.5.2)\">\n",
    "\n",
    "1. Define two symbolic variables `nuA` and `nuB`.\n",
    "\n",
    "2. Define `Hz`, the symbolic representation of the $\\boldsymbol{H}_{\\mathrm{Z}}$ Hamiltonian\n",
    "\n",
    "3. Print it out to check that it is correct (you should find eq. 34)\n",
    "\n",
    "</div>"
   ]
  },
  {
   "cell_type": "code",
   "execution_count": null,
   "id": "b999a3d2-97c4-400c-b2d5-d86b037abe11",
   "metadata": {},
   "outputs": [],
   "source": [
    "# enter your code here\n",
    "\n"
   ]
  },
  {
   "cell_type": "markdown",
   "id": "06b5602b-d730-4f56-800a-0eb9ba7666c2",
   "metadata": {},
   "source": [
    "#### J-coupling Hamiltonian\n",
    "\n",
    "<div class=\"exE\" title=\"Matrix representation of the J-coupling hamiltonian in a two-spin system (section 1.5.2)\">\n",
    "\n",
    "1. Define the symbolic variables `JAB`.\n",
    "\n",
    "2. Define `HJ`, the symbolic representation of the $\\boldsymbol{H}_{\\mathrm{J}}$ Hamiltonian\n",
    "\n",
    "3. Print it out to check that it is correct (you should find eq. 35)\n",
    "</div>"
   ]
  },
  {
   "cell_type": "code",
   "execution_count": null,
   "id": "7f4203bf-1887-430f-956a-6e5e88cefa64",
   "metadata": {},
   "outputs": [],
   "source": [
    "# enter your code here\n",
    "\n"
   ]
  },
  {
   "cell_type": "markdown",
   "id": "00c62464-10c4-450a-8cd5-3f2304b65782",
   "metadata": {},
   "source": [
    "#### Total Hamiltonian\n",
    "\n",
    "<div class=\"exE\">\n",
    "\n",
    "1. Derive the total hamiltonian, `H`, from the previous results\n",
    "\n",
    "2. Print it out to check that it is correct (you should find eq. 36)\n",
    "</div>"
   ]
  },
  {
   "cell_type": "code",
   "execution_count": null,
   "id": "752ea4aa-9127-4348-9c93-225479e715b3",
   "metadata": {},
   "outputs": [],
   "source": [
    "# enter your code here\n",
    "\n"
   ]
  },
  {
   "cell_type": "markdown",
   "id": "38d92c63-0fef-4017-a29d-2ef272915910",
   "metadata": {},
   "source": [
    "<div class=\"rqT\" title=\"Assumption of inequalities\">\n",
    "\n",
    "There is no way in SymPy to assume inequalities, such as that $\\nu_\\mathrm{A} < \\nu_\\mathrm{B}$, because the [(old) assumptions system](https://docs.sympy.org/latest/guides/assumptions.html#the-old-assumptions-system) does not support relations.\n",
    "\n",
    "**What is the practical consequence?** In our case, it will be that SymPy will not be able to simplify to 1 a relationship of the kind:\n",
    "\n",
    "$$\\frac{\\nu_{\\mathrm{B}}-\\nu_{\\mathrm{A}}}{|\\nu_{\\mathrm{A}}-\\nu_{\\mathrm{B}}|} \\quad \\quad \\quad, \\mathrm{with}\\; \\nu_\\mathrm{A} < \\nu_\\mathrm{B}$$\n",
    "\n",
    "It's just annoying because some relationships \"simplified\" by SymPy will apparently be more complicated than they truly are. You will have to do a \"visual check\" that simplification should apply to some of these results, such as in orthogonality calculations. \n",
    "</div>"
   ]
  },
  {
   "cell_type": "markdown",
   "id": "dd4c1c68-af87-4030-98b2-f19a34eba060",
   "metadata": {},
   "source": [
    "### Diagonalization of H\n",
    "\n",
    "<div class=\"intro\">\n",
    "\n",
    "The eigenvalues of this Hamiltonian can be obtained by diagonalizing the `H` matrix. They correspond to the energies of the spin states of this AB system, whereas the eigenvectors describe these spin states. Actually, do not forget that the NMR Hamiltonian of had been divided by *h*, so that the energies here are directly calculated in Hz\n",
    "</div>\n",
    "<br>\n",
    "<div class=\"exE\">\n",
    "\n",
    "1. Find the eigenvalues (`E_funit`) and eigenvectors (`V`) of $\\boldsymbol{H}^{\\mathrm{NMR}}$, where `E_funit` and `V` are (4,) and (4,4) `sympy.matrices.dense.MutableDenseMatrix`, respectively\n",
    "\n",
    "2. Print the simplified associated frequency and expression of each eigenstate of $\\boldsymbol{H}^{\\mathrm{NMR}}$\n",
    "\n",
    "3. Compare your results with eq. (37)-(40). Apart from the fact that they are not in the same order, what else can you see?\n",
    "\n",
    "**Hints.**\n",
    "- The [`sp.Matrix()`](https://docs.sympy.org/latest/modules/matrices/dense.html#sympy.matrices.dense.Matrix) utility could be useful\n",
    "- The [`M.diagonal()`](https://docs.sympy.org/latest/modules/matrices/common.html#sympy.matrices.common.MatrixCommon.diagonal) code returns as a SymPy vector the diagonal elements of the `M` matrix\n",
    "</div>"
   ]
  },
  {
   "cell_type": "code",
   "execution_count": null,
   "id": "65780f0e-388b-45bd-b9e8-cede7f7c9c08",
   "metadata": {},
   "outputs": [],
   "source": [
    "# enter your code here\n",
    "\n"
   ]
  },
  {
   "cell_type": "markdown",
   "id": "d203f3bb-0b81-4bda-aeef-a30e4c742ad8",
   "metadata": {},
   "source": [
    "<div class=\"com\">\n",
    "\n",
    "Insert your comment here\n",
    "</div>"
   ]
  },
  {
   "cell_type": "markdown",
   "id": "55f09fdc-338a-4b23-b414-55319bd7c711",
   "metadata": {},
   "source": [
    "### Sorting of the eigenvalues and eigenvectors\n",
    "\n",
    "<div class=\"exE\">\n",
    "    \n",
    "It is necessary to sort the spin states $V_i$ according to their total spin value, $M$. Values for $M$ can easily be calculated because $V_i$ are also eigenvectors of the $I_z$ operators, the eigenvalues will be on the diagonal of the following ***M*** matrix:\n",
    "\n",
    "$$\\boldsymbol{M} = \\frac{1}{2}\\left[\\boldsymbol{V}^{T}(\\boldsymbol{I}_{z_{\\mathrm{A}}}\\otimes\\boldsymbol{1}+\\boldsymbol{1}\\otimes\\boldsymbol{I}_{z\\mathrm{_{B}}})\\boldsymbol{V}\\right]$$\n",
    "\n",
    "1. Calculate ***M***\n",
    "2. Sort `E_funit` and `V` by increasing values of *M* (see also Fig. 2 of the technical document)\n",
    "3. Print the sorted `E_funit` matrix and calculate again ***M*** with the sorted `V` matrix\n",
    "4. Check that the new `V` basis set is orthonormal. Comment on this result.\n",
    "</div>"
   ]
  },
  {
   "cell_type": "code",
   "execution_count": null,
   "id": "15e203ab-8aae-4b7e-8204-3fcf22685c36",
   "metadata": {},
   "outputs": [],
   "source": [
    "# insert your code here\n",
    "\n"
   ]
  },
  {
   "cell_type": "markdown",
   "id": "8fc12a28-5a99-4e0b-a960-122148957994",
   "metadata": {},
   "source": [
    "<div class=\"com\">\n",
    "\n",
    "Insert your comment here\n",
    "</div>"
   ]
  },
  {
   "cell_type": "markdown",
   "id": "d01a5dd3-0c4a-4257-b0b0-67fc93aa52eb",
   "metadata": {},
   "source": [
    "### Simulation of an AB spectrum\n",
    "\n",
    "#### Determination of the intensities and energies of the allowed transitions\n",
    "\n",
    "<div class=\"exE\">\n",
    "\n",
    "1. Calculate the transition matrix ***T***, that will be named `TM`\n",
    "2. From this, deduce the intensity matrix ***I***, that will be named `IM`\n",
    "3. Finally, deduce the frequency matrix ***ν***, that will be named `FM`\n",
    "\n",
    "</div>"
   ]
  },
  {
   "cell_type": "code",
   "execution_count": null,
   "id": "4c7c9b6a-1ad5-4ad9-b8e9-6f543ea2a7a9",
   "metadata": {},
   "outputs": [],
   "source": [
    "# enter your code here\n",
    "\n"
   ]
  },
  {
   "cell_type": "code",
   "execution_count": null,
   "id": "2c9fe736-3dcc-4670-8581-3593aa01ff12",
   "metadata": {},
   "outputs": [],
   "source": [
    "# enter your code here\n",
    "\n"
   ]
  },
  {
   "cell_type": "code",
   "execution_count": null,
   "id": "d477a07a-942d-4540-be26-ae612d163467",
   "metadata": {},
   "outputs": [],
   "source": [
    "# enter your code here\n",
    "\n"
   ]
  },
  {
   "cell_type": "markdown",
   "id": "dc18c7b7-0a25-4df9-9779-3a5b784a12a2",
   "metadata": {},
   "source": [
    "#### Case studies\n",
    "\n",
    "<div class=\"exE\">\n",
    "\n",
    "- Plot a simulated NMR spectrum as vertical lines, in two cases\n",
    "    - *&nu;*<sub>A</sub> = 195 Hz, *&nu;*<sub>B</sub> = 205 Hz, *J*<sub>AB</sub> = 7 Hz\n",
    "    - *&nu;*<sub>A</sub> = 150 Hz, *&nu;*<sub>B</sub> = 250 Hz, *J*<sub>AB</sub> = 7 Hz\n",
    "\n",
    "The first spectrum should look like: \n",
    "<img src=\"./MiscSavedFiguresVideos/NMR-ABcase-C.png\" alt=\"NMRCase1\" width=\"500\" style=\"display: block; margin: 0 auto; align:center\"/>\n",
    "\n",
    "- Comment on these two plots\n",
    "</div>"
   ]
  },
  {
   "cell_type": "markdown",
   "id": "864570af-d981-45bc-9e4e-97f9556e1d08",
   "metadata": {
    "tags": []
   },
   "source": [
    "##### nuA = 150 Hz, nuB = 250 Hz, JAB = 7 Hz"
   ]
  },
  {
   "cell_type": "code",
   "execution_count": null,
   "id": "06fbe82d-1b6d-4b11-ad52-ed2cf115e6e0",
   "metadata": {},
   "outputs": [],
   "source": [
    "# insert your code here\n",
    "\n"
   ]
  },
  {
   "cell_type": "markdown",
   "id": "80095c21-481d-4165-9a4e-7cf2779a8c33",
   "metadata": {
    "tags": []
   },
   "source": [
    "##### nuA = 195 Hz, nuB = 205 Hz, JAB = 7 Hz"
   ]
  },
  {
   "cell_type": "code",
   "execution_count": null,
   "id": "6b11999f-6c78-40f9-a00d-7544907da399",
   "metadata": {},
   "outputs": [],
   "source": [
    "# insert your code here\n",
    "\n"
   ]
  },
  {
   "cell_type": "markdown",
   "id": "a88eb10d-4472-4e51-890b-2aba19f77f45",
   "metadata": {},
   "source": [
    "<div class=\"com\">\n",
    "\n",
    "Insert your comment here\n",
    "</div>"
   ]
  },
  {
   "cell_type": "markdown",
   "id": "17c36fe6-9c92-429c-8061-b1229ad2dacb",
   "metadata": {},
   "source": [
    "##### Simulation of an AB spectrum at 60 MHz\n",
    "\n",
    "<div class=\"exE\">\n",
    "The goal of this new exercise is to simulate the AB part of the experimental 1H-NMR spectrum of 3,6-dimethyl-2-nitroaniline, obtained on a 60 Mhz spectrometer:\n",
    "\n",
    "<figure>\n",
    "  <img width=\"500px\" src=\"./MiscImages/1HNMR-3,6-dimethyl-2-nitroaniline.jpg\" style=\"margin-left:auto; margin-right:auto\" id=\"imgNMRaniline_exp\"/>\n",
    "  <figcaption><b>Experimental 1H-NMR spectrum of 3,6-dimethyl-2-nitroaniline, measured on a 60 MHz spectrometer</b><br>(<i>spectrum taken from:</i> H. Günther, NMR Spectroscopy: Basic Principles, Concepts, and Applications in Chemistry, Wiley, 2013)</figcaption>\n",
    "</figure>\n",
    "<br>\n",
    "\n",
    "The *&delta;*<sub>A</sub> and *&delta;*<sub>B</sub> chemical shifts and the *J*<sub>AB</sub> coupling constant can be inferred from the spectrum:\n",
    "- *&delta;*<sub>A</sub> = 6.3 ppm\n",
    "- *&delta;*<sub>B</sub> = 6.8 ppm\n",
    "- *J*<sub>AB</sub> = 10 Hz\n",
    "\n",
    "1. Calculate the absolute resonance frequencies of protons H<sup>*a*</sup> and H<sup>*b*</sup>, as well as their frequencies relative to TMS\n",
    "2. Use these parameters with the developed AB NMR Hamiltonian to calculate and plot the simulated AB part of the 1H NMR spectrum of 3,6-dimethyl-2-nitroaniline. How does it compare with its experimental counterpart ?\n",
    "\n",
    "**Optional question.** Plot the simulated NMR spectrum with two axis that share the same x-axis: one related to chemical shifts, the second one to the corresponding relative resonance frequencies. And sum the signals with Lorentzian functions. It should look like:\n",
    "\n",
    "<figure>\n",
    "  <img width=\"500px\" src=\"./MiscSavedFiguresVideos/3_6-dimethyl-2-nitroaniline-NMRSpectrum-C.png\" style=\"margin-left:auto; margin-right:auto\" id=\"imgNMRaniline_simul\"/>\n",
    "  <figcaption><b>Simulated 60 MHz 1H-NMR spectrum of 3,6-dimethyl-2-nitroaniline</b></figcaption>\n",
    "</figure>\n",
    " \n",
    "</div>"
   ]
  },
  {
   "cell_type": "code",
   "execution_count": null,
   "id": "a1a5f7f1-e9b8-4d2f-89c4-5f6c197ea7b4",
   "metadata": {},
   "outputs": [],
   "source": [
    "# insert your code here\n",
    "\n"
   ]
  },
  {
   "cell_type": "markdown",
   "id": "0a628a4f-a85f-4dec-bb9c-f5edf68cfd46",
   "metadata": {},
   "source": [
    "<div class=\"com\">\n",
    "\n",
    "Insert your comment here\n",
    "</div>"
   ]
  },
  {
   "cell_type": "markdown",
   "id": "988d7144-da71-4b08-8ccd-5a859c747df3",
   "metadata": {},
   "source": [
    "<div class=\"exE\">\n",
    "\n",
    "The same case has been simulated between *&nu;*<sub>0</sub> = 60 MHz and *&nu;*<sub>0</sub> = 800 MHz\n",
    "\n",
    "Run the cell below to load an animated plot. Comment on what you observe.\n",
    "</div>"
   ]
  },
  {
   "cell_type": "code",
   "execution_count": null,
   "id": "06218fb4-2060-496b-b29a-318e270699e1",
   "metadata": {},
   "outputs": [],
   "source": [
    "from IPython import display \n",
    "with open(\"./MiscSavedFiguresVideos/AB2AXsaved.html\", \"r\") as f:\n",
    "    video = f.read()\n",
    "html = display.HTML(video) \n",
    "display.display(html) "
   ]
  },
  {
   "cell_type": "markdown",
   "id": "46f90d54-f601-42d6-bf61-9c7d5288a582",
   "metadata": {},
   "source": [
    "<div class=\"com\">\n",
    "\n",
    "Insert your comment here\n",
    "</div>"
   ]
  },
  {
   "cell_type": "code",
   "execution_count": 4,
   "id": "898a0af5-6513-4be2-8538-0d741a4c4478",
   "metadata": {},
   "outputs": [
    {
     "data": {
      "text/markdown": [
       "**End at:** Wednesday 22 November 2023, 18:27:04  \n",
       "**Duration:** 00:00:07 397ms"
      ],
      "text/plain": [
       "<IPython.core.display.Markdown object>"
      ]
     },
     "metadata": {},
     "output_type": "display_data"
    },
    {
     "data": {
      "text/markdown": [
       "<p style=\"text-align: center\"><img width=\"800px\" src=\"./config/svg/logoEnd.svg\" style=\"margin-left:auto; margin-right:auto\"/></p>"
      ],
      "text/plain": [
       "<IPython.core.display.Markdown object>"
      ]
     },
     "metadata": {},
     "output_type": "display_data"
    }
   ],
   "source": [
    "vID.end(cwd0)"
   ]
  },
  {
   "cell_type": "code",
   "execution_count": null,
   "id": "e0e0f687-17f3-40b6-8ad1-9f06616a7cd4",
   "metadata": {},
   "outputs": [],
   "source": []
  }
 ],
 "metadata": {
  "kernelspec": {
   "display_name": "Python 3 (ipykernel)",
   "language": "python",
   "name": "python3"
  },
  "language_info": {
   "codemirror_mode": {
    "name": "ipython",
    "version": 3
   },
   "file_extension": ".py",
   "mimetype": "text/x-python",
   "name": "python",
   "nbconvert_exporter": "python",
   "pygments_lexer": "ipython3",
   "version": "3.11.5"
  },
  "toc-autonumbering": false,
  "toc-showcode": false,
  "toc-showmarkdowntxt": false,
  "toc-showtags": false
 },
 "nbformat": 4,
 "nbformat_minor": 5
}
