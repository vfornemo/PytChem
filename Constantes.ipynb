{
 "cells": [
  {
   "cell_type": "code",
   "execution_count": 1,
   "id": "c0104152-125c-4d8a-a58d-a0ff671c034b",
   "metadata": {},
   "outputs": [
    {
     "name": "stdout",
     "output_type": "stream",
     "text": [
      "/home/romuald/ENSEIGNEMENT/0-JupyterNotebooks/pyPhysChem\n"
     ]
    },
    {
     "data": {
      "text/html": [
       "<style>\n",
       "h1, h2, h3, h4, h5, h6 {\n",
       "  font-family: Verdana, \"DejaVu Sans\", \"Bitstream Vera Sans\", Geneva, sans-serif;\n",
       "  font-weight: bold;\n",
       "}\n",
       "body, exercice {\n",
       "  font-family: Verdana, \"DejaVu Sans\", \"Bitstream Vera Sans\", Geneva, sans-serif;\n",
       "  font-weight: 200;\n",
       "}\n",
       "h1 {\n",
       "  border: 0 solid #333;\n",
       "  padding: 30px ;\n",
       "  color: white;\n",
       "  background: #b11d01;\n",
       "  text-align: center;\n",
       "}\n",
       "h2 {\n",
       "  border: 3px solid #333;\n",
       "  padding: 18px ;\n",
       "  color: #b11d01;\n",
       "  background: #ffffff;\n",
       "  text-align: center;\n",
       "}\n",
       "h3 {\n",
       "  border: 0 solid #333;\n",
       "  padding: 12px ;\n",
       "  color: #000000;\n",
       "  background: #c1c1c1;\n",
       "  text-align: left;\n",
       "}\n",
       "h4 {\n",
       "  border: 0 solid #333;\n",
       "  padding: 2px ;\n",
       "  color: #000000;\n",
       "  background: #d9fffc;\n",
       "  text-align: left;\n",
       "}\n",
       "h5 {\n",
       "  border: 1px solid #333;\n",
       "  padding: 2px ;\n",
       "  color: #000000;\n",
       "  background: #ffffff;\n",
       "  text-align: left;\n",
       "}\n",
       ".rq {    \n",
       "    background-color: #fcf2f2;\n",
       "    border-color: #dFb5b4;\n",
       "    border-left: 5px solid #dfb5b4;\n",
       "    padding: 0.5em;\n",
       "    font-weight: 200;\n",
       "    }\n",
       ".intro {    \n",
       "    background-color: #f1f1f1;\n",
       "    border-color: #969696;\n",
       "    border-left: 5px solid #969696;\n",
       "    padding: 0.5em;\n",
       "    font-weight: 200;\n",
       "    }\n",
       ".exold {    \n",
       "    background-color: #b2dbea80;\n",
       "    border-color: #0055ff;\n",
       "    border-left: 10px solid #0055ff;\n",
       "    padding: 0.5em;\n",
       "    font-weight: 200;\n",
       "    }\n",
       ".ex {    \n",
       "    background-color: #b2dbea80;\n",
       "    padding: 0.5em;\n",
       "    padding-top: 0em;\n",
       "    font-weight: 200;\n",
       "    position:relative;\n",
       "    }\n",
       ".ex::before {\n",
       "    background-color: #b2dbea;\n",
       "    content:\"Exercice\";\n",
       "    margin-left:-0.5em;\n",
       "    margin-right:-0.5em;\n",
       "    padding-left:0.5em;\n",
       "    padding-right:0.5em;\n",
       "    font-weight: 600;\n",
       "    display: block;\n",
       "    }\n",
       ".app {    \n",
       "    background-color: #b2dbea80;\n",
       "    padding: 0.5em;\n",
       "    padding-top: 0em;\n",
       "    font-weight: 200;\n",
       "    position:relative;\n",
       "    }\n",
       ".app::before {\n",
       "    background-color: #b2dbea;\n",
       "    content:\"Application\";\n",
       "    margin-left:-0.5em;\n",
       "    margin-right:-0.5em;\n",
       "    padding-left:0.5em;\n",
       "    padding-right:0.5em;\n",
       "    font-weight: 600;\n",
       "    display: block;\n",
       "    }\n",
       "</style>\n"
      ],
      "text/plain": [
       "<IPython.core.display.HTML object>"
      ]
     },
     "metadata": {},
     "output_type": "display_data"
    },
    {
     "data": {
      "text/markdown": [
       "**Start at:** Wednesday 05 April 2023, 12:27:08  \n",
       "**Hostname:** insa-12842 (Linux)"
      ],
      "text/plain": [
       "<IPython.core.display.Markdown object>"
      ]
     },
     "metadata": {},
     "output_type": "display_data"
    },
    {
     "data": {
      "text/markdown": [
       "<p style=\"text-align: center\"><img width=\"800px\" src=\"./config/svg/pyPhysChemBanner.svg\" style=\"margin-left:auto; margin-right:auto\"/></p>"
      ],
      "text/plain": [
       "<IPython.core.display.Markdown object>"
      ]
     },
     "metadata": {},
     "output_type": "display_data"
    }
   ],
   "source": [
    "import os\n",
    "import sys\n",
    "\n",
    "print(os.getcwd())\n",
    "cwd0 = './config/'\n",
    "sys.path.append(cwd0)\n",
    "\n",
    "import visualID_Eng as vID\n",
    "from visualID import color\n",
    "vID.init(cwd0)"
   ]
  },
  {
   "cell_type": "markdown",
   "id": "f7e2632f-bdd2-47b5-89f7-f59676bd4a8a",
   "metadata": {
    "tags": []
   },
   "source": [
    "# Constantes Physiques et Mathématiques\n",
    "\n",
    "## **1.** Introduction  \n",
    "\n"
   ]
  },
  {
   "cell_type": "markdown",
   "id": "ab6e3222-8503-47ee-83ae-d797c47a8ee5",
   "metadata": {},
   "source": [
    "En chimie, on a fréquemment besoin d'utiliser des [constantes physiques](https://en.wikipedia.org/wiki/Physical_constant), telles que la vitesse de la lumière $c$, la masse du proton $m_p$, le nombre d'Avogadro $N_A$, la constante de Planck $h$, la constante des gaz parfaits $R$, etc...\n",
    "\n",
    "Une constante physique est une quantité physique dont la valeur numérique est fixe. Contrairement à une constante mathématique, elle implique directement une grandeur physiquement mesurable.\n",
    "\n",
    "On a souvent besoin également de certaines [constantes mathématiques](https://en.wikipedia.org/wiki/Mathematical_constant), comme le nombre $\\pi$, le nombre d'Euler $e$, l'unité imaginaire $i$, etc...\n",
    "\n",
    "La plupart de ces constantes sont disponibles dans la bibliothèque `SciPy`, qui est l’une des bibliothèques de Python permettant de faire le calcul scientifique. Celle-ci dépend de la bibliothèque `NumPy` qui permet la manipulation des tableaux à $N$ dimensions. La liste des constantes et des unités est disponible dans la [documentation en ligne de](https://docs.scipy.org/doc/scipy/reference/constants.html) `SciPy`, ou bien par l'utilisation d'une commande python. Pour y accéder, il faut importer `scipy.constants`."
   ]
  },
  {
   "cell_type": "code",
   "execution_count": 2,
   "id": "dc7684c1-3a90-4b18-bbe0-67374551dbda",
   "metadata": {},
   "outputs": [],
   "source": [
    "import scipy.constants as sc"
   ]
  },
  {
   "cell_type": "markdown",
   "id": "21a82f8a-5037-4026-8135-da5a22e17044",
   "metadata": {},
   "source": [
    "## **2.** Quelques exemples d'utilisation de `scipy.constants`\n",
    "\n",
    "### **2.1** Lister et rechercher les constantes physiques\n",
    "\n",
    "On va utiliser la commande `find` de `SciPy` :"
   ]
  },
  {
   "cell_type": "code",
   "execution_count": 3,
   "id": "e8245c92-d92a-45bd-97a3-66e0d25c2659",
   "metadata": {},
   "outputs": [
    {
     "data": {
      "text/plain": [
       "['Angstrom star',\n",
       " 'Avogadro constant',\n",
       " 'Bohr magneton',\n",
       " 'Bohr magneton in Hz/T',\n",
       " 'Bohr magneton in K/T',\n",
       " 'Bohr magneton in eV/T',\n",
       " 'Bohr magneton in inverse meter per tesla',\n",
       " 'Bohr radius',\n",
       " 'Boltzmann constant',\n",
       " 'Boltzmann constant in Hz/K',\n",
       " 'Boltzmann constant in eV/K',\n",
       " 'Boltzmann constant in inverse meter per kelvin',\n",
       " 'Compton wavelength',\n",
       " 'Cu x unit',\n",
       " 'Faraday constant',\n",
       " 'Fermi coupling constant',\n",
       " 'Hartree energy',\n",
       " 'Hartree energy in eV',\n",
       " 'Josephson constant',\n",
       " 'Loschmidt constant (273.15 K, 100 kPa)',\n",
       " 'Loschmidt constant (273.15 K, 101.325 kPa)',\n",
       " 'Mo x unit',\n",
       " 'Newtonian constant of gravitation',\n",
       " 'Newtonian constant of gravitation over h-bar c',\n",
       " 'Planck constant',\n",
       " 'Planck constant in eV/Hz',\n",
       " 'Planck length',\n",
       " 'Planck mass',\n",
       " 'Planck mass energy equivalent in GeV',\n",
       " 'Planck temperature',\n",
       " 'Planck time',\n",
       " 'Rydberg constant',\n",
       " 'Rydberg constant times c in Hz',\n",
       " 'Rydberg constant times hc in J',\n",
       " 'Rydberg constant times hc in eV',\n",
       " 'Sackur-Tetrode constant (1 K, 100 kPa)',\n",
       " 'Sackur-Tetrode constant (1 K, 101.325 kPa)',\n",
       " 'Stefan-Boltzmann constant',\n",
       " 'Thomson cross section',\n",
       " 'W to Z mass ratio',\n",
       " 'Wien frequency displacement law constant',\n",
       " 'Wien wavelength displacement law constant',\n",
       " 'alpha particle mass',\n",
       " 'alpha particle mass energy equivalent',\n",
       " 'alpha particle mass energy equivalent in MeV',\n",
       " 'alpha particle mass in u',\n",
       " 'alpha particle molar mass',\n",
       " 'alpha particle relative atomic mass',\n",
       " 'alpha particle-electron mass ratio',\n",
       " 'alpha particle-proton mass ratio',\n",
       " 'atomic mass constant',\n",
       " 'atomic mass constant energy equivalent',\n",
       " 'atomic mass constant energy equivalent in MeV',\n",
       " 'atomic mass unit-electron volt relationship',\n",
       " 'atomic mass unit-hartree relationship',\n",
       " 'atomic mass unit-hertz relationship',\n",
       " 'atomic mass unit-inverse meter relationship',\n",
       " 'atomic mass unit-joule relationship',\n",
       " 'atomic mass unit-kelvin relationship',\n",
       " 'atomic mass unit-kilogram relationship',\n",
       " 'atomic unit of 1st hyperpolarizability',\n",
       " 'atomic unit of 2nd hyperpolarizability',\n",
       " 'atomic unit of action',\n",
       " 'atomic unit of charge',\n",
       " 'atomic unit of charge density',\n",
       " 'atomic unit of current',\n",
       " 'atomic unit of electric dipole mom.',\n",
       " 'atomic unit of electric field',\n",
       " 'atomic unit of electric field gradient',\n",
       " 'atomic unit of electric polarizability',\n",
       " 'atomic unit of electric potential',\n",
       " 'atomic unit of electric quadrupole mom.',\n",
       " 'atomic unit of energy',\n",
       " 'atomic unit of force',\n",
       " 'atomic unit of length',\n",
       " 'atomic unit of mag. dipole mom.',\n",
       " 'atomic unit of mag. flux density',\n",
       " 'atomic unit of magnetizability',\n",
       " 'atomic unit of mass',\n",
       " 'atomic unit of momentum',\n",
       " 'atomic unit of permittivity',\n",
       " 'atomic unit of time',\n",
       " 'atomic unit of velocity',\n",
       " 'classical electron radius',\n",
       " 'conductance quantum',\n",
       " 'conventional value of Josephson constant',\n",
       " 'conventional value of ampere-90',\n",
       " 'conventional value of coulomb-90',\n",
       " 'conventional value of farad-90',\n",
       " 'conventional value of henry-90',\n",
       " 'conventional value of ohm-90',\n",
       " 'conventional value of volt-90',\n",
       " 'conventional value of von Klitzing constant',\n",
       " 'conventional value of watt-90',\n",
       " 'deuteron g factor',\n",
       " 'deuteron mag. mom.',\n",
       " 'deuteron mag. mom. to Bohr magneton ratio',\n",
       " 'deuteron mag. mom. to nuclear magneton ratio',\n",
       " 'deuteron mass',\n",
       " 'deuteron mass energy equivalent',\n",
       " 'deuteron mass energy equivalent in MeV',\n",
       " 'deuteron mass in u',\n",
       " 'deuteron molar mass',\n",
       " 'deuteron relative atomic mass',\n",
       " 'deuteron rms charge radius',\n",
       " 'deuteron-electron mag. mom. ratio',\n",
       " 'deuteron-electron mass ratio',\n",
       " 'deuteron-neutron mag. mom. ratio',\n",
       " 'deuteron-proton mag. mom. ratio',\n",
       " 'deuteron-proton mass ratio',\n",
       " 'electron charge to mass quotient',\n",
       " 'electron g factor',\n",
       " 'electron gyromag. ratio',\n",
       " 'electron gyromag. ratio in MHz/T',\n",
       " 'electron mag. mom.',\n",
       " 'electron mag. mom. anomaly',\n",
       " 'electron mag. mom. to Bohr magneton ratio',\n",
       " 'electron mag. mom. to nuclear magneton ratio',\n",
       " 'electron mass',\n",
       " 'electron mass energy equivalent',\n",
       " 'electron mass energy equivalent in MeV',\n",
       " 'electron mass in u',\n",
       " 'electron molar mass',\n",
       " 'electron relative atomic mass',\n",
       " 'electron to alpha particle mass ratio',\n",
       " 'electron to shielded helion mag. mom. ratio',\n",
       " 'electron to shielded proton mag. mom. ratio',\n",
       " 'electron volt',\n",
       " 'electron volt-atomic mass unit relationship',\n",
       " 'electron volt-hartree relationship',\n",
       " 'electron volt-hertz relationship',\n",
       " 'electron volt-inverse meter relationship',\n",
       " 'electron volt-joule relationship',\n",
       " 'electron volt-kelvin relationship',\n",
       " 'electron volt-kilogram relationship',\n",
       " 'electron-deuteron mag. mom. ratio',\n",
       " 'electron-deuteron mass ratio',\n",
       " 'electron-helion mass ratio',\n",
       " 'electron-muon mag. mom. ratio',\n",
       " 'electron-muon mass ratio',\n",
       " 'electron-neutron mag. mom. ratio',\n",
       " 'electron-neutron mass ratio',\n",
       " 'electron-proton mag. mom. ratio',\n",
       " 'electron-proton mass ratio',\n",
       " 'electron-tau mass ratio',\n",
       " 'electron-triton mass ratio',\n",
       " 'elementary charge',\n",
       " 'elementary charge over h-bar',\n",
       " 'fine-structure constant',\n",
       " 'first radiation constant',\n",
       " 'first radiation constant for spectral radiance',\n",
       " 'hartree-atomic mass unit relationship',\n",
       " 'hartree-electron volt relationship',\n",
       " 'hartree-hertz relationship',\n",
       " 'hartree-inverse meter relationship',\n",
       " 'hartree-joule relationship',\n",
       " 'hartree-kelvin relationship',\n",
       " 'hartree-kilogram relationship',\n",
       " 'helion g factor',\n",
       " 'helion mag. mom.',\n",
       " 'helion mag. mom. to Bohr magneton ratio',\n",
       " 'helion mag. mom. to nuclear magneton ratio',\n",
       " 'helion mass',\n",
       " 'helion mass energy equivalent',\n",
       " 'helion mass energy equivalent in MeV',\n",
       " 'helion mass in u',\n",
       " 'helion molar mass',\n",
       " 'helion relative atomic mass',\n",
       " 'helion shielding shift',\n",
       " 'helion-electron mass ratio',\n",
       " 'helion-proton mass ratio',\n",
       " 'hertz-atomic mass unit relationship',\n",
       " 'hertz-electron volt relationship',\n",
       " 'hertz-hartree relationship',\n",
       " 'hertz-inverse meter relationship',\n",
       " 'hertz-joule relationship',\n",
       " 'hertz-kelvin relationship',\n",
       " 'hertz-kilogram relationship',\n",
       " 'hyperfine transition frequency of Cs-133',\n",
       " 'inverse fine-structure constant',\n",
       " 'inverse meter-atomic mass unit relationship',\n",
       " 'inverse meter-electron volt relationship',\n",
       " 'inverse meter-hartree relationship',\n",
       " 'inverse meter-hertz relationship',\n",
       " 'inverse meter-joule relationship',\n",
       " 'inverse meter-kelvin relationship',\n",
       " 'inverse meter-kilogram relationship',\n",
       " 'inverse of conductance quantum',\n",
       " 'joule-atomic mass unit relationship',\n",
       " 'joule-electron volt relationship',\n",
       " 'joule-hartree relationship',\n",
       " 'joule-hertz relationship',\n",
       " 'joule-inverse meter relationship',\n",
       " 'joule-kelvin relationship',\n",
       " 'joule-kilogram relationship',\n",
       " 'kelvin-atomic mass unit relationship',\n",
       " 'kelvin-electron volt relationship',\n",
       " 'kelvin-hartree relationship',\n",
       " 'kelvin-hertz relationship',\n",
       " 'kelvin-inverse meter relationship',\n",
       " 'kelvin-joule relationship',\n",
       " 'kelvin-kilogram relationship',\n",
       " 'kilogram-atomic mass unit relationship',\n",
       " 'kilogram-electron volt relationship',\n",
       " 'kilogram-hartree relationship',\n",
       " 'kilogram-hertz relationship',\n",
       " 'kilogram-inverse meter relationship',\n",
       " 'kilogram-joule relationship',\n",
       " 'kilogram-kelvin relationship',\n",
       " 'lattice parameter of silicon',\n",
       " 'lattice spacing of ideal Si (220)',\n",
       " 'luminous efficacy',\n",
       " 'mag. flux quantum',\n",
       " 'molar Planck constant',\n",
       " 'molar gas constant',\n",
       " 'molar mass constant',\n",
       " 'molar mass of carbon-12',\n",
       " 'molar volume of ideal gas (273.15 K, 100 kPa)',\n",
       " 'molar volume of ideal gas (273.15 K, 101.325 kPa)',\n",
       " 'molar volume of silicon',\n",
       " 'muon Compton wavelength',\n",
       " 'muon g factor',\n",
       " 'muon mag. mom.',\n",
       " 'muon mag. mom. anomaly',\n",
       " 'muon mag. mom. to Bohr magneton ratio',\n",
       " 'muon mag. mom. to nuclear magneton ratio',\n",
       " 'muon mass',\n",
       " 'muon mass energy equivalent',\n",
       " 'muon mass energy equivalent in MeV',\n",
       " 'muon mass in u',\n",
       " 'muon molar mass',\n",
       " 'muon-electron mass ratio',\n",
       " 'muon-neutron mass ratio',\n",
       " 'muon-proton mag. mom. ratio',\n",
       " 'muon-proton mass ratio',\n",
       " 'muon-tau mass ratio',\n",
       " 'natural unit of action',\n",
       " 'natural unit of action in eV s',\n",
       " 'natural unit of energy',\n",
       " 'natural unit of energy in MeV',\n",
       " 'natural unit of length',\n",
       " 'natural unit of mass',\n",
       " 'natural unit of momentum',\n",
       " 'natural unit of momentum in MeV/c',\n",
       " 'natural unit of time',\n",
       " 'natural unit of velocity',\n",
       " 'neutron Compton wavelength',\n",
       " 'neutron g factor',\n",
       " 'neutron gyromag. ratio',\n",
       " 'neutron gyromag. ratio in MHz/T',\n",
       " 'neutron mag. mom.',\n",
       " 'neutron mag. mom. to Bohr magneton ratio',\n",
       " 'neutron mag. mom. to nuclear magneton ratio',\n",
       " 'neutron mass',\n",
       " 'neutron mass energy equivalent',\n",
       " 'neutron mass energy equivalent in MeV',\n",
       " 'neutron mass in u',\n",
       " 'neutron molar mass',\n",
       " 'neutron relative atomic mass',\n",
       " 'neutron to shielded proton mag. mom. ratio',\n",
       " 'neutron-electron mag. mom. ratio',\n",
       " 'neutron-electron mass ratio',\n",
       " 'neutron-muon mass ratio',\n",
       " 'neutron-proton mag. mom. ratio',\n",
       " 'neutron-proton mass difference',\n",
       " 'neutron-proton mass difference energy equivalent',\n",
       " 'neutron-proton mass difference energy equivalent in MeV',\n",
       " 'neutron-proton mass difference in u',\n",
       " 'neutron-proton mass ratio',\n",
       " 'neutron-tau mass ratio',\n",
       " 'nuclear magneton',\n",
       " 'nuclear magneton in K/T',\n",
       " 'nuclear magneton in MHz/T',\n",
       " 'nuclear magneton in eV/T',\n",
       " 'nuclear magneton in inverse meter per tesla',\n",
       " 'proton Compton wavelength',\n",
       " 'proton charge to mass quotient',\n",
       " 'proton g factor',\n",
       " 'proton gyromag. ratio',\n",
       " 'proton gyromag. ratio in MHz/T',\n",
       " 'proton mag. mom.',\n",
       " 'proton mag. mom. to Bohr magneton ratio',\n",
       " 'proton mag. mom. to nuclear magneton ratio',\n",
       " 'proton mag. shielding correction',\n",
       " 'proton mass',\n",
       " 'proton mass energy equivalent',\n",
       " 'proton mass energy equivalent in MeV',\n",
       " 'proton mass in u',\n",
       " 'proton molar mass',\n",
       " 'proton relative atomic mass',\n",
       " 'proton rms charge radius',\n",
       " 'proton-electron mass ratio',\n",
       " 'proton-muon mass ratio',\n",
       " 'proton-neutron mag. mom. ratio',\n",
       " 'proton-neutron mass ratio',\n",
       " 'proton-tau mass ratio',\n",
       " 'quantum of circulation',\n",
       " 'quantum of circulation times 2',\n",
       " 'reduced Compton wavelength',\n",
       " 'reduced Planck constant',\n",
       " 'reduced Planck constant in eV s',\n",
       " 'reduced Planck constant times c in MeV fm',\n",
       " 'reduced muon Compton wavelength',\n",
       " 'reduced neutron Compton wavelength',\n",
       " 'reduced proton Compton wavelength',\n",
       " 'reduced tau Compton wavelength',\n",
       " 'second radiation constant',\n",
       " 'shielded helion gyromag. ratio',\n",
       " 'shielded helion gyromag. ratio in MHz/T',\n",
       " 'shielded helion mag. mom.',\n",
       " 'shielded helion mag. mom. to Bohr magneton ratio',\n",
       " 'shielded helion mag. mom. to nuclear magneton ratio',\n",
       " 'shielded helion to proton mag. mom. ratio',\n",
       " 'shielded helion to shielded proton mag. mom. ratio',\n",
       " 'shielded proton gyromag. ratio',\n",
       " 'shielded proton gyromag. ratio in MHz/T',\n",
       " 'shielded proton mag. mom.',\n",
       " 'shielded proton mag. mom. to Bohr magneton ratio',\n",
       " 'shielded proton mag. mom. to nuclear magneton ratio',\n",
       " 'shielding difference of d and p in HD',\n",
       " 'shielding difference of t and p in HT',\n",
       " 'speed of light in vacuum',\n",
       " 'standard acceleration of gravity',\n",
       " 'standard atmosphere',\n",
       " 'standard-state pressure',\n",
       " 'tau Compton wavelength',\n",
       " 'tau energy equivalent',\n",
       " 'tau mass',\n",
       " 'tau mass energy equivalent',\n",
       " 'tau mass in u',\n",
       " 'tau molar mass',\n",
       " 'tau-electron mass ratio',\n",
       " 'tau-muon mass ratio',\n",
       " 'tau-neutron mass ratio',\n",
       " 'tau-proton mass ratio',\n",
       " 'triton g factor',\n",
       " 'triton mag. mom.',\n",
       " 'triton mag. mom. to Bohr magneton ratio',\n",
       " 'triton mag. mom. to nuclear magneton ratio',\n",
       " 'triton mass',\n",
       " 'triton mass energy equivalent',\n",
       " 'triton mass energy equivalent in MeV',\n",
       " 'triton mass in u',\n",
       " 'triton molar mass',\n",
       " 'triton relative atomic mass',\n",
       " 'triton to proton mag. mom. ratio',\n",
       " 'triton-electron mass ratio',\n",
       " 'triton-proton mass ratio',\n",
       " 'unified atomic mass unit',\n",
       " 'vacuum electric permittivity',\n",
       " 'vacuum mag. permeability',\n",
       " 'von Klitzing constant',\n",
       " 'weak mixing angle']"
      ]
     },
     "execution_count": 3,
     "metadata": {},
     "output_type": "execute_result"
    }
   ],
   "source": [
    "sc.find(\"\")"
   ]
  },
  {
   "cell_type": "markdown",
   "id": "a5df55ed-6dc1-479c-862d-37d00344e074",
   "metadata": {},
   "source": [
    "La liste est impressionnante, et elle permet de comprendre l'intérêt d'utiliser ce package. Chaque ligne renvoie à la clef qui permet d'accéder à une constante physique, par exemple `'Avogadro constant'` pour le nombre d'Avogadro $N_A$.\n",
    "\n",
    "Supposons maintenant qu'on veuille connaître les constantes physiques associées à l'électron. Il est inutile d'aller fouiller dans la longue liste qu'on vient d'afficher, il suffit de relancer la commande `find ` :"
   ]
  },
  {
   "cell_type": "code",
   "execution_count": 4,
   "id": "583d7f48-8f5e-417c-8e4a-ac3e8ce11fe2",
   "metadata": {},
   "outputs": [
    {
     "data": {
      "text/plain": [
       "['alpha particle-electron mass ratio',\n",
       " 'atomic mass unit-electron volt relationship',\n",
       " 'classical electron radius',\n",
       " 'deuteron-electron mag. mom. ratio',\n",
       " 'deuteron-electron mass ratio',\n",
       " 'electron charge to mass quotient',\n",
       " 'electron g factor',\n",
       " 'electron gyromag. ratio',\n",
       " 'electron gyromag. ratio in MHz/T',\n",
       " 'electron mag. mom.',\n",
       " 'electron mag. mom. anomaly',\n",
       " 'electron mag. mom. to Bohr magneton ratio',\n",
       " 'electron mag. mom. to nuclear magneton ratio',\n",
       " 'electron mass',\n",
       " 'electron mass energy equivalent',\n",
       " 'electron mass energy equivalent in MeV',\n",
       " 'electron mass in u',\n",
       " 'electron molar mass',\n",
       " 'electron relative atomic mass',\n",
       " 'electron to alpha particle mass ratio',\n",
       " 'electron to shielded helion mag. mom. ratio',\n",
       " 'electron to shielded proton mag. mom. ratio',\n",
       " 'electron volt',\n",
       " 'electron volt-atomic mass unit relationship',\n",
       " 'electron volt-hartree relationship',\n",
       " 'electron volt-hertz relationship',\n",
       " 'electron volt-inverse meter relationship',\n",
       " 'electron volt-joule relationship',\n",
       " 'electron volt-kelvin relationship',\n",
       " 'electron volt-kilogram relationship',\n",
       " 'electron-deuteron mag. mom. ratio',\n",
       " 'electron-deuteron mass ratio',\n",
       " 'electron-helion mass ratio',\n",
       " 'electron-muon mag. mom. ratio',\n",
       " 'electron-muon mass ratio',\n",
       " 'electron-neutron mag. mom. ratio',\n",
       " 'electron-neutron mass ratio',\n",
       " 'electron-proton mag. mom. ratio',\n",
       " 'electron-proton mass ratio',\n",
       " 'electron-tau mass ratio',\n",
       " 'electron-triton mass ratio',\n",
       " 'hartree-electron volt relationship',\n",
       " 'helion-electron mass ratio',\n",
       " 'hertz-electron volt relationship',\n",
       " 'inverse meter-electron volt relationship',\n",
       " 'joule-electron volt relationship',\n",
       " 'kelvin-electron volt relationship',\n",
       " 'kilogram-electron volt relationship',\n",
       " 'muon-electron mass ratio',\n",
       " 'neutron-electron mag. mom. ratio',\n",
       " 'neutron-electron mass ratio',\n",
       " 'proton-electron mass ratio',\n",
       " 'tau-electron mass ratio',\n",
       " 'triton-electron mass ratio']"
      ]
     },
     "execution_count": 4,
     "metadata": {},
     "output_type": "execute_result"
    }
   ],
   "source": [
    "sc.find('electron')"
   ]
  },
  {
   "cell_type": "markdown",
   "id": "c6a136e9-d893-4f9a-a26c-48d1d1a46502",
   "metadata": {},
   "source": [
    "### **2.2.** Valeur, unité et précision d'une constante fondamentale\n",
    "\n"
   ]
  },
  {
   "cell_type": "markdown",
   "id": "431f7226-a86b-4f87-adde-cb5cc3d1a6fd",
   "metadata": {},
   "source": [
    "Prenons l'exemple de la masse de l'électron. Après avoir affiché la clef qui indexe $N_A$, On va afficher sa valeur, son unité, et l'incertiture de cette constante."
   ]
  },
  {
   "cell_type": "code",
   "execution_count": 14,
   "id": "36c479c3-4b6c-4904-a247-32aec3d12df9",
   "metadata": {},
   "outputs": [
    {
     "name": "stdout",
     "output_type": "stream",
     "text": [
      "['alpha particle-electron mass ratio', 'deuteron-electron mass ratio', 'electron mass', 'electron mass energy equivalent', 'electron mass energy equivalent in MeV', 'electron mass in u', 'helion-electron mass ratio', 'muon-electron mass ratio', 'neutron-electron mass ratio', 'proton-electron mass ratio', 'tau-electron mass ratio', 'triton-electron mass ratio']\n",
      "\n",
      "(9.1093837015e-31, 'kg', 2.8e-40)\n"
     ]
    }
   ],
   "source": [
    "print(sc.find(\"electron mass\"))\n",
    "print()\n",
    "print(sc.physical_constants[\"electron mass\"])"
   ]
  },
  {
   "cell_type": "markdown",
   "id": "8efa5454-7639-497a-b9d5-a8b0bc069dc8",
   "metadata": {},
   "source": [
    "On peut afficher et utiliser indépendamment chacune de ces variables à l'aide des fonctions `value`, `unit`, et `precision` du module `scipy.constants` :"
   ]
  },
  {
   "cell_type": "code",
   "execution_count": 21,
   "id": "27ffabf7-49e3-448d-b7b2-034e10fc46e9",
   "metadata": {},
   "outputs": [
    {
     "name": "stdout",
     "output_type": "stream",
     "text": [
      "9.1093837015e-31\n",
      "kg\n",
      "3.0737534961217373e-10\n"
     ]
    }
   ],
   "source": [
    "print(sc.value(\"electron mass\"))\n",
    "print(sc.unit(\"electron mass\"))\n",
    "print(sc.precision(\"electron mass\"))"
   ]
  },
  {
   "cell_type": "markdown",
   "id": "1f4650fb-4546-445a-964b-efc15b4b4848",
   "metadata": {},
   "source": [
    "<div class=\"rq\">\n",
    "\n",
    "**Attention.** C'est une incertitude relative qui est renvoyée par la fonction `precision` alors que la fonction `physical_constants` renvoie l'incertitude absolue $\\Delta m_{\\mathrm{e}}$. On écrit la mesure avec son incertitude absolue :\n",
    "    \n",
    "$$m_{\\mathrm{e}}\\pm\\Delta m_{\\mathrm{e}}$$\n",
    "\n",
    "ce qui veut dire que $m_{\\mathrm{e}}$ est en réalité compris entre deux valeurs $m_{\\mathrm{e}} - \\Delta m_{\\mathrm{e}}$ et $m_{\\mathrm{e}} + \\Delta m_{\\mathrm{e}}$, qu'on va calculer ci-dessous\n",
    "</div>"
   ]
  },
  {
   "cell_type": "code",
   "execution_count": 26,
   "id": "377f9ffd-1260-42d4-97a5-52e91128f0a2",
   "metadata": {},
   "outputs": [
    {
     "name": "stdout",
     "output_type": "stream",
     "text": [
      "9.109383698700002e-31 ≤ me ≤ 9.1093837043e-31\n"
     ]
    }
   ],
   "source": [
    "ME=list(sc.physical_constants[\"electron mass\"])\n",
    "me=ME[0]\n",
    "Delta_me=ME[2]\n",
    "print(f\"{me-Delta_me} ≤ me ≤ {me+Delta_me}\")"
   ]
  },
  {
   "cell_type": "markdown",
   "id": "7e76f48c-0fcf-4b27-a148-4f24f77f7ffa",
   "metadata": {},
   "source": [
    "<div class=\"rq\">\n",
    "\n",
    "**OK, mais l'incertiture relative, c'est quoi déjà ?** Notons-là $p_{\\mathrm{r}}(m_{\\mathrm{e}})$, comme \"précision relative à la masse de l'électron\". C'est la précision relativement à la valeur mesurée\n",
    "    \n",
    "$$p_{\\mathrm{r}}(m_{\\mathrm{e}})=\\frac{\\Delta m_{\\mathrm{e}}}{m_{\\mathrm{e}}}$$\n",
    "    \n",
    "Si ,on veut connaître la précision absolue à partir de la précision relative, il suffit de calculer :\n",
    "    \n",
    "$$ p_{\\mathrm{r}}(m_{\\mathrm{e}})m_{\\mathrm{e}}=\\Delta m_{\\mathrm{e}} $$\n",
    "    \n",
    "C'est ce qu'on vérifie dans la cellule suivante\n",
    " \n",
    "</div>"
   ]
  },
  {
   "cell_type": "code",
   "execution_count": 29,
   "id": "994b13b1-1e5a-4020-a119-00c05c6c6f42",
   "metadata": {},
   "outputs": [
    {
     "name": "stdout",
     "output_type": "stream",
     "text": [
      "2.8e-40\n"
     ]
    }
   ],
   "source": [
    "pr_me = sc.precision(\"electron mass\")\n",
    "print(pr_me*me)"
   ]
  },
  {
   "cell_type": "markdown",
   "id": "f9b7b6b5-ac11-4e9d-8a48-f8d25f7c53f9",
   "metadata": {},
   "source": [
    "Revenons maintenant à la constante d'Avogadro. Après avoir affiché la clef qui indexe $N_A$, On va afficher sa valeur, son unité, et l'incertiture de cette constante."
   ]
  },
  {
   "cell_type": "code",
   "execution_count": 10,
   "id": "98f56f27-f0a2-4094-b5cb-f8d21239b999",
   "metadata": {},
   "outputs": [
    {
     "name": "stdout",
     "output_type": "stream",
     "text": [
      "['Avogadro constant']\n",
      "6.02214076e+23\n",
      "mol^-1\n",
      "0.0\n"
     ]
    }
   ],
   "source": [
    "print(sc.find(\"avogadro\"))\n",
    "print(sc.value(\"Avogadro constant\"))\n",
    "print(sc.unit(\"Avogadro constant\"))\n",
    "print(sc.precision(\"Avogadro constant\"))"
   ]
  },
  {
   "cell_type": "code",
   "execution_count": 6,
   "id": "12ebb0ac-90cb-404d-bad9-49a3d96bd3bb",
   "metadata": {},
   "outputs": [
    {
     "name": "stdout",
     "output_type": "stream",
     "text": [
      "6.02214076e+23\n",
      "mol^-1\n",
      "0.0\n"
     ]
    }
   ],
   "source": [
    "print(sc.value(\"Avogadro constant\"))\n",
    "print(sc.unit(\"Avogadro constant\"))\n",
    "print(sc.precision(\"Avogadro constant\"))"
   ]
  },
  {
   "cell_type": "markdown",
   "id": "82674144-1eab-45e4-bacd-ce1227120181",
   "metadata": {},
   "source": [
    "<div class=\"rq\">\n",
    "\n",
    "**Une incertitude relative (et donc absolue) de 0.0 pour $N_A$. Est-ce bien raisonnable ?**<br>\n",
    "Oui, [depuis le 20 Mai 2019](https://en.wikipedia.org/wiki/Avogadro_constant), le nombre d'Avogadro est défini par le Bureau International des Poids et Mesures ([BIPM](https://en.wikipedia.org/wiki/International_Bureau_of_Weights_and_Measures)) comme étant <u>précisément égal</u> à 6.02214076 $\\times$ 10$^{23}$ mol$^{-1}$.\n",
    "    \n",
    "Les constantes définies dans `scipy.constants` sont donc à jour. Ouf.\n",
    "\n",
    "</div>"
   ]
  },
  {
   "cell_type": "markdown",
   "id": "d822424d-8490-4ebc-bd41-df534b2a2c2a",
   "metadata": {},
   "source": [
    "Si on doit définir des fonctions ou calculer des valeurs numériques de façon répétitive, il n'est pas très pratique, ni lisible, d'utiliser `sc.value(\"Avogadro constant\")`. Rien n'interdit de stocker la valeur dans une variable :"
   ]
  },
  {
   "cell_type": "code",
   "execution_count": 30,
   "id": "1b37ebc8-1198-46a9-a144-666a415078b1",
   "metadata": {},
   "outputs": [
    {
     "name": "stdout",
     "output_type": "stream",
     "text": [
      "NA  6.02214076e+23\n",
      "kB  1.380649e-23\n",
      "NA x kB  8.31446261815324\n",
      "(8.314462618, 'J mol^-1 K^-1', 0.0)\n"
     ]
    }
   ],
   "source": [
    "NA = sc.value(\"Avogadro constant\")\n",
    "print(\"NA \",NA)\n",
    "kB = sc.value(\"Boltzmann constant\")\n",
    "print(\"kB \",kB)\n",
    "print(\"NA x kB \",NA*kB)\n",
    "print(sc.physical_constants[\"molar gas constant\"])"
   ]
  },
  {
   "cell_type": "markdown",
   "id": "1c0910c5-1a99-4341-85e6-c29ab7a638ff",
   "metadata": {},
   "source": [
    "<div class=\"rq\">\n",
    "\n",
    "On en a profité pour rappeler que $N_A\\times k_B = R$, la constante des gaz parfaits (aka *molar gas constant* en anglais)\n",
    "\n",
    "</div>"
   ]
  },
  {
   "cell_type": "markdown",
   "id": "965f7b1d-0618-43de-a1a1-b301432ac21a",
   "metadata": {},
   "source": [
    "Dans la [documentation](https://docs.scipy.org/doc/scipy/reference/constants.html) de `scipy.constants` il est indiqué que certaines des constantes physiques sont directement adressables par des raccourcis. Par exemple : "
   ]
  },
  {
   "cell_type": "code",
   "execution_count": 31,
   "id": "5a7b43e8-222d-4857-83f0-cf488a7cf4a9",
   "metadata": {},
   "outputs": [
    {
     "name": "stdout",
     "output_type": "stream",
     "text": [
      "R  8.314462618\n",
      "kB  1.380649e-23\n",
      "vitesse de la lumière  299792458.0\n",
      "charge élémentaire  1.602176634e-19\n"
     ]
    }
   ],
   "source": [
    "print(\"R \",sc.R)\n",
    "print(\"kB \",sc.k)\n",
    "print(\"vitesse de la lumière \", sc.c)\n",
    "print(\"charge élémentaire \", sc.e)"
   ]
  },
  {
   "cell_type": "markdown",
   "id": "b5f7890e-ed46-45a3-89e2-30ff62c5c0c9",
   "metadata": {
    "tags": []
   },
   "source": [
    "Il y a même quelques constantes mathématiques :"
   ]
  },
  {
   "cell_type": "code",
   "execution_count": 32,
   "id": "6dd1fd43-a9c2-4400-aa28-fc09a911c139",
   "metadata": {},
   "outputs": [
    {
     "name": "stdout",
     "output_type": "stream",
     "text": [
      "pi  3.141592653589793\n",
      "nombre d'or  1.618033988749895\n"
     ]
    }
   ],
   "source": [
    "print(\"pi \",sc.pi)\n",
    "print(\"nombre d'or \",sc.golden)"
   ]
  },
  {
   "cell_type": "markdown",
   "id": "41033316-f3b8-4dc4-9826-28102602c216",
   "metadata": {},
   "source": [
    "### **2.3.** Unités\n",
    "\n",
    "Plusieurs unités sont également définies, relativement au Système International d'Unités. Par exemple"
   ]
  },
  {
   "cell_type": "code",
   "execution_count": 33,
   "id": "b768f7d1-039d-400e-a892-5955a36fe429",
   "metadata": {},
   "outputs": [
    {
     "name": "stdout",
     "output_type": "stream",
     "text": [
      "\u001b[1m\u001b[91mMasses\u001b[0m\n",
      "1 gramme =  0.001  kg\n",
      "1 once =  0.028349523124999998 kg\n",
      "\u001b[1m\u001b[91mTemps\u001b[0m\n",
      "1 heure =  3600.0 s\n",
      "1 semaine =  604800.0 s\n",
      "\u001b[1m\u001b[91mLongueur\u001b[0m\n",
      "1 ångström =  1e-10 m\n",
      "1 mile =  1609.3439999999998 m\n"
     ]
    }
   ],
   "source": [
    "print(f\"{color.BOLD}{color.RED}Masses{color.OFF}\")\n",
    "print(\"1 gramme = \",sc.gram,\" kg\")\n",
    "print(\"1 once = \",sc.ounce, \"kg\")\n",
    "print(f\"{color.BOLD}{color.RED}Temps{color.OFF}\")\n",
    "print(\"1 heure = \",sc.hour, \"s\")\n",
    "print(\"1 semaine = \",sc.week, \"s\")\n",
    "print(f\"{color.BOLD}{color.RED}Longueur{color.OFF}\")\n",
    "print(\"1 ångström = \",sc.angstrom, \"m\")\n",
    "print(\"1 mile = \",sc.mile, \"m\")"
   ]
  },
  {
   "cell_type": "markdown",
   "id": "acb6dbec-116c-48a3-b537-39e2458ac033",
   "metadata": {},
   "source": [
    "etc... on peut se référer à la liste des unités disponibles dans la [documentation de `scipy.constants`](https://docs.scipy.org/doc/scipy/reference/constants.html#units).\n",
    "\n",
    "<div class=\"rq\">\n",
    "    \n",
    "À ce propos, la section [\"Masses\"](https://docs.scipy.org/doc/scipy/reference/constants.html#mass) de `scipy.constants` ne mentionne pas le picomètre (1 pm = 10$^{-12}$ m), alors que cette unité SI remplace l'ångström (1 Å = 100 pm) (qui n'est pas SI) pour mesurer les longueurs des liaisons chimiques, qui ont typiquement quelques centaines de picomètres de long. **Est-ce un oubli fâcheux ?**\n",
    "\n",
    "Non, car pico est un préfixe qui équivaut à 10$^{-12}$. Or, la liste des préfixes est bien disponible dans la section [unités](https://docs.scipy.org/doc/scipy/reference/constants.html#si-prefixes) de `scipy.constants`\n",
    "    \n",
    "</div>"
   ]
  },
  {
   "cell_type": "code",
   "execution_count": 34,
   "id": "8f9fa2d5-6157-4eac-85b5-e1064fedfc90",
   "metadata": {},
   "outputs": [
    {
     "name": "stdout",
     "output_type": "stream",
     "text": [
      "1 pico = 1e-12\n",
      "1 kilo = 1000.0\n",
      "1 giga = 1000000000.0 = 1e+09\n",
      "1 peta = 1000000000000000.0 = 1e+15\n"
     ]
    }
   ],
   "source": [
    "print(f\"1 pico = {sc.pico}\")\n",
    "print(f\"1 kilo = {sc.kilo}\")\n",
    "print(f\"1 giga = {sc.giga} = {sc.giga:.0e}\",)\n",
    "print(f\"1 peta = {sc.peta} = {sc.peta:.0e}\")"
   ]
  },
  {
   "cell_type": "markdown",
   "id": "a0f7ce2b-437d-4cd1-97ef-3cd2d8066034",
   "metadata": {},
   "source": [
    "<div class=\"intro\">\n",
    "    \n",
    "Se reporter à d'autres tutos en ligne pour l'apprentissage de l'écriture formattée avec python. On recommande le format utilisé ici, dit **f-Strings**. En deux mots :\n",
    "    \n",
    "- il suffit de mettre un f devant la chaine de caractères et pour insérer la valeur d’une variable dans la chaine il suffit de mettre la variable entre accolades {variable}\n",
    "- on peut formatter le nombre (par exemple ici on a écrit les préfixes giga et peta en écriture scientidique, ce qui est plus lisible et adapté) en ajoutant une marque de formattage. La syntaxe est de la forme {variable:format} \n",
    "    \n",
    "</div>"
   ]
  },
  {
   "cell_type": "markdown",
   "id": "c997d923-82c2-44f9-9694-2e2dd51f5fc7",
   "metadata": {
    "tags": []
   },
   "source": [
    "## **3.** Comment accéder aux constantes mathématiques autres que $\\pi$ et le nombre d'or ?\n",
    "\n",
    "On peut utiliser soit le module `numpy`, soit le module `math`.\n",
    "\n",
    "- Nombre d'Euler (e) = math.e ou numpy.e\n",
    "- $\\pi$ = math.pi ou numpy.pi"
   ]
  },
  {
   "cell_type": "code",
   "execution_count": 35,
   "id": "7e009e0d-2df5-437e-a055-898e87f42b6e",
   "metadata": {},
   "outputs": [
    {
     "name": "stdout",
     "output_type": "stream",
     "text": [
      "Nombre d'Euler (e) = \u001b[91m2.718281828459045 (module math) = \u001b[94m2.718281828459045 (module numpy)\u001b[0m\n",
      "pi = \u001b[91m3.141592653589793 (module math) = \u001b[94m3.141592653589793 (module numpy)\u001b[0m\n"
     ]
    }
   ],
   "source": [
    "import numpy as np\n",
    "import math as m\n",
    "print(f\"Nombre d'Euler (e) = {color.RED}{m.e} (module math) = {color.BLUE}{np.e} (module numpy){color.OFF}\")\n",
    "print(f\"pi = {color.RED}{m.pi} (module math) = {color.BLUE}{np.pi} (module numpy){color.OFF}\")\n"
   ]
  },
  {
   "cell_type": "markdown",
   "id": "05e33518-d4bb-471f-bb35-f08f36cac9e7",
   "metadata": {
    "tags": []
   },
   "source": [
    "## Conclusion\n",
    "\n",
    "- Il est possible d'accéder aux constantes physiques ou mathématiques, sans avoir à faire des copier/coller de valeurs issues de sources incertaines ou avec des précisions trop grossières\n",
    "- On peut justement accéder à la précision associée aux grandeurs physiques, mais aussi à leur unité\n",
    "- Comme on l'a vu avec l'exemple de $N_A$, la base de données est actualisée en fonction des nouvelles connaissances ou bien des nouvelles conventions\n",
    "- On a également accès à plusieurs unités non SI, c'es-à-dire aux facteurs de conversion"
   ]
  },
  {
   "cell_type": "code",
   "execution_count": 36,
   "id": "290394ca-87f2-4f4f-8fe5-22c21fb7f83f",
   "metadata": {},
   "outputs": [
    {
     "data": {
      "text/markdown": [
       "**End at:** Thursday 03 November 2022, 16:17:58  \n",
       "**Duration:** 00:30:28 245ms"
      ],
      "text/plain": [
       "<IPython.core.display.Markdown object>"
      ]
     },
     "metadata": {},
     "output_type": "display_data"
    },
    {
     "data": {
      "text/markdown": [
       "<p style=\"text-align: center\"><img width=\"800px\" src=\"./config/svg/logoEnd.svg\" style=\"margin-left:auto; margin-right:auto\"/></p>"
      ],
      "text/plain": [
       "<IPython.core.display.Markdown object>"
      ]
     },
     "metadata": {},
     "output_type": "display_data"
    }
   ],
   "source": [
    "vID.end(cwd0)"
   ]
  },
  {
   "cell_type": "code",
   "execution_count": null,
   "id": "d3456134-8c18-44c9-9b1f-15305b3cfef4",
   "metadata": {},
   "outputs": [],
   "source": []
  }
 ],
 "metadata": {
  "kernelspec": {
   "display_name": "Python 3 (ipykernel)",
   "language": "python",
   "name": "python3"
  },
  "language_info": {
   "codemirror_mode": {
    "name": "ipython",
    "version": 3
   },
   "file_extension": ".py",
   "mimetype": "text/x-python",
   "name": "python",
   "nbconvert_exporter": "python",
   "pygments_lexer": "ipython3",
   "version": "3.11.4"
  }
 },
 "nbformat": 4,
 "nbformat_minor": 5
}
