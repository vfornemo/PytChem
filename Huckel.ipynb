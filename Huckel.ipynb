{
 "cells": [
  {
   "cell_type": "code",
   "execution_count": 1,
   "id": "3ed23cc4-01c3-4674-b458-2af926d0aab6",
   "metadata": {},
   "outputs": [
    {
     "name": "stdout",
     "output_type": "stream",
     "text": [
      "/home/romuald/ENSEIGNEMENT/0-JupyterNotebooks/pyPhysChem\n"
     ]
    },
    {
     "data": {
      "text/html": [
       "<style>\n",
       "h1, h2, h3, h4, h5, h6 {\n",
       "  font-family: Verdana, \"DejaVu Sans\", \"Bitstream Vera Sans\", Geneva, sans-serif;\n",
       "  font-weight: bold;\n",
       "}\n",
       "body, exercice {\n",
       "  font-family: Verdana, \"DejaVu Sans\", \"Bitstream Vera Sans\", Geneva, sans-serif;\n",
       "  font-weight: 200;\n",
       "}\n",
       "h1 {\n",
       "  border: 0 solid #333;\n",
       "  padding: 30px ;\n",
       "  color: white;\n",
       "  background: #b11d01;\n",
       "  text-align: center;\n",
       "}\n",
       "h2 {\n",
       "  border: 3px solid #333;\n",
       "  padding: 18px ;\n",
       "  color: #b11d01;\n",
       "  background: #ffffff;\n",
       "  text-align: center;\n",
       "}\n",
       "h3 {\n",
       "  border: 0 solid #333;\n",
       "  padding: 12px ;\n",
       "  color: #000000;\n",
       "  background: #c1c1c1;\n",
       "  text-align: left;\n",
       "}\n",
       "h4 {\n",
       "  border: 0 solid #333;\n",
       "  padding: 2px ;\n",
       "  color: #000000;\n",
       "  background: #d9fffc;\n",
       "  text-align: left;\n",
       "}\n",
       "h5 {\n",
       "  border: 1px solid #333;\n",
       "  padding: 2px ;\n",
       "  color: #000000;\n",
       "  background: #ffffff;\n",
       "  text-align: left;\n",
       "}\n",
       ".rq {    \n",
       "    background-color: #fcf2f2;\n",
       "    border-color: #dFb5b4;\n",
       "    border-left: 5px solid #dfb5b4;\n",
       "    padding: 0.5em;\n",
       "    font-weight: 200;\n",
       "    }\n",
       ".intro {    \n",
       "    background-color: #f1f1f1;\n",
       "    border-color: #969696;\n",
       "    border-left: 5px solid #969696;\n",
       "    padding: 0.5em;\n",
       "    font-weight: 200;\n",
       "    }\n",
       ".exold {    \n",
       "    background-color: #b2dbea80;\n",
       "    border-color: #0055ff;\n",
       "    border-left: 10px solid #0055ff;\n",
       "    padding: 0.5em;\n",
       "    font-weight: 200;\n",
       "    }\n",
       ".ex {    \n",
       "    background-color: #b2dbea80;\n",
       "    padding: 0.5em;\n",
       "    padding-top: 0em;\n",
       "    font-weight: 200;\n",
       "    position:relative;\n",
       "    }\n",
       ".ex::before {\n",
       "    background-color: #b2dbea;\n",
       "    content:\"Exercice\";\n",
       "    margin-left:-0.5em;\n",
       "    margin-right:-0.5em;\n",
       "    padding-left:0.5em;\n",
       "    padding-right:0.5em;\n",
       "    font-weight: 600;\n",
       "    display: block;\n",
       "    }\n",
       ".app {    \n",
       "    background-color: #b2dbea80;\n",
       "    padding: 0.5em;\n",
       "    padding-top: 0em;\n",
       "    font-weight: 200;\n",
       "    position:relative;\n",
       "    }\n",
       ".app::before {\n",
       "    background-color: #b2dbea;\n",
       "    content:\"Application\";\n",
       "    margin-left:-0.5em;\n",
       "    margin-right:-0.5em;\n",
       "    padding-left:0.5em;\n",
       "    padding-right:0.5em;\n",
       "    font-weight: 600;\n",
       "    display: block;\n",
       "    }\n",
       "</style>\n"
      ],
      "text/plain": [
       "<IPython.core.display.HTML object>"
      ]
     },
     "metadata": {},
     "output_type": "display_data"
    },
    {
     "data": {
      "text/markdown": [
       "**Start at:** Wednesday 05 April 2023, 12:30:16  \n",
       "**Hostname:** insa-12842 (Linux)"
      ],
      "text/plain": [
       "<IPython.core.display.Markdown object>"
      ]
     },
     "metadata": {},
     "output_type": "display_data"
    },
    {
     "data": {
      "text/markdown": [
       "<p style=\"text-align: center\"><img width=\"800px\" src=\"./config/svg/pyPhysChemBanner.svg\" style=\"margin-left:auto; margin-right:auto\"/></p>"
      ],
      "text/plain": [
       "<IPython.core.display.Markdown object>"
      ]
     },
     "metadata": {},
     "output_type": "display_data"
    }
   ],
   "source": [
    "import os\n",
    "import sys\n",
    "\n",
    "print(os.getcwd())\n",
    "cwd0 = './config/'\n",
    "sys.path.append(cwd0)\n",
    "\n",
    "import visualID_Eng as vID\n",
    "from visualID_Eng import color\n",
    "vID.init(cwd0)\n",
    "import tools4pyPhysChem as t4pPC"
   ]
  },
  {
   "cell_type": "markdown",
   "id": "e1f28f04-e5bf-45f6-b0a5-3ec11c1b11af",
   "metadata": {},
   "source": [
    "# The Hückel method"
   ]
  },
  {
   "cell_type": "markdown",
   "id": "65a806c4-a869-4a73-b162-278f9f0854c9",
   "metadata": {
    "tags": []
   },
   "source": [
    "## Ethylene"
   ]
  },
  {
   "cell_type": "code",
   "execution_count": 2,
   "id": "91f8ab2d-4d3c-4d3e-a549-2d038a8dc2e7",
   "metadata": {},
   "outputs": [
    {
     "data": {
      "text/latex": [
       "$\\displaystyle \\left[\\begin{matrix}a & b\\\\b & a\\end{matrix}\\right]$"
      ],
      "text/plain": [
       "<IPython.core.display.Math object>"
      ]
     },
     "metadata": {},
     "output_type": "display_data"
    }
   ],
   "source": [
    "import sympy as sym\n",
    "from tools4pyPhysChem import PrintLatexStyleSymPyEquation as ple\n",
    "a = sym.Symbol('a')\n",
    "b = sym.Symbol('b', negative=True)\n",
    "H = sym.Matrix([[a, b],\n",
    "                [b, a]\n",
    "               ])\n",
    "ple(H)"
   ]
  },
  {
   "cell_type": "code",
   "execution_count": 3,
   "id": "fa8db71f-6401-4979-adb1-21000050db8d",
   "metadata": {},
   "outputs": [
    {
     "data": {
      "text/latex": [
       "$\\displaystyle \\left[ \\left( a - b, \\  1, \\  \\left[ \\left[\\begin{matrix}-1\\\\1\\end{matrix}\\right]\\right]\\right), \\  \\left( a + b, \\  1, \\  \\left[ \\left[\\begin{matrix}1\\\\1\\end{matrix}\\right]\\right]\\right)\\right]$"
      ],
      "text/plain": [
       "<IPython.core.display.Math object>"
      ]
     },
     "metadata": {},
     "output_type": "display_data"
    },
    {
     "name": "stdout",
     "output_type": "stream",
     "text": [
      "a - b\n",
      "a + b\n"
     ]
    },
    {
     "data": {
      "text/latex": [
       "$\\displaystyle \\left[ a - b, \\  a + b\\right]$"
      ],
      "text/plain": [
       "<IPython.core.display.Math object>"
      ]
     },
     "metadata": {},
     "output_type": "display_data"
    },
    {
     "data": {
      "text/latex": [
       "$\\displaystyle \\left[ \\left[\\begin{matrix}- \\frac{\\sqrt{2}}{2}\\\\\\frac{\\sqrt{2}}{2}\\end{matrix}\\right], \\  \\left[\\begin{matrix}\\frac{\\sqrt{2}}{2}\\\\\\frac{\\sqrt{2}}{2}\\end{matrix}\\right]\\right]$"
      ],
      "text/plain": [
       "<IPython.core.display.Math object>"
      ]
     },
     "metadata": {},
     "output_type": "display_data"
    }
   ],
   "source": [
    "MO = H.eigenvects()\n",
    "# list of tuples\n",
    "ple(MO)\n",
    "\n",
    "eps = list()\n",
    "phi = list()\n",
    "for mo in MO:\n",
    "    print(mo[0])\n",
    "    eps.extend(mo[0] for i in range(mo[1]))\n",
    "    for eigvc in mo[2]:\n",
    "        phi.append(eigvc.normalized())\n",
    "ple(eps)\n",
    "ple(phi)"
   ]
  },
  {
   "cell_type": "markdown",
   "id": "029fdfcd-37d5-4fe2-9fdd-b9ec210e5fec",
   "metadata": {},
   "source": [
    "## Formaldehyde"
   ]
  },
  {
   "cell_type": "code",
   "execution_count": 4,
   "id": "7e8c9f22-8a6f-4a84-9041-38b3b86a85de",
   "metadata": {},
   "outputs": [
    {
     "data": {
      "text/latex": [
       "$\\displaystyle \\left[\\begin{matrix}a & b\\\\b & a + b\\end{matrix}\\right]$"
      ],
      "text/plain": [
       "<IPython.core.display.Math object>"
      ]
     },
     "metadata": {},
     "output_type": "display_data"
    }
   ],
   "source": [
    "import sympy as sym\n",
    "from tools4pyPhysChem import PrintLatexStyleSymPyEquation as ple\n",
    "a = sym.Symbol('a')\n",
    "b = sym.Symbol('b', negative=True)\n",
    "H = sym.Matrix([[a, b],\n",
    "                [b, a+b],\n",
    "               ])\n",
    "ple(H)"
   ]
  },
  {
   "cell_type": "code",
   "execution_count": 5,
   "id": "1a6578fe-2e06-4e69-94cb-1ea133a1cc9a",
   "metadata": {},
   "outputs": [
    {
     "data": {
      "text/latex": [
       "$\\displaystyle \\left[ \\left( a + \\frac{b}{2} + \\frac{\\sqrt{5} b}{2}, \\  1, \\  \\left[ \\left[\\begin{matrix}\\frac{- a - b}{b} + \\frac{a + \\frac{b}{2} + \\frac{\\sqrt{5} b}{2}}{b}\\\\1\\end{matrix}\\right]\\right]\\right), \\  \\left( a - \\frac{\\sqrt{5} b}{2} + \\frac{b}{2}, \\  1, \\  \\left[ \\left[\\begin{matrix}\\frac{- a - b}{b} + \\frac{a - \\frac{\\sqrt{5} b}{2} + \\frac{b}{2}}{b}\\\\1\\end{matrix}\\right]\\right]\\right)\\right]$"
      ],
      "text/plain": [
       "<IPython.core.display.Math object>"
      ]
     },
     "metadata": {},
     "output_type": "display_data"
    },
    {
     "name": "stdout",
     "output_type": "stream",
     "text": [
      "a + b/2 + sqrt(5)*b/2\n",
      "a - sqrt(5)*b/2 + b/2\n"
     ]
    },
    {
     "data": {
      "text/latex": [
       "$\\displaystyle \\left[ a + \\frac{b}{2} + \\frac{\\sqrt{5} b}{2}, \\  a - \\frac{\\sqrt{5} b}{2} + \\frac{b}{2}\\right]$"
      ],
      "text/plain": [
       "<IPython.core.display.Math object>"
      ]
     },
     "metadata": {},
     "output_type": "display_data"
    },
    {
     "data": {
      "text/latex": [
       "$\\displaystyle \\left[ \\left[\\begin{matrix}\\frac{\\frac{- a - b}{b} + \\frac{a + \\frac{b}{2} + \\frac{\\sqrt{5} b}{2}}{b}}{\\sqrt{\\left|{\\frac{a + b}{b} - \\frac{a + \\frac{b}{2} + \\frac{\\sqrt{5} b}{2}}{b}}\\right|^{2} + 1}}\\\\\\frac{1}{\\sqrt{\\left|{\\frac{a + b}{b} - \\frac{a + \\frac{b}{2} + \\frac{\\sqrt{5} b}{2}}{b}}\\right|^{2} + 1}}\\end{matrix}\\right], \\  \\left[\\begin{matrix}\\frac{\\frac{- a - b}{b} + \\frac{a - \\frac{\\sqrt{5} b}{2} + \\frac{b}{2}}{b}}{\\sqrt{\\left|{\\frac{a + b}{b} - \\frac{a - \\frac{\\sqrt{5} b}{2} + \\frac{b}{2}}{b}}\\right|^{2} + 1}}\\\\\\frac{1}{\\sqrt{\\left|{\\frac{a + b}{b} - \\frac{a - \\frac{\\sqrt{5} b}{2} + \\frac{b}{2}}{b}}\\right|^{2} + 1}}\\end{matrix}\\right]\\right]$"
      ],
      "text/plain": [
       "<IPython.core.display.Math object>"
      ]
     },
     "metadata": {},
     "output_type": "display_data"
    }
   ],
   "source": [
    "MO = H.eigenvects()\n",
    "# list of tuples\n",
    "ple(MO)\n",
    "\n",
    "eps = list()\n",
    "phi = list()\n",
    "for mo in MO:\n",
    "    print(mo[0])\n",
    "    eps.extend(mo[0] for i in range(mo[1]))\n",
    "    for eigvc in mo[2]:\n",
    "        phi.append(eigvc.normalized())\n",
    "ple(eps)\n",
    "ple(phi)"
   ]
  },
  {
   "cell_type": "markdown",
   "id": "dc1843ce-b1ca-4040-9a45-ad242b36a407",
   "metadata": {
    "tags": []
   },
   "source": [
    "## Cyclobutadiene"
   ]
  },
  {
   "cell_type": "code",
   "execution_count": 6,
   "id": "f62c919f-9f0b-4b26-b737-8aa82a4d7380",
   "metadata": {},
   "outputs": [
    {
     "data": {
      "text/latex": [
       "$\\displaystyle \\left[\\begin{matrix}a & b & 0 & b\\\\b & a & b & 0\\\\0 & b & a & b\\\\b & 0 & b & a\\end{matrix}\\right]$"
      ],
      "text/plain": [
       "<IPython.core.display.Math object>"
      ]
     },
     "metadata": {},
     "output_type": "display_data"
    }
   ],
   "source": [
    "import sympy as sym\n",
    "from tools4pyPhysChem import PrintLatexStyleSymPyEquation as ple\n",
    "a = sym.Symbol('a')\n",
    "b = sym.Symbol('b', negative=True)\n",
    "H = sym.Matrix([[a, b, 0, b],\n",
    "                [b, a, b, 0],\n",
    "                [0, b, a, b],\n",
    "                [b, 0, b, a],\n",
    "               ])\n",
    "ple(H)"
   ]
  },
  {
   "cell_type": "code",
   "execution_count": 7,
   "id": "4c2bc581-fc2a-4f98-8542-4ee69a11c0e9",
   "metadata": {},
   "outputs": [
    {
     "data": {
      "text/latex": [
       "$\\displaystyle \\left[ \\left( a, \\  2, \\  \\left[ \\left[\\begin{matrix}-1\\\\0\\\\1\\\\0\\end{matrix}\\right], \\  \\left[\\begin{matrix}0\\\\-1\\\\0\\\\1\\end{matrix}\\right]\\right]\\right), \\  \\left( a - 2 b, \\  1, \\  \\left[ \\left[\\begin{matrix}-1\\\\1\\\\-1\\\\1\\end{matrix}\\right]\\right]\\right), \\  \\left( a + 2 b, \\  1, \\  \\left[ \\left[\\begin{matrix}1\\\\1\\\\1\\\\1\\end{matrix}\\right]\\right]\\right)\\right]$"
      ],
      "text/plain": [
       "<IPython.core.display.Math object>"
      ]
     },
     "metadata": {},
     "output_type": "display_data"
    },
    {
     "name": "stdout",
     "output_type": "stream",
     "text": [
      "a\n",
      "a - 2*b\n",
      "a + 2*b\n"
     ]
    },
    {
     "data": {
      "text/latex": [
       "$\\displaystyle \\left[ a, \\  a, \\  a - 2 b, \\  a + 2 b\\right]$"
      ],
      "text/plain": [
       "<IPython.core.display.Math object>"
      ]
     },
     "metadata": {},
     "output_type": "display_data"
    },
    {
     "data": {
      "text/latex": [
       "$\\displaystyle \\left[ \\left[\\begin{matrix}- \\frac{\\sqrt{2}}{2}\\\\0\\\\\\frac{\\sqrt{2}}{2}\\\\0\\end{matrix}\\right], \\  \\left[\\begin{matrix}0\\\\- \\frac{\\sqrt{2}}{2}\\\\0\\\\\\frac{\\sqrt{2}}{2}\\end{matrix}\\right], \\  \\left[\\begin{matrix}- \\frac{1}{2}\\\\\\frac{1}{2}\\\\- \\frac{1}{2}\\\\\\frac{1}{2}\\end{matrix}\\right], \\  \\left[\\begin{matrix}\\frac{1}{2}\\\\\\frac{1}{2}\\\\\\frac{1}{2}\\\\\\frac{1}{2}\\end{matrix}\\right]\\right]$"
      ],
      "text/plain": [
       "<IPython.core.display.Math object>"
      ]
     },
     "metadata": {},
     "output_type": "display_data"
    }
   ],
   "source": [
    "MO = H.eigenvects()\n",
    "# list of tuples\n",
    "ple(MO)\n",
    "\n",
    "eps = list()\n",
    "phi = list()\n",
    "for mo in MO:\n",
    "    print(mo[0])\n",
    "    eps.extend(mo[0] for i in range(mo[1]))\n",
    "    for eigvc in mo[2]:\n",
    "        phi.append(eigvc.normalized())\n",
    "ple(eps)\n",
    "ple(phi)"
   ]
  },
  {
   "cell_type": "code",
   "execution_count": 8,
   "id": "d00285a4-2212-4c00-ba16-6802399663a2",
   "metadata": {},
   "outputs": [
    {
     "data": {
      "text/markdown": [
       "**End at:** Monday 21 November 2022, 16:43:08  \n",
       "**Duration:** 00:00:07 776ms"
      ],
      "text/plain": [
       "<IPython.core.display.Markdown object>"
      ]
     },
     "metadata": {},
     "output_type": "display_data"
    },
    {
     "data": {
      "text/markdown": [
       "<p style=\"text-align: center\"><img width=\"800px\" src=\"./config/svg/logoEnd.svg\" style=\"margin-left:auto; margin-right:auto\"/></p>"
      ],
      "text/plain": [
       "<IPython.core.display.Markdown object>"
      ]
     },
     "metadata": {},
     "output_type": "display_data"
    }
   ],
   "source": [
    "vID.end(cwd0)"
   ]
  },
  {
   "cell_type": "code",
   "execution_count": null,
   "id": "ba00a4f3-22a9-471c-b0b0-4d27a24d0778",
   "metadata": {},
   "outputs": [],
   "source": []
  }
 ],
 "metadata": {
  "kernelspec": {
   "display_name": "Python 3 (ipykernel)",
   "language": "python",
   "name": "python3"
  },
  "language_info": {
   "codemirror_mode": {
    "name": "ipython",
    "version": 3
   },
   "file_extension": ".py",
   "mimetype": "text/x-python",
   "name": "python",
   "nbconvert_exporter": "python",
   "pygments_lexer": "ipython3",
   "version": "3.11.4"
  }
 },
 "nbformat": 4,
 "nbformat_minor": 5
}
