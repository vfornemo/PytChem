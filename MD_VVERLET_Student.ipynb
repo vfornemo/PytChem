{
 "cells": [
  {
   "cell_type": "code",
   "execution_count": 1,
   "id": "c225bb59-d301-4884-8aae-d10491f089c9",
   "metadata": {},
   "outputs": [
    {
     "data": {
      "text/html": [
       "<style>\n",
       "h1, h2, h3, h4, h5, h6 {\n",
       "  font-family: Verdana, \"DejaVu Sans\", \"Bitstream Vera Sans\", Geneva, sans-serif;\n",
       "  font-weight: bold;\n",
       "}\n",
       "body, intro, introE, rq, rqE, ex, exE, app, appE, sol  {\n",
       "  font-family: Verdana, \"DejaVu Sans\", \"Bitstream Vera Sans\", Geneva, sans-serif;\n",
       "  font-weight: 400;\n",
       "  font-size: 12px;\n",
       "}\n",
       "h1 {\n",
       "  border: 0 solid #333;\n",
       "  padding: 30px ;\n",
       "  color: white;\n",
       "  background: #b11d01;\n",
       "  text-align: center;\n",
       "}\n",
       "h2 {\n",
       "  border: 3px solid #333;\n",
       "  padding: 18px ;\n",
       "  color: #b11d01;\n",
       "  background: #ffffff;\n",
       "  text-align: center;\n",
       "}\n",
       "h3 {\n",
       "  border: 0 solid #333;\n",
       "  padding: 12px ;\n",
       "  color: #000000;\n",
       "  background: #c1c1c1;\n",
       "  text-align: left;\n",
       "}\n",
       "h4 {\n",
       "  border: 0 solid #333;\n",
       "  padding: 2px ;\n",
       "  color: #000000;\n",
       "  background: #d9fffc;\n",
       "  text-align: left;\n",
       "}\n",
       "h5 {\n",
       "  border: 1px solid #333;\n",
       "  padding: 2px ;\n",
       "  color: #000000;\n",
       "  background: #ffffff;\n",
       "  text-align: left;\n",
       "}\n",
       ".introT::before {    \n",
       "    content: attr(title);\n",
       "    background-color: #cecece;\n",
       "    margin-left:-0.5em;\n",
       "    margin-right:-0.5em;\n",
       "    padding-left:0.5em;\n",
       "    padding-right:0.5em;\n",
       "    font-weight: 600;\n",
       "    display: block;\n",
       "}\n",
       ".introT {    \n",
       "    background-color: #cecece80;\n",
       "    border-color: #969696;\n",
       "    border-left: 5px solid #969696;\n",
       "    padding: 0.5em;\n",
       "}\n",
       ".intro {    \n",
       "    background-color: #cecece80;\n",
       "    border-color: #969696;\n",
       "    border-left: 5px solid #969696;\n",
       "    padding: 0.5em;\n",
       "}\n",
       ".introE {    \n",
       "    background-color: #cecece80;\n",
       "    border-color: #969696;\n",
       "    border-left: 5px solid #969696;\n",
       "    padding: 0.5em;\n",
       "    color : #117996;\n",
       "}\n",
       ".rq {    \n",
       "    background-color: #fcf2f2;\n",
       "    border-color: #dFb5b4;\n",
       "    border-left: 5px solid #dfb5b4;\n",
       "    padding: 0.5em;\n",
       "}\n",
       ".rqE::before {    \n",
       "    background-color: #fcd3d3;\n",
       "    color: #ff0000;\n",
       "    content:\"Warning\";\n",
       "    margin-left:-0.5em;\n",
       "    margin-right:-0.5em;\n",
       "    padding-left:0.5em;\n",
       "    padding-right:0.5em;\n",
       "    font-weight: 600;\n",
       "    display: block;\n",
       "}\n",
       ".rqE {    \n",
       "    background-color: #fcd3d380;\n",
       "    border-color: #dFb5b4;\n",
       "    border-left: 5px solid #dfb5b4;\n",
       "    padding: 0.5em;\n",
       "}\n",
       ".rqT::before {    \n",
       "    background-color: #fcd3d3;\n",
       "    color: #ff0000;\n",
       "    content: attr(title);\n",
       "    margin-left:-0.5em;\n",
       "    margin-right:-0.5em;\n",
       "    padding-left:0.5em;\n",
       "    padding-right:0.5em;\n",
       "    font-weight: 600;\n",
       "    display: block;\n",
       "}\n",
       ".rqT {    \n",
       "    background-color: #fcd3d380;\n",
       "    border-color: #dFb5b4;\n",
       "    border-left: 5px solid #dfb5b4;\n",
       "    padding: 0.5em;\n",
       "}\n",
       ".exold {    \n",
       "    background-color: #b2dbea80;\n",
       "    border-color: #0055ff;\n",
       "    border-left: 10px solid #0055ff;\n",
       "    padding: 0.5em;\n",
       "}\n",
       ".ex {    \n",
       "    background-color: #b2dbea80;\n",
       "    padding: 0.5em;\n",
       "    padding-top: 0em;\n",
       "    position:relative;\n",
       "}\n",
       ".ex::before {\n",
       "    background-color: #b2dbea;\n",
       "    content:\"Exercice\";\n",
       "    margin-left:-0.5em;\n",
       "    margin-right:-0.5em;\n",
       "    padding-left:0.5em;\n",
       "    padding-right:0.5em;\n",
       "    font-weight: 600;\n",
       "    display: block;\n",
       "}\n",
       ".exE {    \n",
       "    background-color: #b2dbea80;\n",
       "    padding: 0.5em;\n",
       "    padding-top: 0em;\n",
       "    position:relative;\n",
       "    color : #117996;\n",
       "}\n",
       ".exE::before {\n",
       "    background-color: #b2dbea;\n",
       "    content:\"Exercise\";\n",
       "    margin-left:-0.5em;\n",
       "    margin-right:-0.5em;\n",
       "    padding-left:0.5em;\n",
       "    padding-right:0.5em;\n",
       "    font-weight: 600;\n",
       "    display: block;\n",
       "    color : #117996;\n",
       "}\n",
       ".app {    \n",
       "    background-color: #b2dbea80;\n",
       "    padding: 0.5em;\n",
       "    padding-top: 0em;\n",
       "    position:relative;\n",
       "}\n",
       ".app::before {\n",
       "    background-color: #b2dbea;\n",
       "    content:\"Application\";\n",
       "    margin-left:-0.5em;\n",
       "    margin-right:-0.5em;\n",
       "    padding-left:0.5em;\n",
       "    padding-right:0.5em;\n",
       "    font-weight: 600;\n",
       "    display: block;\n",
       "}\n",
       ".appE {    \n",
       "    background-color: #b2dbea80;\n",
       "    padding: 0.5em;\n",
       "    padding-top: 0em;\n",
       "    color : #117996;\n",
       "    position:relative;\n",
       "}\n",
       ".appE::before {\n",
       "    background-color: #b2dbea;\n",
       "    content:\"Application\";\n",
       "    margin-left:-0.5em;\n",
       "    margin-right:-0.5em;\n",
       "    padding-left:0.5em;\n",
       "    padding-right:0.5em;\n",
       "    font-weight: 600;\n",
       "    color : #117996;\n",
       "    display: block;\n",
       "}\n",
       ".sol {    \n",
       "    background-color: #bbeab880;\n",
       "    padding: 0.5em;\n",
       "    padding-top: 0em;\n",
       "    position:relative;\n",
       "}\n",
       ".sol::before {\n",
       "    background-color: #bbeab8;\n",
       "    content:\"Answer\";\n",
       "    margin-left:-0.5em;\n",
       "    margin-right:-0.5em;\n",
       "    padding-left:0.5em;\n",
       "    padding-right:0.5em;\n",
       "    font-weight: 600;\n",
       "    display: block;\n",
       "}\n",
       "</style>\n"
      ],
      "text/plain": [
       "<IPython.core.display.HTML object>"
      ]
     },
     "metadata": {},
     "output_type": "display_data"
    },
    {
     "data": {
      "text/markdown": [
       "**Start at:** Friday 06 October 2023, 06:36:28  \n",
       "**Hostname:** ip-sw-install-nico.insa-toulouse.fr (Linux)"
      ],
      "text/plain": [
       "<IPython.core.display.Markdown object>"
      ]
     },
     "metadata": {},
     "output_type": "display_data"
    },
    {
     "data": {
      "text/markdown": [
       "<p style=\"text-align: center\"><img width=\"800px\" src=\"./config/svg/pyPhysChemBanner.svg\" style=\"margin-left:auto; margin-right:auto\"/></p>"
      ],
      "text/plain": [
       "<IPython.core.display.Markdown object>"
      ]
     },
     "metadata": {},
     "output_type": "display_data"
    }
   ],
   "source": [
    "\n",
    "import os\n",
    "import sys\n",
    "\n",
    "cwd0 = './config/'\n",
    "sys.path.append(cwd0)\n",
    "\n",
    "import visualID_Eng as vID\n",
    "from visualID_Eng import color\n",
    "vID.init(cwd0)\n",
    "import tools4pyPhysChem as t4pPC\n",
    "\n",
    "__author__ = \"Franck Jolibois, LPCNO (INSA-CNRS-UT3 lab, Toulouse, France)\""
   ]
  },
  {
   "cell_type": "markdown",
   "id": "66cf0070-ecf4-4772-b002-2961ef26e9fd",
   "metadata": {},
   "source": [
    "# <!-- TITLE --> MOLECULAR DYNAMICS - VELOCITY VERLET ALGORITHM\n",
    "\n",
    "## Introduction\n",
    "\n",
    "<div class=\"intro\">\n",
    "\n",
    "This computer lab deal with Classical molecular dynamics. In the context of theoretical chemistry, classical molecular dynamic is a computational method that allows study the motion of atoms or molecule under the influence of a specific potential. The principle of molecular dynamic is to solve Newton’s equations of motions in order to simulate the dynamical behaviour of nuclei.\n",
    "    \n",
    "The principle of classical molecular dynamics is to solve Newton's equations to model the dynamic behavior of nuclei. In order to calculate the positions of atoms at a given time, it is necessary to use a \"propagator\". Of the many propagators available, the \"Velocity-Verlet\" type is among the most widely used. In this case, positions and velocities are propagated over time according to the following equations.\n",
    "\\begin{align}    \n",
    "\\mathbf{x(t+\\delta t)=x(t)+v_x(t).\\delta t+\\frac{1}{2} \\gamma(t).\\delta t^2} \\\\    \n",
    "\\end{align}\n",
    "    \n",
    "\\begin{align}   \n",
    "\\mathbf{v_x(t+\\delta t)=v_x(t)+\\frac{\\gamma(t)+\\gamma(t+δt)}{2}.\\delta t} \\\\\n",
    "\\end{align}\n",
    "    \n",
    "whith $v(t)$, the velocity (first derivatives of positions with respect to time) and $\\gamma (t)$, the acceleration (second derivatives of positions with respect to time).\n",
    "    \n",
    "To determine accelerations, we use Newton's law, which relates acceleration to force and thus to the energy gradient.\n",
    "    \n",
    "\\begin{align}\n",
    "\\vec{\\gamma}(t) & = \\frac{\\vec{F}(t)}{M} \\\\\n",
    "\\end{align}\n",
    "    \n",
    "    \n",
    "\\begin{align}\n",
    "\\vec{F}(t)&=-\\vec{\\nabla}_x{\\mathbf{V(x(t))}}&= -\\frac{\\partial V(x(t))}{\\partial x} \\\\\n",
    "\\end{align}\n",
    "    \n",
    "Initial conditions ($x(t=0)$ and $v(t=0)$) and a potential function are therefore required to achieve dynamics. The propagation of positions and velocities is iterative. By rewriting the \"velocity verlet\" equations considering t=0, the positions and velocities calculated for δt will become the positions and velocities at t=0 for the next point and so on....\n",
    "For this project, we'll consider a particle of mass 1 moving on a one-dimensional model potential (the generalisation to two- or more-dimension is straitforward)\n",
    "\n",
    "</div>\n",
    "\n"
   ]
  },
  {
   "cell_type": "markdown",
   "id": "e548566c-1939-4eea-ade5-74ba10511adf",
   "metadata": {},
   "source": [
    "## Definition of the differents potentials\n",
    "\n",
    "<div class=\"rqT\" title=\"Directives\">\n",
    "    \n",
    "- It is necessary to define model potentials before performing MD simulations\n",
    "- These potentials and the associated forces must be defined using symbolic algebra and may need the SymPy module\n",
    "</div>"
   ]
  },
  {
   "cell_type": "markdown",
   "id": "8b985e71-8307-4561-be39-6c0a9c6c69a8",
   "metadata": {},
   "source": [
    "\n",
    "<u>One-dimensional model potentials considered</u>:\n",
    "    \n",
    "    \n",
    "**Harmonic potential**: $$ V(x)=k.(x-x_e)^2 $$\n",
    "\n",
    "\n",
    "**Morse Potential**: $$V(x)=D_e.(1-e^{-\\alpha(x-x_e)})^2$$\n",
    "\n",
    "\n",
    "**Double_well potential**: $$ V(x)=\\frac{1}{2}(f_1(x)+f_2(x))-\\frac{1}{2}\\sqrt{(f_1(x)-f_2(x))^2+h^2} $$\n",
    "\n",
    "with $$ f_i(x)=k_i.(x-x_{ei})^2 + V_i $$\n",
    "\n",
    "    \n",
    "\n"
   ]
  },
  {
   "cell_type": "code",
   "execution_count": 27,
   "id": "94d07c72-e5e9-4fba-862e-1aa3627401ba",
   "metadata": {},
   "outputs": [],
   "source": [
    "import sympy as sym\n",
    "import math\n",
    "import numpy as np\n",
    "import matplotlib.pyplot as plt"
   ]
  },
  {
   "cell_type": "markdown",
   "id": "4b560659-01a5-449f-8d52-4b0c9edf0c42",
   "metadata": {},
   "source": [
    "<div class=\"rqT\" title=\"Directives\">\n",
    "    \n",
    "- Each potential can be characterized by several parameters, which need to be defined beforehand. \n",
    "</div>"
   ]
  },
  {
   "cell_type": "code",
   "execution_count": 28,
   "id": "d774d58d-fe0a-48c2-a089-8e054ba95d73",
   "metadata": {},
   "outputs": [],
   "source": [
    "#Define parameters for potentials:\n",
    "m = 1       # mass of the particle\n",
    "xe_1 = 0    # Equilibrium distance for harmonic, Morse and double well potentials\n",
    "xe_2 = -2   # Equilibrium distance for double well potential only\n",
    "\n",
    "k_1 =  2    # Force constant for harmonic and double well potentials\n",
    "k_2 =  2    # Force constant for double well potential only\n",
    "\n",
    "alpha = 0.05     # Parameter for Morse potentia\n",
    "De = 2           # Prefactor for Morse potential\n",
    "\n",
    "V_1 =  0      # Translation of potential (1) for double well potential\n",
    "V_2 =  0      # Translation of potential (2) for double well potential\n",
    "\n",
    "h = 2         # Coupling term for double well potential"
   ]
  },
  {
   "cell_type": "markdown",
   "id": "2b749231-0bca-4e5e-aac3-2e9e200f2fc6",
   "metadata": {},
   "source": [
    "<div class=\"exE\">\n",
    "\n",
    "- To simplify the switch between potentials, define three differents function as a function of x, one for each potential\n",
    "- <b/>Forces</b> are a point of utmost importance of the algorithm. Define a function to calculate forces for a selected potential\n",
    "- Display the analytic expression of the selected potential and associated forces\n",
    "- Plot the selected potential as a function of the variable 'x' (You may need to use the lambdify function in the SymPy module to calculate a numerical value). \n",
    "    \n",
    "</div>"
   ]
  },
  {
   "cell_type": "code",
   "execution_count": 29,
   "id": "e06a04e6-60b2-4583-a859-79a87457810c",
   "metadata": {},
   "outputs": [],
   "source": [
    "# insert your code here\n"
   ]
  },
  {
   "cell_type": "markdown",
   "id": "bd5e4f08-d7af-4eda-964b-6ad33e5eb19e",
   "metadata": {},
   "source": [
    "## Velocity Verlet Algorithm\n",
    "\n",
    "<div class=\"rqT\" title=\"Directives\">\n",
    "    \n",
    "- Several parameters must be defined to control the MD simulation:\n",
    "    - step time <b/> δt</b>     \n",
    "    - Total time or number of steps \n",
    "    - The initial position and initial velocity\n",
    "- <b/>Total energy</b>, defined in the context of Hamiltonian mechanics, is a constant. It must be calculated for each time step in order to check that the algorithm behaves correctly. \n",
    "- You will need to use the lambdify function in the SymPy module to calculate a numerical force value for each position.  \n",
    "\n",
    "</div>"
   ]
  },
  {
   "cell_type": "markdown",
   "id": "facf0418-aea8-4a8e-a30c-8d022080d5b7",
   "metadata": {},
   "source": [
    "<div class=\"exE\">\n",
    "\n",
    "- Define the variables that describe the parameters of the MD simulation (initial time will be set to 0)\n",
    "- Use a loop to implement the velocity verlet algorithm\n",
    "    - Defining functions for updating positions and speeds can be useful but is not mandatory\n",
    "- For each step (including the initial step), record in separate tables (or in a single file)\n",
    "    - Time\n",
    "    - Position\n",
    "    - Velocity\n",
    "    - Energy (i.e value of the potential)\n",
    "    - Total energy\n",
    "    \n",
    "    \n",
    "</div>"
   ]
  },
  {
   "cell_type": "code",
   "execution_count": 30,
   "id": "c4201d53-ebc1-483f-ac97-d163950b38d5",
   "metadata": {},
   "outputs": [],
   "source": [
    "# insert your code here\n"
   ]
  },
  {
   "cell_type": "markdown",
   "id": "46c40020-fa48-4876-a5ae-9c2e60a07b78",
   "metadata": {},
   "source": [
    "## Post processing\n",
    "\n",
    "<div class=\"rqT\" title=\"Directives\">\n",
    "    \n",
    "- The advantage of MD simulation is that several parameters are stored (in tables or files) and can be used for post-processing\n",
    "    \n",
    "    - To check the validity of the algorithm\n",
    "    - To calculate mean structural or spectroscopic properties\n",
    "\n",
    "</div>"
   ]
  },
  {
   "cell_type": "markdown",
   "id": "e814ab87-afc4-402c-9c97-f0cd57aca3bc",
   "metadata": {},
   "source": [
    "<div class=\"exE\">\n",
    "\n",
    "- To check the validity of the algorithm\n",
    "    - Plot the stored potentials as a function of stored positions \n",
    "    - Plot the stored positions or velocities as a function of time\n",
    "    - Plot the variation in total energy (as a percentage) as a function of time\n",
    "- To calculate mean structural or spectroscopic properties\n",
    "    - Calculate the mean value of the position\n",
    "    \n",
    "    \n",
    "</div>"
   ]
  },
  {
   "cell_type": "code",
   "execution_count": 31,
   "id": "ba52d5ed-e443-4539-80e4-2c1329fdf715",
   "metadata": {},
   "outputs": [],
   "source": [
    "# insert your code here\n"
   ]
  },
  {
   "cell_type": "markdown",
   "id": "08ebd92a-ee20-480b-a5cd-e1e88e048bf7",
   "metadata": {},
   "source": [
    "## OPTIONNAL :Beyond the potential of one dimension - 2D potentials\n",
    "\n",
    "<div class=\"rqT\" title=\"Directives\">\n",
    "    \n",
    "- A two-dimensional potential can simply be created by adding a one-dimensional potential along x and another along y, as well as any coupling function between x and y.\n",
    "    \n",
    " $$ V(x,y)=V_1(x)+V_2(y)+f(x,y) $$\n",
    "    \n",
    "where $𝑉_1 (𝑥)$ and $𝑉_2 (𝑦)$ can be one of the previous potential and with, for example, $𝑓(𝑥,𝑦)=𝑥.𝑦$\n",
    "    \n",
    "Using a double-well potential for $𝑉_1 (𝑥)$ and $𝑉_2 (𝑦)$ and the coupling function define just before will creat a four-well potential.\n",
    "\n",
    "\n",
    "- Another way to implement a two-dimensional potential is to use the so-called Muller-Brown potential:\n",
    "   $$ V(x,y)=\\sum_{i=1}^4 A_i.exp[a_i(x-x^0_i)^2+b_i(x-x^0_i)(y-y^0_i)+c_i(y-y^0_i)^2] $$\n",
    "    \n",
    "with\n",
    "\n",
    "A = (−200, −100, −170, 15)\n",
    "    \n",
    "a = (−1, −1, −6.5, 0.7) ; b = (0, 0, 11, 0.6) ; c = (−10, −10, −6.5, 0.7)\n",
    "    \n",
    "$x^0$ = (1, 0, −0.5, −1) ; $y^0$ = (0, 0.5, 1.5, 1)\n",
    "     \n",
    "</div>\n",
    "\n",
    "<div class=\"rqT\" title=\"Directives\">\n",
    "    \n",
    "- For the Velocity-Verlet algorithm, you will need to calculate new positions (new $x$ and new $y$) and speeds (new $v_x$ and new $v_y$) using the formula given at the beginning:\n",
    "\n",
    "For $x$:\n",
    "    \n",
    "\\begin{align}    \n",
    "\\mathbf{x(t+\\delta t)=x(t)+v_x(t).\\delta t-\\frac{1}{2M}\\frac{\\partial V(x(t),y(t))}{\\partial x}.\\delta t^2} \\\\    \n",
    "\\end{align}\n",
    "    \n",
    "\\begin{align}   \n",
    "\\mathbf{v_x(t+\\delta t)=v_x(t)-\\frac{1}{2M}[\\frac{\\partial V(x(t),y(t))}{\\partial x}+\\frac{\\partial V(x(t+\\delta t),y(t+\\delta t))}{\\partial x}].\\delta t} \\\\\n",
    "\\end{align}\n",
    "    \n",
    "For $y$:\n",
    "    \n",
    "\\begin{align}    \n",
    "\\mathbf{y(t+\\delta t)=y(t)+v_y(t).\\delta t-\\frac{1}{2M}\\frac{\\partial V(x(t),y(t))}{\\partial y}.\\delta t^2} \\\\    \n",
    "\\end{align}\n",
    "    \n",
    "\\begin{align}   \n",
    "\\mathbf{v_y(t+\\delta t)=v_y(t)-\\frac{1}{2M}[\\frac{\\partial V(x(t),y(t))}{\\partial y}+\\frac{\\partial V(x(t+\\delta t),y(t+\\delta t))}{\\partial y}].\\delta t} \\\\\n",
    "\\end{align}\n",
    "        \n",
    "</div>"
   ]
  },
  {
   "cell_type": "markdown",
   "id": "94478571-9c6b-420b-a1fb-4f5be6f11a28",
   "metadata": {},
   "source": [
    "<div class=\"exE\">\n",
    "\n",
    "- You need to answer the same questions as for the 1D potential problem\n",
    "    \n",
    "    \n",
    "</div>"
   ]
  },
  {
   "cell_type": "code",
   "execution_count": null,
   "id": "bc1c8efd-9e39-47d9-9530-22a154dec0a5",
   "metadata": {},
   "outputs": [],
   "source": [
    "# insert your code here\n"
   ]
  },
  {
   "cell_type": "markdown",
   "id": "f5cca621-1061-4765-84b7-0e7791637b34",
   "metadata": {
    "tags": []
   },
   "source": [
    "# End"
   ]
  },
  {
   "cell_type": "code",
   "execution_count": 33,
   "id": "4af72e5e-13a1-4819-9c3b-76fc79b89b5e",
   "metadata": {
    "tags": []
   },
   "outputs": [
    {
     "data": {
      "text/markdown": [
       "**End at:** Thursday 05 October 2023, 11:05:27  \n",
       "**Duration:** 01:47:26 770ms"
      ],
      "text/plain": [
       "<IPython.core.display.Markdown object>"
      ]
     },
     "metadata": {},
     "output_type": "display_data"
    },
    {
     "data": {
      "text/markdown": [
       "<p style=\"text-align: center\"><img width=\"800px\" src=\"./config/svg/logoEnd.svg\" style=\"margin-left:auto; margin-right:auto\"/></p>"
      ],
      "text/plain": [
       "<IPython.core.display.Markdown object>"
      ]
     },
     "metadata": {},
     "output_type": "display_data"
    }
   ],
   "source": [
    "vID.end(cwd0)"
   ]
  },
  {
   "cell_type": "code",
   "execution_count": null,
   "id": "9d4f47bb-6a8e-46a0-8703-09b4782dbd54",
   "metadata": {},
   "outputs": [],
   "source": []
  }
 ],
 "metadata": {
  "kernelspec": {
   "display_name": "Python 3 (ipykernel)",
   "language": "python",
   "name": "python3"
  },
  "language_info": {
   "codemirror_mode": {
    "name": "ipython",
    "version": 3
   },
   "file_extension": ".py",
   "mimetype": "text/x-python",
   "name": "python",
   "nbconvert_exporter": "python",
   "pygments_lexer": "ipython3",
   "version": "3.11.5"
  }
 },
 "nbformat": 4,
 "nbformat_minor": 5
}
