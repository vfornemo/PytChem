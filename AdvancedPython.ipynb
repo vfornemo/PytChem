{
 "cells": [
  {
   "cell_type": "code",
   "execution_count": 1,
   "id": "10024ca9-7e94-4f5c-a982-b4537b919d76",
   "metadata": {
    "tags": []
   },
   "outputs": [
    {
     "data": {
      "text/html": [
       "<style>\n",
       "h1, h2, h3, h4, h5, h6 {\n",
       "  font-family: Verdana, \"DejaVu Sans\", \"Bitstream Vera Sans\", Geneva, sans-serif;\n",
       "  font-weight: bold;\n",
       "}\n",
       "body, intro, introE, introT, rq, rqE, rqT, ex, exE, app, appE, sol, todo  {\n",
       "  font-family: Verdana, \"DejaVu Sans\", \"Bitstream Vera Sans\", Geneva, sans-serif;\n",
       "  font-weight: 400;\n",
       "  font-size: 12px;\n",
       "}\n",
       "h1 {\n",
       "  border: 0 solid #333;\n",
       "  padding: 30px ;\n",
       "  color: white;\n",
       "  background: #b11d01;\n",
       "  text-align: center;\n",
       "}\n",
       "h2 {\n",
       "  border: 3px solid #333;\n",
       "  padding: 18px ;\n",
       "  color: #b11d01;\n",
       "  background: #ffffff;\n",
       "  text-align: center;\n",
       "}\n",
       "h3 {\n",
       "  border: 0 solid #333;\n",
       "  padding: 12px ;\n",
       "  color: #000000;\n",
       "  background: #c1c1c1;\n",
       "  text-align: left;\n",
       "}\n",
       "h4 {\n",
       "  border: 0 solid #333;\n",
       "  padding: 2px ;\n",
       "  color: #000000;\n",
       "  background: #d9fffc;\n",
       "  text-align: left;\n",
       "}\n",
       "h5 {\n",
       "  border: 1px solid #333;\n",
       "  padding: 2px ;\n",
       "  color: #000000;\n",
       "  background: #ffffff;\n",
       "  text-align: left;\n",
       "}\n",
       ".introT::before {    \n",
       "    content: attr(title);\n",
       "    background-color: #cecece;\n",
       "    margin-left:-0.5em;\n",
       "    margin-right:-0.5em;\n",
       "    padding-left:0.5em;\n",
       "    padding-right:0.5em;\n",
       "    font-weight: 600;\n",
       "    display: block;\n",
       "}\n",
       ".introT {    \n",
       "    background-color: #cecece80;\n",
       "    border-color: #969696;\n",
       "    border-left: 5px solid #969696;\n",
       "    padding: 0.5em;\n",
       "}\n",
       ".intro {    \n",
       "    background-color: #cecece80;\n",
       "    border-color: #969696;\n",
       "    border-left: 5px solid #969696;\n",
       "    padding: 0.5em;\n",
       "}\n",
       ".introE {    \n",
       "    background-color: #cecece80;\n",
       "    border-color: #969696;\n",
       "    border-left: 5px solid #969696;\n",
       "    padding: 0.5em;\n",
       "    color : #117996;\n",
       "}\n",
       ".rq {    \n",
       "    background-color: #fcf2f2;\n",
       "    border-color: #dFb5b4;\n",
       "    border-left: 5px solid #dfb5b4;\n",
       "    padding: 0.5em;\n",
       "}\n",
       ".rqE::before {    \n",
       "    background-color: #fcd3d3;\n",
       "    color: #ff0000;\n",
       "    content:\"Warning\";\n",
       "    margin-left:-0.5em;\n",
       "    margin-right:-0.5em;\n",
       "    padding-left:0.5em;\n",
       "    padding-right:0.5em;\n",
       "    font-weight: 600;\n",
       "    display: block;\n",
       "}\n",
       ".rqE {    \n",
       "    background-color: #fcd3d380;\n",
       "    border-color: #dFb5b4;\n",
       "    border-left: 5px solid #dfb5b4;\n",
       "    padding: 0.5em;\n",
       "}\n",
       ".rqT::before {    \n",
       "    background-color: #fcd3d3;\n",
       "    color: #ff0000;\n",
       "    content: attr(title);\n",
       "    margin-left:-0.5em;\n",
       "    margin-right:-0.5em;\n",
       "    padding-left:0.5em;\n",
       "    padding-right:0.5em;\n",
       "    font-weight: 600;\n",
       "    display: block;\n",
       "}\n",
       ".rqT {    \n",
       "    background-color: #fcd3d380;\n",
       "    border-color: #dFb5b4;\n",
       "    border-left: 5px solid #dfb5b4;\n",
       "    padding: 0.5em;\n",
       "}\n",
       ".exold {    \n",
       "    background-color: #b2dbea80;\n",
       "    border-color: #0055ff;\n",
       "    border-left: 10px solid #0055ff;\n",
       "    padding: 0.5em;\n",
       "}\n",
       ".ex {    \n",
       "    background-color: #b2dbea80;\n",
       "    padding: 0.5em;\n",
       "    padding-top: 0em;\n",
       "    position:relative;\n",
       "}\n",
       ".ex::before {\n",
       "    background-color: #b2dbea;\n",
       "    content:\"Exercice\";\n",
       "    margin-left:-0.5em;\n",
       "    margin-right:-0.5em;\n",
       "    padding-left:0.5em;\n",
       "    padding-right:0.5em;\n",
       "    font-weight: 600;\n",
       "    display: block;\n",
       "}\n",
       ".exE {    \n",
       "    background-color: #b2dbea80;\n",
       "    padding: 0.5em;\n",
       "    padding-top: 0em;\n",
       "    position:relative;\n",
       "    color : #117996;\n",
       "}\n",
       ".exE::before {\n",
       "    background-color: #b2dbea;\n",
       "    content:\"Exercise\";\n",
       "    margin-left:-0.5em;\n",
       "    margin-right:-0.5em;\n",
       "    padding-left:0.5em;\n",
       "    padding-right:0.5em;\n",
       "    font-weight: 600;\n",
       "    display: block;\n",
       "    color : #117996;\n",
       "}\n",
       ".app {    \n",
       "    background-color: #b2dbea80;\n",
       "    padding: 0.5em;\n",
       "    padding-top: 0em;\n",
       "    position:relative;\n",
       "}\n",
       ".app::before {\n",
       "    background-color: #b2dbea;\n",
       "    content:\"Application\";\n",
       "    margin-left:-0.5em;\n",
       "    margin-right:-0.5em;\n",
       "    padding-left:0.5em;\n",
       "    padding-right:0.5em;\n",
       "    font-weight: 600;\n",
       "    display: block;\n",
       "}\n",
       ".appE {    \n",
       "    background-color: #b2dbea80;\n",
       "    padding: 0.5em;\n",
       "    padding-top: 0em;\n",
       "    color : #117996;\n",
       "    position:relative;\n",
       "}\n",
       ".appE::before {\n",
       "    background-color: #b2dbea;\n",
       "    content:\"Application\";\n",
       "    margin-left:-0.5em;\n",
       "    margin-right:-0.5em;\n",
       "    padding-left:0.5em;\n",
       "    padding-right:0.5em;\n",
       "    font-weight: 600;\n",
       "    color : #117996;\n",
       "    display: block;\n",
       "}\n",
       ".sol {    \n",
       "    background-color: #bbeab880;\n",
       "    padding: 0.5em;\n",
       "    padding-top: 0em;\n",
       "    position:relative;\n",
       "}\n",
       ".sol::before {\n",
       "    background-color: #bbeab8;\n",
       "    content:\"Answer\";\n",
       "    margin-left:-0.5em;\n",
       "    margin-right:-0.5em;\n",
       "    padding-left:0.5em;\n",
       "    padding-right:0.5em;\n",
       "    font-weight: 600;\n",
       "    display: block;\n",
       "}\n",
       "div.todo:before {\n",
       "    content:url(data:image/png;base64,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);\n",
       "    float:left;\n",
       "    margin-left:20px;\n",
       "    margin-right:20px;\n",
       "    margin-top:20px;\n",
       "    margin-bottom:20px;\n",
       "}\n",
       "div.todo{\n",
       "    font-size: 1.1em;\n",
       "    margin-top:40px;\n",
       "    background-color: #b2dbea80;\n",
       "}\n",
       "div.todo ul{\n",
       "    margin: 0.2em;\n",
       "}\n",
       "div.todo li{\n",
       "    margin-left:60px;\n",
       "    margin-top:0;\n",
       "    margin-bottom:0;\n",
       "}\n",
       "\n",
       "</style>\n"
      ],
      "text/plain": [
       "<IPython.core.display.HTML object>"
      ]
     },
     "metadata": {},
     "output_type": "display_data"
    },
    {
     "data": {
      "text/markdown": [
       "**Start at:** Saturday 11 November 2023, 15:09:01  \n",
       "**Hostname:** ip-sw-install-nico.insa-toulouse.fr (Linux)"
      ],
      "text/plain": [
       "<IPython.core.display.Markdown object>"
      ]
     },
     "metadata": {},
     "output_type": "display_data"
    },
    {
     "data": {
      "text/markdown": [
       "<p style=\"text-align: center\"><img width=\"800px\" src=\"./config/svg/pyPhysChemBanner.svg\" style=\"margin-left:auto; margin-right:auto\"/></p>"
      ],
      "text/plain": [
       "<IPython.core.display.Markdown object>"
      ]
     },
     "metadata": {},
     "output_type": "display_data"
    }
   ],
   "source": [
    "import os\n",
    "import sys\n",
    "\n",
    "cwd0 = './config/'\n",
    "sys.path.append(cwd0)\n",
    "\n",
    "import visualID_Eng as vID\n",
    "from visualID_Eng import color\n",
    "vID.init(cwd0)\n",
    "import tools4pyPhysChem as t4pPC\n",
    "\n",
    "#cancel the \"last show-up\" behaviour of Jupyter notebooks\n",
    "from IPython.core.interactiveshell import InteractiveShell\n",
    "InteractiveShell.ast_node_interactivity = \"all\""
   ]
  },
  {
   "cell_type": "markdown",
   "id": "0d2e4b9b",
   "metadata": {},
   "source": [
    "# Advanced(?) Python\n"
   ]
  },
  {
   "cell_type": "markdown",
   "id": "6f2624ce-aab3-4558-beb7-e5cd045da62d",
   "metadata": {},
   "source": [
    "<div id=\"reshape\"></div>\n",
    "\n",
    "## Reshaping NumPy arrays \n",
    "\n",
    "<div class=\"intro\">\n",
    "\n",
    "Reshaping means changing the shape of a **NumPy array**. \n",
    "\n",
    "The main data structure used in NumPy is the *N*-dimensional array. An array can have one or more dimensions to structure data. The number of elements in each dimension is called the shape of the array. In some programs, you may need to change how you organize your data within a NumPy array. You can use NumPy’s `reshape()` to rearrange the data without changing them.\n",
    "\n",
    "</div>"
   ]
  },
  {
   "cell_type": "code",
   "execution_count": 2,
   "id": "bb2e28e5-2962-4a0e-a382-fdb70af4d23f",
   "metadata": {},
   "outputs": [
    {
     "data": {
      "text/plain": [
       "\u001b[0;31mSignature:\u001b[0m \u001b[0mnp\u001b[0m\u001b[0;34m.\u001b[0m\u001b[0mreshape\u001b[0m\u001b[0;34m(\u001b[0m\u001b[0ma\u001b[0m\u001b[0;34m,\u001b[0m \u001b[0mnewshape\u001b[0m\u001b[0;34m,\u001b[0m \u001b[0morder\u001b[0m\u001b[0;34m=\u001b[0m\u001b[0;34m'C'\u001b[0m\u001b[0;34m)\u001b[0m\u001b[0;34m\u001b[0m\u001b[0;34m\u001b[0m\u001b[0m\n",
       "\u001b[0;31mDocstring:\u001b[0m\n",
       "Gives a new shape to an array without changing its data.\n",
       "\n",
       "Parameters\n",
       "----------\n",
       "a : array_like\n",
       "    Array to be reshaped.\n",
       "newshape : int or tuple of ints\n",
       "    The new shape should be compatible with the original shape. If\n",
       "    an integer, then the result will be a 1-D array of that length.\n",
       "    One shape dimension can be -1. In this case, the value is\n",
       "    inferred from the length of the array and remaining dimensions.\n",
       "order : {'C', 'F', 'A'}, optional\n",
       "    Read the elements of `a` using this index order, and place the\n",
       "    elements into the reshaped array using this index order.  'C'\n",
       "    means to read / write the elements using C-like index order,\n",
       "    with the last axis index changing fastest, back to the first\n",
       "    axis index changing slowest. 'F' means to read / write the\n",
       "    elements using Fortran-like index order, with the first index\n",
       "    changing fastest, and the last index changing slowest. Note that\n",
       "    the 'C' and 'F' options take no account of the memory layout of\n",
       "    the underlying array, and only refer to the order of indexing.\n",
       "    'A' means to read / write the elements in Fortran-like index\n",
       "    order if `a` is Fortran *contiguous* in memory, C-like order\n",
       "    otherwise.\n",
       "\n",
       "Returns\n",
       "-------\n",
       "reshaped_array : ndarray\n",
       "    This will be a new view object if possible; otherwise, it will\n",
       "    be a copy.  Note there is no guarantee of the *memory layout* (C- or\n",
       "    Fortran- contiguous) of the returned array.\n",
       "\n",
       "See Also\n",
       "--------\n",
       "ndarray.reshape : Equivalent method.\n",
       "\n",
       "Notes\n",
       "-----\n",
       "It is not always possible to change the shape of an array without\n",
       "copying the data. If you want an error to be raised when the data is copied,\n",
       "you should assign the new shape to the shape attribute of the array::\n",
       "\n",
       " >>> a = np.zeros((10, 2))\n",
       "\n",
       " # A transpose makes the array non-contiguous\n",
       " >>> b = a.T\n",
       "\n",
       " # Taking a view makes it possible to modify the shape without modifying\n",
       " # the initial object.\n",
       " >>> c = b.view()\n",
       " >>> c.shape = (20)\n",
       " Traceback (most recent call last):\n",
       "    ...\n",
       " AttributeError: Incompatible shape for in-place modification. Use\n",
       " `.reshape()` to make a copy with the desired shape.\n",
       "\n",
       "The `order` keyword gives the index ordering both for *fetching* the values\n",
       "from `a`, and then *placing* the values into the output array.\n",
       "For example, let's say you have an array:\n",
       "\n",
       ">>> a = np.arange(6).reshape((3, 2))\n",
       ">>> a\n",
       "array([[0, 1],\n",
       "       [2, 3],\n",
       "       [4, 5]])\n",
       "\n",
       "You can think of reshaping as first raveling the array (using the given\n",
       "index order), then inserting the elements from the raveled array into the\n",
       "new array using the same kind of index ordering as was used for the\n",
       "raveling.\n",
       "\n",
       ">>> np.reshape(a, (2, 3)) # C-like index ordering\n",
       "array([[0, 1, 2],\n",
       "       [3, 4, 5]])\n",
       ">>> np.reshape(np.ravel(a), (2, 3)) # equivalent to C ravel then C reshape\n",
       "array([[0, 1, 2],\n",
       "       [3, 4, 5]])\n",
       ">>> np.reshape(a, (2, 3), order='F') # Fortran-like index ordering\n",
       "array([[0, 4, 3],\n",
       "       [2, 1, 5]])\n",
       ">>> np.reshape(np.ravel(a, order='F'), (2, 3), order='F')\n",
       "array([[0, 4, 3],\n",
       "       [2, 1, 5]])\n",
       "\n",
       "Examples\n",
       "--------\n",
       ">>> a = np.array([[1,2,3], [4,5,6]])\n",
       ">>> np.reshape(a, 6)\n",
       "array([1, 2, 3, 4, 5, 6])\n",
       ">>> np.reshape(a, 6, order='F')\n",
       "array([1, 4, 2, 5, 3, 6])\n",
       "\n",
       ">>> np.reshape(a, (3,-1))       # the unspecified value is inferred to be 2\n",
       "array([[1, 2],\n",
       "       [3, 4],\n",
       "       [5, 6]])\n",
       "\u001b[0;31mFile:\u001b[0m      ~/Python3/ML/lib64/python3.11/site-packages/numpy/core/fromnumeric.py\n",
       "\u001b[0;31mType:\u001b[0m      function"
      ]
     },
     "metadata": {},
     "output_type": "display_data"
    }
   ],
   "source": [
    "import numpy as np\n",
    "?np.reshape"
   ]
  },
  {
   "cell_type": "code",
   "execution_count": 3,
   "id": "dc2541be-79c4-48a0-8264-8fff5522dc68",
   "metadata": {},
   "outputs": [
    {
     "data": {
      "text/html": [
       "<div style='text-align:center; font-family: sans; font-weight: bold; font-size:14px;background-color: #000000;color: #ffffff'>array numbers</div>"
      ],
      "text/plain": [
       "<IPython.core.display.HTML object>"
      ]
     },
     "metadata": {},
     "output_type": "display_data"
    },
    {
     "name": "stdout",
     "output_type": "stream",
     "text": [
      "[1 2 3 4 5 6 7 8]\n"
     ]
    },
    {
     "data": {
      "text/plain": [
       "(8,)"
      ]
     },
     "execution_count": 3,
     "metadata": {},
     "output_type": "execute_result"
    },
    {
     "data": {
      "text/html": [
       "<div style='text-align:center; font-family: sans; font-weight: bold; font-size:14px;background-color: #000000;color: #ffffff'>Reshape to a (2, 4) array</div>"
      ],
      "text/plain": [
       "<IPython.core.display.HTML object>"
      ]
     },
     "metadata": {},
     "output_type": "display_data"
    },
    {
     "name": "stdout",
     "output_type": "stream",
     "text": [
      "[[1 2 3 4]\n",
      " [5 6 7 8]]\n"
     ]
    },
    {
     "data": {
      "text/plain": [
       "(2, 4)"
      ]
     },
     "execution_count": 3,
     "metadata": {},
     "output_type": "execute_result"
    },
    {
     "data": {
      "text/html": [
       "<div style='text-align:center; font-family: sans; font-weight: bold; font-size:14px;background-color: #000000;color: #ffffff'>Reshape to a (4, 2) array</div>"
      ],
      "text/plain": [
       "<IPython.core.display.HTML object>"
      ]
     },
     "metadata": {},
     "output_type": "display_data"
    },
    {
     "name": "stdout",
     "output_type": "stream",
     "text": [
      "[[1 2]\n",
      " [3 4]\n",
      " [5 6]\n",
      " [7 8]]\n"
     ]
    },
    {
     "data": {
      "text/plain": [
       "(4, 2)"
      ]
     },
     "execution_count": 3,
     "metadata": {},
     "output_type": "execute_result"
    },
    {
     "data": {
      "text/html": [
       "<div style='text-align:center; font-family: sans; font-weight: bold; font-size:14px;background-color: #000000;color: #ffffff'>Reshape to a (8, 1) array</div>"
      ],
      "text/plain": [
       "<IPython.core.display.HTML object>"
      ]
     },
     "metadata": {},
     "output_type": "display_data"
    },
    {
     "name": "stdout",
     "output_type": "stream",
     "text": [
      "[[1]\n",
      " [2]\n",
      " [3]\n",
      " [4]\n",
      " [5]\n",
      " [6]\n",
      " [7]\n",
      " [8]]\n"
     ]
    },
    {
     "data": {
      "text/plain": [
       "(8, 1)"
      ]
     },
     "execution_count": 3,
     "metadata": {},
     "output_type": "execute_result"
    },
    {
     "data": {
      "text/html": [
       "<div style='text-align:center; font-family: sans; font-weight: bold; font-size:14px;background-color: #000000;color: #ffffff'>Reshape to a (1, 8) array</div>"
      ],
      "text/plain": [
       "<IPython.core.display.HTML object>"
      ]
     },
     "metadata": {},
     "output_type": "display_data"
    },
    {
     "name": "stdout",
     "output_type": "stream",
     "text": [
      "[[1 2 3 4 5 6 7 8]]\n"
     ]
    },
    {
     "data": {
      "text/plain": [
       "(1, 8)"
      ]
     },
     "execution_count": 3,
     "metadata": {},
     "output_type": "execute_result"
    }
   ],
   "source": [
    "t4pPC.centertxt(f\"array numbers\",size=14,weight=\"bold\")\n",
    "numbers=np.array([1,2,3,4,5,6,7,8])\n",
    "print(numbers)\n",
    "numbers.shape\n",
    "\n",
    "shape=(2,4)\n",
    "t4pPC.centertxt(f\"Reshape to a {shape} array\",size=14,weight=\"bold\")\n",
    "n = numbers.reshape(shape)\n",
    "print(n)\n",
    "n.shape\n",
    "\n",
    "shape=(4,2)\n",
    "t4pPC.centertxt(f\"Reshape to a {shape} array\",size=14,weight=\"bold\")\n",
    "n = numbers.reshape(shape)\n",
    "print(n)\n",
    "n.shape\n",
    "\n",
    "shape=(8,1)\n",
    "t4pPC.centertxt(f\"Reshape to a {shape} array\",size=14,weight=\"bold\")\n",
    "n = numbers.reshape(shape)\n",
    "print(n)\n",
    "n.shape\n",
    "\n",
    "shape=(1,8)\n",
    "t4pPC.centertxt(f\"Reshape to a {shape} array\",size=14,weight=\"bold\")\n",
    "n = numbers.reshape(shape)\n",
    "print(n)\n",
    "n.shape\n"
   ]
  },
  {
   "cell_type": "markdown",
   "id": "3e058f3f-e082-45ab-b734-efb269cf1af8",
   "metadata": {},
   "source": [
    "<div class=\"rqT\" title=\"Can We Reshape Into any Shape?\">\n",
    "Yes, as long as the elements required for reshaping are equal in both shapes.\n",
    "\n",
    "We can reshape an 8 elements 1D array into 4 elements in 2 rows 2D array but we cannot reshape it into a 3 elements 3 rows 2D array as that would require 3x3 = 9 elements\n",
    "\n",
    "The next command will return an **error**\n",
    "</div>"
   ]
  },
  {
   "cell_type": "code",
   "execution_count": 4,
   "id": "9b666d5e-28b0-4758-ba5d-1996ddbc57d1",
   "metadata": {},
   "outputs": [
    {
     "name": "stdout",
     "output_type": "stream",
     "text": [
      "[1 2 3 4 5 6 7 8]\n"
     ]
    },
    {
     "data": {
      "text/html": [
       "<div style='text-align:center; font-family: sans; font-weight: bold; font-size:14px;background-color: #000000;color: #ffffff'>Reshape to a (3, 3, 3) array</div>"
      ],
      "text/plain": [
       "<IPython.core.display.HTML object>"
      ]
     },
     "metadata": {},
     "output_type": "display_data"
    },
    {
     "ename": "ValueError",
     "evalue": "cannot reshape array of size 8 into shape (3,3,3)",
     "output_type": "error",
     "traceback": [
      "\u001b[0;31m---------------------------------------------------------------------------\u001b[0m",
      "\u001b[0;31mValueError\u001b[0m                                Traceback (most recent call last)",
      "Cell \u001b[0;32mIn[4], line 4\u001b[0m\n\u001b[1;32m      2\u001b[0m shape\u001b[38;5;241m=\u001b[39m(\u001b[38;5;241m3\u001b[39m,\u001b[38;5;241m3\u001b[39m,\u001b[38;5;241m3\u001b[39m)\n\u001b[1;32m      3\u001b[0m t4pPC\u001b[38;5;241m.\u001b[39mcentertxt(\u001b[38;5;124mf\u001b[39m\u001b[38;5;124m\"\u001b[39m\u001b[38;5;124mReshape to a \u001b[39m\u001b[38;5;132;01m{\u001b[39;00mshape\u001b[38;5;132;01m}\u001b[39;00m\u001b[38;5;124m array\u001b[39m\u001b[38;5;124m\"\u001b[39m,size\u001b[38;5;241m=\u001b[39m\u001b[38;5;241m14\u001b[39m,weight\u001b[38;5;241m=\u001b[39m\u001b[38;5;124m\"\u001b[39m\u001b[38;5;124mbold\u001b[39m\u001b[38;5;124m\"\u001b[39m)\n\u001b[0;32m----> 4\u001b[0m n \u001b[38;5;241m=\u001b[39m \u001b[43mnumbers\u001b[49m\u001b[38;5;241;43m.\u001b[39;49m\u001b[43mreshape\u001b[49m\u001b[43m(\u001b[49m\u001b[43mshape\u001b[49m\u001b[43m)\u001b[49m\n\u001b[1;32m      5\u001b[0m \u001b[38;5;28mprint\u001b[39m(n)\n\u001b[1;32m      6\u001b[0m n\u001b[38;5;241m.\u001b[39mshape\n",
      "\u001b[0;31mValueError\u001b[0m: cannot reshape array of size 8 into shape (3,3,3)"
     ]
    }
   ],
   "source": [
    "print(numbers)\n",
    "shape=(3,3,3)\n",
    "t4pPC.centertxt(f\"Reshape to a {shape} array\",size=14,weight=\"bold\")\n",
    "n = numbers.reshape(shape)\n",
    "print(n)\n",
    "n.shape"
   ]
  },
  {
   "cell_type": "markdown",
   "id": "4c7ac20c-d777-46b4-acc1-62d0b5cf264f",
   "metadata": {},
   "source": [
    "<div class=\"intro\">\n",
    "\n",
    "Let's now reshape From 1-D to 3-D\n",
    "\n",
    "</div>"
   ]
  },
  {
   "cell_type": "code",
   "execution_count": 5,
   "id": "9fbbaef6-fcdc-4485-9687-bfc5806cd71c",
   "metadata": {},
   "outputs": [
    {
     "data": {
      "text/html": [
       "<div style='text-align:center; font-family: sans; font-weight: bold; font-size:14px;background-color: #000000;color: #ffffff'>Reshape to a (2, 2, 2) array</div>"
      ],
      "text/plain": [
       "<IPython.core.display.HTML object>"
      ]
     },
     "metadata": {},
     "output_type": "display_data"
    },
    {
     "name": "stdout",
     "output_type": "stream",
     "text": [
      "[[[1 2]\n",
      "  [3 4]]\n",
      "\n",
      " [[5 6]\n",
      "  [7 8]]]\n"
     ]
    },
    {
     "data": {
      "text/plain": [
       "(2, 2, 2)"
      ]
     },
     "execution_count": 5,
     "metadata": {},
     "output_type": "execute_result"
    },
    {
     "data": {
      "text/html": [
       "<div style='text-align:center; font-family: sans; font-weight: bold; font-size:14px;background-color: #000000;color: #ffffff'>Reshape to a (8, 1, 1) array</div>"
      ],
      "text/plain": [
       "<IPython.core.display.HTML object>"
      ]
     },
     "metadata": {},
     "output_type": "display_data"
    },
    {
     "name": "stdout",
     "output_type": "stream",
     "text": [
      "[[[1]]\n",
      "\n",
      " [[2]]\n",
      "\n",
      " [[3]]\n",
      "\n",
      " [[4]]\n",
      "\n",
      " [[5]]\n",
      "\n",
      " [[6]]\n",
      "\n",
      " [[7]]\n",
      "\n",
      " [[8]]]\n"
     ]
    },
    {
     "data": {
      "text/plain": [
       "(8, 1, 1)"
      ]
     },
     "execution_count": 5,
     "metadata": {},
     "output_type": "execute_result"
    },
    {
     "data": {
      "text/html": [
       "<div style='text-align:center; font-family: sans; font-weight: bold; font-size:14px;background-color: #000000;color: #ffffff'>Reshape to a (2, 1, 4) array</div>"
      ],
      "text/plain": [
       "<IPython.core.display.HTML object>"
      ]
     },
     "metadata": {},
     "output_type": "display_data"
    },
    {
     "name": "stdout",
     "output_type": "stream",
     "text": [
      "[[[1 2 3 4]]\n",
      "\n",
      " [[5 6 7 8]]]\n"
     ]
    },
    {
     "data": {
      "text/plain": [
       "(2, 1, 4)"
      ]
     },
     "execution_count": 5,
     "metadata": {},
     "output_type": "execute_result"
    }
   ],
   "source": [
    "shape=(2,2,2)\n",
    "t4pPC.centertxt(f\"Reshape to a {shape} array\",size=14,weight=\"bold\")\n",
    "n = numbers.reshape(shape)\n",
    "print(n)\n",
    "n.shape\n",
    "\n",
    "shape=(8,1,1)\n",
    "t4pPC.centertxt(f\"Reshape to a {shape} array\",size=14,weight=\"bold\")\n",
    "n = numbers.reshape(shape)\n",
    "print(n)\n",
    "n.shape\n",
    "\n",
    "shape=(2,1,4)\n",
    "t4pPC.centertxt(f\"Reshape to a {shape} array\",size=14,weight=\"bold\")\n",
    "n = numbers.reshape(shape)\n",
    "print(n)\n",
    "n.shape"
   ]
  },
  {
   "cell_type": "markdown",
   "id": "d2da3430-b1a4-4a20-b60f-f78ff5044835",
   "metadata": {},
   "source": [
    "<div class=\"intro\">\n",
    "\n",
    "You are allowed to have one \"unknown\" dimension.\n",
    "Meaning that you do not have to specify an exact number for one of the dimensions in the `reshape` method.\n",
    "\n",
    "Pass -1 as the value, and NumPy will calculate this number for you\n",
    "</div>"
   ]
  },
  {
   "cell_type": "code",
   "execution_count": 6,
   "id": "192d69a1-7a55-41cb-80ce-497ec5a40058",
   "metadata": {},
   "outputs": [
    {
     "data": {
      "text/html": [
       "<div style='text-align:center; font-family: sans; font-weight: bold; font-size:14px;background-color: #000000;color: #ffffff'>Reshape to a (4, -1) array</div>"
      ],
      "text/plain": [
       "<IPython.core.display.HTML object>"
      ]
     },
     "metadata": {},
     "output_type": "display_data"
    },
    {
     "name": "stdout",
     "output_type": "stream",
     "text": [
      "[[1 2]\n",
      " [3 4]\n",
      " [5 6]\n",
      " [7 8]]\n"
     ]
    },
    {
     "data": {
      "text/plain": [
       "(4, 2)"
      ]
     },
     "execution_count": 6,
     "metadata": {},
     "output_type": "execute_result"
    }
   ],
   "source": [
    "shape=(4,-1)\n",
    "t4pPC.centertxt(f\"Reshape to a {shape} array\",size=14,weight=\"bold\")\n",
    "n = numbers.reshape(shape)\n",
    "print(n)\n",
    "n.shape"
   ]
  },
  {
   "cell_type": "markdown",
   "id": "d807686c-6e0b-4784-86ea-33e74e21e96a",
   "metadata": {},
   "source": [
    "<div class=\"intro\">\n",
    "\n",
    "In some applications, in particular in machine learning, data are passed to algorithms as 1D arrays. Images, which are typical 2D data, must be **flattened** as 1D arrays. This can be easily done by the `reshape` command. \n",
    "\n",
    "**Flattening** means converting a multidimensional array into a 1D array\n",
    "</div>"
   ]
  },
  {
   "cell_type": "code",
   "execution_count": 7,
   "id": "69c0c7ca-a965-4ed0-9c4b-9c302085dd80",
   "metadata": {},
   "outputs": [
    {
     "data": {
      "text/html": [
       "<div style='text-align:center; font-family: sans; font-weight: bold; font-size:14px;background-color: #000000;color: #ffffff'>Reshape to a -1 array</div>"
      ],
      "text/plain": [
       "<IPython.core.display.HTML object>"
      ]
     },
     "metadata": {},
     "output_type": "display_data"
    },
    {
     "name": "stdout",
     "output_type": "stream",
     "text": [
      "[1 2 3 4 5 6 7 8]\n"
     ]
    },
    {
     "data": {
      "text/plain": [
       "(8,)"
      ]
     },
     "execution_count": 7,
     "metadata": {},
     "output_type": "execute_result"
    }
   ],
   "source": [
    "shape=(-1)\n",
    "t4pPC.centertxt(f\"Reshape to a {shape} array\",size=14,weight=\"bold\")\n",
    "n = numbers.reshape(shape)\n",
    "print(n)\n",
    "n.shape"
   ]
  },
  {
   "cell_type": "markdown",
   "id": "03272cdd-e0f2-45cd-a5da-862080d5e2c2",
   "metadata": {},
   "source": [
    "## List all fonts available in matplotlib"
   ]
  },
  {
   "cell_type": "code",
   "execution_count": 9,
   "id": "2b40252a-9ad6-49e6-a9cf-a95f7dbaea24",
   "metadata": {},
   "outputs": [
    {
     "data": {
      "text/html": [
       "<div style='column-count: 2;'><p>AhnbergHand: <span style='font-family:AhnbergHand; font-size: 24px;'>AhnbergHand</p>\n",
       "<p>Andale Mono: <span style='font-family:Andale Mono; font-size: 24px;'>Andale Mono</p>\n",
       "<p>Arial: <span style='font-family:Arial; font-size: 24px;'>Arial</p>\n",
       "<p>Arial Black: <span style='font-family:Arial Black; font-size: 24px;'>Arial Black</p>\n",
       "<p>Arimo: <span style='font-family:Arimo; font-size: 24px;'>Arimo</p>\n",
       "<p>Arno Pro: <span style='font-family:Arno Pro; font-size: 24px;'>Arno Pro</p>\n",
       "<p>Bitstream Charter: <span style='font-family:Bitstream Charter; font-size: 24px;'>Bitstream Charter</p>\n",
       "<p>Borghs-Cracked: <span style='font-family:Borghs-Cracked; font-size: 24px;'>Borghs-Cracked</p>\n",
       "<p>Bradley Hand ITC TT: <span style='font-family:Bradley Hand ITC TT; font-size: 24px;'>Bradley Hand ITC TT</p>\n",
       "<p>CQ Mono: <span style='font-family:CQ Mono; font-size: 24px;'>CQ Mono</p>\n",
       "<p>Calibri: <span style='font-family:Calibri; font-size: 24px;'>Calibri</p>\n",
       "<p>Californian FB: <span style='font-family:Californian FB; font-size: 24px;'>Californian FB</p>\n",
       "<p>Calisto MT: <span style='font-family:Calisto MT; font-size: 24px;'>Calisto MT</p>\n",
       "<p>Cantarell: <span style='font-family:Cantarell; font-size: 24px;'>Cantarell</p>\n",
       "<p>Carlito: <span style='font-family:Carlito; font-size: 24px;'>Carlito</p>\n",
       "<p>Century Schoolbook L: <span style='font-family:Century Schoolbook L; font-size: 24px;'>Century Schoolbook L</p>\n",
       "<p>Classic Console: <span style='font-family:Classic Console; font-size: 24px;'>Classic Console</p>\n",
       "<p>Code New Roman: <span style='font-family:Code New Roman; font-size: 24px;'>Code New Roman</p>\n",
       "<p>Comic Sans MS: <span style='font-family:Comic Sans MS; font-size: 24px;'>Comic Sans MS</p>\n",
       "<p>Courier: <span style='font-family:Courier; font-size: 24px;'>Courier</p>\n",
       "<p>Courier 10 Pitch: <span style='font-family:Courier 10 Pitch; font-size: 24px;'>Courier 10 Pitch</p>\n",
       "<p>Courier New: <span style='font-family:Courier New; font-size: 24px;'>Courier New</p>\n",
       "<p>Cousine: <span style='font-family:Cousine; font-size: 24px;'>Cousine</p>\n",
       "<p>Dadhand: <span style='font-family:Dadhand; font-size: 24px;'>Dadhand</p>\n",
       "<p>DejaVu Math TeX Gyre: <span style='font-family:DejaVu Math TeX Gyre; font-size: 24px;'>DejaVu Math TeX Gyre</p>\n",
       "<p>DejaVu Sans: <span style='font-family:DejaVu Sans; font-size: 24px;'>DejaVu Sans</p>\n",
       "<p>DejaVu Sans Display: <span style='font-family:DejaVu Sans Display; font-size: 24px;'>DejaVu Sans Display</p>\n",
       "<p>DejaVu Sans Mono: <span style='font-family:DejaVu Sans Mono; font-size: 24px;'>DejaVu Sans Mono</p>\n",
       "<p>DejaVu Serif: <span style='font-family:DejaVu Serif; font-size: 24px;'>DejaVu Serif</p>\n",
       "<p>DejaVu Serif Display: <span style='font-family:DejaVu Serif Display; font-size: 24px;'>DejaVu Serif Display</p>\n",
       "<p>Dijkstra: <span style='font-family:Dijkstra; font-size: 24px;'>Dijkstra</p>\n",
       "<p>Dingbats: <span style='font-family:Dingbats; font-size: 24px;'>Dingbats</p>\n",
       "<p>Droid Arabic Kufi: <span style='font-family:Droid Arabic Kufi; font-size: 24px;'>Droid Arabic Kufi</p>\n",
       "<p>Droid Arabic Naskh: <span style='font-family:Droid Arabic Naskh; font-size: 24px;'>Droid Arabic Naskh</p>\n",
       "<p>Droid Naskh Shift Alt: <span style='font-family:Droid Naskh Shift Alt; font-size: 24px;'>Droid Naskh Shift Alt</p>\n",
       "<p>Droid Sans: <span style='font-family:Droid Sans; font-size: 24px;'>Droid Sans</p>\n",
       "<p>Droid Sans Armenian: <span style='font-family:Droid Sans Armenian; font-size: 24px;'>Droid Sans Armenian</p>\n",
       "<p>Droid Sans Devanagari: <span style='font-family:Droid Sans Devanagari; font-size: 24px;'>Droid Sans Devanagari</p>\n",
       "<p>Droid Sans Ethiopic: <span style='font-family:Droid Sans Ethiopic; font-size: 24px;'>Droid Sans Ethiopic</p>\n",
       "<p>Droid Sans Fallback: <span style='font-family:Droid Sans Fallback; font-size: 24px;'>Droid Sans Fallback</p>\n",
       "<p>Droid Sans Georgian: <span style='font-family:Droid Sans Georgian; font-size: 24px;'>Droid Sans Georgian</p>\n",
       "<p>Droid Sans Hebrew: <span style='font-family:Droid Sans Hebrew; font-size: 24px;'>Droid Sans Hebrew</p>\n",
       "<p>Droid Sans Japanese: <span style='font-family:Droid Sans Japanese; font-size: 24px;'>Droid Sans Japanese</p>\n",
       "<p>Droid Sans Mono: <span style='font-family:Droid Sans Mono; font-size: 24px;'>Droid Sans Mono</p>\n",
       "<p>Droid Sans Tamil: <span style='font-family:Droid Sans Tamil; font-size: 24px;'>Droid Sans Tamil</p>\n",
       "<p>Droid Sans Thai: <span style='font-family:Droid Sans Thai; font-size: 24px;'>Droid Sans Thai</p>\n",
       "<p>Droid Serif: <span style='font-family:Droid Serif; font-size: 24px;'>Droid Serif</p>\n",
       "<p>East Syriac Adiabene: <span style='font-family:East Syriac Adiabene; font-size: 24px;'>East Syriac Adiabene</p>\n",
       "<p>East Syriac Ctesiphon: <span style='font-family:East Syriac Ctesiphon; font-size: 24px;'>East Syriac Ctesiphon</p>\n",
       "<p>EliottsHand: <span style='font-family:EliottsHand; font-size: 24px;'>EliottsHand</p>\n",
       "<p>Estrangelo Antioch: <span style='font-family:Estrangelo Antioch; font-size: 24px;'>Estrangelo Antioch</p>\n",
       "<p>Estrangelo Edessa: <span style='font-family:Estrangelo Edessa; font-size: 24px;'>Estrangelo Edessa</p>\n",
       "<p>Estrangelo Midyat: <span style='font-family:Estrangelo Midyat; font-size: 24px;'>Estrangelo Midyat</p>\n",
       "<p>Estrangelo Nisibin: <span style='font-family:Estrangelo Nisibin; font-size: 24px;'>Estrangelo Nisibin</p>\n",
       "<p>Estrangelo Nisibin Outline: <span style='font-family:Estrangelo Nisibin Outline; font-size: 24px;'>Estrangelo Nisibin Outline</p>\n",
       "<p>Estrangelo Quenneshrin: <span style='font-family:Estrangelo Quenneshrin; font-size: 24px;'>Estrangelo Quenneshrin</p>\n",
       "<p>Estrangelo Talada: <span style='font-family:Estrangelo Talada; font-size: 24px;'>Estrangelo Talada</p>\n",
       "<p>Estrangelo TurAbdin: <span style='font-family:Estrangelo TurAbdin; font-size: 24px;'>Estrangelo TurAbdin</p>\n",
       "<p>Fandol Braille: <span style='font-family:Fandol Braille; font-size: 24px;'>Fandol Braille</p>\n",
       "<p>FandolFang: <span style='font-family:FandolFang; font-size: 24px;'>FandolFang</p>\n",
       "<p>FandolHei: <span style='font-family:FandolHei; font-size: 24px;'>FandolHei</p>\n",
       "<p>FandolKai: <span style='font-family:FandolKai; font-size: 24px;'>FandolKai</p>\n",
       "<p>FandolSong: <span style='font-family:FandolSong; font-size: 24px;'>FandolSong</p>\n",
       "<p>Font Awesome 5 Brands: <span style='font-family:Font Awesome 5 Brands; font-size: 24px;'>Font Awesome 5 Brands</p>\n",
       "<p>Font Awesome 5 Free: <span style='font-family:Font Awesome 5 Free; font-size: 24px;'>Font Awesome 5 Free</p>\n",
       "<p>FontAwesome: <span style='font-family:FontAwesome; font-size: 24px;'>FontAwesome</p>\n",
       "<p>FourierOrns: <span style='font-family:FourierOrns; font-size: 24px;'>FourierOrns</p>\n",
       "<p>Garuda: <span style='font-family:Garuda; font-size: 24px;'>Garuda</p>\n",
       "<p>Georgia: <span style='font-family:Georgia; font-size: 24px;'>Georgia</p>\n",
       "<p>Gill Sans MT: <span style='font-family:Gill Sans MT; font-size: 24px;'>Gill Sans MT</p>\n",
       "<p>Gill Sans MT Condensed: <span style='font-family:Gill Sans MT Condensed; font-size: 24px;'>Gill Sans MT Condensed</p>\n",
       "<p>Gill Sans Ultra Bold: <span style='font-family:Gill Sans Ultra Bold; font-size: 24px;'>Gill Sans Ultra Bold</p>\n",
       "<p>Gill Sans Ultra Bold Condensed: <span style='font-family:Gill Sans Ultra Bold Condensed; font-size: 24px;'>Gill Sans Ultra Bold Condensed</p>\n",
       "<p>Goha-Tibeb Zemen: <span style='font-family:Goha-Tibeb Zemen; font-size: 24px;'>Goha-Tibeb Zemen</p>\n",
       "<p>Hack: <span style='font-family:Hack; font-size: 24px;'>Hack</p>\n",
       "<p>HandVetica: <span style='font-family:HandVetica; font-size: 24px;'>HandVetica</p>\n",
       "<p>HazChem: <span style='font-family:HazChem; font-size: 24px;'>HazChem</p>\n",
       "<p>Impact: <span style='font-family:Impact; font-size: 24px;'>Impact</p>\n",
       "<p>Kinnari: <span style='font-family:Kinnari; font-size: 24px;'>Kinnari</p>\n",
       "<p>KpMath: <span style='font-family:KpMath; font-size: 24px;'>KpMath</p>\n",
       "<p>KpMono: <span style='font-family:KpMono; font-size: 24px;'>KpMono</p>\n",
       "<p>KpRoman: <span style='font-family:KpRoman; font-size: 24px;'>KpRoman</p>\n",
       "<p>KpSans: <span style='font-family:KpSans; font-size: 24px;'>KpSans</p>\n",
       "<p>Laksaman: <span style='font-family:Laksaman; font-size: 24px;'>Laksaman</p>\n",
       "<p>Latin Modern Math: <span style='font-family:Latin Modern Math; font-size: 24px;'>Latin Modern Math</p>\n",
       "<p>Latin Modern Mono: <span style='font-family:Latin Modern Mono; font-size: 24px;'>Latin Modern Mono</p>\n",
       "<p>Latin Modern Mono Caps: <span style='font-family:Latin Modern Mono Caps; font-size: 24px;'>Latin Modern Mono Caps</p>\n",
       "<p>Latin Modern Mono Light: <span style='font-family:Latin Modern Mono Light; font-size: 24px;'>Latin Modern Mono Light</p>\n",
       "<p>Latin Modern Mono Light Cond: <span style='font-family:Latin Modern Mono Light Cond; font-size: 24px;'>Latin Modern Mono Light Cond</p>\n",
       "<p>Latin Modern Mono Prop: <span style='font-family:Latin Modern Mono Prop; font-size: 24px;'>Latin Modern Mono Prop</p>\n",
       "<p>Latin Modern Mono Prop Light: <span style='font-family:Latin Modern Mono Prop Light; font-size: 24px;'>Latin Modern Mono Prop Light</p>\n",
       "<p>Latin Modern Mono Slanted: <span style='font-family:Latin Modern Mono Slanted; font-size: 24px;'>Latin Modern Mono Slanted</p>\n",
       "<p>Latin Modern Roman: <span style='font-family:Latin Modern Roman; font-size: 24px;'>Latin Modern Roman</p>\n",
       "<p>Latin Modern Roman Caps: <span style='font-family:Latin Modern Roman Caps; font-size: 24px;'>Latin Modern Roman Caps</p>\n",
       "<p>Latin Modern Roman Demi: <span style='font-family:Latin Modern Roman Demi; font-size: 24px;'>Latin Modern Roman Demi</p>\n",
       "<p>Latin Modern Roman Dunhill: <span style='font-family:Latin Modern Roman Dunhill; font-size: 24px;'>Latin Modern Roman Dunhill</p>\n",
       "<p>Latin Modern Roman Slanted: <span style='font-family:Latin Modern Roman Slanted; font-size: 24px;'>Latin Modern Roman Slanted</p>\n",
       "<p>Latin Modern Roman Unslanted: <span style='font-family:Latin Modern Roman Unslanted; font-size: 24px;'>Latin Modern Roman Unslanted</p>\n",
       "<p>Latin Modern Sans: <span style='font-family:Latin Modern Sans; font-size: 24px;'>Latin Modern Sans</p>\n",
       "<p>Latin Modern Sans Demi Cond: <span style='font-family:Latin Modern Sans Demi Cond; font-size: 24px;'>Latin Modern Sans Demi Cond</p>\n",
       "<p>Latin Modern Sans Quotation: <span style='font-family:Latin Modern Sans Quotation; font-size: 24px;'>Latin Modern Sans Quotation</p>\n",
       "<p>Liberation Mono: <span style='font-family:Liberation Mono; font-size: 24px;'>Liberation Mono</p>\n",
       "<p>Liberation Sans: <span style='font-family:Liberation Sans; font-size: 24px;'>Liberation Sans</p>\n",
       "<p>Liberation Serif: <span style='font-family:Liberation Serif; font-size: 24px;'>Liberation Serif</p>\n",
       "<p>Linux Biolinum Keyboard O: <span style='font-family:Linux Biolinum Keyboard O; font-size: 24px;'>Linux Biolinum Keyboard O</p>\n",
       "<p>Linux Biolinum O: <span style='font-family:Linux Biolinum O; font-size: 24px;'>Linux Biolinum O</p>\n",
       "<p>Linux Libertine Display O: <span style='font-family:Linux Libertine Display O; font-size: 24px;'>Linux Libertine Display O</p>\n",
       "<p>Linux Libertine Initials O: <span style='font-family:Linux Libertine Initials O; font-size: 24px;'>Linux Libertine Initials O</p>\n",
       "<p>Linux Libertine Mono O: <span style='font-family:Linux Libertine Mono O; font-size: 24px;'>Linux Libertine Mono O</p>\n",
       "<p>Linux Libertine Mono O : <span style='font-family:Linux Libertine Mono O ; font-size: 24px;'>Linux Libertine Mono O </p>\n",
       "<p>Linux Libertine O: <span style='font-family:Linux Libertine O; font-size: 24px;'>Linux Libertine O</p>\n",
       "<p>Loma: <span style='font-family:Loma; font-size: 24px;'>Loma</p>\n",
       "<p>Lucida Grande: <span style='font-family:Lucida Grande; font-size: 24px;'>Lucida Grande</p>\n",
       "<p>Luxi Mono: <span style='font-family:Luxi Mono; font-size: 24px;'>Luxi Mono</p>\n",
       "<p>Luxi Sans: <span style='font-family:Luxi Sans; font-size: 24px;'>Luxi Sans</p>\n",
       "<p>Luxi Serif: <span style='font-family:Luxi Serif; font-size: 24px;'>Luxi Serif</p>\n",
       "<p>MarVoSym: <span style='font-family:MarVoSym; font-size: 24px;'>MarVoSym</p>\n",
       "<p>MnSymbol: <span style='font-family:MnSymbol; font-size: 24px;'>MnSymbol</p>\n",
       "<p>Monotype Sorts: <span style='font-family:Monotype Sorts; font-size: 24px;'>Monotype Sorts</p>\n",
       "<p>Nimbus Mono L: <span style='font-family:Nimbus Mono L; font-size: 24px;'>Nimbus Mono L</p>\n",
       "<p>Nimbus Roman No9 L: <span style='font-family:Nimbus Roman No9 L; font-size: 24px;'>Nimbus Roman No9 L</p>\n",
       "<p>Nimbus Sans L: <span style='font-family:Nimbus Sans L; font-size: 24px;'>Nimbus Sans L</p>\n",
       "<p>Norasi: <span style='font-family:Norasi; font-size: 24px;'>Norasi</p>\n",
       "<p>Noto Sans: <span style='font-family:Noto Sans; font-size: 24px;'>Noto Sans</p>\n",
       "<p>OCR A Std: <span style='font-family:OCR A Std; font-size: 24px;'>OCR A Std</p>\n",
       "<p>Open Sans: <span style='font-family:Open Sans; font-size: 24px;'>Open Sans</p>\n",
       "<p>Open Sans Condensed: <span style='font-family:Open Sans Condensed; font-size: 24px;'>Open Sans Condensed</p>\n",
       "<p>Palatino Linotype: <span style='font-family:Palatino Linotype; font-size: 24px;'>Palatino Linotype</p>\n",
       "<p>Philokalia: <span style='font-family:Philokalia; font-size: 24px;'>Philokalia</p>\n",
       "<p>Poppins: <span style='font-family:Poppins; font-size: 24px;'>Poppins</p>\n",
       "<p>Purisa: <span style='font-family:Purisa; font-size: 24px;'>Purisa</p>\n",
       "<p>Roboto: <span style='font-family:Roboto; font-size: 24px;'>Roboto</p>\n",
       "<p>Roboto Condensed: <span style='font-family:Roboto Condensed; font-size: 24px;'>Roboto Condensed</p>\n",
       "<p>STIXGeneral: <span style='font-family:STIXGeneral; font-size: 24px;'>STIXGeneral</p>\n",
       "<p>STIXNonUnicode: <span style='font-family:STIXNonUnicode; font-size: 24px;'>STIXNonUnicode</p>\n",
       "<p>STIXSizeFiveSym: <span style='font-family:STIXSizeFiveSym; font-size: 24px;'>STIXSizeFiveSym</p>\n",
       "<p>STIXSizeFourSym: <span style='font-family:STIXSizeFourSym; font-size: 24px;'>STIXSizeFourSym</p>\n",
       "<p>STIXSizeOneSym: <span style='font-family:STIXSizeOneSym; font-size: 24px;'>STIXSizeOneSym</p>\n",
       "<p>STIXSizeThreeSym: <span style='font-family:STIXSizeThreeSym; font-size: 24px;'>STIXSizeThreeSym</p>\n",
       "<p>STIXSizeTwoSym: <span style='font-family:STIXSizeTwoSym; font-size: 24px;'>STIXSizeTwoSym</p>\n",
       "<p>Sawasdee: <span style='font-family:Sawasdee; font-size: 24px;'>Sawasdee</p>\n",
       "<p>Serto Batnan: <span style='font-family:Serto Batnan; font-size: 24px;'>Serto Batnan</p>\n",
       "<p>Serto Jerusalem: <span style='font-family:Serto Jerusalem; font-size: 24px;'>Serto Jerusalem</p>\n",
       "<p>Serto Jerusalem Outline: <span style='font-family:Serto Jerusalem Outline; font-size: 24px;'>Serto Jerusalem Outline</p>\n",
       "<p>Serto Kharput: <span style='font-family:Serto Kharput; font-size: 24px;'>Serto Kharput</p>\n",
       "<p>Serto Malankara: <span style='font-family:Serto Malankara; font-size: 24px;'>Serto Malankara</p>\n",
       "<p>Serto Mardin: <span style='font-family:Serto Mardin; font-size: 24px;'>Serto Mardin</p>\n",
       "<p>Serto Urhoy: <span style='font-family:Serto Urhoy; font-size: 24px;'>Serto Urhoy</p>\n",
       "<p>Source Code Pro: <span style='font-family:Source Code Pro; font-size: 24px;'>Source Code Pro</p>\n",
       "<p>Source Sans 3: <span style='font-family:Source Sans 3; font-size: 24px;'>Source Sans 3</p>\n",
       "<p>Source Sans Pro: <span style='font-family:Source Sans Pro; font-size: 24px;'>Source Sans Pro</p>\n",
       "<p>Source Serif Pro: <span style='font-family:Source Serif Pro; font-size: 24px;'>Source Serif Pro</p>\n",
       "<p>Special Elite: <span style='font-family:Special Elite; font-size: 24px;'>Special Elite</p>\n",
       "<p>Standard Symbols L: <span style='font-family:Standard Symbols L; font-size: 24px;'>Standard Symbols L</p>\n",
       "<p>TeX Gyre Adventor: <span style='font-family:TeX Gyre Adventor; font-size: 24px;'>TeX Gyre Adventor</p>\n",
       "<p>TeX Gyre Bonum: <span style='font-family:TeX Gyre Bonum; font-size: 24px;'>TeX Gyre Bonum</p>\n",
       "<p>TeX Gyre Bonum Math: <span style='font-family:TeX Gyre Bonum Math; font-size: 24px;'>TeX Gyre Bonum Math</p>\n",
       "<p>TeX Gyre Chorus: <span style='font-family:TeX Gyre Chorus; font-size: 24px;'>TeX Gyre Chorus</p>\n",
       "<p>TeX Gyre Cursor: <span style='font-family:TeX Gyre Cursor; font-size: 24px;'>TeX Gyre Cursor</p>\n",
       "<p>TeX Gyre DejaVu Math: <span style='font-family:TeX Gyre DejaVu Math; font-size: 24px;'>TeX Gyre DejaVu Math</p>\n",
       "<p>TeX Gyre Heros: <span style='font-family:TeX Gyre Heros; font-size: 24px;'>TeX Gyre Heros</p>\n",
       "<p>TeX Gyre Heros Cn: <span style='font-family:TeX Gyre Heros Cn; font-size: 24px;'>TeX Gyre Heros Cn</p>\n",
       "<p>TeX Gyre Pagella: <span style='font-family:TeX Gyre Pagella; font-size: 24px;'>TeX Gyre Pagella</p>\n",
       "<p>TeX Gyre Pagella Math: <span style='font-family:TeX Gyre Pagella Math; font-size: 24px;'>TeX Gyre Pagella Math</p>\n",
       "<p>TeX Gyre Schola: <span style='font-family:TeX Gyre Schola; font-size: 24px;'>TeX Gyre Schola</p>\n",
       "<p>TeX Gyre Schola Math: <span style='font-family:TeX Gyre Schola Math; font-size: 24px;'>TeX Gyre Schola Math</p>\n",
       "<p>TeX Gyre Termes: <span style='font-family:TeX Gyre Termes; font-size: 24px;'>TeX Gyre Termes</p>\n",
       "<p>TeX Gyre Termes Math: <span style='font-family:TeX Gyre Termes Math; font-size: 24px;'>TeX Gyre Termes Math</p>\n",
       "<p>TeX Gyre TermesX: <span style='font-family:TeX Gyre TermesX; font-size: 24px;'>TeX Gyre TermesX</p>\n",
       "<p>Times New Roman: <span style='font-family:Times New Roman; font-size: 24px;'>Times New Roman</p>\n",
       "<p>Tinos: <span style='font-family:Tinos; font-size: 24px;'>Tinos</p>\n",
       "<p>Tlwg Mono: <span style='font-family:Tlwg Mono; font-size: 24px;'>Tlwg Mono</p>\n",
       "<p>Tlwg Typewriter: <span style='font-family:Tlwg Typewriter; font-size: 24px;'>Tlwg Typewriter</p>\n",
       "<p>Tlwg Typist: <span style='font-family:Tlwg Typist; font-size: 24px;'>Tlwg Typist</p>\n",
       "<p>Tlwg Typo: <span style='font-family:Tlwg Typo; font-size: 24px;'>Tlwg Typo</p>\n",
       "<p>Trebuchet MS: <span style='font-family:Trebuchet MS; font-size: 24px;'>Trebuchet MS</p>\n",
       "<p>URW Bookman L: <span style='font-family:URW Bookman L; font-size: 24px;'>URW Bookman L</p>\n",
       "<p>URW Chancery L: <span style='font-family:URW Chancery L; font-size: 24px;'>URW Chancery L</p>\n",
       "<p>URW Gothic L: <span style='font-family:URW Gothic L; font-size: 24px;'>URW Gothic L</p>\n",
       "<p>URW Palladio L: <span style='font-family:URW Palladio L; font-size: 24px;'>URW Palladio L</p>\n",
       "<p>Umpush: <span style='font-family:Umpush; font-size: 24px;'>Umpush</p>\n",
       "<p>Utopia: <span style='font-family:Utopia; font-size: 24px;'>Utopia</p>\n",
       "<p>Verdana: <span style='font-family:Verdana; font-size: 24px;'>Verdana</p>\n",
       "<p>Waree: <span style='font-family:Waree; font-size: 24px;'>Waree</p>\n",
       "<p>Webdings: <span style='font-family:Webdings; font-size: 24px;'>Webdings</p>\n",
       "<p>Wingdings: <span style='font-family:Wingdings; font-size: 24px;'>Wingdings</p>\n",
       "<p>Wingdings 2: <span style='font-family:Wingdings 2; font-size: 24px;'>Wingdings 2</p>\n",
       "<p>Wingdings 3: <span style='font-family:Wingdings 3; font-size: 24px;'>Wingdings 3</p>\n",
       "<p>cmb10: <span style='font-family:cmb10; font-size: 24px;'>cmb10</p>\n",
       "<p>cmex10: <span style='font-family:cmex10; font-size: 24px;'>cmex10</p>\n",
       "<p>cmmi10: <span style='font-family:cmmi10; font-size: 24px;'>cmmi10</p>\n",
       "<p>cmr10: <span style='font-family:cmr10; font-size: 24px;'>cmr10</p>\n",
       "<p>cmss10: <span style='font-family:cmss10; font-size: 24px;'>cmss10</p>\n",
       "<p>cmsy10: <span style='font-family:cmsy10; font-size: 24px;'>cmsy10</p>\n",
       "<p>cmtt10: <span style='font-family:cmtt10; font-size: 24px;'>cmtt10</p>\n",
       "<p>dsrom10: <span style='font-family:dsrom10; font-size: 24px;'>dsrom10</p>\n",
       "<p>erewhon: <span style='font-family:erewhon; font-size: 24px;'>erewhon</p>\n",
       "<p>esint10: <span style='font-family:esint10; font-size: 24px;'>esint10</p>\n",
       "<p>eufm10: <span style='font-family:eufm10; font-size: 24px;'>eufm10</p>\n",
       "<p>gallant12x22: <span style='font-family:gallant12x22; font-size: 24px;'>gallant12x22</p>\n",
       "<p>moanHand: <span style='font-family:moanHand; font-size: 24px;'>moanHand</p>\n",
       "<p>msam10: <span style='font-family:msam10; font-size: 24px;'>msam10</p>\n",
       "<p>msbm10: <span style='font-family:msbm10; font-size: 24px;'>msbm10</p>\n",
       "<p>ntxsups: <span style='font-family:ntxsups; font-size: 24px;'>ntxsups</p>\n",
       "<p>rsfs10: <span style='font-family:rsfs10; font-size: 24px;'>rsfs10</p>\n",
       "<p>stmary10: <span style='font-family:stmary10; font-size: 24px;'>stmary10</p>\n",
       "<p>wasy10: <span style='font-family:wasy10; font-size: 24px;'>wasy10</p></div>"
      ],
      "text/plain": [
       "<IPython.core.display.HTML object>"
      ]
     },
     "execution_count": 9,
     "metadata": {},
     "output_type": "execute_result"
    }
   ],
   "source": [
    "import matplotlib.font_manager\n",
    "from IPython.core.display import HTML\n",
    "\n",
    "def make_html(fontname):\n",
    "    return \"<p>{font}: <span style='font-family:{font}; font-size: 24px;'>{font}</p>\".format(font=fontname)\n",
    "\n",
    "code = \"\\n\".join([make_html(font) for font in sorted(set([f.name for f in matplotlib.font_manager.fontManager.ttflist]))])\n",
    "\n",
    "HTML(\"<div style='column-count: 2;'>{}</div>\".format(code))"
   ]
  },
  {
   "cell_type": "code",
   "execution_count": 8,
   "id": "1998a632",
   "metadata": {
    "tags": []
   },
   "outputs": [
    {
     "data": {
      "text/markdown": [
       "**End at:** Saturday 11 November 2023, 15:09:12  \n",
       "**Duration:** 00:00:11 649ms"
      ],
      "text/plain": [
       "<IPython.core.display.Markdown object>"
      ]
     },
     "metadata": {},
     "output_type": "display_data"
    },
    {
     "data": {
      "text/markdown": [
       "<p style=\"text-align: center\"><img width=\"800px\" src=\"./config/svg/logoEnd.svg\" style=\"margin-left:auto; margin-right:auto\"/></p>"
      ],
      "text/plain": [
       "<IPython.core.display.Markdown object>"
      ]
     },
     "metadata": {},
     "output_type": "display_data"
    }
   ],
   "source": [
    "vID.end(cwd0)"
   ]
  },
  {
   "cell_type": "markdown",
   "id": "4124811e-8444-4f3a-adaf-fae917031ea0",
   "metadata": {},
   "source": [
    "# End"
   ]
  },
  {
   "cell_type": "code",
   "execution_count": null,
   "id": "38143c77-e49a-4c48-bf6e-603c247317a0",
   "metadata": {},
   "outputs": [],
   "source": []
  }
 ],
 "metadata": {
  "celltoolbar": "Raw Cell Format",
  "kernelspec": {
   "display_name": "Python 3 (ipykernel)",
   "language": "python",
   "name": "python3"
  },
  "language_info": {
   "codemirror_mode": {
    "name": "ipython",
    "version": 3
   },
   "file_extension": ".py",
   "mimetype": "text/x-python",
   "name": "python",
   "nbconvert_exporter": "python",
   "pygments_lexer": "ipython3",
   "version": "3.11.5"
  }
 },
 "nbformat": 4,
 "nbformat_minor": 5
}
