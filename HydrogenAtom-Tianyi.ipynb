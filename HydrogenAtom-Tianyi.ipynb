{
 "cells": [
  {
   "cell_type": "code",
   "execution_count": 1,
   "id": "269396e1-4699-46d7-b7bc-8ef342174c94",
   "metadata": {},
   "outputs": [
    {
     "name": "stdout",
     "output_type": "stream",
     "text": [
      "/home/vfornemo/PytChem/PytChem\n"
     ]
    },
    {
     "data": {
      "text/html": [
       "<style>\n",
       "h1, h2, h3, h4, h5, h6 {\n",
       "  font-family: Verdana, \"DejaVu Sans\", \"Bitstream Vera Sans\", Geneva, sans-serif;\n",
       "  font-weight: bold;\n",
       "}\n",
       "body, intro, introE, rq, rqE, ex, exE, app, appE, sol  {\n",
       "  font-family: Verdana, \"DejaVu Sans\", \"Bitstream Vera Sans\", Geneva, sans-serif;\n",
       "  font-weight: 400;\n",
       "  font-size: 12px;\n",
       "}\n",
       "h1 {\n",
       "  border: 0 solid #333;\n",
       "  padding: 30px ;\n",
       "  color: white;\n",
       "  background: #b11d01;\n",
       "  text-align: center;\n",
       "}\n",
       "h2 {\n",
       "  border: 3px solid #333;\n",
       "  padding: 18px ;\n",
       "  color: #b11d01;\n",
       "  background: #ffffff;\n",
       "  text-align: center;\n",
       "}\n",
       "h3 {\n",
       "  border: 0 solid #333;\n",
       "  padding: 12px ;\n",
       "  color: #000000;\n",
       "  background: #c1c1c1;\n",
       "  text-align: left;\n",
       "}\n",
       "h4 {\n",
       "  border: 0 solid #333;\n",
       "  padding: 2px ;\n",
       "  color: #000000;\n",
       "  background: #d9fffc;\n",
       "  text-align: left;\n",
       "}\n",
       "h5 {\n",
       "  border: 1px solid #333;\n",
       "  padding: 2px ;\n",
       "  color: #000000;\n",
       "  background: #ffffff;\n",
       "  text-align: left;\n",
       "}\n",
       ".introT::before {    \n",
       "    content: attr(title);\n",
       "    background-color: #cecece;\n",
       "    margin-left:-0.5em;\n",
       "    margin-right:-0.5em;\n",
       "    padding-left:0.5em;\n",
       "    padding-right:0.5em;\n",
       "    font-weight: 600;\n",
       "    display: block;\n",
       "}\n",
       ".introT {    \n",
       "    background-color: #cecece80;\n",
       "    border-color: #969696;\n",
       "    border-left: 5px solid #969696;\n",
       "    padding: 0.5em;\n",
       "}\n",
       ".intro {    \n",
       "    background-color: #cecece80;\n",
       "    border-color: #969696;\n",
       "    border-left: 5px solid #969696;\n",
       "    padding: 0.5em;\n",
       "}\n",
       ".introE {    \n",
       "    background-color: #cecece80;\n",
       "    border-color: #969696;\n",
       "    border-left: 5px solid #969696;\n",
       "    padding: 0.5em;\n",
       "    color : #117996;\n",
       "}\n",
       ".rq {    \n",
       "    background-color: #fcf2f2;\n",
       "    border-color: #dFb5b4;\n",
       "    border-left: 5px solid #dfb5b4;\n",
       "    padding: 0.5em;\n",
       "}\n",
       ".rqE::before {    \n",
       "    background-color: #fcd3d3;\n",
       "    color: #ff0000;\n",
       "    content:\"Warning\";\n",
       "    margin-left:-0.5em;\n",
       "    margin-right:-0.5em;\n",
       "    padding-left:0.5em;\n",
       "    padding-right:0.5em;\n",
       "    font-weight: 600;\n",
       "    display: block;\n",
       "}\n",
       ".rqE {    \n",
       "    background-color: #fcd3d380;\n",
       "    border-color: #dFb5b4;\n",
       "    border-left: 5px solid #dfb5b4;\n",
       "    padding: 0.5em;\n",
       "}\n",
       ".rqT::before {    \n",
       "    background-color: #fcd3d3;\n",
       "    color: #ff0000;\n",
       "    content: attr(title);\n",
       "    margin-left:-0.5em;\n",
       "    margin-right:-0.5em;\n",
       "    padding-left:0.5em;\n",
       "    padding-right:0.5em;\n",
       "    font-weight: 600;\n",
       "    display: block;\n",
       "}\n",
       ".rqT {    \n",
       "    background-color: #fcd3d380;\n",
       "    border-color: #dFb5b4;\n",
       "    border-left: 5px solid #dfb5b4;\n",
       "    padding: 0.5em;\n",
       "}\n",
       ".exold {    \n",
       "    background-color: #b2dbea80;\n",
       "    border-color: #0055ff;\n",
       "    border-left: 10px solid #0055ff;\n",
       "    padding: 0.5em;\n",
       "}\n",
       ".ex {    \n",
       "    background-color: #b2dbea80;\n",
       "    padding: 0.5em;\n",
       "    padding-top: 0em;\n",
       "    position:relative;\n",
       "}\n",
       ".ex::before {\n",
       "    background-color: #b2dbea;\n",
       "    content:\"Exercice\";\n",
       "    margin-left:-0.5em;\n",
       "    margin-right:-0.5em;\n",
       "    padding-left:0.5em;\n",
       "    padding-right:0.5em;\n",
       "    font-weight: 600;\n",
       "    display: block;\n",
       "}\n",
       ".exE {    \n",
       "    background-color: #b2dbea80;\n",
       "    padding: 0.5em;\n",
       "    padding-top: 0em;\n",
       "    position:relative;\n",
       "    color : #117996;\n",
       "}\n",
       ".exE::before {\n",
       "    background-color: #b2dbea;\n",
       "    content:\"Exercise\";\n",
       "    margin-left:-0.5em;\n",
       "    margin-right:-0.5em;\n",
       "    padding-left:0.5em;\n",
       "    padding-right:0.5em;\n",
       "    font-weight: 600;\n",
       "    display: block;\n",
       "    color : #117996;\n",
       "}\n",
       ".app {    \n",
       "    background-color: #b2dbea80;\n",
       "    padding: 0.5em;\n",
       "    padding-top: 0em;\n",
       "    position:relative;\n",
       "}\n",
       ".app::before {\n",
       "    background-color: #b2dbea;\n",
       "    content:\"Application\";\n",
       "    margin-left:-0.5em;\n",
       "    margin-right:-0.5em;\n",
       "    padding-left:0.5em;\n",
       "    padding-right:0.5em;\n",
       "    font-weight: 600;\n",
       "    display: block;\n",
       "}\n",
       ".appE {    \n",
       "    background-color: #b2dbea80;\n",
       "    padding: 0.5em;\n",
       "    padding-top: 0em;\n",
       "    color : #117996;\n",
       "    position:relative;\n",
       "}\n",
       ".appE::before {\n",
       "    background-color: #b2dbea;\n",
       "    content:\"Application\";\n",
       "    margin-left:-0.5em;\n",
       "    margin-right:-0.5em;\n",
       "    padding-left:0.5em;\n",
       "    padding-right:0.5em;\n",
       "    font-weight: 600;\n",
       "    color : #117996;\n",
       "    display: block;\n",
       "}\n",
       ".sol {    \n",
       "    background-color: #bbeab880;\n",
       "    padding: 0.5em;\n",
       "    padding-top: 0em;\n",
       "    position:relative;\n",
       "}\n",
       ".sol::before {\n",
       "    background-color: #bbeab8;\n",
       "    content:\"Answer\";\n",
       "    margin-left:-0.5em;\n",
       "    margin-right:-0.5em;\n",
       "    padding-left:0.5em;\n",
       "    padding-right:0.5em;\n",
       "    font-weight: 600;\n",
       "    display: block;\n",
       "}\n",
       "</style>\n"
      ],
      "text/plain": [
       "<IPython.core.display.HTML object>"
      ]
     },
     "metadata": {},
     "output_type": "display_data"
    },
    {
     "data": {
      "text/markdown": [
       "**Start at:** Saturday 23 September 2023, 21:21:19  \n",
       "**Hostname:** Winnie-virtual-machine (Linux)"
      ],
      "text/plain": [
       "<IPython.core.display.Markdown object>"
      ]
     },
     "metadata": {},
     "output_type": "display_data"
    },
    {
     "data": {
      "text/markdown": [
       "<p style=\"text-align: center\"><img width=\"800px\" src=\"./config/svg/PytChemBanner.svg\" style=\"margin-left:auto; margin-right:auto\"/></p>"
      ],
      "text/plain": [
       "<IPython.core.display.Markdown object>"
      ]
     },
     "metadata": {},
     "output_type": "display_data"
    }
   ],
   "source": [
    "import os\n",
    "import sys\n",
    "\n",
    "print(os.getcwd())\n",
    "cwd0 = './config/'\n",
    "sys.path.append(cwd0)\n",
    "\n",
    "import visualID_Eng as vID\n",
    "from visualID_Eng import fg,bg,hl,color\n",
    "vID.init(cwd0)\n",
    "import tools4PytChem as t4p\n",
    "\n",
    "from IPython.core.interactiveshell import InteractiveShell\n",
    "InteractiveShell.ast_node_interactivity = \"all\""
   ]
  },
  {
   "cell_type": "markdown",
   "id": "a1b3496a-7f24-4bef-ae7c-617f267ab7ad",
   "metadata": {
    "tags": []
   },
   "source": [
    "# Hydrogen Atom\n",
    "\n",
    "## Introduction\n",
    "\n",
    "<div class=\"intro\">\n",
    "\n",
    "The Schrödinger equation allows one to calculate the stationary states and also the time evolution of quantum systems. Exact analytical answers are available for the nonrelativistic hydrogen atom. In short, the time-independent Schrödinger Equation for the hydrogen atom is conveniently written and solved in spherical coordinates:\n",
    "\n",
    "$$\\hat{H}(r,\\theta,\\varphi)\\psi(r,\\theta,\\varphi)=E\\psi(r,\\theta,\\varphi)$$\n",
    "\n",
    "with $\\hat{H}=\\hat{T}+\\hat{V}$, where\n",
    "\n",
    "$$\\hat{V} = -\\frac{e^{2}}{4\\pi\\varepsilon_{0}}\\frac{1}{r}$$\n",
    "\n",
    "is the position-dependent potential of the electron \"cruising\" under the influence of the proton, and\n",
    "\n",
    "$$ \\hat{T}=-\\frac{\\hbar^{2}}{2\\mu_\\mathrm{H}}\\nabla^{2} $$\n",
    "\n",
    "with\n",
    "\n",
    "$$\\nabla^{2}=\\frac{1}{r^{2}}\\left[\\frac{\\partial}{\\partial r}\\left(r^{2}\\frac{\\partial}{\\partial r}\\right)+\\Lambda^{2}\\right]$$\n",
    "\n",
    "$\\mu_\\mathrm{H}$ is the reduced mass for the electron: $\\mu_\\mathrm{H} = m_e m_p / (m_e+m_p)$\n",
    "\n",
    "and $\\Lambda^2$ is the Legendre operator:\n",
    "\n",
    "$$\\Lambda^{2}=\\frac{1}{\\sin\\theta}\\frac{\\partial}{\\partial\\theta}\\left(\\sin\\theta\\frac{\\partial}{\\partial\\theta}\\right)+\\frac{1}{\\sin^{2}\\theta}\\frac{\\partial^{2}}{\\partial\\varphi^{2}}$$\n",
    "\n",
    "It can be demonstrated that $\\psi(r,\\theta,\\varphi)$ is a product wavefunction, made of a radial part $R_{n\\ell}(r)$ and an angular part, the spherical harmonic $Y_\\ell^m(\\theta,\\varphi)$ functions.\n",
    "\n",
    "$Y_\\ell^m(\\theta,\\varphi)$ are the normalized eigenvectors of the $\\Lambda^2$ operator:\n",
    "\n",
    "$$\\Lambda^{2}Y_\\ell^m(\\theta,\\varphi)=-l(l+1)Y_\\ell^m(\\theta,\\varphi)$$\n",
    "\n",
    "and $R_{n\\ell}(r)$ are solution of a radial equation, which eigenvalue is the energy for the hydrogen atom:\n",
    "\n",
    "$$\\left(-\\frac{\\hbar^{2}}{2\\mu}\\left[\\frac{1}{r^{2}}\\frac{\\partial}{\\partial r}\\left(r^{2}\\frac{\\partial}{\\partial r}\\right)-\\frac{l(l+1)}{r^{2}}\\right]-\\frac{e^{2}}{4\\pi\\varepsilon_{0}}\\frac{1}{r}\\right)R_{n\\ell}(r)=E_{n}R_{n\\ell}(r)$$\n",
    "\n",
    "</div>\n",
    "<br>\n",
    "\n",
    "<div class=\"rqT\" title=\"In summary\">\n",
    "\n",
    "Any $\\psi_{n\\ell m}(r,\\theta,\\varphi)=R_{n\\ell}(r)Y_\\ell^m(\\theta,\\varphi)$ wavefunction is an eigensolution of $\\hat{H}(r,\\theta,\\varphi)\\psi_{n\\ell m}(r,\\theta,\\varphi)=E_n\\psi_{n\\ell m}(r,\\theta,\\varphi)$, with\n",
    "\n",
    "$$\\hat{H}=-\\frac{\\hbar^{2}}{2\\mu_\\mathrm{H}}\\nabla^{2}-\\frac{e^{2}}{4\\pi\\varepsilon_{0}}\\frac{1}{r}$$\n",
    "\n",
    "$$\\hat{H}=-\\frac{\\hbar^{2}}{2\\mu_\\mathrm{H}}\\frac{1}{r^{2}}\\left[\\frac{\\partial}{\\partial r}\\left(r^{2}\\frac{\\partial}{\\partial r}\\right)+\\frac{1}{\\sin\\theta}\\frac{\\partial}{\\partial\\theta}\\left(\\sin\\theta\\frac{\\partial}{\\partial\\theta}\\right)+\\frac{1}{\\sin^{2}\\theta}\\frac{\\partial^{2}}{\\partial\\varphi^{2}}\\right]-\\frac{e^{2}}{4\\pi\\varepsilon_{0}}\\frac{1}{r}$$\n",
    "\n",
    "</div>"
   ]
  },
  {
   "cell_type": "markdown",
   "id": "13d364e6-db39-45b8-8568-2a3b8d854e82",
   "metadata": {},
   "source": [
    "## Prerequisite : physical constants and conversion factors\n",
    "\n",
    "### Physical constants and unit conversion factors\n",
    "\n",
    "<div class=\"rqT\" title=\"Directives\">\n",
    "    \n",
    "- It is recommended to use the [physical constants of the SciPy library](https://docs.scipy.org/doc/scipy/reference/constants.html) instead of a copy/paste of values found on internet.\n",
    "- You are allowed to directly perform numerical calculations, unless the use of SymPy is explicitly required\n",
    "</div>"
   ]
  },
  {
   "cell_type": "code",
   "execution_count": 2,
   "id": "1dd1dcc0-f539-4d52-8367-36f8a5f0e0f9",
   "metadata": {},
   "outputs": [
    {
     "name": "stdout",
     "output_type": "stream",
     "text": [
      "['Planck constant', 'Planck constant in eV/Hz', 'Planck length', 'Planck mass', 'Planck mass energy equivalent in GeV', 'Planck temperature', 'Planck time', 'molar Planck constant', 'reduced Planck constant', 'reduced Planck constant in eV s', 'reduced Planck constant times c in MeV fm']\n",
      "\u001b[1mPlanck constant: (6.62607015e-34, 'J Hz^-1', 0.0)\u001b[0m\n",
      "\u001b[1mReduced Planck constant: (1.054571817e-34, 'J s', 0.0)\u001b[0m\n",
      "['atomic unit of charge', 'atomic unit of charge density', 'deuteron rms charge radius', 'electron charge to mass quotient', 'elementary charge', 'elementary charge over h-bar', 'proton charge to mass quotient', 'proton rms charge radius']\n",
      "\u001b[1mElementary charge: (1.602176634e-19, 'C', 0.0)\u001b[0m\n",
      "['speed of light in vacuum']\n",
      "\u001b[1mspeed of light in vacuum: (299792458.0, 'm s^-1', 0.0)\u001b[0m\n",
      "['alpha particle-electron mass ratio', 'deuteron-electron mass ratio', 'electron mass', 'electron mass energy equivalent', 'electron mass energy equivalent in MeV', 'electron mass in u', 'helion-electron mass ratio', 'muon-electron mass ratio', 'neutron-electron mass ratio', 'proton-electron mass ratio', 'tau-electron mass ratio', 'triton-electron mass ratio']\n",
      "\u001b[1mElectron mass: (9.1093837015e-31, 'kg', 2.8e-40)\u001b[0m\n",
      "['alpha particle-proton mass ratio', 'deuteron-proton mass ratio', 'electron-proton mass ratio', 'helion-proton mass ratio', 'muon-proton mass ratio', 'neutron-proton mass difference', 'neutron-proton mass difference energy equivalent', 'neutron-proton mass difference energy equivalent in MeV', 'neutron-proton mass difference in u', 'neutron-proton mass ratio', 'proton mass', 'proton mass energy equivalent', 'proton mass energy equivalent in MeV', 'proton mass in u', 'tau-proton mass ratio', 'triton-proton mass ratio']\n",
      "\u001b[1mProton mass: (1.67262192369e-27, 'kg', 5.1e-37)\u001b[0m\n",
      "['speed of light in vacuum', 'vacuum electric permittivity', 'vacuum mag. permeability']\n",
      "\u001b[1mVacuum electric permittivity: (8.8541878128e-12, 'F m^-1', 1.3e-21)\u001b[0m\n"
     ]
    }
   ],
   "source": [
    "import scipy.constants as sc\n",
    "import numpy as np\n",
    "\n",
    "print(sc.find(\"Planck\"))\n",
    "print(f'{hl.BOLD}Planck constant: {sc.physical_constants[\"Planck constant\"]}{hl.OFF}')\n",
    "print(f'{hl.BOLD}Reduced Planck constant: {sc.physical_constants[\"reduced Planck constant\"]}{hl.OFF}')\n",
    "print(sc.find(\"charge\"))\n",
    "print(f'{hl.BOLD}Elementary charge: {sc.physical_constants[\"elementary charge\"]}{hl.OFF}')\n",
    "print(sc.find(\"light\"))\n",
    "print(f'{hl.BOLD}speed of light in vacuum: {sc.physical_constants[\"speed of light in vacuum\"]}{hl.OFF}')\n",
    "print(sc.find(\"electron mass\"))\n",
    "print(f'{hl.BOLD}Electron mass: {sc.physical_constants[\"electron mass\"]}{hl.OFF}')\n",
    "print(sc.find(\"proton mass\"))\n",
    "print(f'{hl.BOLD}Proton mass: {sc.physical_constants[\"proton mass\"]}{hl.OFF}')\n",
    "print(sc.find(\"vacuum\"))\n",
    "print(f'{hl.BOLD}Vacuum electric permittivity: {sc.physical_constants[\"vacuum electric permittivity\"]}{hl.OFF}')\n",
    "\n",
    "h = sc.value(\"Planck constant\")\n",
    "hbar = sc.value(\"reduced Planck constant\")\n",
    "e = sc.value(\"elementary charge\")\n",
    "c = sc.value(\"speed of light in vacuum\")\n",
    "me = sc.value(\"electron mass\")\n",
    "mp = sc.value(\"proton mass\")\n",
    "eps0 = sc.value(\"vacuum electric permittivity\")"
   ]
  },
  {
   "cell_type": "markdown",
   "id": "8dd09509-3130-4259-8dce-37129391ddb5",
   "metadata": {},
   "source": [
    "<div class=\"exE\">\n",
    "\n",
    "- find in the `scipy.constants` module the value of the Rydberg constant $R_\\infty$, as well as its standard uncertainty and its unit\n",
    "- save $R_\\infty$ in an `Rinf` python variable and the absolute uncertainty in an `Rinf_err` python variable\n",
    "- use a formatted print in order to write `Rinf = 10973731.568160 ± 0.000021`\n",
    "</div>"
   ]
  },
  {
   "cell_type": "code",
   "execution_count": 3,
   "id": "52dbf8dd-8673-4309-b27d-8930b55af1fc",
   "metadata": {},
   "outputs": [
    {
     "name": "stdout",
     "output_type": "stream",
     "text": [
      "\u001b[1mRydberg constant: (10973731.56816, 'm^-1', 2.1e-05)\u001b[0m\n",
      "Rinf =  10973731.568160 ± 0.000021\n"
     ]
    }
   ],
   "source": [
    "# Find the value of Rydberg constant, standard uncertainty and unit\n",
    "dic = sc.physical_constants[\"Rydberg constant\"]\n",
    "print(f'{hl.BOLD}Rydberg constant: {dic}{hl.OFF}')\n",
    "\n",
    "# Save the values\n",
    "(Rinf, Rinf_err) = dic[0], dic[2]\n",
    "\n",
    "\n",
    "# Formatted output\n",
    "print(f'Rinf = {Rinf: .6f} ±{Rinf_err: .6f}')\n",
    "\n",
    "\n",
    "\n"
   ]
  },
  {
   "cell_type": "markdown",
   "id": "5afb3666-cf79-4d16-96b8-3bbd933a666f",
   "metadata": {},
   "source": [
    "### Conversion factors\n",
    "\n",
    "<div class=\"intro\">\n",
    "\n",
    "It is convenient to work in the Hartree atomic units system. It is a system of natural units of measurement which is especially convenient for calculations in atomic physics and related scientific fields, such as computational chemistry and atomic and molecular spectroscopy. The hartree (symbol: E<sub>h</sub> or Ha), also known as the Hartree energy, is the unit of energy in the Hartree atomic units system. The hartree energy is approximately the electric potential energy of the hydrogen atom in its ground state and, by the virial theorem, approximately twice its ionization energy; the relationships are not exact because of the finite mass of the nucleus of the hydrogen atom and relativistic corrections. \n",
    "\n",
    "$E_h$ can be calculated in different ways:\n",
    "\n",
    "$$E_h = \\frac{e^2}{4\\pi\\varepsilon_0 a_0} = m_e\\left(\\frac{e^2}{4\\pi\\varepsilon_0 a_0 \\hbar}\\right)^2=2R_\\infty hc$$\n",
    "\n",
    "In 2023, its [CODATA](https://en.wikipedia.org/wiki/Committee_on_Data_of_the_International_Science_Council) recommended value is: 1 *E<sub>h</sub>* = 4.359 744 722 2071(85) x 10<sup>-18</sup> J = 27.211 386 245 988(53) eV    \n",
    "\n",
    "</div>"
   ]
  },
  {
   "cell_type": "markdown",
   "id": "48b726d9-ae2e-4842-844f-51898f1c73f2",
   "metadata": {},
   "source": [
    "<div class=\"exE\">\n",
    "\n",
    "- calculate $E_h$ in J and in eV\n",
    "    - using the formula $E_h = 2R_\\infty hc$\n",
    "    - and then with the formula $E_h = \\frac{e^2}{4\\pi\\varepsilon_0 a_0}$\n",
    "- store the eV value in an `h2eV` python variable, that will be used in the \"Energy and transitions\" exercises\n",
    "</div>"
   ]
  },
  {
   "cell_type": "code",
   "execution_count": 4,
   "id": "987d5146-dcff-4c9b-a26b-a7153dec569f",
   "metadata": {},
   "outputs": [
    {
     "name": "stdout",
     "output_type": "stream",
     "text": [
      "Eh =  4.359744722207169e-18 J\n",
      "h2eV =  27.211386245988464 eV\n",
      "Eh =  4.3597447221978555e-18 J\n",
      "h2eV =  27.211386245930335 eV\n"
     ]
    }
   ],
   "source": [
    "# Calculate E_h\n",
    "# Using E_h = 2*R_inf*h*c\n",
    "Eh = 2*Rinf*h*c # J\n",
    "print(\"Eh = \",Eh,\"J\")\n",
    "h2eV = Eh/e\n",
    "print(\"h2eV = \",h2eV,\"eV\")\n",
    "\n",
    "# Using Eh = e^2/(4*\\pi*\\epsilon_0*a_0) and store\n",
    "pi = np.pi\n",
    "a0 = sc.value(\"Bohr radius\")\n",
    "Eh = e**2/(4*pi*eps0*a0)\n",
    "print(\"Eh = \",Eh,\"J\")\n",
    "h2eV = Eh/e\n",
    "print(\"h2eV = \",h2eV,\"eV\")\n",
    "\n",
    "\n",
    "\n"
   ]
  },
  {
   "cell_type": "markdown",
   "id": "110f6642-639c-4ded-9860-39b8cc047321",
   "metadata": {},
   "source": [
    "### Propagation of uncertainties\n",
    "\n",
    "<div class=\"intro\">\n",
    "\n",
    "**[In statistics, propagation of uncertainty (or propagation of error) is the effect of variables' uncertainties or errors on the uncertainty of a function based on them](https://en.wikipedia.org/wiki/Propagation_of_uncertainty).**\n",
    "\n",
    "**Suppose two measured quantities $x$ and $y$ have uncertainties, $u_x$ and $u_y$: we would report ($x \\pm u_x$), and ($y \\pm u_y$). Suppose also that a new quantity, $z$, is calculated from $x$ and $y$. What is the uncertainty, $u_z$, in $z$?**\n",
    "\n",
    "More generally, Let's $f(x_1,x_2,..., x_n)$ be a function of $n$ variables $x_1,x_2,..., x_n$. Most commonly, the uncertainty $u_i$ on each variable $x_i$ is quantified in terms of the standard deviation, $\\sigma_i$. The general method of getting formulas for propagating errors involves the **total differential of a function**. It is a calculus derived statistical calculation designed to combine uncertainties from multiple variables to provide an accurate measurement of uncertainty. The next formula provides the maximal uncertainty on $f$, $u_f$. It is the most pessimistic situation, that gives us the **safe limit** of our estimate\n",
    "\n",
    "$$u_{f}=\\sum_{i=1}^{n}\\left|\\frac{\\partial f}{\\partial x_{i}}\\right|u_{i}$$\n",
    "\n",
    "In the proper statistical treatment of error propagation the standard deviations $\\sigma_i$ are used to calculate the resulting uncertainty. Neglecting correlations or assuming independent variables yields a common formula among engineers and experimental scientists to calculate error propagation, named the **variance formula**, and considered to be more realistic . \n",
    "\n",
    "$$\\sigma_{f}=\\sqrt{\\sum_{i=1}^{n}\\left(\\frac{\\partial f}{\\partial x_{i}}\\right)^{2}\\sigma_{i}^{2}}$$\n",
    "</div>"
   ]
  },
  {
   "cell_type": "markdown",
   "id": "5e847e56-91dd-490e-9dd5-49284835ff4a",
   "metadata": {},
   "source": [
    "<div class=\"exE\">\n",
    "\n",
    "We will now calculate the uncertainty on $E_h$. Given the 2023 CODATA value, it is said to be 0.000 000 000 0085 $\\times$ 10<sup>-18</sup> J, *i.e.* 8.5 $\\times$ 10<sup>-30</sup> J. Calculate $u_{E_h}$ and $\\sigma_{E_h}$ from the formula $E_h = \\frac{e^2}{4\\pi\\varepsilon_0 a_0}$\n",
    "\n",
    "</div>\n",
    "<br>\n",
    "<div class=\"rqT\" title=\"Directives\">\n",
    "    \n",
    "The partial derivatives will be calculated with SymPy, whereas physical constants and their standard uncertainties will be taken from SciPy.\n",
    "</div>"
   ]
  },
  {
   "cell_type": "code",
   "execution_count": 5,
   "id": "b8940288-840e-46ce-8f8c-f101c97712b0",
   "metadata": {},
   "outputs": [
    {
     "data": {
      "text/latex": [
       "$\\displaystyle \\frac{e^{2}}{4 \\pi a_{0} \\epsilon_{0}}$"
      ],
      "text/plain": [
       "e**2/(4*pi*a_0*epsilon_0)"
      ]
     },
     "execution_count": 5,
     "metadata": {},
     "output_type": "execute_result"
    },
    {
     "data": {
      "text/latex": [
       "$\\displaystyle \\frac{e}{2 \\pi a_{0} \\epsilon_{0}}$"
      ],
      "text/plain": [
       "e/(2*pi*a_0*epsilon_0)"
      ]
     },
     "execution_count": 5,
     "metadata": {},
     "output_type": "execute_result"
    },
    {
     "data": {
      "text/latex": [
       "$\\displaystyle - \\frac{e^{2}}{4 \\pi a_{0} \\epsilon_{0}^{2}}$"
      ],
      "text/plain": [
       "-e**2/(4*pi*a_0*epsilon_0**2)"
      ]
     },
     "execution_count": 5,
     "metadata": {},
     "output_type": "execute_result"
    },
    {
     "data": {
      "text/latex": [
       "$\\displaystyle - \\frac{e^{2}}{4 \\pi a_{0}^{2} \\epsilon_{0}}$"
      ],
      "text/plain": [
       "-e**2/(4*pi*a_0**2*epsilon_0)"
      ]
     },
     "execution_count": 5,
     "metadata": {},
     "output_type": "execute_result"
    },
    {
     "name": "stdout",
     "output_type": "stream",
     "text": [
      "u_Eh =  1.2992094585475788e-27\n",
      "sigma_Eh =  8.441528484058106e-55\n"
     ]
    }
   ],
   "source": [
    "# Calculate u_Eh\n",
    "\n",
    "import math\n",
    "import sympy as sym\n",
    "\n",
    "# Store each standard uncertainty\n",
    "# Because the uncertainties of the e and pi are 0, we only take them of eps0, a0, e\n",
    "a0_err = sc.physical_constants[\"Bohr radius\"][2]\n",
    "e_err = sc.physical_constants[\"elementary charge\"][2]\n",
    "eps0_err = sc.physical_constants[\"vacuum electric permittivity\"][2]\n",
    "\n",
    "# Calculate derivatives with SymPy\n",
    "eps0_sym, e_sym, a0_sym = sym.symbols(\"epsilon_0 e a_0\")\n",
    "Eh_func1 = e_sym**2/(4*sym.pi*a0_sym*eps0_sym)\n",
    "Eh_func1\n",
    "e_diff = sym.diff(Eh_func1, e_sym)\n",
    "e_diff\n",
    "eps0_diff = sym.diff(Eh_func1, eps0_sym)\n",
    "eps0_diff\n",
    "a0_diff = sym.diff(Eh_func1, a0_sym)\n",
    "a0_diff\n",
    "\n",
    "# Lambdification\n",
    "e_lam = sym.lambdify([eps0_sym, a0_sym, e_sym],e_diff)\n",
    "eps0_lam = sym.lambdify([eps0_sym, a0_sym, e_sym],eps0_diff)\n",
    "a0_lam = sym.lambdify([eps0_sym, a0_sym, e_sym],a0_diff)\n",
    "\n",
    "# Calculate u_Eh\n",
    "u_Eh = abs(e_lam(eps0, a0, e))*e_err + abs(eps0_lam(eps0, a0, e))*eps0_err + abs(a0_lam(eps0, a0, e))*a0_err\n",
    "print(\"u_Eh = \", u_Eh)\n",
    "\n",
    "# NOT CORRECT!!\n",
    "\n",
    "# Calculate sigma_Eh\n",
    "sigma_Eh = e_lam(eps0, a0, e)**2*e_err**2 + eps0_lam(eps0, a0, e)**2*eps0_err**2 + a0_lam(eps0, a0, e)**2*a0_err**2\n",
    "simga_Eh = math.sqrt(sigma_Eh)\n",
    "print(\"sigma_Eh = \", sigma_Eh)\n",
    "\n",
    "# NOT CORRECT!!\n",
    "\n"
   ]
  },
  {
   "cell_type": "markdown",
   "id": "f89e0f12-4a07-4e9c-a02a-a7f46f63eeb7",
   "metadata": {},
   "source": [
    "<div class=\"exE\">\n",
    "\n",
    "Do the same with the formula $E_h = 2R_\\infty hc$\n",
    "\n",
    "</div>"
   ]
  },
  {
   "cell_type": "code",
   "execution_count": 6,
   "id": "ee78eaf1-f4d0-4779-84df-43f75e8bc5a2",
   "metadata": {},
   "outputs": [
    {
     "name": "stdout",
     "output_type": "stream",
     "text": [
      "u_Eh =  8.3430726000255e-30\n",
      "sigma_Eh =  6.960686040929625e-59\n"
     ]
    }
   ],
   "source": [
    "# Store each standard uncertainty\n",
    "h_err = sc.physical_constants[\"Planck constant\"][2]\n",
    "c_err = sc.physical_constants[\"speed of light in vacuum\"][2]\n",
    "\n",
    "# Since the partial derivatives is easy to get, we just calculate u_Eh and sigma_Eh directly\n",
    "u_Eh = abs(2*h*c*Rinf_err) + abs(2*Rinf*h*c_err) + abs(2*Rinf*c*h_err)\n",
    "print(\"u_Eh = \", u_Eh)\n",
    "sigma_Eh = (2*h*c*Rinf_err)**2 + (2*Rinf*h*c_err)**2 + (2*Rinf*c*h_err)**2\n",
    "simga_Eh = math.sqrt(sigma_Eh)\n",
    "print(\"sigma_Eh = \", sigma_Eh)\n",
    "\n"
   ]
  },
  {
   "cell_type": "markdown",
   "id": "420727e3-0e7a-4c1a-abc2-d49561c0e4df",
   "metadata": {},
   "source": [
    "<div class=\"exE\">\n",
    "\n",
    "Comments?\n",
    "\n",
    "</div>"
   ]
  },
  {
   "cell_type": "markdown",
   "id": "fc8853bc-1417-4ebb-a401-0e862599d0aa",
   "metadata": {},
   "source": [
    "##  Energies and transitions\n",
    "\n",
    "<div class=\"intro\">\n",
    "\n",
    "The solutions to the Schrödinger equation for hydrogen are analytical, giving a simple expression for the hydrogen energy levels:\n",
    "\n",
    "$$E_n = - \\frac{E_{i_1}}{n^2}$$\n",
    "\n",
    "where\n",
    "\n",
    "\n",
    "$$E_{i_{1}}=\\frac{1}{2}\\frac{\\mu_{\\mathrm{H}}e^{4}}{\\left(\\hbar\\times4\\pi\\varepsilon_{0}\\right)^{2}}$$\n",
    "\n",
    "is the ionization energy for the hydrogen atom\n",
    "\n",
    "</div>"
   ]
  },
  {
   "cell_type": "markdown",
   "id": "b3bbb523-0795-4129-bdaa-0363fbc4806b",
   "metadata": {},
   "source": [
    "### Ionisation energy\n",
    "\n",
    "<div class=\"exE\">\n",
    "\n",
    "- Calculate the hydrogen atom reduced mass, $\\mu_\\mathrm{H}$, in kg.\n",
    "- Calculate the ionization energy of the hydrogen atom, in Joule and in eV.\n",
    "- Print the eV value with 5 significant digits.\n",
    "</div>"
   ]
  },
  {
   "cell_type": "code",
   "execution_count": 7,
   "id": "10ac8e79-4b96-474b-b75c-bfd6ea943736",
   "metadata": {},
   "outputs": [
    {
     "name": "stdout",
     "output_type": "stream",
     "text": [
      "mu_H = 9.104425276523571e-31kg\n",
      "Ei = 2.17868581437854e-18J\n",
      "Ei = 13.598eV\n"
     ]
    }
   ],
   "source": [
    "# Reduced mass\n",
    "\n",
    "mu = mp*me/(mp+me)\n",
    "print(f\"mu_H = {mu}kg\")\n",
    "\n",
    "# Ionization energy\n",
    "Ei = (mu*e**4)/(2*(hbar*4*pi*eps0)**2)\n",
    "print(f\"Ei = {Ei}J\") # in J\n",
    "Ei = Ei/e # in eV\n",
    "\n",
    "# print with 5 significant digits\n",
    "print(f\"Ei = {Ei:.5g}eV\") # in eV\n",
    "\n",
    "\n",
    "# previous version\n",
    "# Construct reduced mass equation\n",
    "# mp_sym, me_sym = sym.symbols(\"m_p m_e\")\n",
    "# mu_sym = mp_sym*me_sym/(mp_sym+me_sym)\n",
    "# mu_sym\n",
    "\n",
    "# # Lambdification and calculate\n",
    "# mu_lam = sym.lambdify([me_sym, mp_sym],mu_sym)\n",
    "# mu = mu_lam(me,mp)\n",
    "# mu\n",
    "\n",
    "# Construct ionization energy equation\n",
    "# hbar_sym, mu_sym = sym.symbols(\"hbar mu_H\")\n",
    "# Ei_sym = (mu_sym*e_sym**4)/(2*(hbar_sym*4*sym.pi*eps0_sym)**2)\n",
    "# Ei_sym\n",
    "\n",
    "# # Lambdification and calculate\n",
    "# Ei_lam = sym.lambdify([mu_sym, e_sym, hbar_sym, eps0_sym],Ei_sym)\n",
    "# Ei = Ei_lam(mu, e, hbar, eps0)\n",
    "# print(\"Ei =\", Ei, \"J\") # in J\n",
    "\n"
   ]
  },
  {
   "cell_type": "markdown",
   "id": "9f728352-8c8b-47d9-bf2f-059d99f44e48",
   "metadata": {},
   "source": [
    "### Energy levels\n",
    "\n",
    "<div class=\"exE\">\n",
    "\n",
    "Use a loop to calculate and print energies in eV and in Eh of states $n=1 \\rightarrow n=10$\n",
    "</div>\n",
    "\n",
    "<br>\n",
    "<div class=\"rqT\" title=\"Directive\">\n",
    "    \n",
    "Print the hartree and eV energies with 3 significant figures.\n",
    "Also display them with 5 significant figures. **Comment?**\n",
    "</div>"
   ]
  },
  {
   "cell_type": "code",
   "execution_count": 8,
   "id": "fd3aed75-744f-4f78-b67e-b60aaec4d97a",
   "metadata": {},
   "outputs": [
    {
     "name": "stdout",
     "output_type": "stream",
     "text": [
      "n = 1\n",
      "E1 = -13.6eV = -0.500Ha\n",
      "E1 = -13.598eV = -0.49973Ha\n",
      "n = 2\n",
      "E2 = -3.40eV = -0.125Ha\n",
      "E2 = -3.3996eV = -0.12493Ha\n",
      "n = 3\n",
      "E3 = -1.51eV = -0.0555Ha\n",
      "E3 = -1.5109eV = -0.055525Ha\n",
      "n = 4\n",
      "E4 = -0.850eV = -0.0312Ha\n",
      "E4 = -0.84989eV = -0.031233Ha\n",
      "n = 5\n",
      "E5 = -0.544eV = -0.0200Ha\n",
      "E5 = -0.54393eV = -0.019989Ha\n",
      "n = 6\n",
      "E6 = -0.378eV = -0.0139Ha\n",
      "E6 = -0.37773eV = -0.013881Ha\n",
      "n = 7\n",
      "E7 = -0.278eV = -0.0102Ha\n",
      "E7 = -0.27752eV = -0.010199Ha\n",
      "n = 8\n",
      "E8 = -0.212eV = -0.00781Ha\n",
      "E8 = -0.21247eV = -0.0078082Ha\n",
      "n = 9\n",
      "E9 = -0.168eV = -0.00617Ha\n",
      "E9 = -0.16788eV = -0.0061695Ha\n",
      "n = 10\n",
      "E10 = -0.136eV = -0.00500Ha\n",
      "E10 = -0.13598eV = -0.0049973Ha\n"
     ]
    }
   ],
   "source": [
    "# This time we calculate directly instead of constructing equations\n",
    "Enn = [] # Collections of energies of state n = 1 -> 10 \n",
    "for i in range(10):\n",
    "    print(f\"n = {i+1}\")\n",
    "    En = -Ei/((i+1)**2) # in eV\n",
    "    Enh = En / h2eV  # in Ha\n",
    "    Enn.append(En)\n",
    "    print(f\"E{i+1} = {En:#.3g}eV = {Enh:#.3g}Ha\") # 3 significant digits in eV/Ha\n",
    "    print(f\"E{i+1} = {En:#.5g}eV = {Enh:#.5g}Ha\") # 5 significant digits in eV/Ha\n",
    "# g is a formatting specifer, and # provides the alternate form which does not trim 0\n"
   ]
  },
  {
   "cell_type": "markdown",
   "id": "62d4bd51-59b0-4142-9dd1-5b67abeabc42",
   "metadata": {},
   "source": [
    "### Transition energies\n",
    "\n",
    "<div class=\"exE\">\n",
    "\n",
    "- Calculate all transition energies (in eV) and transition wavelengths (in nm) of the [Lyman, Balmer, Paschen, Brackett, Pfund and Humphreys series](https://en.wikipedia.org/wiki/Hydrogen_spectral_series) in the range $n=1 \\rightarrow n=10$\n",
    "- Calculate as well the limit value for each series, in nm\n",
    "</div>"
   ]
  },
  {
   "cell_type": "code",
   "execution_count": 9,
   "id": "dd49fa99-b5e2-417b-8624-cc1e33a15617",
   "metadata": {},
   "outputs": [
    {
     "name": "stdout",
     "output_type": "stream",
     "text": [
      "Lyman series\n",
      "n = 2 -> 1, transition energy = 10.199eV, wavelength = 121.57nm\n",
      "n = 3 -> 1, transition energy = 12.087eV, wavelength = 102.57nm\n",
      "n = 4 -> 1, transition energy = 12.748eV, wavelength = 97.255nm\n",
      "n = 5 -> 1, transition energy = 13.054eV, wavelength = 94.975nm\n",
      "n = 6 -> 1, transition energy = 13.221eV, wavelength = 93.781nm\n",
      "n = 7 -> 1, transition energy = 13.321eV, wavelength = 93.076nm\n",
      "n = 8 -> 1, transition energy = 13.386eV, wavelength = 92.624nm\n",
      "n = 9 -> 1, transition energy = 13.430eV, wavelength = 92.316nm\n",
      "n = 10 -> 1, transition energy = 13.462eV, wavelength = 92.097nm\n",
      "n -> ∞ -> 1, limit wavelength = 91.176nm\n",
      "Balmer series\n",
      "n = 3 -> 2, transition energy = 1.8887eV, wavelength = 656.47nm\n",
      "n = 4 -> 2, transition energy = 2.5497eV, wavelength = 486.27nm\n",
      "n = 5 -> 2, transition energy = 2.8556eV, wavelength = 434.17nm\n",
      "n = 6 -> 2, transition energy = 3.0218eV, wavelength = 410.29nm\n",
      "n = 7 -> 2, transition energy = 3.1221eV, wavelength = 397.12nm\n",
      "n = 8 -> 2, transition energy = 3.1871eV, wavelength = 389.02nm\n",
      "n = 9 -> 2, transition energy = 3.2317eV, wavelength = 383.65nm\n",
      "n = 10 -> 2, transition energy = 3.2636eV, wavelength = 379.90nm\n",
      "n -> ∞ -> 2, limit wavelength = 364.71nm\n",
      "Paschen series\n",
      "n = 4 -> 3, transition energy = 0.66103eV, wavelength = 1875.6nm\n",
      "n = 5 -> 3, transition energy = 0.96699eV, wavelength = 1282.2nm\n",
      "n = 6 -> 3, transition energy = 1.1332eV, wavelength = 1094.1nm\n",
      "n = 7 -> 3, transition energy = 1.2334eV, wavelength = 1005.2nm\n",
      "n = 8 -> 3, transition energy = 1.2984eV, wavelength = 954.86nm\n",
      "n = 9 -> 3, transition energy = 1.3430eV, wavelength = 923.16nm\n",
      "n = 10 -> 3, transition energy = 1.3749eV, wavelength = 901.74nm\n",
      "n -> ∞ -> 3, limit wavelength = 820.59nm\n",
      "Paschen series\n",
      "n = 5 -> 4, transition energy = 0.30596eV, wavelength = 4052.3nm\n",
      "n = 6 -> 4, transition energy = 0.47216eV, wavelength = 2625.9nm\n",
      "n = 7 -> 4, transition energy = 0.57238eV, wavelength = 2166.1nm\n",
      "n = 8 -> 4, transition energy = 0.63742eV, wavelength = 1945.1nm\n",
      "n = 9 -> 4, transition energy = 0.68201eV, wavelength = 1817.9nm\n",
      "n = 10 -> 4, transition energy = 0.71391eV, wavelength = 1736.7nm\n",
      "n -> ∞ -> 4, limit wavelength = 1458.8nm\n",
      "Pfund series\n",
      "n = 5 -> 5, transition energy = 0.16620eV, wavelength = 7459.9nm\n",
      "n = 6 -> 5, transition energy = 0.26642eV, wavelength = 4653.8nm\n",
      "n = 7 -> 5, transition energy = 0.33146eV, wavelength = 3740.6nm\n",
      "n = 8 -> 5, transition energy = 0.37605eV, wavelength = 3297.0nm\n",
      "n = 9 -> 5, transition energy = 0.40795eV, wavelength = 3039.2nm\n",
      "n -> ∞ -> 5, limit wavelength = 2279.4nm\n",
      "Humphreys series\n",
      "n = 5 -> 6, transition energy = 0.10021eV, wavelength = 12372.nm\n",
      "n = 6 -> 6, transition energy = 0.16526eV, wavelength = 7502.5nm\n",
      "n = 7 -> 6, transition energy = 0.20985eV, wavelength = 5908.2nm\n",
      "n = 8 -> 6, transition energy = 0.24175eV, wavelength = 5128.7nm\n",
      "n -> ∞ -> 6, limit wavelength = 3282.3nm\n"
     ]
    }
   ],
   "source": [
    "# Lyman series\n",
    "# electron from n' -> n=1, n' = 2, 3, ...\n",
    "# E = h\\nu = hc/\\lambda -> \\lambda = hc/E\n",
    "print(\"Lyman series\")\n",
    "E1 = Enn[0] # Energy of n=1\n",
    "for i in range(9):\n",
    "    E_trans = Enn[i+1] - E1\n",
    "    lam_trans = h*c / (E_trans*e)*1e9 # 1m = 1e9nm\n",
    "    print(f\"n = {i+2} -> 1, transition energy = {E_trans:#.5g}eV, wavelength = {lam_trans:#.5g}nm\")\n",
    "E_lim = -E1\n",
    "lam_lim = h*c / (E_lim*e)*1e9 \n",
    "print(f\"n -> ∞ -> 1, limit wavelength = {lam_lim:#.5g}nm\")\n",
    "    \n",
    "\n",
    "# Balmer series\n",
    "\n",
    "print(\"Balmer series\")\n",
    "E2 = Enn[1] # Energy of n=1\n",
    "for i in range(8):\n",
    "    E_trans = Enn[i+2] - E2\n",
    "    lam_trans = h*c / (E_trans*e)*1e9 # 1m = 1e9nm\n",
    "    print(f\"n = {i+3} -> 2, transition energy = {E_trans:#.5g}eV, wavelength = {lam_trans:#.5g}nm\")\n",
    "E_lim = -E2\n",
    "lam_lim = h*c / (E_lim*e)*1e9 \n",
    "print(f\"n -> ∞ -> 2, limit wavelength = {lam_lim:#.5g}nm\")\n",
    "\n",
    "\n",
    "# Paschen series\n",
    "\n",
    "print(\"Paschen series\")\n",
    "E3 = Enn[2] # Energy of n=1\n",
    "for i in range(7):\n",
    "    E_trans = Enn[i+3] - E3\n",
    "    lam_trans = h*c / (E_trans*e)*1e9 # 1m = 1e9nm\n",
    "    print(f\"n = {i+4} -> 3, transition energy = {E_trans:#.5g}eV, wavelength = {lam_trans:#.5g}nm\")\n",
    "E_lim = -E3\n",
    "lam_lim = h*c / (E_lim*e)*1e9 \n",
    "print(f\"n -> ∞ -> 3, limit wavelength = {lam_lim:#.5g}nm\")\n",
    "\n",
    "\n",
    "# Brackett series\n",
    "\n",
    "print(\"Paschen series\")\n",
    "E4 = Enn[3] # Energy of n=1\n",
    "for i in range(6):\n",
    "    E_trans = Enn[i+4] - E4\n",
    "    lam_trans = h*c / (E_trans*e)*1e9 # 1m = 1e9nm\n",
    "    print(f\"n = {i+5} -> 4, transition energy = {E_trans:#.5g}eV, wavelength = {lam_trans:#.5g}nm\")\n",
    "E_lim = -E4\n",
    "lam_lim = h*c / (E_lim*e)*1e9 \n",
    "print(f\"n -> ∞ -> 4, limit wavelength = {lam_lim:#.5g}nm\")\n",
    "\n",
    "\n",
    "# Pfund series\n",
    "\n",
    "print(\"Pfund series\")\n",
    "E5 = Enn[4] # Energy of n=1\n",
    "for i in range(5):\n",
    "    E_trans = Enn[i+5] - E5\n",
    "    lam_trans = h*c / (E_trans*e)*1e9 # 1m = 1e9nm\n",
    "    print(f\"n = {i+5} -> 5, transition energy = {E_trans:#.5g}eV, wavelength = {lam_trans:#.5g}nm\")\n",
    "E_lim = -E5\n",
    "lam_lim = h*c / (E_lim*e)*1e9 \n",
    "print(f\"n -> ∞ -> 5, limit wavelength = {lam_lim:#.5g}nm\")\n",
    "\n",
    "# Humphreys series\n",
    "\n",
    "print(\"Humphreys series\")\n",
    "E6 = Enn[5] # Energy of n=1\n",
    "for i in range(4):\n",
    "    E_trans = Enn[i+6] - E6\n",
    "    lam_trans = h*c / (E_trans*e)*1e9 # 1m = 1e9nm\n",
    "    print(f\"n = {i+5} -> 6, transition energy = {E_trans:#.5g}eV, wavelength = {lam_trans:#.5g}nm\")\n",
    "E_lim = -E6\n",
    "lam_lim = h*c / (E_lim*e)*1e9 \n",
    "print(f\"n -> ∞ -> 6, limit wavelength = {lam_lim:#.5g}nm\")\n",
    "\n",
    "\n",
    "\n"
   ]
  },
  {
   "cell_type": "markdown",
   "id": "2a3f93ba-76aa-4ff3-933a-d89b48590d41",
   "metadata": {},
   "source": [
    "## Wavefunctions\n",
    "\n",
    "<div class=\"rqT\" title=\"Directives\">\n",
    "    \n",
    "From now on, you have to do symbolic algebra with the SymPy library. Use fundamental constants from SciPy, if needed.\n",
    "</div>\n",
    "<br>\n",
    "<div class=\"intro\">\n",
    "\n",
    "The Schrödinger equation allows one to calculate the stationary states and also the time evolution of quantum systems. Its time-independent expression for the hydrogen atom is  $\\hat{H}(r,\\theta,\\varphi)\\psi_{n\\ell m}(r,\\theta,\\varphi)=E_n\\psi_{n\\ell m}(r,\\theta,\\varphi)$, where\n",
    "\n",
    "$$\\hat{H}=-\\frac{\\hbar^{2}}{2\\mu_\\mathrm{H}}\\frac{1}{r^{2}}\\left[\\frac{\\partial}{\\partial r}\\left(r^{2}\\frac{\\partial}{\\partial r}\\right)+\\frac{1}{\\sin\\theta}\\frac{\\partial}{\\partial\\theta}\\left(\\sin\\theta\\frac{\\partial}{\\partial\\theta}\\right)+\\frac{1}{\\sin^{2}\\theta}\\frac{\\partial^{2}}{\\partial\\varphi^{2}}\\right]-\\frac{e^{2}}{4\\pi\\varepsilon_{0}}\\frac{1}{r}$$\n",
    "\n",
    "Since the angular momentum operator in the hamiltonian does not involve the radial variable, *r*, variables can be separated by using a product wavefunction: \n",
    "\n",
    " $$\\psi_{n\\ell m}(r,\\theta,\\varphi)=R_{n\\ell}(r) Y_\\ell^m(\\theta,\\varphi)$$\n",
    "\n",
    "The hydrogen atom wavefunctions,  $\\psi_{n\\ell m}(r,\\theta,\\varphi)$ are called atomic orbitals. An atomic orbital is a function that describes one electron in an atom. An important result is that Schrödinger’s approach requires three quantum numbers (*n*, *ℓ*, and *m*) to specify a wavefunction for the electron. \n",
    "\n",
    "Exact analytical answers are available for the nonrelativistic hydrogen atom. They are given in the `Physics` module of the SymPy library. The documentation on `Psi_nlm` and `R_nl` is given [here](https://docs.sympy.org/latest/modules/physics/hydrogen.html), whereas spherical harmonics can be called with `Ynm` ([see documentation](https://docs.sympy.org/latest/modules/functions/special.html#sympy.functions.special.spherical_harmonics.Ynm))\n",
    "\n",
    "</div>\n",
    "<br>\n",
    "<div class=\"introT\" title=\"Spherical coordinates system\">\n",
    "\n",
    "In mathematics, a [spherical coordinate system](https://en.wikipedia.org/wiki/Spherical_coordinate_system) is a coordinate system for three-dimensional space where the position of a point is specified by three numbers: $\\rho$, $\\theta$, $\\varphi$\n",
    "\n",
    "$x = \\rho\\sin\\varphi\\cos\\theta$\n",
    "\n",
    "$y = \\rho\\sin\\varphi\\sin\\theta$\n",
    "\n",
    "$z = \\rho\\cos\\varphi$\n",
    "\n",
    "where $\\rho = \\sqrt{x^2+y^2+z^2}$\n",
    " \n",
    " A function $f(r, θ, φ)$ can be integrated over every point in $\\mathbf{R}^3$ by the triple integral:\n",
    "\n",
    " $$\\int_{0}^{\\pi}\\int_{0}^{2\\pi}\\int_{0}^{\\infty}f^{*}(r,\\theta,\\varphi)f(r,\\theta,\\varphi)dv$$\n",
    "\n",
    "with:\n",
    "$dv=r^{2}dr\\sin\\theta d\\theta d\\varphi$\n",
    "\n",
    "$r:0\\rightarrow\\infty$\n",
    "\n",
    "$\\theta:0\\rightarrow\\pi$\n",
    "\n",
    "$\\varphi:0\\rightarrow2\\pi$\n",
    "\n",
    "</div>\n",
    "<br>\n",
    "<div class=\"introT\" title=\"Useful relationships\">\n",
    "\n",
    "- Euler's formula\n",
    "\n",
    "$$\\cos(x)=\\frac{\\mathrm{e}^{ix}+\\mathrm{e}^{-ix}}{2}$$\n",
    "$$\\sin(x)=\\frac{\\mathrm{e}{}^{ix}-\\mathrm{e}^{-ix}}{2i}$$\n",
    "\n",
    "- In quantum mechanics, physical quantities, $A$, are represented by operators, $\\hat{A}$. Some corresponding operators to physical observables are\n",
    "\n",
    "|name|observable|operator|operation|\n",
    "|------|------------|----------|----------|\n",
    "|position|$r$|$\\hat{r}$|multiply by r|\n",
    "|momentum|$p$|$\\hat{p}$|$-i\\hbar\\nabla$\n",
    "|total energy|$E$|$\\hat{H}$|dependent of the system\n",
    "\n",
    "\n",
    "- In quantum theory, an experimental setup is described by the observable $A$ to be measured, and by the state $\\psi$ of the system. The expectation value of $A$ in the $\\psi$ state is related to its operator counterpart, $\\hat{A}$. It is denoted as $<A>_{\\psi}$ , and it is calculated as\n",
    "\n",
    " $$<A>_{\\psi}=\\frac{\\left\\langle \\psi|\\hat{A}|\\psi\\right\\rangle }{\\left\\langle \\psi|\\psi\\right\\rangle }$$\n",
    "\n",
    "which, if $\\psi$ is normalized, becomes\n",
    "\n",
    " $$<A>_{\\psi}=\\left\\langle \\psi|\\hat{A}|\\psi\\right\\rangle =\\iiint\\psi^{*}(\\hat{A}\\psi)d\\mathcal{v}$$\n",
    "\n",
    "- Normalization condition: In Born's statistical interpretation in non-relativistic quantum mechanics, the squared modulus of a one-electron wave function, $\\psi(\\mathbf{r})^2$, is a real number interpreted as the probability density of measuring a particle as being at a given place $\\mathbf{r}$. The integral of this quantity, over all the system's degrees of freedom, must be 1 in accordance with the probability interpretation. This general requirement that a wave function must satisfy is called the normalization condition:\n",
    "\n",
    "$$\\left\\langle \\psi|\\psi\\right\\rangle =\\iiint\\psi^{*}\\psi d\\mathcal{v}=1$$\n",
    "</div>"
   ]
  },
  {
   "cell_type": "markdown",
   "id": "71dcb77c-ddf1-430f-950e-d3502f831d8d",
   "metadata": {
    "tags": []
   },
   "source": [
    "### Are these wavefunctions actual eigenfunctions of the hamiltonian?\n",
    "\n",
    "#### The hamiltonian operator in atomic units"
   ]
  },
  {
   "cell_type": "markdown",
   "id": "dd5d6402-97d7-474d-b989-ae7da70161dc",
   "metadata": {},
   "source": [
    "<div class=\"intro\">\n",
    "\n",
    "Let's now write the Hamiltonian operator in atomic units. The Hartree atomic units are a system of natural units of measurement which is especially convenient for calculations in atomic physics and related scientific fields, such as computational chemistry and atomic spectroscopy. \n",
    "By definition, each of the following four fundamental physical constants is expressed as the numeric value 1:\n",
    "- reduced Planck constant, $\\hbar \\rightarrow 1$\n",
    "- electron rest mass, $m_e\\rightarrow1$\n",
    "- elementary charge, $e\\rightarrow1$\n",
    "- Coulomb constant, $k_e\\rightarrow1$\n",
    "\n",
    "The hamiltonian becomes:\n",
    "\n",
    "$$\\hat{H}=-\\frac{1}{2\\mu_{\\mathrm{H}/m_{e}}r^{2}}\\left[\\frac{\\partial}{\\partial r}\\left(r^{2}\\frac{\\partial}{\\partial r}\\right)+\\frac{1}{\\sin\\theta}\\frac{\\partial}{\\partial\\theta}\\left(\\sin\\theta\\frac{\\partial}{\\partial\\theta}\\right)+\\frac{1}{\\sin^{2}\\theta}\\frac{\\partial^{2}}{\\partial\\varphi^{2}}\\right]-\\frac{1}{r}$$\n",
    "\n",
    "where $\\mu_{\\mathrm{H}/m_{e}}$ is the reduced mass of the hydrogen atom in atomic units, $\\mu_{\\mathrm{H}/m_{e}}=\\mu_\\mathrm{H}/m_{e}\\approx0.99...$\n",
    "\n",
    "</div>\n",
    "<br>\n",
    "<div class=\"rqE\">\n",
    "\n",
    "The reduced mass in atomic units is not exactly 1. The following expression for the hamiltonian, often given in textbooks, turns out to be an approximation \n",
    "\n",
    "$$\\hat{H}=-\\frac{1}{2}\\nabla^{2}-\\frac{1}{r}$$\n",
    "</div>"
   ]
  },
  {
   "cell_type": "markdown",
   "id": "6af7da4a-4ef9-4670-ad44-76d300276897",
   "metadata": {},
   "source": [
    "<div class=\"exE\">\n",
    "    \n",
    "- Define a `nabla2(f)` function, that will take any function $f(r,\\theta,\\varphi)$ as an argument and that will return the laplacian of $f$, $\\nabla^{2}f(r,\\theta,\\varphi)$\n",
    "- Then define a `H(f)` function, that will return $\\hat{H}f(r,\\theta,\\varphi)$, in atomic units, as a function of symbols &mu;, r, &theta;, &phi;\n",
    "- Write a `norm(f)` function that will return the norm of $f(r,\\theta,\\varphi)$\n",
    "- You can then define a `En(f(n,l,m,r,theta,phi))` function, that will take any wavefunction of the hydrogen atom $\\psi_{nlm}(r,\\theta,\\varphi)$ as an argument and that will hopefully return a float number, *i.e*. the associated eigenvalue to $\\psi$\n",
    "- Check that `En(psi(1,0,0,r,theta,phi))` returns -0.49972769...\n",
    "</div>"
   ]
  },
  {
   "cell_type": "code",
   "execution_count": 10,
   "id": "150142d3-2161-466f-9cc1-35e0c805a688",
   "metadata": {},
   "outputs": [
    {
     "data": {
      "text/latex": [
       "$\\displaystyle -0.499727691489258$"
      ],
      "text/plain": [
       "-0.499727691489258"
      ]
     },
     "execution_count": 10,
     "metadata": {},
     "output_type": "execute_result"
    }
   ],
   "source": [
    "from sympy import oo, pi, sin, sqrt\n",
    "from sympy.physics.hydrogen import Psi_nlm\n",
    "\n",
    "\n",
    "# Define nabla2(f)\n",
    "# To symplify the expression, now we use theta for symbol, and _theta for value\n",
    "\n",
    "# Construct f and variables\n",
    "r, theta, phi= sym.symbols(\"r, theta, varphi\")\n",
    "f = sym.Function(\"f\")(r, theta, phi)\n",
    "\n",
    "# Construct nabla2(f)\n",
    "def nabla2(f):\n",
    "    \n",
    "    # Calculate partial derivative and 2nd order partial derivative\n",
    "    r_der = sym.diff(f,r)\n",
    "    theta_der = sym.diff(f,theta)\n",
    "    phi_der = sym.diff(f,phi)\n",
    "    r_der2 = sym.diff((r**2*r_der),r)\n",
    "    theta_der2 = sym.diff((sin(theta)*theta_der),theta)\n",
    "    phi_der2 = sym.diff(phi_der,phi)\n",
    "    return 1/r**2 * (r_der2 + 1/sin(theta)*theta_der2 + 1/sin(theta)**2 * phi_der2)\n",
    "\n",
    "# Define H(f)\n",
    "def H(f):\n",
    "    return -1/(2*mu/me)*nabla2(f) - 1/r*f\n",
    "\n",
    "# Define norm(f)\n",
    "# Suppose <f|f*> = N, then normlized f' should be f/sqrt(<f|f*>)\n",
    "\n",
    "def norm(f):\n",
    "    f_int = sym.integrate(f*sym.conjugate(f)*r**2*sin(theta), (r,0,+oo), (theta,0,pi), (phi,0,2*pi))\n",
    "    return f/sqrt(f_int)\n",
    "\n",
    "# Define En\n",
    "def En(f):\n",
    "    f = norm(f) # Normalization\n",
    "    return sym.integrate(sym.conjugate(f)*H(f)*r**2*sin(theta),(r,0,+oo), (theta,0,pi), (phi,0,2*pi)).evalf() # <f*|H|f> = <f*|Hf>\n",
    "\n",
    "# test\n",
    "psi = Psi_nlm(1,0,0,r,phi,theta)\n",
    "En(psi)\n",
    "\n",
    "# Success!!\n"
   ]
  },
  {
   "cell_type": "markdown",
   "id": "45034f54-7d8d-4762-95fc-70b06d60160c",
   "metadata": {},
   "source": [
    "#### Lowest wavefunctions and their associated energy"
   ]
  },
  {
   "cell_type": "markdown",
   "id": "f221ea4a-6875-463b-996c-035fb8c8a983",
   "metadata": {},
   "source": [
    "<div class=\"exE\">\n",
    "    \n",
    "Print all wavefunctions up to the 4th shell inclusive, as well as their energies. Use nested loops in order to print such output: \n",
    "\n",
    "<p style=\"text-align:center;\"><img width=\"200\" src = \"./MiscImages/ListAOs-HydrogenAtom.png\"/></p>\n",
    "</div>"
   ]
  },
  {
   "cell_type": "code",
   "execution_count": 11,
   "id": "68e4e805-dde4-4f0f-a539-4d759e9ed2eb",
   "metadata": {},
   "outputs": [
    {
     "name": "stdout",
     "output_type": "stream",
     "text": [
      "\u001b[1mShell 1\u001b[0m\n",
      "Subshell 1s. E = -13.598 eV\n",
      "1 0 0\n"
     ]
    },
    {
     "data": {
      "text/latex": [
       "$\\displaystyle \\frac{e^{- r}}{\\sqrt{\\pi}}$"
      ],
      "text/plain": [
       "exp(-r)/sqrt(pi)"
      ]
     },
     "execution_count": 11,
     "metadata": {},
     "output_type": "execute_result"
    },
    {
     "name": "stdout",
     "output_type": "stream",
     "text": [
      "\u001b[1mShell 2\u001b[0m\n",
      "Subshell 2s. E = -3.400 eV\n",
      "2 0 0\n"
     ]
    },
    {
     "data": {
      "text/latex": [
       "$\\displaystyle \\frac{\\sqrt{2} \\left(2 - r\\right) e^{- \\frac{r}{2}}}{8 \\sqrt{\\pi}}$"
      ],
      "text/plain": [
       "sqrt(2)*(2 - r)*exp(-r/2)/(8*sqrt(pi))"
      ]
     },
     "execution_count": 11,
     "metadata": {},
     "output_type": "execute_result"
    },
    {
     "name": "stdout",
     "output_type": "stream",
     "text": [
      "Subshell 2p. E = -3.400 eV\n",
      "2 1 -1\n"
     ]
    },
    {
     "data": {
      "text/latex": [
       "$\\displaystyle \\frac{r e^{- \\frac{r}{2}} e^{- i \\varphi} \\sin{\\left(\\theta \\right)}}{8 \\sqrt{\\pi}}$"
      ],
      "text/plain": [
       "r*exp(-r/2)*exp(-I*varphi)*sin(theta)/(8*sqrt(pi))"
      ]
     },
     "execution_count": 11,
     "metadata": {},
     "output_type": "execute_result"
    },
    {
     "name": "stdout",
     "output_type": "stream",
     "text": [
      "2 1 0\n"
     ]
    },
    {
     "data": {
      "text/latex": [
       "$\\displaystyle \\frac{\\sqrt{2} r e^{- \\frac{r}{2}} \\cos{\\left(\\theta \\right)}}{8 \\sqrt{\\pi}}$"
      ],
      "text/plain": [
       "sqrt(2)*r*exp(-r/2)*cos(theta)/(8*sqrt(pi))"
      ]
     },
     "execution_count": 11,
     "metadata": {},
     "output_type": "execute_result"
    },
    {
     "name": "stdout",
     "output_type": "stream",
     "text": [
      "2 1 1\n"
     ]
    },
    {
     "data": {
      "text/latex": [
       "$\\displaystyle - \\frac{r e^{- \\frac{r}{2}} e^{i \\varphi} \\sin{\\left(\\theta \\right)}}{8 \\sqrt{\\pi}}$"
      ],
      "text/plain": [
       "-r*exp(-r/2)*exp(I*varphi)*sin(theta)/(8*sqrt(pi))"
      ]
     },
     "execution_count": 11,
     "metadata": {},
     "output_type": "execute_result"
    },
    {
     "name": "stdout",
     "output_type": "stream",
     "text": [
      "\u001b[1mShell 3\u001b[0m\n",
      "Subshell 3s. E = -1.511 eV\n",
      "3 0 0\n"
     ]
    },
    {
     "data": {
      "text/latex": [
       "$\\displaystyle \\frac{\\sqrt{3} \\left(\\frac{2 r^{2}}{9} - 2 r + 3\\right) e^{- \\frac{r}{3}}}{27 \\sqrt{\\pi}}$"
      ],
      "text/plain": [
       "sqrt(3)*(2*r**2/9 - 2*r + 3)*exp(-r/3)/(27*sqrt(pi))"
      ]
     },
     "execution_count": 11,
     "metadata": {},
     "output_type": "execute_result"
    },
    {
     "name": "stdout",
     "output_type": "stream",
     "text": [
      "Subshell 3p. E = -1.511 eV\n",
      "3 1 -1\n"
     ]
    },
    {
     "data": {
      "text/latex": [
       "$\\displaystyle \\frac{r \\left(4 - \\frac{2 r}{3}\\right) e^{- \\frac{r}{3}} e^{- i \\varphi} \\sin{\\left(\\theta \\right)}}{54 \\sqrt{\\pi}}$"
      ],
      "text/plain": [
       "r*(4 - 2*r/3)*exp(-r/3)*exp(-I*varphi)*sin(theta)/(54*sqrt(pi))"
      ]
     },
     "execution_count": 11,
     "metadata": {},
     "output_type": "execute_result"
    },
    {
     "name": "stdout",
     "output_type": "stream",
     "text": [
      "3 1 0\n"
     ]
    },
    {
     "data": {
      "text/latex": [
       "$\\displaystyle \\frac{\\sqrt{2} r \\left(4 - \\frac{2 r}{3}\\right) e^{- \\frac{r}{3}} \\cos{\\left(\\theta \\right)}}{54 \\sqrt{\\pi}}$"
      ],
      "text/plain": [
       "sqrt(2)*r*(4 - 2*r/3)*exp(-r/3)*cos(theta)/(54*sqrt(pi))"
      ]
     },
     "execution_count": 11,
     "metadata": {},
     "output_type": "execute_result"
    },
    {
     "name": "stdout",
     "output_type": "stream",
     "text": [
      "3 1 1\n"
     ]
    },
    {
     "data": {
      "text/latex": [
       "$\\displaystyle - \\frac{r \\left(4 - \\frac{2 r}{3}\\right) e^{- \\frac{r}{3}} e^{i \\varphi} \\sin{\\left(\\theta \\right)}}{54 \\sqrt{\\pi}}$"
      ],
      "text/plain": [
       "-r*(4 - 2*r/3)*exp(-r/3)*exp(I*varphi)*sin(theta)/(54*sqrt(pi))"
      ]
     },
     "execution_count": 11,
     "metadata": {},
     "output_type": "execute_result"
    },
    {
     "name": "stdout",
     "output_type": "stream",
     "text": [
      "Subshell 3d. E = -1.511 eV\n",
      "3 2 -2\n"
     ]
    },
    {
     "data": {
      "text/latex": [
       "$\\displaystyle \\frac{2 \\sqrt{30} r^{2} \\left(- \\frac{\\sqrt{30} e^{- 2 i \\varphi} \\cos^{2}{\\left(\\theta \\right)}}{8 \\sqrt{\\pi}} + \\frac{\\sqrt{30} e^{- 2 i \\varphi}}{8 \\sqrt{\\pi}}\\right) e^{- \\frac{r}{3}}}{1215}$"
      ],
      "text/plain": [
       "2*sqrt(30)*r**2*(-sqrt(30)*exp(-2*I*varphi)*cos(theta)**2/(8*sqrt(pi)) + sqrt(30)*exp(-2*I*varphi)/(8*sqrt(pi)))*exp(-r/3)/1215"
      ]
     },
     "execution_count": 11,
     "metadata": {},
     "output_type": "execute_result"
    },
    {
     "name": "stdout",
     "output_type": "stream",
     "text": [
      "3 2 -1\n"
     ]
    },
    {
     "data": {
      "text/latex": [
       "$\\displaystyle \\frac{r^{2} e^{- \\frac{r}{3}} e^{- i \\varphi} \\sin{\\left(\\theta \\right)} \\cos{\\left(\\theta \\right)}}{81 \\sqrt{\\pi}}$"
      ],
      "text/plain": [
       "r**2*exp(-r/3)*exp(-I*varphi)*sin(theta)*cos(theta)/(81*sqrt(pi))"
      ]
     },
     "execution_count": 11,
     "metadata": {},
     "output_type": "execute_result"
    },
    {
     "name": "stdout",
     "output_type": "stream",
     "text": [
      "3 2 0\n"
     ]
    },
    {
     "data": {
      "text/latex": [
       "$\\displaystyle \\frac{2 \\sqrt{30} r^{2} \\left(\\frac{3 \\sqrt{5} \\cos^{2}{\\left(\\theta \\right)}}{4 \\sqrt{\\pi}} - \\frac{\\sqrt{5}}{4 \\sqrt{\\pi}}\\right) e^{- \\frac{r}{3}}}{1215}$"
      ],
      "text/plain": [
       "2*sqrt(30)*r**2*(3*sqrt(5)*cos(theta)**2/(4*sqrt(pi)) - sqrt(5)/(4*sqrt(pi)))*exp(-r/3)/1215"
      ]
     },
     "execution_count": 11,
     "metadata": {},
     "output_type": "execute_result"
    },
    {
     "name": "stdout",
     "output_type": "stream",
     "text": [
      "3 2 1\n"
     ]
    },
    {
     "data": {
      "text/latex": [
       "$\\displaystyle - \\frac{r^{2} e^{- \\frac{r}{3}} e^{i \\varphi} \\sin{\\left(\\theta \\right)} \\cos{\\left(\\theta \\right)}}{81 \\sqrt{\\pi}}$"
      ],
      "text/plain": [
       "-r**2*exp(-r/3)*exp(I*varphi)*sin(theta)*cos(theta)/(81*sqrt(pi))"
      ]
     },
     "execution_count": 11,
     "metadata": {},
     "output_type": "execute_result"
    },
    {
     "name": "stdout",
     "output_type": "stream",
     "text": [
      "3 2 2\n"
     ]
    },
    {
     "data": {
      "text/latex": [
       "$\\displaystyle \\frac{2 \\sqrt{30} r^{2} \\left(- \\frac{\\sqrt{30} e^{2 i \\varphi} \\cos^{2}{\\left(\\theta \\right)}}{8 \\sqrt{\\pi}} + \\frac{\\sqrt{30} e^{2 i \\varphi}}{8 \\sqrt{\\pi}}\\right) e^{- \\frac{r}{3}}}{1215}$"
      ],
      "text/plain": [
       "2*sqrt(30)*r**2*(-sqrt(30)*exp(2*I*varphi)*cos(theta)**2/(8*sqrt(pi)) + sqrt(30)*exp(2*I*varphi)/(8*sqrt(pi)))*exp(-r/3)/1215"
      ]
     },
     "execution_count": 11,
     "metadata": {},
     "output_type": "execute_result"
    },
    {
     "name": "stdout",
     "output_type": "stream",
     "text": [
      "\u001b[1mShell 4\u001b[0m\n",
      "Subshell 4s. E = -0.850 eV\n",
      "4 0 0\n"
     ]
    },
    {
     "data": {
      "text/latex": [
       "$\\displaystyle \\frac{\\left(- \\frac{r^{3}}{768} + \\frac{r^{2}}{32} - \\frac{3 r}{16} + \\frac{1}{4}\\right) e^{- \\frac{r}{4}}}{2 \\sqrt{\\pi}}$"
      ],
      "text/plain": [
       "(-r**3/768 + r**2/32 - 3*r/16 + 1/4)*exp(-r/4)/(2*sqrt(pi))"
      ]
     },
     "execution_count": 11,
     "metadata": {},
     "output_type": "execute_result"
    },
    {
     "name": "stdout",
     "output_type": "stream",
     "text": [
      "Subshell 4p. E = -0.850 eV\n",
      "4 1 -1\n"
     ]
    },
    {
     "data": {
      "text/latex": [
       "$\\displaystyle \\frac{\\sqrt{10} r \\left(\\frac{r^{2}}{8} - \\frac{5 r}{2} + 10\\right) e^{- \\frac{r}{4}} e^{- i \\varphi} \\sin{\\left(\\theta \\right)}}{640 \\sqrt{\\pi}}$"
      ],
      "text/plain": [
       "sqrt(10)*r*(r**2/8 - 5*r/2 + 10)*exp(-r/4)*exp(-I*varphi)*sin(theta)/(640*sqrt(pi))"
      ]
     },
     "execution_count": 11,
     "metadata": {},
     "output_type": "execute_result"
    },
    {
     "name": "stdout",
     "output_type": "stream",
     "text": [
      "4 1 0\n"
     ]
    },
    {
     "data": {
      "text/latex": [
       "$\\displaystyle \\frac{\\sqrt{5} r \\left(\\frac{r^{2}}{8} - \\frac{5 r}{2} + 10\\right) e^{- \\frac{r}{4}} \\cos{\\left(\\theta \\right)}}{320 \\sqrt{\\pi}}$"
      ],
      "text/plain": [
       "sqrt(5)*r*(r**2/8 - 5*r/2 + 10)*exp(-r/4)*cos(theta)/(320*sqrt(pi))"
      ]
     },
     "execution_count": 11,
     "metadata": {},
     "output_type": "execute_result"
    },
    {
     "name": "stdout",
     "output_type": "stream",
     "text": [
      "4 1 1\n"
     ]
    },
    {
     "data": {
      "text/latex": [
       "$\\displaystyle - \\frac{\\sqrt{10} r \\left(\\frac{r^{2}}{8} - \\frac{5 r}{2} + 10\\right) e^{- \\frac{r}{4}} e^{i \\varphi} \\sin{\\left(\\theta \\right)}}{640 \\sqrt{\\pi}}$"
      ],
      "text/plain": [
       "-sqrt(10)*r*(r**2/8 - 5*r/2 + 10)*exp(-r/4)*exp(I*varphi)*sin(theta)/(640*sqrt(pi))"
      ]
     },
     "execution_count": 11,
     "metadata": {},
     "output_type": "execute_result"
    },
    {
     "name": "stdout",
     "output_type": "stream",
     "text": [
      "Subshell 4d. E = -0.850 eV\n",
      "4 2 -2\n"
     ]
    },
    {
     "data": {
      "text/latex": [
       "$\\displaystyle \\frac{\\sqrt{5} r^{2} \\left(6 - \\frac{r}{2}\\right) \\left(- \\frac{\\sqrt{30} e^{- 2 i \\varphi} \\cos^{2}{\\left(\\theta \\right)}}{8 \\sqrt{\\pi}} + \\frac{\\sqrt{30} e^{- 2 i \\varphi}}{8 \\sqrt{\\pi}}\\right) e^{- \\frac{r}{4}}}{1920}$"
      ],
      "text/plain": [
       "sqrt(5)*r**2*(6 - r/2)*(-sqrt(30)*exp(-2*I*varphi)*cos(theta)**2/(8*sqrt(pi)) + sqrt(30)*exp(-2*I*varphi)/(8*sqrt(pi)))*exp(-r/4)/1920"
      ]
     },
     "execution_count": 11,
     "metadata": {},
     "output_type": "execute_result"
    },
    {
     "name": "stdout",
     "output_type": "stream",
     "text": [
      "4 2 -1\n"
     ]
    },
    {
     "data": {
      "text/latex": [
       "$\\displaystyle \\frac{\\sqrt{6} r^{2} \\left(6 - \\frac{r}{2}\\right) e^{- \\frac{r}{4}} e^{- i \\varphi} \\sin{\\left(\\theta \\right)} \\cos{\\left(\\theta \\right)}}{1536 \\sqrt{\\pi}}$"
      ],
      "text/plain": [
       "sqrt(6)*r**2*(6 - r/2)*exp(-r/4)*exp(-I*varphi)*sin(theta)*cos(theta)/(1536*sqrt(pi))"
      ]
     },
     "execution_count": 11,
     "metadata": {},
     "output_type": "execute_result"
    },
    {
     "name": "stdout",
     "output_type": "stream",
     "text": [
      "4 2 0\n"
     ]
    },
    {
     "data": {
      "text/latex": [
       "$\\displaystyle \\frac{\\sqrt{5} r^{2} \\left(6 - \\frac{r}{2}\\right) \\left(\\frac{3 \\sqrt{5} \\cos^{2}{\\left(\\theta \\right)}}{4 \\sqrt{\\pi}} - \\frac{\\sqrt{5}}{4 \\sqrt{\\pi}}\\right) e^{- \\frac{r}{4}}}{1920}$"
      ],
      "text/plain": [
       "sqrt(5)*r**2*(6 - r/2)*(3*sqrt(5)*cos(theta)**2/(4*sqrt(pi)) - sqrt(5)/(4*sqrt(pi)))*exp(-r/4)/1920"
      ]
     },
     "execution_count": 11,
     "metadata": {},
     "output_type": "execute_result"
    },
    {
     "name": "stdout",
     "output_type": "stream",
     "text": [
      "4 2 1\n"
     ]
    },
    {
     "data": {
      "text/latex": [
       "$\\displaystyle - \\frac{\\sqrt{6} r^{2} \\left(6 - \\frac{r}{2}\\right) e^{- \\frac{r}{4}} e^{i \\varphi} \\sin{\\left(\\theta \\right)} \\cos{\\left(\\theta \\right)}}{1536 \\sqrt{\\pi}}$"
      ],
      "text/plain": [
       "-sqrt(6)*r**2*(6 - r/2)*exp(-r/4)*exp(I*varphi)*sin(theta)*cos(theta)/(1536*sqrt(pi))"
      ]
     },
     "execution_count": 11,
     "metadata": {},
     "output_type": "execute_result"
    },
    {
     "name": "stdout",
     "output_type": "stream",
     "text": [
      "4 2 2\n"
     ]
    },
    {
     "data": {
      "text/latex": [
       "$\\displaystyle \\frac{\\sqrt{5} r^{2} \\left(6 - \\frac{r}{2}\\right) \\left(- \\frac{\\sqrt{30} e^{2 i \\varphi} \\cos^{2}{\\left(\\theta \\right)}}{8 \\sqrt{\\pi}} + \\frac{\\sqrt{30} e^{2 i \\varphi}}{8 \\sqrt{\\pi}}\\right) e^{- \\frac{r}{4}}}{1920}$"
      ],
      "text/plain": [
       "sqrt(5)*r**2*(6 - r/2)*(-sqrt(30)*exp(2*I*varphi)*cos(theta)**2/(8*sqrt(pi)) + sqrt(30)*exp(2*I*varphi)/(8*sqrt(pi)))*exp(-r/4)/1920"
      ]
     },
     "execution_count": 11,
     "metadata": {},
     "output_type": "execute_result"
    },
    {
     "name": "stdout",
     "output_type": "stream",
     "text": [
      "Subshell 4f. E = -0.850 eV\n",
      "4 3 -3\n"
     ]
    },
    {
     "data": {
      "text/latex": [
       "$\\displaystyle \\frac{r^{3} e^{- \\frac{r}{4}} e^{- 3 i \\varphi} \\sin^{3}{\\left(\\theta \\right)}}{6144 \\sqrt{\\pi}}$"
      ],
      "text/plain": [
       "r**3*exp(-r/4)*exp(-3*I*varphi)*sin(theta)**3/(6144*sqrt(pi))"
      ]
     },
     "execution_count": 11,
     "metadata": {},
     "output_type": "execute_result"
    },
    {
     "name": "stdout",
     "output_type": "stream",
     "text": [
      "4 3 -2\n"
     ]
    },
    {
     "data": {
      "text/latex": [
       "$\\displaystyle \\frac{\\sqrt{35} r^{3} \\left(- \\frac{\\sqrt{210} e^{- 2 i \\varphi} \\cos^{3}{\\left(\\theta \\right)}}{8 \\sqrt{\\pi}} + \\frac{\\sqrt{210} e^{- 2 i \\varphi} \\cos{\\left(\\theta \\right)}}{8 \\sqrt{\\pi}}\\right) e^{- \\frac{r}{4}}}{26880}$"
      ],
      "text/plain": [
       "sqrt(35)*r**3*(-sqrt(210)*exp(-2*I*varphi)*cos(theta)**3/(8*sqrt(pi)) + sqrt(210)*exp(-2*I*varphi)*cos(theta)/(8*sqrt(pi)))*exp(-r/4)/26880"
      ]
     },
     "execution_count": 11,
     "metadata": {},
     "output_type": "execute_result"
    },
    {
     "name": "stdout",
     "output_type": "stream",
     "text": [
      "4 3 -1\n"
     ]
    },
    {
     "data": {
      "text/latex": [
       "$\\displaystyle \\frac{\\sqrt{35} r^{3} \\left(\\frac{5 \\sqrt{21} e^{- i \\varphi} \\sin{\\left(\\theta \\right)} \\cos^{2}{\\left(\\theta \\right)}}{8 \\sqrt{\\pi}} - \\frac{\\sqrt{21} e^{- i \\varphi} \\sin{\\left(\\theta \\right)}}{8 \\sqrt{\\pi}}\\right) e^{- \\frac{r}{4}}}{26880}$"
      ],
      "text/plain": [
       "sqrt(35)*r**3*(5*sqrt(21)*exp(-I*varphi)*sin(theta)*cos(theta)**2/(8*sqrt(pi)) - sqrt(21)*exp(-I*varphi)*sin(theta)/(8*sqrt(pi)))*exp(-r/4)/26880"
      ]
     },
     "execution_count": 11,
     "metadata": {},
     "output_type": "execute_result"
    },
    {
     "name": "stdout",
     "output_type": "stream",
     "text": [
      "4 3 0\n"
     ]
    },
    {
     "data": {
      "text/latex": [
       "$\\displaystyle \\frac{\\sqrt{35} r^{3} \\left(\\frac{5 \\sqrt{7} \\cos^{3}{\\left(\\theta \\right)}}{4 \\sqrt{\\pi}} - \\frac{3 \\sqrt{7} \\cos{\\left(\\theta \\right)}}{4 \\sqrt{\\pi}}\\right) e^{- \\frac{r}{4}}}{26880}$"
      ],
      "text/plain": [
       "sqrt(35)*r**3*(5*sqrt(7)*cos(theta)**3/(4*sqrt(pi)) - 3*sqrt(7)*cos(theta)/(4*sqrt(pi)))*exp(-r/4)/26880"
      ]
     },
     "execution_count": 11,
     "metadata": {},
     "output_type": "execute_result"
    },
    {
     "name": "stdout",
     "output_type": "stream",
     "text": [
      "4 3 1\n"
     ]
    },
    {
     "data": {
      "text/latex": [
       "$\\displaystyle \\frac{\\sqrt{35} r^{3} \\left(- \\frac{5 \\sqrt{21} e^{i \\varphi} \\sin{\\left(\\theta \\right)} \\cos^{2}{\\left(\\theta \\right)}}{8 \\sqrt{\\pi}} + \\frac{\\sqrt{21} e^{i \\varphi} \\sin{\\left(\\theta \\right)}}{8 \\sqrt{\\pi}}\\right) e^{- \\frac{r}{4}}}{26880}$"
      ],
      "text/plain": [
       "sqrt(35)*r**3*(-5*sqrt(21)*exp(I*varphi)*sin(theta)*cos(theta)**2/(8*sqrt(pi)) + sqrt(21)*exp(I*varphi)*sin(theta)/(8*sqrt(pi)))*exp(-r/4)/26880"
      ]
     },
     "execution_count": 11,
     "metadata": {},
     "output_type": "execute_result"
    },
    {
     "name": "stdout",
     "output_type": "stream",
     "text": [
      "4 3 2\n"
     ]
    },
    {
     "data": {
      "text/latex": [
       "$\\displaystyle \\frac{\\sqrt{35} r^{3} \\left(- \\frac{\\sqrt{210} e^{2 i \\varphi} \\cos^{3}{\\left(\\theta \\right)}}{8 \\sqrt{\\pi}} + \\frac{\\sqrt{210} e^{2 i \\varphi} \\cos{\\left(\\theta \\right)}}{8 \\sqrt{\\pi}}\\right) e^{- \\frac{r}{4}}}{26880}$"
      ],
      "text/plain": [
       "sqrt(35)*r**3*(-sqrt(210)*exp(2*I*varphi)*cos(theta)**3/(8*sqrt(pi)) + sqrt(210)*exp(2*I*varphi)*cos(theta)/(8*sqrt(pi)))*exp(-r/4)/26880"
      ]
     },
     "execution_count": 11,
     "metadata": {},
     "output_type": "execute_result"
    },
    {
     "name": "stdout",
     "output_type": "stream",
     "text": [
      "4 3 3\n"
     ]
    },
    {
     "data": {
      "text/latex": [
       "$\\displaystyle - \\frac{r^{3} e^{- \\frac{r}{4}} e^{3 i \\varphi} \\sin^{3}{\\left(\\theta \\right)}}{6144 \\sqrt{\\pi}}$"
      ],
      "text/plain": [
       "-r**3*exp(-r/4)*exp(3*I*varphi)*sin(theta)**3/(6144*sqrt(pi))"
      ]
     },
     "execution_count": 11,
     "metadata": {},
     "output_type": "execute_result"
    }
   ],
   "source": [
    "# Define a dict to use l to index spdf\n",
    "shl_sym = {0:\"s\", 1:\"p\", 2:\"d\", 3:\"f\"}\n",
    "# A switch makes sure the print of Energy only works once in a loop\n",
    "switch = True\n",
    "\n",
    "for n in range(1,5):\n",
    "    print(f\"{hl.BOLD}Shell {n}{hl.OFF}\")\n",
    "    for l in range(0,n):\n",
    "        switch = True\n",
    "        for m in range(-l,l+1):\n",
    "            psi = Psi_nlm(n,l,m,r,phi,theta)\n",
    "            if switch: \n",
    "                E = En(psi)*h2eV\n",
    "                print(f\"Subshell {n}{shl_sym[l]}. E = {E:.3f} eV\")\n",
    "                switch = False\n",
    "            print(f\"{n} {l} {m}\")\n",
    "            psi\n"
   ]
  },
  {
   "cell_type": "markdown",
   "id": "49d5fbf4-192e-4fcd-af88-9db8dc6437cd",
   "metadata": {},
   "source": [
    "<div class=\"exE\">\n",
    "\n",
    "Comments?\n",
    "\n",
    "</div>"
   ]
  },
  {
   "cell_type": "markdown",
   "id": "22455c45-a7cc-4718-9092-486d6ce4c08a",
   "metadata": {},
   "source": [
    "### Comparison of the lowest radial functions\n",
    "\n",
    "<div class=\"intro\">\n",
    "\n",
    "Hydrogen radial wavefunctions are of the general form:\n",
    "\n",
    "$$R(r) = N p(r) \\exp(-kr)$$\n",
    " \n",
    "Where\n",
    "- $N$ is a positive normalizing constant\n",
    "- $p(r)$ is a polynomial in $r$\n",
    "- $k$ is a positive constant\n",
    "\n",
    "Remind that $\\psi(\\mathbf{r})^2$ quantifies the probability of the electron being at a particular point **r**. Given the separability of $\\psi_{n\\ell m}(r,\\theta,\\phi)$ into a product of two normalized wavefunctions, $\\psi_{n\\ell m}(r,\\theta,\\phi) = R_{n\\ell}(r)Y_{\\ell}^m(\\theta,\\phi)$, the quantity $P_{n\\ell}(r) = [rR_{n\\ell}(r)]^2$ has the meaning of a probability distribution. $P_{n\\ell}(r)$ is the probability that the electron will be at any distance $r$ from the nucleus. And the normalization condition on $R_{n\\ell}(r)$ is\n",
    "\n",
    "$$\\int_0^\\infty P_{n\\ell}(r)dr = 1$$\n",
    "</div>"
   ]
  },
  {
   "cell_type": "markdown",
   "id": "c1b71e0a-fa93-4bdd-9d1c-1a81fa610917",
   "metadata": {},
   "source": [
    "#### Plots"
   ]
  },
  {
   "cell_type": "markdown",
   "id": "cbee26ce-b898-4786-9942-ed27d5c26b8a",
   "metadata": {},
   "source": [
    "<div class=\"exE\">\n",
    "\n",
    "Write the formula of the four lowest $R_{n0}$ hydrogen radial wavefunctions. Check that SymPy returns normalized wavefunctions\n",
    "\n",
    "</div>"
   ]
  },
  {
   "cell_type": "code",
   "execution_count": 12,
   "id": "2a36acfc-f44a-4a3c-8835-e0cf044da240",
   "metadata": {},
   "outputs": [
    {
     "name": "stdout",
     "output_type": "stream",
     "text": [
      "R_10\n"
     ]
    },
    {
     "data": {
      "text/latex": [
       "$\\displaystyle 2 e^{- r}$"
      ],
      "text/plain": [
       "2*exp(-r)"
      ]
     },
     "execution_count": 12,
     "metadata": {},
     "output_type": "execute_result"
    },
    {
     "name": "stdout",
     "output_type": "stream",
     "text": [
      "R_10 is normalized.\n",
      "R_20\n"
     ]
    },
    {
     "data": {
      "text/latex": [
       "$\\displaystyle \\frac{\\sqrt{2} \\left(2 - r\\right) e^{- \\frac{r}{2}}}{4}$"
      ],
      "text/plain": [
       "sqrt(2)*(2 - r)*exp(-r/2)/4"
      ]
     },
     "execution_count": 12,
     "metadata": {},
     "output_type": "execute_result"
    },
    {
     "name": "stdout",
     "output_type": "stream",
     "text": [
      "R_20 is normalized.\n",
      "R_30\n"
     ]
    },
    {
     "data": {
      "text/latex": [
       "$\\displaystyle \\frac{2 \\sqrt{3} \\left(\\frac{2 r^{2}}{9} - 2 r + 3\\right) e^{- \\frac{r}{3}}}{27}$"
      ],
      "text/plain": [
       "2*sqrt(3)*(2*r**2/9 - 2*r + 3)*exp(-r/3)/27"
      ]
     },
     "execution_count": 12,
     "metadata": {},
     "output_type": "execute_result"
    },
    {
     "name": "stdout",
     "output_type": "stream",
     "text": [
      "R_30 is normalized.\n",
      "R_40\n"
     ]
    },
    {
     "data": {
      "text/latex": [
       "$\\displaystyle \\left(- \\frac{r^{3}}{768} + \\frac{r^{2}}{32} - \\frac{3 r}{16} + \\frac{1}{4}\\right) e^{- \\frac{r}{4}}$"
      ],
      "text/plain": [
       "(-r**3/768 + r**2/32 - 3*r/16 + 1/4)*exp(-r/4)"
      ]
     },
     "execution_count": 12,
     "metadata": {},
     "output_type": "execute_result"
    },
    {
     "name": "stdout",
     "output_type": "stream",
     "text": [
      "R_40 is normalized.\n"
     ]
    }
   ],
   "source": [
    "from sympy.physics.hydrogen import R_nl\n",
    "from sympy.abc import r\n",
    "\n",
    "def check_norm(f):\n",
    "    f_norm = sym.integrate(f*sym.conjugate(f)*r**2, (r,0,+oo))\n",
    "    #print(f_norm)\n",
    "    if f_norm == 1:\n",
    "        return True\n",
    "    else:\n",
    "        return False\n",
    "\n",
    "\n",
    "for i in range(4):\n",
    "    R = R_nl(i+1, 0, r)\n",
    "    print(f\"R_{i+1}0\")\n",
    "    R\n",
    "    if check_norm(R):\n",
    "        print(f\"R_{i+1}0 is normalized.\")\n",
    "    else:\n",
    "        print(f\"R_{i+1}0 is not normalized.\")\n",
    "        \n"
   ]
  },
  {
   "cell_type": "markdown",
   "id": "adc25a2d-6f8a-4b7b-9e6a-186b8ec81bfc",
   "metadata": {},
   "source": [
    "<div class=\"exE\">\n",
    "\n",
    "Plot the $R_{n0}(r)$ hydrogen radial wavefunctions of the four most stable $ns$ AOs between 0 and 40 bohr\n",
    "\n",
    "</div>"
   ]
  },
  {
   "cell_type": "code",
   "execution_count": 13,
   "id": "fd1e0f98-6c2a-46ba-b43f-7948d5024a31",
   "metadata": {},
   "outputs": [
    {
     "data": {
      "text/plain": [
       "[<matplotlib.lines.Line2D at 0x14f6ee41a880>]"
      ]
     },
     "execution_count": 13,
     "metadata": {},
     "output_type": "execute_result"
    },
    {
     "data": {
      "text/plain": [
       "[<matplotlib.lines.Line2D at 0x14f6ee41ac10>]"
      ]
     },
     "execution_count": 13,
     "metadata": {},
     "output_type": "execute_result"
    },
    {
     "data": {
      "text/plain": [
       "[<matplotlib.lines.Line2D at 0x14f6ee41afa0>]"
      ]
     },
     "execution_count": 13,
     "metadata": {},
     "output_type": "execute_result"
    },
    {
     "data": {
      "text/plain": [
       "[<matplotlib.lines.Line2D at 0x14f6ee437370>]"
      ]
     },
     "execution_count": 13,
     "metadata": {},
     "output_type": "execute_result"
    },
    {
     "data": {
      "text/plain": [
       "<matplotlib.lines.Line2D at 0x14f6ee437610>"
      ]
     },
     "execution_count": 13,
     "metadata": {},
     "output_type": "execute_result"
    },
    {
     "data": {
      "text/plain": [
       "<matplotlib.lines.Line2D at 0x14f6ee437af0>"
      ]
     },
     "execution_count": 13,
     "metadata": {},
     "output_type": "execute_result"
    },
    {
     "data": {
      "text/plain": [
       "(-2.0, 40.0)"
      ]
     },
     "execution_count": 13,
     "metadata": {},
     "output_type": "execute_result"
    },
    {
     "data": {
      "text/plain": [
       "Text(0.5, 0, '$r$ / bohr')"
      ]
     },
     "execution_count": 13,
     "metadata": {},
     "output_type": "execute_result"
    },
    {
     "data": {
      "text/plain": [
       "<matplotlib.legend.Legend at 0x14f6ee437fa0>"
      ]
     },
     "execution_count": 13,
     "metadata": {},
     "output_type": "execute_result"
    },
    {
     "data": {
      "image/png": "[encoded data removed]",
      "text/plain": [
       "<Figure size 720x360 with 1 Axes>"
      ]
     },
     "metadata": {
      "needs_background": "light"
     },
     "output_type": "display_data"
    }
   ],
   "source": [
    "import matplotlib.pyplot as plt\n",
    "\n",
    "R1 = R_nl(1, 0, r)\n",
    "R2 = R_nl(2, 0, r)\n",
    "R3 = R_nl(3, 0, r)\n",
    "R4 = R_nl(4, 0, r)\n",
    "_R1 = sym.lambdify([r],R1) \n",
    "_R2 = sym.lambdify([r],R2)\n",
    "_R3 = sym.lambdify([r],R3)\n",
    "_R4 = sym.lambdify([r],R4)\n",
    "\n",
    "_r = np.linspace(0.,40.,250) # r from 0.0 to 40.0, 250 points\n",
    "plt.rcParams[\"figure.figsize\"] = (10,5)\n",
    "plt.rcParams.update({'font.size': 12})\n",
    "plt.plot(_r, _R1(_r),linewidth=2,color='red',label=\"$R_{10}$\")\n",
    "plt.plot(_r, _R2(_r),linewidth=2,color='blue',label=\"$R_{20}$\")\n",
    "plt.plot(_r, _R3(_r),linewidth=2,color='green',label=\"$R_{30}$\")\n",
    "plt.plot(_r, _R4(_r),linewidth=2,color='orange',label=\"$R_{40}$\")\n",
    "plt.axhline(y = 0, color = '0.7',linestyle='--') # horizontal line\n",
    "plt.axvline(x = 0, color = '0.7',linestyle='--') # vertical line\n",
    "plt.xlim(-2,40) # x axis range from -2 to 40\n",
    "plt.xlabel(\"$r$ / bohr\")\n",
    "plt.legend()\n",
    "plt.show()\n",
    "\n"
   ]
  },
  {
   "cell_type": "markdown",
   "id": "fa9f7c23-557d-41fa-88fb-28899f5c28b0",
   "metadata": {},
   "source": [
    "<div class=\"exE\">\n",
    "\n",
    "Plot the probability distributions $P_{n0}(r)$  of the four most stable $ns$ AOs between 0 and 40 bohr\n",
    "\n",
    "</div>"
   ]
  },
  {
   "cell_type": "code",
   "execution_count": 14,
   "id": "d81df803-7b39-4e39-a7c7-8e5476e0985b",
   "metadata": {},
   "outputs": [
    {
     "data": {
      "text/plain": [
       "[<matplotlib.lines.Line2D at 0x14f6edadd040>]"
      ]
     },
     "execution_count": 14,
     "metadata": {},
     "output_type": "execute_result"
    },
    {
     "data": {
      "text/plain": [
       "[<matplotlib.lines.Line2D at 0x14f6edadd370>]"
      ]
     },
     "execution_count": 14,
     "metadata": {},
     "output_type": "execute_result"
    },
    {
     "data": {
      "text/plain": [
       "[<matplotlib.lines.Line2D at 0x14f6edadd700>]"
      ]
     },
     "execution_count": 14,
     "metadata": {},
     "output_type": "execute_result"
    },
    {
     "data": {
      "text/plain": [
       "[<matplotlib.lines.Line2D at 0x14f6edadd850>]"
      ]
     },
     "execution_count": 14,
     "metadata": {},
     "output_type": "execute_result"
    },
    {
     "data": {
      "text/plain": [
       "<matplotlib.lines.Line2D at 0x14f6edb98f70>"
      ]
     },
     "execution_count": 14,
     "metadata": {},
     "output_type": "execute_result"
    },
    {
     "data": {
      "text/plain": [
       "<matplotlib.lines.Line2D at 0x14f6edaddc10>"
      ]
     },
     "execution_count": 14,
     "metadata": {},
     "output_type": "execute_result"
    },
    {
     "data": {
      "text/plain": [
       "(-2.0, 40.0)"
      ]
     },
     "execution_count": 14,
     "metadata": {},
     "output_type": "execute_result"
    },
    {
     "data": {
      "text/plain": [
       "Text(0.5, 0, '$r$ / bohr')"
      ]
     },
     "execution_count": 14,
     "metadata": {},
     "output_type": "execute_result"
    },
    {
     "data": {
      "text/plain": [
       "<matplotlib.legend.Legend at 0x14f6edb1a280>"
      ]
     },
     "execution_count": 14,
     "metadata": {},
     "output_type": "execute_result"
    },
    {
     "data": {
      "image/png": "[encoded data removed]",
      "text/plain": [
       "<Figure size 720x360 with 1 Axes>"
      ]
     },
     "metadata": {
      "needs_background": "light"
     },
     "output_type": "display_data"
    }
   ],
   "source": [
    "P1 = (R1*r)**2\n",
    "P2 = (R2*r)**2\n",
    "P3 = (R3*r)**2\n",
    "P4 = (R4*r)**2\n",
    "_P1 = sym.lambdify([r],P1) \n",
    "_P2 = sym.lambdify([r],P2)\n",
    "_P3 = sym.lambdify([r],P3)\n",
    "_P4 = sym.lambdify([r],P4)\n",
    "\n",
    "_r = np.linspace(0.,40.,250)\n",
    "plt.rcParams[\"figure.figsize\"] = (10,5)\n",
    "plt.rcParams.update({'font.size': 12})\n",
    "plt.plot(_r, _P1(_r),linewidth=2,color='red',label=\"$P_{10}$\")\n",
    "plt.plot(_r, _P2(_r),linewidth=2,color='blue',label=\"$P_{20}$\")\n",
    "plt.plot(_r, _P3(_r),linewidth=2,color='green',label=\"$P_{30}$\")\n",
    "plt.plot(_r, _P4(_r),linewidth=2,color='orange',label=\"$P_{40}$\")\n",
    "plt.axhline(y = 0, color = '0.7',linestyle='--')\n",
    "plt.axvline(x = 0, color = '0.7',linestyle='--')\n",
    "plt.xlim(-2,40)\n",
    "plt.xlabel(\"$r$ / bohr\")\n",
    "plt.legend()\n",
    "plt.show()\n"
   ]
  },
  {
   "cell_type": "markdown",
   "id": "ac075506-1e5a-41eb-a3d1-ba34f23eae0e",
   "metadata": {},
   "source": [
    "<div class=\"exE\">\n",
    "\n",
    "Comments?\n",
    "\n",
    "</div>"
   ]
  },
  {
   "cell_type": "markdown",
   "id": "b07aa5c8-b008-431f-8e84-af86bb3768bd",
   "metadata": {},
   "source": [
    "#### Calculation of the average position of the electron... and more\n",
    "\n",
    "<div class=\"exE\">\n",
    "\n",
    "- calculate $\\left<r\\right>$ and $\\sigma_r$ for the 10 most stable subshells, where $\\sigma_r = \\sqrt{\\left<r^2\\right> - \\left<r\\right>^2}$, the standard deviation of $r$, is the square root of the variance of $r$\n",
    "- write down the result concisely, such as: `Subshell 1s. E = -13.598 eV. <r> = 3/2 ± sqrt(3)/2 = 1.5 ± 0.9`\n",
    "\n",
    "</div>"
   ]
  },
  {
   "cell_type": "code",
   "execution_count": 44,
   "id": "f4c403d9-7f26-426c-9dba-1fc19f3fdcfe",
   "metadata": {},
   "outputs": [
    {
     "name": "stdout",
     "output_type": "stream",
     "text": [
      "Subshell 1s. E = -13.598 eV.\n",
      "<r> = 3/2 ± sqrt(3)/2 = 1.5 ± 0.9\n",
      "Subshell 2s. E = -3.400 eV.\n",
      "<r> = 6 ± sqrt(6) = 6.0 ± 2.4\n",
      "Subshell 2p. E = -5.668 eV.\n",
      "<r> = 5 ± sqrt(5) = 5.0 ± 2.2\n",
      "Subshell 3s. E = -1.511 eV.\n",
      "<r> = 27/2 ± 3*sqrt(11)/2 = 13.5 ± 5.0\n",
      "Subshell 3p. E = -2.183 eV.\n",
      "<r> = 25/2 ± sqrt(95)/2 = 12.5 ± 4.9\n",
      "Subshell 3d. E = -2.721 eV.\n",
      "<r> = 21/2 ± 3*sqrt(7)/2 = 10.5 ± 4.0\n",
      "Subshell 4s. E = -0.850 eV.\n",
      "<r> = 24 ± 6*sqrt(2) = 24.0 ± 8.5\n",
      "Subshell 4p. E = -1.133 eV.\n",
      "<r> = 23 ± sqrt(71) = 23.0 ± 8.4\n",
      "Subshell 4d. E = -1.360 eV.\n",
      "<r> = 21 ± 3*sqrt(7) = 21.0 ± 7.9\n",
      "Subshell 4f. E = -1.579 eV.\n",
      "<r> = 18 ± 6 = 18.0 ± 6.0\n"
     ]
    }
   ],
   "source": [
    "# Average position: <f|r|f>\n",
    "\n",
    "def expect(f,x): # <f|x|f>\n",
    "    e = sym.integrate(f*x*sym.conjugate(f)*r**2, (r,0,+oo))\n",
    "    return e\n",
    "\n",
    "def std_dev(f,x):\n",
    "    e1 = expect(f,x)\n",
    "    e2 = expect(f,x**2)\n",
    "    dev = sqrt(e2 - e1**2)\n",
    "    return dev\n",
    "\n",
    "# Construct nabla2(f)\n",
    "def nabla2_r(f):\n",
    "    # Calculate partial derivative and 2nd order partial derivative\n",
    "    r_der = sym.diff(f,r)\n",
    "    r_der2 = sym.diff((r**2*r_der),r)\n",
    "    return 1/r**2 * r_der2\n",
    "\n",
    "# Define H(f)\n",
    "def H_r(f):\n",
    "    return -1/(2*mu/me)*nabla2(f) - 1/r*f\n",
    "\n",
    "# Define norm(f)\n",
    "# Suppose <f|f*> = N, then normlized f' should be f/sqrt(<f|f*>)\n",
    "def norm_r(f):\n",
    "    f_int = sym.integrate(f*sym.conjugate(f)*r**2, (r,0,+oo))\n",
    "    return f/sqrt(f_int)\n",
    "\n",
    "# Define En\n",
    "def En_r(f):\n",
    "    f = norm_r(f) # Normalization\n",
    "    return sym.integrate(sym.conjugate(f)*H_r(f)*r**2,(r,0,+oo)).evalf() # <f*|H|f> = <f*|Hf>\n",
    "\n",
    "expc_list = []\n",
    "dev_list = []\n",
    "\n",
    "for n in range(1,5):\n",
    "    for l in range(0,n):\n",
    "        R = R_nl(n,l, r)\n",
    "        E = En_r(R)*h2eV\n",
    "        r_expc = expect(R,r)\n",
    "        r_dev = std_dev(R,r)\n",
    "        expc_list.append(float(r_expc.evalf()))\n",
    "        dev_list.append(float(r_dev.evalf()))\n",
    "        print(f\"Subshell {n}{shl_sym[l]}. E = {E:.3f} eV.\")\n",
    "        print(f\"<r> = {r_expc} ± {r_dev} = {r_expc.evalf():.1f} ± {r_dev.evalf():.1f}\")\n",
    "            \n"
   ]
  },
  {
   "cell_type": "markdown",
   "id": "5236ba4a-7da7-479b-93f3-4aceb32d9395",
   "metadata": {},
   "source": [
    "<div class=\"exE\">\n",
    "\n",
    "Plot again the probability distributions $P_{n0}(r)$  of the four most stable $ns$ AOs between 0 and 40 bohr, and add $\\left<r\\right>$ and $\\sigma_r$ on the plot. The expected resulting figure is:\n",
    "\n",
    "<p style=\"text-align:center;\"><img width=\"700\" src = \"./FiguresCreatedInNotebooks/Pn0-HydrogenAtom-C.png\"/></p>\n",
    "</div>"
   ]
  },
  {
   "cell_type": "code",
   "execution_count": 55,
   "id": "9f2298ff-5475-4fcc-86b2-eec6e33e8901",
   "metadata": {},
   "outputs": [
    {
     "data": {
      "text/plain": [
       "[<matplotlib.lines.Line2D at 0x14f6ecd53610>]"
      ]
     },
     "execution_count": 55,
     "metadata": {},
     "output_type": "execute_result"
    },
    {
     "data": {
      "text/plain": [
       "<matplotlib.collections.PolyCollection at 0x14f6ecd53910>"
      ]
     },
     "execution_count": 55,
     "metadata": {},
     "output_type": "execute_result"
    },
    {
     "data": {
      "text/plain": [
       "<matplotlib.collections.LineCollection at 0x14f6ece48c70>"
      ]
     },
     "execution_count": 55,
     "metadata": {},
     "output_type": "execute_result"
    },
    {
     "data": {
      "text/plain": [
       "[<matplotlib.lines.Line2D at 0x14f6ecd5c0a0>]"
      ]
     },
     "execution_count": 55,
     "metadata": {},
     "output_type": "execute_result"
    },
    {
     "data": {
      "text/plain": [
       "<matplotlib.collections.PolyCollection at 0x14f6ecd5c370>"
      ]
     },
     "execution_count": 55,
     "metadata": {},
     "output_type": "execute_result"
    },
    {
     "data": {
      "text/plain": [
       "<matplotlib.collections.LineCollection at 0x14f6ecd53ee0>"
      ]
     },
     "execution_count": 55,
     "metadata": {},
     "output_type": "execute_result"
    },
    {
     "data": {
      "text/plain": [
       "[<matplotlib.lines.Line2D at 0x14f6ecd5cb50>]"
      ]
     },
     "execution_count": 55,
     "metadata": {},
     "output_type": "execute_result"
    },
    {
     "data": {
      "text/plain": [
       "<matplotlib.collections.PolyCollection at 0x14f6ecd5ce80>"
      ]
     },
     "execution_count": 55,
     "metadata": {},
     "output_type": "execute_result"
    },
    {
     "data": {
      "text/plain": [
       "<matplotlib.collections.LineCollection at 0x14f6ecd5ca00>"
      ]
     },
     "execution_count": 55,
     "metadata": {},
     "output_type": "execute_result"
    },
    {
     "data": {
      "text/plain": [
       "[<matplotlib.lines.Line2D at 0x14f6ecced580>]"
      ]
     },
     "execution_count": 55,
     "metadata": {},
     "output_type": "execute_result"
    },
    {
     "data": {
      "text/plain": [
       "<matplotlib.collections.PolyCollection at 0x14f6ecd5ccd0>"
      ]
     },
     "execution_count": 55,
     "metadata": {},
     "output_type": "execute_result"
    },
    {
     "data": {
      "text/plain": [
       "<matplotlib.collections.LineCollection at 0x14f6ecced400>"
      ]
     },
     "execution_count": 55,
     "metadata": {},
     "output_type": "execute_result"
    },
    {
     "data": {
      "text/plain": [
       "<matplotlib.lines.Line2D at 0x14f6eccedee0>"
      ]
     },
     "execution_count": 55,
     "metadata": {},
     "output_type": "execute_result"
    },
    {
     "data": {
      "text/plain": [
       "(-2.0, 40.0)"
      ]
     },
     "execution_count": 55,
     "metadata": {},
     "output_type": "execute_result"
    },
    {
     "data": {
      "text/plain": [
       "Text(0.5, 0, '$r$ / bohr')"
      ]
     },
     "execution_count": 55,
     "metadata": {},
     "output_type": "execute_result"
    },
    {
     "data": {
      "text/plain": [
       "<matplotlib.legend.Legend at 0x14f6eccede80>"
      ]
     },
     "execution_count": 55,
     "metadata": {},
     "output_type": "execute_result"
    },
    {
     "data": {
      "image/png": "[encoded data removed]",
      "text/plain": [
       "<Figure size 720x360 with 1 Axes>"
      ]
     },
     "metadata": {
      "needs_background": "light"
     },
     "output_type": "display_data"
    }
   ],
   "source": [
    "_r = np.linspace(0.,40.,250)\n",
    "plt.rcParams[\"figure.figsize\"] = (10,5)\n",
    "plt.rcParams.update({'font.size': 12})\n",
    "plt.plot(_r, _P1(_r),linewidth=2,color='red',label=\"$P_{10}$\")\n",
    "_r1 = np.linspace(expc_list[0] - dev_list[0],expc_list[0] + dev_list[0],250)\n",
    "plt.fill_between(_r1, _P1(_r1), alpha = 0.2, color = 'red')\n",
    "plt.vlines(x = expc_list[0], ymin=0, ymax=_P1(expc_list[0]), color = 'red',linewidth=1, linestyle='--')\n",
    "plt.plot(_r, _P2(_r),linewidth=2,color='blue',label=\"$P_{20}$\")\n",
    "_r2 = np.linspace(expc_list[1] - dev_list[1],expc_list[1] + dev_list[1],250)\n",
    "plt.fill_between(_r2, _P2(_r2), alpha = 0.2, color = 'blue')\n",
    "plt.vlines(x = expc_list[1], ymin=0, ymax=_P2(expc_list[1]), color = 'blue',linewidth=1, linestyle='--')\n",
    "plt.plot(_r, _P3(_r),linewidth=2,color='green',label=\"$P_{30}$\")\n",
    "_r3 = np.linspace(expc_list[3] - dev_list[3],expc_list[3] + dev_list[3],250)\n",
    "plt.fill_between(_r3, _P3(_r3), alpha = 0.2, color = 'green')\n",
    "plt.vlines(x = expc_list[3], ymin=0, ymax=_P3(expc_list[3]), color = 'green',linewidth=1, linestyle='--')\n",
    "plt.plot(_r, _P4(_r),linewidth=2,color='orange',label=\"$P_{40}$\")\n",
    "_r4 = np.linspace(expc_list[6] - dev_list[6],expc_list[6] + dev_list[6],250)\n",
    "plt.fill_between(_r4, _P4(_r4), alpha = 0.2, color = 'orange')\n",
    "plt.vlines(x = expc_list[6], ymin=0, ymax=_P4(expc_list[6]), color = 'orange',linewidth=1, linestyle='--')\n",
    "plt.axhline(y = 0, color = '0.7',linestyle='--')\n",
    "plt.xlim(-2,40)\n",
    "plt.xlabel(\"$r$ / bohr\")\n",
    "plt.legend()\n",
    "plt.show()\n",
    "\n"
   ]
  },
  {
   "cell_type": "markdown",
   "id": "7c5ac9ce-02df-4648-b3ee-41d9c8fe3e66",
   "metadata": {},
   "source": [
    "<div class=\"exE\">\n",
    "\n",
    "Comments?\n",
    "\n",
    "</div>"
   ]
  },
  {
   "cell_type": "markdown",
   "id": "dff15d32-8410-46a4-b579-469f6772bf72",
   "metadata": {},
   "source": [
    "#### Angular part of the H wavefunctions"
   ]
  },
  {
   "cell_type": "markdown",
   "id": "f26cdb1e-122a-4ae4-99dc-ee229b91e3c5",
   "metadata": {},
   "source": [
    "<div class=\"exE\">\n",
    "    \n",
    "Use the `plot3DSC` function of the [pCAS.ipynb notebook](pCAS.ipynb) to plot the angular part of the $3d_{x^2-y^2}$ AO of the hydrogen atom, defined by the quantum numbers $n=3$, $\\ell=2$, $m=\\pm 2$\n",
    "\n",
    "</div>"
   ]
  },
  {
   "cell_type": "code",
   "execution_count": 17,
   "id": "c31f18e1-7c10-40cb-899f-a4fbf0f8f00b",
   "metadata": {},
   "outputs": [],
   "source": [
    "# insert your code here\n",
    "\n"
   ]
  },
  {
   "cell_type": "markdown",
   "id": "ae70f4a8-31d8-424f-a1a9-a53d74341511",
   "metadata": {},
   "source": [
    "# End"
   ]
  },
  {
   "cell_type": "code",
   "execution_count": 18,
   "id": "898a0af5-6513-4be2-8538-0d741a4c4478",
   "metadata": {},
   "outputs": [
    {
     "data": {
      "text/markdown": [
       "**End at:** Saturday 23 September 2023, 21:21:37  \n",
       "**Duration:** 00:00:19 776ms"
      ],
      "text/plain": [
       "<IPython.core.display.Markdown object>"
      ]
     },
     "metadata": {},
     "output_type": "display_data"
    },
    {
     "data": {
      "text/markdown": [
       "<p style=\"text-align: center\"><img width=\"800px\" src=\"./config/svg/logoEnd.svg\" style=\"margin-left:auto; margin-right:auto\"/></p>"
      ],
      "text/plain": [
       "<IPython.core.display.Markdown object>"
      ]
     },
     "metadata": {},
     "output_type": "display_data"
    }
   ],
   "source": [
    "vID.end(cwd0)"
   ]
  },
  {
   "cell_type": "code",
   "execution_count": null,
   "id": "65198501-d1ca-46e5-a6b6-9d2fa6114d0a",
   "metadata": {},
   "outputs": [],
   "source": []
  },
  {
   "cell_type": "code",
   "execution_count": null,
   "id": "dcc9d507-b67e-49f2-966b-849a020a45ac",
   "metadata": {},
   "outputs": [],
   "source": []
  }
 ],
 "metadata": {
  "kernelspec": {
   "display_name": "Python 3 (ipykernel)",
   "language": "python",
   "name": "python3"
  },
  "language_info": {
   "codemirror_mode": {
    "name": "ipython",
    "version": 3
   },
   "file_extension": ".py",
   "mimetype": "text/x-python",
   "name": "python",
   "nbconvert_exporter": "python",
   "pygments_lexer": "ipython3",
   "version": "3.9.7"
  },
  "toc-autonumbering": false,
  "toc-showcode": false,
  "toc-showmarkdowntxt": false,
  "toc-showtags": false
 },
 "nbformat": 4,
 "nbformat_minor": 5
}
